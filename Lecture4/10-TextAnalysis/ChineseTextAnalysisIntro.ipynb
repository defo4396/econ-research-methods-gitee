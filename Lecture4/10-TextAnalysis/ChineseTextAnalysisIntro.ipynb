{
 "cells": [
  {
   "cell_type": "markdown",
   "metadata": {},
   "source": [
    "# Introduction to Chinese Text Analysis\n",
    "\n",
    "``2020-12-2``\n",
    "\n",
    "Written by Zhiyuan Chen\n",
    "\n",
    "Department of Trade Economics, Remin Business School\n",
    "\n",
    "_Reference_: Hoberg, G., and G. Phillips. (2016), Text-based network industries and endogenous product differentiation, Journal of Political Economy, 124, 1423–65."
   ]
  },
  {
   "cell_type": "markdown",
   "metadata": {},
   "source": [
    "## Contents\n",
    "\n",
    "- [中文分词工具](#中文分词工具)\n",
    "    - [Jieba分词](#jieba分词)\n",
    "    - [Baidu分词](#百度分词)   \n",
    "- [去除停用词](#去除停用词)\n",
    "- [提取目标词](#提取目标词)\n",
    "- [词向量相似度](#词向量相似度)\n",
    "    - [构造词向量](#构造词向量)\n",
    "    - [Cosine距离](#Cosine距离)"
   ]
  },
  {
   "cell_type": "markdown",
   "metadata": {},
   "source": [
    "## Jieba 分词\n",
    "Github link: https://github.com/fxsjy/jieba/blob/master/README.md"
   ]
  },
  {
   "cell_type": "code",
   "execution_count": null,
   "metadata": {},
   "outputs": [],
   "source": [
    "# pip install jieba\n",
    "import jieba\n",
    "import jieba.posseg as pseg "
   ]
  },
  {
   "cell_type": "markdown",
   "metadata": {},
   "source": [
    "#### 简单分词"
   ]
  },
  {
   "cell_type": "code",
   "execution_count": null,
   "metadata": {},
   "outputs": [],
   "source": [
    "# 对一句话分词\n",
    "sent = \"小明选修了经济学与商务研究方法\"\n",
    "seg = jieba.cut(sent)\n",
    "print('/'.join(seg))"
   ]
  },
  {
   "cell_type": "code",
   "execution_count": null,
   "metadata": {},
   "outputs": [],
   "source": [
    "# the following code shows error\n",
    "#sent1 = \"这是一门中国人民大学商学院研究生必修课\"\n",
    "#sents = [sent, sent1]\n",
    "#segs = jieba.cut(sents)\n",
    "#print('/'.join(segs))"
   ]
  },
  {
   "cell_type": "code",
   "execution_count": null,
   "metadata": {},
   "outputs": [],
   "source": [
    "#obtain list\n",
    "seglist = jieba.lcut(sent)\n",
    "print(seglist)"
   ]
  },
  {
   "cell_type": "code",
   "execution_count": null,
   "metadata": {},
   "outputs": [],
   "source": [
    "# add user dictionary\n",
    "jieba.load_userdict(\"userdict.txt\")\n",
    "seglist1 = jieba.lcut(sent)\n",
    "print(seglist1)"
   ]
  },
  {
   "cell_type": "markdown",
   "metadata": {},
   "source": [
    "#### 词性分词\n",
    "结巴分词精确模式词性[标签列表](https://blog.csdn.net/fuhanghang/article/details/88064007)\n"
   ]
  },
  {
   "cell_type": "code",
   "execution_count": 13,
   "metadata": {},
   "outputs": [
    {
     "name": "stdout",
     "output_type": "stream",
     "text": [
      "[pair('小明', 'nr'), pair('选修', 'v'), pair('了', 'ul'), pair('经济学与商务', 'add'), pair('研究方法', 'add')]\n"
     ]
    }
   ],
   "source": [
    "import jieba.posseg as pseg\n",
    "segpos = pseg.cut(sent)\n",
    "print([se for se in segpos])"
   ]
  },
  {
   "cell_type": "code",
   "execution_count": 16,
   "metadata": {},
   "outputs": [
    {
     "name": "stdout",
     "output_type": "stream",
     "text": [
      "[pair('小明', 'nr'), pair('选修', 'v'), pair('了', 'ul'), pair('经济学与商务', 'add'), pair('研究方法', 'add')]\n"
     ]
    }
   ],
   "source": [
    "# list output\n",
    "segposlist = pseg.lcut(sent)\n",
    "print(segposlist)"
   ]
  },
  {
   "cell_type": "markdown",
   "metadata": {},
   "source": [
    "To extract the segmented list, you need to know how to work with collections. A good reference can be found at [Collections](https://nbviewer.jupyter.org/github/zhiyuanryanchen/quantecon-notebooks-datascience/blob/master/python_fundamentals/collections.ipynb)"
   ]
  },
  {
   "cell_type": "code",
   "execution_count": 18,
   "metadata": {},
   "outputs": [
    {
     "data": {
      "text/plain": [
       "pair('小明', 'nr')"
      ]
     },
     "execution_count": 18,
     "metadata": {},
     "output_type": "execute_result"
    }
   ],
   "source": [
    "segposlist[0]"
   ]
  },
  {
   "cell_type": "code",
   "execution_count": 19,
   "metadata": {},
   "outputs": [
    {
     "data": {
      "text/plain": [
       "('小明', 'nr')"
      ]
     },
     "execution_count": 19,
     "metadata": {},
     "output_type": "execute_result"
    }
   ],
   "source": [
    "#check \"collections.ipynb\" in python_fundamentals in python datascience\n",
    "tuple(segposlist[0])"
   ]
  },
  {
   "cell_type": "code",
   "execution_count": 22,
   "metadata": {},
   "outputs": [
    {
     "data": {
      "text/plain": [
       "'nr'"
      ]
     },
     "execution_count": 22,
     "metadata": {},
     "output_type": "execute_result"
    }
   ],
   "source": [
    "list(segposlist[0])[1]"
   ]
  },
  {
   "cell_type": "code",
   "execution_count": 24,
   "metadata": {},
   "outputs": [
    {
     "data": {
      "text/plain": [
       "['小明']"
      ]
     },
     "execution_count": 24,
     "metadata": {},
     "output_type": "execute_result"
    }
   ],
   "source": [
    "#extract certain tags of interest\n",
    "extract_tag=[]\n",
    "for tag in segposlist:\n",
    "    if list(tag)[1]=='nr':\n",
    "        extract_tag.append(list(tag)[0])\n",
    "extract_tag"
   ]
  },
  {
   "cell_type": "markdown",
   "metadata": {},
   "source": [
    "#### Paddle 模式\n",
    "\n",
    "\n",
    "分词标签列表：\n",
    "\n",
    "| 标签 | 含义     | 标签 | 含义     | 标签 | 含义     | 标签 | 含义     |\n",
    "| ---- | -------- | ---- | -------- | ---- | -------- | ---- | -------- |\n",
    "| n    | 普通名词 | f    | 方位名词 | s    | 处所名词 | t    | 时间     |\n",
    "| nr   | 人名     | ns   | 地名     | nt   | 机构名   | nw   | 作品名   |\n",
    "| nz   | 其他专名 | v    | 普通动词 | vd   | 动副词   | vn   | 名动词   |\n",
    "| a    | 形容词   | ad   | 副形词   | an   | 名形词   | d    | 副词     |\n",
    "| m    | 数量词   | q    | 量词     | r    | 代词     | p    | 介词     |\n",
    "| c    | 连词     | u    | 助词     | xc   | 其他虚词 | w    | 标点符号 |\n",
    "| PER  | 人名     | LOC  | 地名     | ORG  | 机构名   | TIME | 时间     |"
   ]
  },
  {
   "cell_type": "code",
   "execution_count": 25,
   "metadata": {},
   "outputs": [
    {
     "name": "stderr",
     "output_type": "stream",
     "text": [
      "Paddle enabled successfully......\n"
     ]
    },
    {
     "name": "stdout",
     "output_type": "stream",
     "text": [
      "[pair('小明', 'PER'), pair('选修', 'v'), pair('了', 'u'), pair('经济学', 'n'), pair('与', 'c'), pair('商务', 'n'), pair('研究', 'vn'), pair('方法', 'n')]\n"
     ]
    }
   ],
   "source": [
    "# paddle mode\n",
    "jieba.enable_paddle()\n",
    "padseglist =  pseg.lcut(sent, use_paddle=True)\n",
    "print(padseglist)"
   ]
  },
  {
   "cell_type": "markdown",
   "metadata": {},
   "source": [
    "## 百度分词\n",
    "Github: https://github.com/baidu/lac"
   ]
  },
  {
   "cell_type": "code",
   "execution_count": 26,
   "metadata": {},
   "outputs": [],
   "source": [
    "#pip install lac\n",
    "from LAC import LAC\n",
    "lac = LAC(mode='seg')"
   ]
  },
  {
   "cell_type": "code",
   "execution_count": 27,
   "metadata": {},
   "outputs": [
    {
     "name": "stdout",
     "output_type": "stream",
     "text": [
      "['小明', '选修', '了', '经济学', '与', '商务', '研究', '方法']\n"
     ]
    }
   ],
   "source": [
    "seg_lac = lac.run(sent)\n",
    "print(seg_lac)"
   ]
  },
  {
   "cell_type": "code",
   "execution_count": 28,
   "metadata": {},
   "outputs": [
    {
     "name": "stdout",
     "output_type": "stream",
     "text": [
      "[['小明', '选修', '了', '经济学', '与', '商务', '研究', '方法'], ['这', '是', '一门', '中国人民大学商学院', '研究生', '必修课']]\n"
     ]
    }
   ],
   "source": [
    "#run for lists\n",
    "sent1 = \"这是一门中国人民大学商学院研究生必修课\"\n",
    "sents = [sent, sent1]\n",
    "seg_lacs = lac.run(sents)\n",
    "print(seg_lacs)"
   ]
  },
  {
   "cell_type": "code",
   "execution_count": 29,
   "metadata": {},
   "outputs": [
    {
     "name": "stdout",
     "output_type": "stream",
     "text": [
      "[['小明', '选修', '了', '经济学与商务', '研究方法'], ['PER', 'v', 'u', 'title', 'add']]\n"
     ]
    }
   ],
   "source": [
    "#add user-defined dictionary\n",
    "from LAC import LAC\n",
    "lac = LAC()\n",
    "lac.load_customization('userdict_lac.txt', sep=None)\n",
    "custom_seg = lac.run(sent)\n",
    "print(custom_seg)"
   ]
  },
  {
   "cell_type": "markdown",
   "metadata": {},
   "source": [
    "#### 增量训练\n",
    "用户可以使用自己的数据，进行增量训练，首先需要将数据转换为模型输入的格式，并且所有数据文件均为\"UTF-8\"编码"
   ]
  },
  {
   "cell_type": "markdown",
   "metadata": {},
   "source": [
    "## 去除停用词\n",
    "[中文停用词词库](https://github.com/goto456/stopwords)"
   ]
  },
  {
   "cell_type": "markdown",
   "metadata": {},
   "source": [
    "### 使用jieba分词"
   ]
  },
  {
   "cell_type": "code",
   "execution_count": 30,
   "metadata": {},
   "outputs": [
    {
     "name": "stdout",
     "output_type": "stream",
     "text": [
      "['公司经营范围主要为生产、销售糖、食用酒精、颗粒粕、电子元器件，计算机的研制、生产、推广应用、软件开发，计算机软硬件及外围设备，计算机配件、信息产业、电子高新技术产业、制糖机械设备等。', '火腿及火腿系列产品、腌腊制品、酱腌菜、肉类罐头；调味品（火腿系列）；批零；定型包装食品（卫生许可证有效期至2012年7月24日）；农副产品批零；出口本企业自产的产品。（凡涉及前置许可证及专项审批的凭相关有效证件经营）。', '莫高系列葡萄酒类生产、批发；葡萄原料、脱毒苗木、种条的繁育、销售；化学药品、原料药及制剂、中药制剂（仅限分支机构生产经营）；啤酒原料、花卉林木、农作物种子、饲草的种植、加工，中草药种植，畜牧养殖及畜产品加工，农业科技开发、咨询服务、培训，农副产品（不含粮食批发）及加工机械的批发零售；自营和代理各类商品及技术的进出口业务（国家限定或禁止的除外）、进料加工和\"三来一补\"对口贸易、转口贸易。主要产品为大麦芽、葡萄及葡萄酒、甘草系列产品。']\n"
     ]
    }
   ],
   "source": [
    "#import jieba\n",
    "# 读取停顿词库\n",
    "stk = [word.strip() for word in open('stop_words.txt',\"r\", encoding='utf-8').readlines()]\n",
    "user_stk = [word.strip() for word in open('user_stopwords.txt', \"r\", encoding='utf-8').readlines()]\n",
    "#读取文本数据\n",
    "textfile = open('text.txt', 'r', encoding='utf-8')\n",
    "text = [line.strip() for line in textfile]\n",
    "print(text)"
   ]
  },
  {
   "cell_type": "code",
   "execution_count": 32,
   "metadata": {},
   "outputs": [
    {
     "name": "stdout",
     "output_type": "stream",
     "text": [
      "公司 经营范围 主要 为 生产 、 销售 糖 、 食用酒精 、 颗粒 粕 、 电子 元器件 ， 计算机 的 研制 、 生产 、 推广应用 、 软件开发 ， 计算机 软硬件 及 外围设备 ， 计算机 配件 、 信息产业 、 电子 高新技术 产业 、 制糖 机械设备 等 。\n"
     ]
    }
   ],
   "source": [
    "#jieba.enable_paddle()\n",
    "seg = jieba.cut(text[0]) #cut_all=True for full classification\n",
    "print(' '.join(seg))"
   ]
  },
  {
   "cell_type": "code",
   "execution_count": 34,
   "metadata": {},
   "outputs": [
    {
     "name": "stdout",
     "output_type": "stream",
     "text": [
      "火腿火腿系列产品腌腊制品酱腌菜肉类罐头调味品火腿系列批零定型包装食品卫生许可证有效期2012年月24日农副产品批零出口企业自产产品涉及前置许可证专项审批相关有效证件经营\n"
     ]
    }
   ],
   "source": [
    "# stop_words\n",
    "wordscut = jieba.cut(text[1])\n",
    "words_clean = \"\"\n",
    "for w in wordscut:\n",
    "    if not w in stk:\n",
    "        #print(w)\n",
    "        words_clean+= w+\"\"\n",
    "print(words_clean)"
   ]
  },
  {
   "cell_type": "code",
   "execution_count": 35,
   "metadata": {},
   "outputs": [
    {
     "name": "stdout",
     "output_type": "stream",
     "text": [
      "火腿火腿腌腊制品酱腌菜肉类罐头调味品火腿批零定型包装食品2012年月24日农副产品批零出口自产涉及前置专项审批相关经营\n"
     ]
    }
   ],
   "source": [
    "# user-defined stop_words\n",
    "wordscut = jieba.cut(text[1])\n",
    "words_clean = \"\"\n",
    "for w in wordscut:\n",
    "    if not w in user_stk:\n",
    "        #print(w)\n",
    "        words_clean+=w+\"\"\n",
    "print(words_clean)"
   ]
  },
  {
   "cell_type": "code",
   "execution_count": 36,
   "metadata": {},
   "outputs": [],
   "source": [
    "#combine them together\n",
    "file = open('text_nostop.txt','w',encoding='utf-8')\n",
    "for t in text:\n",
    "    wordscut = jieba.cut(t)\n",
    "    line = \"\"\n",
    "    for w in wordscut:\n",
    "        if not w in user_stk:\n",
    "        #print(w)\n",
    "            line+=w+\"\"\n",
    "    file.write(line+'\\n')\n",
    "file.close()"
   ]
  },
  {
   "cell_type": "code",
   "execution_count": 37,
   "metadata": {},
   "outputs": [
    {
     "name": "stdout",
     "output_type": "stream",
     "text": [
      "['糖食用酒精颗粒粕电子元器件计算机研制推广应用软件开发计算机软硬件外围设备计算机配件信息产业电子高新技术制糖机械设备', '火腿火腿腌腊制品酱腌菜肉类罐头调味品火腿批零定型包装食品2012年月24日农副产品批零出口自产涉及前置专项审批相关经营', '莫高葡萄酒类批发葡萄原料脱毒苗木种条繁育化学药品原料药制剂中药制剂仅限分支机构经营啤酒原料花卉林木农作物种子饲草种植中草药种植畜牧养殖畜产品农业科技开发咨询服务培训农副产品含粮食批发机械批发零售自营各类商品技术进出口业务大麦芽葡萄葡萄酒甘草']\n"
     ]
    }
   ],
   "source": [
    "text_nstp = [line.strip() for line in open('text_nostop.txt', 'r', encoding='utf-8')]\n",
    "print(text_nstp)"
   ]
  },
  {
   "cell_type": "markdown",
   "metadata": {},
   "source": [
    "### 使用百度分词"
   ]
  },
  {
   "cell_type": "code",
   "execution_count": 38,
   "metadata": {},
   "outputs": [],
   "source": [
    "from LAC import LAC\n",
    "file = open('text_nostoplac.txt','w',encoding='utf-8')\n",
    "for t in text:\n",
    "    wordscut = lac.run(t)[0]\n",
    "    line = \"\"\n",
    "    for w in wordscut:\n",
    "        if not w in user_stk:\n",
    "        #print(w)\n",
    "            line+=w+\"\"\n",
    "    file.write(line+'\\n')\n",
    "file.close()"
   ]
  },
  {
   "cell_type": "code",
   "execution_count": null,
   "metadata": {},
   "outputs": [],
   "source": [
    "text_nstplac = [line.strip() for line in open('text_nostoplac.txt', 'r', encoding='utf-8')]\n",
    "print(text_nstplac)"
   ]
  },
  {
   "cell_type": "markdown",
   "metadata": {},
   "source": [
    "## 提取目标词"
   ]
  },
  {
   "cell_type": "code",
   "execution_count": 39,
   "metadata": {},
   "outputs": [
    {
     "name": "stdout",
     "output_type": "stream",
     "text": [
      "[['食用酒精', '颗粒', '电子', '元器件', '计算机', '计算机', '外围设备', '计算机', '配件', '信息产业', '电子', '高新技术', '制糖', '机械设备'], ['火腿', '火腿', '腌腊', '制品', '肉类', '罐头', '调味品', '火腿', '食品', '农副产品', '产', '前置', '专项'], ['葡萄酒', '葡萄', '原料', '条', '化学药品', '原料药', '制剂', '药制剂', '分支机构', '啤酒', '原料', '花卉', '农作物', '种子', '饲草', '畜牧', '畜产品', '农业', '咨询服务', '农副产品', '粮食', '机械', '商品', '技术', '业务', '葡萄', '葡萄酒', '甘草']]\n"
     ]
    }
   ],
   "source": [
    "#extract certain tags of interested products\n",
    "pdt_list=[]\n",
    "for i, f in enumerate(text_nstp):\n",
    "    segtags = pseg.lcut(f)\n",
    "    f_list = []\n",
    "    for tag in segtags:\n",
    "        if list(tag)[1]=='n' or list(tag)[1]=='nz':\n",
    "           f_list.append(list(tag)[0]) \n",
    "    #f_list = list(set(f_list))  # use 'set' to exclude repeated strings\n",
    "    pdt_list.append(f_list)\n",
    "print(pdt_list)"
   ]
  },
  {
   "cell_type": "markdown",
   "metadata": {},
   "source": [
    "## Work Remaining to be Done\n",
    "\n",
    "* 丰富停顿词表\n",
    "* 去除重复词\n",
    "* 构建product space与企业产品向量 $V_i$\n",
    "* 计算企业之间产品相似度"
   ]
  }
 ],
 "metadata": {
  "kernelspec": {
   "display_name": "Python 3",
   "language": "python",
   "name": "python3"
  },
  "language_info": {
   "codemirror_mode": {
    "name": "ipython",
    "version": 3
   },
   "file_extension": ".py",
   "mimetype": "text/x-python",
   "name": "python",
   "nbconvert_exporter": "python",
   "pygments_lexer": "ipython3",
   "version": "3.7.6"
  }
 },
 "nbformat": 4,
 "nbformat_minor": 4
}
