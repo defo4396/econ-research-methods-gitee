{
 "cells": [
  {
   "cell_type": "markdown",
   "id": "3cb147fc-5b44-4ba7-904e-d1df49c5ff93",
   "metadata": {},
   "source": [
    "Extensions of Differences-in-Differences Models: Applications with STATA\n",
    "---\n",
    "\n",
    "**Zhiyuan Chen**\n",
    "\n",
    "*Renmin Business School*\n",
    "\n",
    "`Recent Update: 2024-4-11`\n",
    "\n",
    "`First Version: 2022-05-10`\n",
    "\n",
    "\n",
    "\n",
    "This material is perpared for graduate course of Emprical Methods. Usual copyrights statements apply.\n"
   ]
  },
  {
   "cell_type": "markdown",
   "id": "759ecd05-5a6f-4eb5-9122-b45d567fe66e",
   "metadata": {
    "slideshow": {
     "slide_type": "slide"
    },
    "tags": []
   },
   "source": [
    "# Overview \n",
    "* [Simulation Setup](#simulation_setup)\n",
    "    \n",
    "* [Applications of Different Techniques](#application)\n",
    "    * Canonical Diff-In-Diff\n",
    "    * PSM-DID\n",
    "    * Semiparametric-DID\n",
    "    * Synthetic DID\n",
    "* [Alternative Experiments](#alternatives)\n",
    "    * Heterogenous Treatment Effects\n",
    "    * Selection on Unobservables\n",
    "* [Staggered Diff-In-Diffs](#stagger_did)"
   ]
  },
  {
   "cell_type": "markdown",
   "id": "81190649-151e-475c-9e7a-aaf7c60086d2",
   "metadata": {
    "slideshow": {
     "slide_type": "slide"
    },
    "tags": []
   },
   "source": [
    "# Simulation Setup <a class=\"anchor\" id=\"simulation_setup\"></a>"
   ]
  },
  {
   "cell_type": "markdown",
   "id": "dff568d3-2fff-40f1-bd4a-247ecd0acb6e",
   "metadata": {
    "slideshow": {
     "slide_type": "subslide"
    },
    "tags": []
   },
   "source": [
    "## A Model of Treatment and Potential Outcomes\n",
    "Consider the two-group and two-period model with potential outcomes determined as:\n",
    "$$\n",
    "y_{it}^j = \\tau_{i} \\cdot D_{it} +h^j(x_{it})+\\lambda_i + \\delta \\cdot t +u_{it}^j,\\quad j\\in \\{0,1\\}; t\\in \\{0,1\\}\n",
    "$$\n",
    "* $y_{it}$ is unit $i$'s income in period $t$; $D_{it}\\in\\{0,1\\}$ is the treatment indicator\n",
    "* $j=1$ means attend Chen's RMEB class and zero if not \n",
    "* $\\tau_i$ is the treatment effects that can differ across units\n",
    "* $h^j(x_{it}), \\lambda_i, \\delta_t$ are covariates. Specifically, $x_{it}$ means $i$'s ability\n",
    "\n",
    "> **[Parallel Trend or CIA Assumption]**: $(u_{it}^1-u_{it}^0) \\perp D_{it} | x_{it}$\n",
    "\n",
    "This setting covers a large class of empirical models in various areas."
   ]
  },
  {
   "cell_type": "markdown",
   "id": "419e8502-6286-46d6-8b07-766a2e33bb8b",
   "metadata": {
    "slideshow": {
     "slide_type": "subslide"
    },
    "tags": []
   },
   "source": [
    "## DGP \n",
    "We generate a two-period panel data according to following DGPs:\n",
    "* Number of observations = 200, $t=0,1$\n",
    "* $h^j(x_{it}) = \\alpha_1 \\cdot x_{it} + \\alpha_2\\cdot x_{it}^2$ and $\\alpha_1 = 0.1; \\alpha_2 = 0.2$\n",
    "* $x_{it}\\sim N(0, 1)$, $\\lambda_i\\sim  N(0-0.1\\times D_{it},0.5^2)$, $\\delta=0.1$\n",
    "* $u_{it}^j\\sim N(0, 0.2^2)$ for $j\\in\\{0,1\\}$\n",
    "* **Hoomogeneous Treatment Effects**: $\\tau_{i}=0.15$ if treated, then $ATT^{true}=0.15$\n",
    "* **Selection into treatment**: $D_{i0}=0$ and \n",
    "$$\n",
    "D_{i1} = 1 \\quad if \\quad x_{i0}-v>0\n",
    "$$\n",
    "where $v\\sim N(\\mu_v, 1)$ is independent of $x_{it}$ and $u_{it}^0$, we let $\\mu_v$ differ across different settings\n",
    "* $y_{it}^j = \\tau_{i} \\cdot D_{it} +h^j(x_{it})+\\lambda_i + \\delta \\cdot t +u_{it}^j$"
   ]
  },
  {
   "cell_type": "code",
   "execution_count": 1,
   "id": "feca4784-77d4-4848-8a92-cfb5f1f395b6",
   "metadata": {
    "collapsed": true,
    "jupyter": {
     "outputs_hidden": true
    },
    "slideshow": {
     "slide_type": "subslide"
    },
    "tags": []
   },
   "outputs": [
    {
     "name": "stdout",
     "output_type": "stream",
     "text": [
      "\n",
      "\n",
      "\n",
      "number of observations (_N) was 0, now 500\n",
      "\n",
      "\n",
      "\n",
      "(500 observations created)\n",
      "\n",
      "\n",
      "\n",
      "\n",
      "\n",
      "(500 missing values generated)\n",
      "\n",
      "\n",
      "\n",
      "\n",
      "\n",
      "\n",
      "\n",
      "(253 real changes made)\n",
      "\n",
      "(747 missing values generated)\n",
      "\n",
      "(747 real changes made)\n",
      "\n",
      "(253 real changes made)\n",
      "\n",
      "(494 real changes made)\n",
      "\n",
      "\n",
      "file simdata_did1.dta saved\n"
     ]
    }
   ],
   "source": [
    "*Stata Code for data simulation\n",
    "clear all \n",
    "set seed 10101\n",
    "set obs 500 //number of observations (what if the # of observations is smaller?)\n",
    "g id = _n \n",
    "g lambda = rnormal(0,0.5) //individual fixed effects\n",
    "expand 2 // expand them to be two periods\n",
    "bys id: g t = _n-1 //generate periods \n",
    "g x = rnormal(0,1)\n",
    "g u1 = rnormal(0,0.2)\n",
    "g u0 = rnormal(0,0.2)\n",
    "g v = rnormal(0,1) if t==1 // random error on selection (What happens if se(v) is small?)\n",
    "scalar delta = 0.1 //exogenous trend\n",
    "scalar alpha1 = 0.1\n",
    "scalar alpha2 = 0.2\n",
    "g y0 = alpha1*x + alpha2*x^2 + lambda + delta*t+u0\n",
    "g y1 = alpha1*x + alpha2*x^2 + lambda + delta*t+u1 \n",
    "g D = 0\n",
    "bys id (t): replace D=1 if t==1&x>v //selection into treated\n",
    "g tau_u = 0.15 if D==1 //constant treatment effects\n",
    "replace tau_u = 0 if missing(tau_u)\n",
    "replace y1 = y1 + tau_u if D==1 \n",
    "bys id (t): replace y0 = y0 - 0.1 if D[_N]==0 //different levels \n",
    "g y = D*y1+(1-D)*y0\n",
    "save simdata_did1.dta,replace"
   ]
  },
  {
   "cell_type": "markdown",
   "id": "fb212167-3d8a-43ab-9a9a-a5975bc7b68b",
   "metadata": {
    "slideshow": {
     "slide_type": "subslide"
    },
    "tags": []
   },
   "source": [
    "### 1. Two-way fixed Effects Model\n",
    "\n",
    "We estimate three FE models using OLS:\n",
    "\n",
    "$$\n",
    "y_{it} = \\tau D_{it}+\\lambda_i +\\delta t + \\epsilon_{it} \\tag{1}\n",
    "$$\n",
    "\n",
    "$$\n",
    "y_{it} = \\tau D_{it}+\\lambda_i +\\delta t + \\epsilon_{it} \\tag{2}\n",
    "$$\n",
    "\n",
    "$$\n",
    "y_{it} = \\tau D_{it}+\\alpha_1 \\cdot x_{it}+\\alpha_2 \\cdot x_{it}^2 + \\lambda_i +\\delta t + \\epsilon_{it} \\tag{3}\n",
    "$$"
   ]
  },
  {
   "cell_type": "code",
   "execution_count": 2,
   "id": "2a7cfa61-50d6-4a65-b33a-5ff38137b097",
   "metadata": {},
   "outputs": [
    {
     "name": "stdout",
     "output_type": "stream",
     "text": [
      "\n",
      "       panel variable:  id (strongly balanced)\n",
      "        time variable:  t, 0 to 1\n",
      "                delta:  1 unit\n",
      "\n"
     ]
    }
   ],
   "source": [
    "xtset id t\n",
    "g x2 = x^2"
   ]
  },
  {
   "cell_type": "code",
   "execution_count": 3,
   "id": "593afd6c-aba8-481f-9fb4-091945199337",
   "metadata": {
    "slideshow": {
     "slide_type": "subslide"
    },
    "tags": []
   },
   "outputs": [],
   "source": [
    "qui xtreg y D t, fe vce(robust)\n",
    "est sto fe1\n",
    "qui xtreg y D x t, fe vce(robust)\n",
    "est sto fe2 \n",
    "qui xtreg y D x x2 t, fe vce(robust)\n",
    "est sto fe3"
   ]
  },
  {
   "cell_type": "code",
   "execution_count": 4,
   "id": "ec4ad1f8-2317-4464-9a14-087dd80f1e31",
   "metadata": {
    "slideshow": {
     "slide_type": "fragment"
    },
    "tags": []
   },
   "outputs": [
    {
     "data": {
      "text/html": [
       "\n",
       "<table border=\"0\" width=\"*\">\n",
       "<caption>TWFE</caption>\n",
       "<tr><td colspan=4><hr></td></tr>\n",
       "<tr><td>            </td><td>         (1)              </td><td>         (2)              </td><td>         (3)              </td></tr>\n",
       "<tr><td>            </td><td>           y              </td><td>           y              </td><td>           y              </td></tr>\n",
       "<tr><td colspan=4><hr></td></tr>\n",
       "<tr><td>D           </td><td>       0.290<sup>***</sup></td><td>       0.214<sup>***</sup></td><td>       0.168<sup>***</sup></td></tr>\n",
       "<tr><td>            </td><td>    (0.0458)              </td><td>    (0.0529)              </td><td>    (0.0268)              </td></tr>\n",
       "<tr><td>t           </td><td>    -0.00235              </td><td>      0.0359              </td><td>       0.100<sup>***</sup></td></tr>\n",
       "<tr><td>            </td><td>    (0.0323)              </td><td>    (0.0381)              </td><td>    (0.0192)              </td></tr>\n",
       "<tr><td>x           </td><td>                          </td><td>      0.0648<sup>**</sup> </td><td>       0.109<sup>***</sup></td></tr>\n",
       "<tr><td>            </td><td>                          </td><td>    (0.0306)              </td><td>   (0.00873)              </td></tr>\n",
       "<tr><td>x2          </td><td>                          </td><td>                          </td><td>       0.197<sup>***</sup></td></tr>\n",
       "<tr><td>            </td><td>                          </td><td>                          </td><td>   (0.00551)              </td></tr>\n",
       "<tr><td>_cons       </td><td>       0.178<sup>***</sup></td><td>       0.176<sup>***</sup></td><td>     -0.0497<sup>***</sup></td></tr>\n",
       "<tr><td>            </td><td>    (0.0115)              </td><td>    (0.0115)              </td><td>   (0.00863)              </td></tr>\n",
       "<tr><td colspan=4><hr></td></tr>\n",
       "<tr><td><i>N</i>    </td><td>        1000              </td><td>        1000              </td><td>        1000              </td></tr>\n",
       "<tr><td colspan=4><hr></td></tr>\n",
       "<tr><td colspan=4>\n",
       "Standard errors in parentheses\n",
       "<br /><sup>**</sup> <i>p</i> < 0.05, <sup>***</sup> <i>p</i> < 0.01\n",
       "</td></tr>\n",
       "</table>\n",
       "\n"
      ],
      "text/plain": [
       "This front-end or document format cannot display HTML"
      ]
     },
     "metadata": {},
     "output_type": "display_data"
    }
   ],
   "source": [
    "%html\n",
    "esttab fe1 fe2 fe3, se nogaps star(** 0.05 *** 0.01) title(\"TWFE\") html"
   ]
  },
  {
   "cell_type": "markdown",
   "id": "2bcdb9f2-f248-4461-9538-50c5d10d0b77",
   "metadata": {
    "slideshow": {
     "slide_type": "subslide"
    },
    "tags": []
   },
   "source": [
    "### 2. PSM-DID\n",
    "\n",
    "#### Estimation procedures:\n",
    "1. `Step 1`: specify the model of treatment participation $Pr(D_{i1}=1|x_{i0})$. We try linear and non-linear terms of $x_{i0}$\n",
    "2. `Step 2`: Perform matching based on the propensity scores \n",
    "3. `Step 3`: Define the outcome variable as $\\Delta y_{i}=y_{i1}-y_{i0}$, calculate treatment effects as $\\Delta y_{i}^1 - \\Delta y_{i,match}^0$ for all treated units; obtain analytical standard errors"
   ]
  },
  {
   "cell_type": "code",
   "execution_count": 5,
   "id": "f6318e25-7fad-474f-a944-87c9210fa669",
   "metadata": {
    "slideshow": {
     "slide_type": "subslide"
    },
    "tags": []
   },
   "outputs": [
    {
     "name": "stdout",
     "output_type": "stream",
     "text": [
      "\n",
      "\n",
      "\n",
      "(option pr assumed; Pr(D))\n",
      "(500 missing values generated)\n",
      "\n",
      "\n",
      "\n",
      "\n",
      "(option pr assumed; Pr(D))\n",
      "(500 missing values generated)\n",
      "\n"
     ]
    }
   ],
   "source": [
    "//step 1: estimating propensity score \n",
    "qui probit D x  if t==1 //linear \n",
    "cap drop pr1\n",
    "predict pr1 if t==1\n",
    "est sto prob1\n",
    "qui probit D x x2 if t==1  //non-linear \n",
    "cap drop pr2\n",
    "predict pr2 if t==1\n",
    "est sto prob2"
   ]
  },
  {
   "cell_type": "code",
   "execution_count": 6,
   "id": "3a1b6a24-7d09-4140-9619-15929e99f39a",
   "metadata": {
    "slideshow": {
     "slide_type": "fragment"
    },
    "tags": []
   },
   "outputs": [
    {
     "data": {
      "text/html": [
       "\n",
       "<table border=\"0\" width=\"*\">\n",
       "<caption>First-Step Propensity Score</caption>\n",
       "<tr><td colspan=3><hr></td></tr>\n",
       "<tr><td>            </td><td>         (1)              </td><td>         (2)              </td></tr>\n",
       "<tr><td>            </td><td>           D              </td><td>           D              </td></tr>\n",
       "<tr><td colspan=3><hr></td></tr>\n",
       "<tr><td>D           </td><td>                          </td><td>                          </td></tr>\n",
       "<tr><td>x           </td><td>       1.069<sup>***</sup></td><td>       1.081<sup>***</sup></td></tr>\n",
       "<tr><td>            </td><td>    (0.0897)              </td><td>    (0.0909)              </td></tr>\n",
       "<tr><td>x2          </td><td>                          </td><td>       0.121              </td></tr>\n",
       "<tr><td>            </td><td>                          </td><td>    (0.0825)              </td></tr>\n",
       "<tr><td>_cons       </td><td>     -0.0166              </td><td>     -0.0810              </td></tr>\n",
       "<tr><td>            </td><td>    (0.0652)              </td><td>    (0.0787)              </td></tr>\n",
       "<tr><td colspan=3><hr></td></tr>\n",
       "<tr><td><i>N</i>    </td><td>         500              </td><td>         500              </td></tr>\n",
       "<tr><td colspan=3><hr></td></tr>\n",
       "<tr><td colspan=3>\n",
       "Standard errors in parentheses\n",
       "<br /><sup>**</sup> <i>p</i> < 0.05, <sup>***</sup> <i>p</i> < 0.01\n",
       "</td></tr>\n",
       "</table>\n",
       "\n"
      ],
      "text/plain": [
       "This front-end or document format cannot display HTML"
      ]
     },
     "metadata": {},
     "output_type": "display_data"
    }
   ],
   "source": [
    "%html\n",
    "esttab prob1 prob2, se nogaps star(** 0.05 *** 0.01) title(\"First-Step Propensity Score\") html"
   ]
  },
  {
   "cell_type": "markdown",
   "id": "909a5792-d56d-4f9e-9b7d-c33f2012d2b4",
   "metadata": {
    "slideshow": {
     "slide_type": "subslide"
    },
    "tags": []
   },
   "source": [
    "**Overlapping Assumption**\n",
    "To make the units comparable, we require the **Overlapping Assumption**:\n",
    "$$\n",
    "0< Pr(D_{i1}|X_{i0})<1\n",
    "$$"
   ]
  },
  {
   "cell_type": "code",
   "execution_count": 7,
   "id": "e9eb67ca-70a6-49b5-b5c7-a86f0f68d6a8",
   "metadata": {
    "slideshow": {
     "slide_type": "fragment"
    },
    "tags": []
   },
   "outputs": [
    {
     "data": {
      "application/pdf": "[encoded data removed]",
      "image/svg+xml": [
       "<?xml version=\"1.0\" encoding=\"UTF-8\" standalone=\"no\"?>\n",
       "<!-- This is a Stata 16.0 generated SVG file (http://www.stata.com) -->\n",
       "\n",
       "<svg version=\"1.1\" width=\"600px\" height=\"436px\" viewBox=\"0 0 3960 2880\" xmlns=\"http://www.w3.org/2000/svg\" xmlns:xlink=\"http://www.w3.org/1999/xlink\">\n",
       "\t<desc>Stata Graph - Graph</desc>\n",
       "\t<rect x=\"0\" y=\"0\" width=\"3960\" height=\"2880\" style=\"fill:#EAF2F3;stroke:none\"/>\n",
       "\t<rect x=\"0.00\" y=\"0.00\" width=\"3959.88\" height=\"2880.00\" style=\"fill:#EAF2F3\"/>\n",
       "\t<rect x=\"2.88\" y=\"2.88\" width=\"3954.12\" height=\"2874.24\" style=\"fill:none;stroke:#EAF2F3;stroke-width:5.76\"/>\n",
       "\t<rect x=\"390.80\" y=\"275.35\" width=\"3468.22\" height=\"1958.28\" style=\"fill:#FFFFFF\"/>\n",
       "\t<rect x=\"393.68\" y=\"278.23\" width=\"3462.46\" height=\"1952.52\" style=\"fill:none;stroke:#FFFFFF;stroke-width:5.76\"/>\n",
       "\t<line x1=\"390.80\" y1=\"2170.27\" x2=\"3859.02\" y2=\"2170.27\" style=\"stroke:#EAF2F3;stroke-width:8.64\"/>\n",
       "\t<line x1=\"390.80\" y1=\"1803.96\" x2=\"3859.02\" y2=\"1803.96\" style=\"stroke:#EAF2F3;stroke-width:8.64\"/>\n",
       "\t<line x1=\"390.80\" y1=\"1437.65\" x2=\"3859.02\" y2=\"1437.65\" style=\"stroke:#EAF2F3;stroke-width:8.64\"/>\n",
       "\t<line x1=\"390.80\" y1=\"1071.34\" x2=\"3859.02\" y2=\"1071.34\" style=\"stroke:#EAF2F3;stroke-width:8.64\"/>\n",
       "\t<line x1=\"390.80\" y1=\"705.03\" x2=\"3859.02\" y2=\"705.03\" style=\"stroke:#EAF2F3;stroke-width:8.64\"/>\n",
       "\t<line x1=\"390.80\" y1=\"338.71\" x2=\"3859.02\" y2=\"338.71\" style=\"stroke:#EAF2F3;stroke-width:8.64\"/>\n",
       "\t<rect x=\"515.29\" y=\"1992.68\" width=\"217.80\" height=\"177.59\" style=\"fill:#0000FF;fill-opacity:0.30\"/>\n",
       "\t<rect x=\"519.61\" y=\"1997.00\" width=\"209.16\" height=\"168.95\" style=\"fill:none;stroke:#0000FF;stroke-opacity:0.30;stroke-width:8.64\"/>\n",
       "\t<rect x=\"733.10\" y=\"2081.54\" width=\"217.80\" height=\"88.73\" style=\"fill:#0000FF;fill-opacity:0.30\"/>\n",
       "\t<rect x=\"737.41\" y=\"2085.86\" width=\"209.16\" height=\"80.09\" style=\"fill:none;stroke:#0000FF;stroke-opacity:0.30;stroke-width:8.64\"/>\n",
       "\t<rect x=\"950.89\" y=\"1992.68\" width=\"217.80\" height=\"177.59\" style=\"fill:#0000FF;fill-opacity:0.30\"/>\n",
       "\t<rect x=\"955.21\" y=\"1997.00\" width=\"209.16\" height=\"168.95\" style=\"fill:none;stroke:#0000FF;stroke-opacity:0.30;stroke-width:8.64\"/>\n",
       "\t<rect x=\"1168.69\" y=\"1859.40\" width=\"217.92\" height=\"310.87\" style=\"fill:#0000FF;fill-opacity:0.30\"/>\n",
       "\t<rect x=\"1173.01\" y=\"1863.72\" width=\"209.28\" height=\"302.23\" style=\"fill:none;stroke:#0000FF;stroke-opacity:0.30;stroke-width:8.64\"/>\n",
       "\t<rect x=\"1386.62\" y=\"1726.12\" width=\"217.80\" height=\"444.15\" style=\"fill:#0000FF;fill-opacity:0.30\"/>\n",
       "\t<rect x=\"1390.94\" y=\"1730.44\" width=\"209.16\" height=\"435.51\" style=\"fill:none;stroke:#0000FF;stroke-opacity:0.30;stroke-width:8.64\"/>\n",
       "\t<rect x=\"1604.42\" y=\"1503.98\" width=\"217.80\" height=\"666.29\" style=\"fill:#0000FF;fill-opacity:0.30\"/>\n",
       "\t<rect x=\"1608.74\" y=\"1508.30\" width=\"209.16\" height=\"657.65\" style=\"fill:none;stroke:#0000FF;stroke-opacity:0.30;stroke-width:8.64\"/>\n",
       "\t<rect x=\"1822.22\" y=\"1637.26\" width=\"217.80\" height=\"533.01\" style=\"fill:#0000FF;fill-opacity:0.30\"/>\n",
       "\t<rect x=\"1826.54\" y=\"1641.58\" width=\"209.16\" height=\"524.37\" style=\"fill:none;stroke:#0000FF;stroke-opacity:0.30;stroke-width:8.64\"/>\n",
       "\t<rect x=\"2040.02\" y=\"1637.26\" width=\"217.92\" height=\"533.01\" style=\"fill:#0000FF;fill-opacity:0.30\"/>\n",
       "\t<rect x=\"2044.34\" y=\"1641.58\" width=\"209.28\" height=\"524.37\" style=\"fill:none;stroke:#0000FF;stroke-opacity:0.30;stroke-width:8.64\"/>\n",
       "\t<rect x=\"2257.94\" y=\"1281.84\" width=\"217.80\" height=\"888.43\" style=\"fill:#0000FF;fill-opacity:0.30\"/>\n",
       "\t<rect x=\"2262.26\" y=\"1286.16\" width=\"209.16\" height=\"879.79\" style=\"fill:none;stroke:#0000FF;stroke-opacity:0.30;stroke-width:8.64\"/>\n",
       "\t<rect x=\"2475.74\" y=\"1237.41\" width=\"217.80\" height=\"932.86\" style=\"fill:#0000FF;fill-opacity:0.30\"/>\n",
       "\t<rect x=\"2480.06\" y=\"1241.73\" width=\"209.16\" height=\"924.22\" style=\"fill:none;stroke:#0000FF;stroke-opacity:0.30;stroke-width:8.64\"/>\n",
       "\t<rect x=\"2693.54\" y=\"1326.27\" width=\"217.92\" height=\"844.00\" style=\"fill:#0000FF;fill-opacity:0.30\"/>\n",
       "\t<rect x=\"2697.86\" y=\"1330.59\" width=\"209.28\" height=\"835.36\" style=\"fill:none;stroke:#0000FF;stroke-opacity:0.30;stroke-width:8.64\"/>\n",
       "\t<rect x=\"2911.47\" y=\"926.55\" width=\"217.80\" height=\"1243.73\" style=\"fill:#0000FF;fill-opacity:0.30\"/>\n",
       "\t<rect x=\"2915.79\" y=\"930.87\" width=\"209.16\" height=\"1235.09\" style=\"fill:none;stroke:#0000FF;stroke-opacity:0.30;stroke-width:8.64\"/>\n",
       "\t<rect x=\"3129.27\" y=\"970.97\" width=\"217.80\" height=\"1199.30\" style=\"fill:#0000FF;fill-opacity:0.30\"/>\n",
       "\t<rect x=\"3133.59\" y=\"975.29\" width=\"209.16\" height=\"1190.66\" style=\"fill:none;stroke:#0000FF;stroke-opacity:0.30;stroke-width:8.64\"/>\n",
       "\t<rect x=\"3347.07\" y=\"793.26\" width=\"217.80\" height=\"1377.01\" style=\"fill:#0000FF;fill-opacity:0.30\"/>\n",
       "\t<rect x=\"3351.39\" y=\"797.58\" width=\"209.16\" height=\"1368.37\" style=\"fill:none;stroke:#0000FF;stroke-opacity:0.30;stroke-width:8.64\"/>\n",
       "\t<rect x=\"3564.87\" y=\"348.99\" width=\"217.92\" height=\"1821.29\" style=\"fill:#0000FF;fill-opacity:0.30\"/>\n",
       "\t<rect x=\"3569.19\" y=\"353.31\" width=\"209.28\" height=\"1812.65\" style=\"fill:none;stroke:#0000FF;stroke-opacity:0.30;stroke-width:8.64\"/>\n",
       "\t<rect x=\"454.53\" y=\"460.49\" width=\"208.64\" height=\"1709.78\" style=\"fill:#FF0000;fill-opacity:0.30\"/>\n",
       "\t<rect x=\"458.85\" y=\"464.81\" width=\"200.00\" height=\"1701.14\" style=\"fill:none;stroke:#FF0000;stroke-opacity:0.30;stroke-width:8.64\"/>\n",
       "\t<rect x=\"663.18\" y=\"1030.37\" width=\"208.77\" height=\"1139.90\" style=\"fill:#FF0000;fill-opacity:0.30\"/>\n",
       "\t<rect x=\"667.50\" y=\"1034.69\" width=\"200.13\" height=\"1131.26\" style=\"fill:none;stroke:#FF0000;stroke-opacity:0.30;stroke-width:8.64\"/>\n",
       "\t<rect x=\"871.94\" y=\"1220.34\" width=\"208.64\" height=\"949.93\" style=\"fill:#FF0000;fill-opacity:0.30\"/>\n",
       "\t<rect x=\"876.26\" y=\"1224.66\" width=\"200.00\" height=\"941.29\" style=\"fill:none;stroke:#FF0000;stroke-opacity:0.30;stroke-width:8.64\"/>\n",
       "\t<rect x=\"1080.59\" y=\"1077.90\" width=\"208.64\" height=\"1092.38\" style=\"fill:#FF0000;fill-opacity:0.30\"/>\n",
       "\t<rect x=\"1084.90\" y=\"1082.22\" width=\"200.00\" height=\"1083.74\" style=\"fill:none;stroke:#FF0000;stroke-opacity:0.30;stroke-width:8.64\"/>\n",
       "\t<rect x=\"1289.23\" y=\"840.41\" width=\"208.77\" height=\"1329.86\" style=\"fill:#FF0000;fill-opacity:0.30\"/>\n",
       "\t<rect x=\"1293.55\" y=\"844.73\" width=\"200.13\" height=\"1321.22\" style=\"fill:none;stroke:#FF0000;stroke-opacity:0.30;stroke-width:8.64\"/>\n",
       "\t<rect x=\"1497.99\" y=\"1077.90\" width=\"208.64\" height=\"1092.38\" style=\"fill:#FF0000;fill-opacity:0.30\"/>\n",
       "\t<rect x=\"1502.31\" y=\"1082.22\" width=\"200.00\" height=\"1083.74\" style=\"fill:none;stroke:#FF0000;stroke-opacity:0.30;stroke-width:8.64\"/>\n",
       "\t<rect x=\"1706.64\" y=\"1172.94\" width=\"208.64\" height=\"997.33\" style=\"fill:#FF0000;fill-opacity:0.30\"/>\n",
       "\t<rect x=\"1710.96\" y=\"1177.26\" width=\"200.00\" height=\"988.69\" style=\"fill:none;stroke:#FF0000;stroke-opacity:0.30;stroke-width:8.64\"/>\n",
       "\t<rect x=\"1915.28\" y=\"1552.86\" width=\"208.64\" height=\"617.41\" style=\"fill:#FF0000;fill-opacity:0.30\"/>\n",
       "\t<rect x=\"1919.60\" y=\"1557.18\" width=\"200.00\" height=\"608.77\" style=\"fill:none;stroke:#FF0000;stroke-opacity:0.30;stroke-width:8.64\"/>\n",
       "\t<rect x=\"2123.92\" y=\"1552.86\" width=\"208.77\" height=\"617.41\" style=\"fill:#FF0000;fill-opacity:0.30\"/>\n",
       "\t<rect x=\"2128.24\" y=\"1557.18\" width=\"200.13\" height=\"608.77\" style=\"fill:none;stroke:#FF0000;stroke-opacity:0.30;stroke-width:8.64\"/>\n",
       "\t<rect x=\"2332.69\" y=\"1600.39\" width=\"208.64\" height=\"569.89\" style=\"fill:#FF0000;fill-opacity:0.30\"/>\n",
       "\t<rect x=\"2337.01\" y=\"1604.70\" width=\"200.00\" height=\"561.25\" style=\"fill:none;stroke:#FF0000;stroke-opacity:0.30;stroke-width:8.64\"/>\n",
       "\t<rect x=\"2541.33\" y=\"1600.39\" width=\"208.64\" height=\"569.89\" style=\"fill:#FF0000;fill-opacity:0.30\"/>\n",
       "\t<rect x=\"2545.65\" y=\"1604.70\" width=\"200.00\" height=\"561.25\" style=\"fill:none;stroke:#FF0000;stroke-opacity:0.30;stroke-width:8.64\"/>\n",
       "\t<rect x=\"2749.97\" y=\"1647.91\" width=\"208.77\" height=\"522.37\" style=\"fill:#FF0000;fill-opacity:0.30\"/>\n",
       "\t<rect x=\"2754.29\" y=\"1652.23\" width=\"200.13\" height=\"513.73\" style=\"fill:none;stroke:#FF0000;stroke-opacity:0.30;stroke-width:8.64\"/>\n",
       "\t<rect x=\"2958.74\" y=\"2027.83\" width=\"208.64\" height=\"142.44\" style=\"fill:#FF0000;fill-opacity:0.30\"/>\n",
       "\t<rect x=\"2963.06\" y=\"2032.15\" width=\"200.00\" height=\"133.80\" style=\"fill:none;stroke:#FF0000;stroke-opacity:0.30;stroke-width:8.64\"/>\n",
       "\t<rect x=\"3167.38\" y=\"2075.35\" width=\"208.64\" height=\"94.92\" style=\"fill:#FF0000;fill-opacity:0.30\"/>\n",
       "\t<rect x=\"3171.70\" y=\"2079.67\" width=\"200.00\" height=\"86.28\" style=\"fill:none;stroke:#FF0000;stroke-opacity:0.30;stroke-width:8.64\"/>\n",
       "\t<rect x=\"3376.02\" y=\"1885.39\" width=\"208.77\" height=\"284.88\" style=\"fill:#FF0000;fill-opacity:0.30\"/>\n",
       "\t<rect x=\"3380.34\" y=\"1889.71\" width=\"200.13\" height=\"276.24\" style=\"fill:none;stroke:#FF0000;stroke-opacity:0.30;stroke-width:8.64\"/>\n",
       "\t<line x1=\"390.80\" y1=\"2233.63\" x2=\"390.80\" y2=\"275.35\" style=\"stroke:#000000;stroke-width:5.76\"/>\n",
       "\t<line x1=\"390.80\" y1=\"2170.27\" x2=\"350.83\" y2=\"2170.27\" style=\"stroke:#000000;stroke-width:5.76\"/>\n",
       "\t<text x=\"300.72\" y=\"2170.27\" style=\"font-family:'Helvetica';font-size:99.99px;fill:#000000\" transform=\"rotate(-90 300.72,2170.27)\" text-anchor=\"middle\">0</text>\n",
       "\t<line x1=\"390.80\" y1=\"1803.96\" x2=\"350.83\" y2=\"1803.96\" style=\"stroke:#000000;stroke-width:5.76\"/>\n",
       "\t<text x=\"300.72\" y=\"1803.96\" style=\"font-family:'Helvetica';font-size:99.99px;fill:#000000\" transform=\"rotate(-90 300.72,1803.96)\" text-anchor=\"middle\">.5</text>\n",
       "\t<line x1=\"390.80\" y1=\"1437.65\" x2=\"350.83\" y2=\"1437.65\" style=\"stroke:#000000;stroke-width:5.76\"/>\n",
       "\t<text x=\"300.72\" y=\"1437.65\" style=\"font-family:'Helvetica';font-size:99.99px;fill:#000000\" transform=\"rotate(-90 300.72,1437.65)\" text-anchor=\"middle\">1</text>\n",
       "\t<line x1=\"390.80\" y1=\"1071.34\" x2=\"350.83\" y2=\"1071.34\" style=\"stroke:#000000;stroke-width:5.76\"/>\n",
       "\t<text x=\"300.72\" y=\"1071.34\" style=\"font-family:'Helvetica';font-size:99.99px;fill:#000000\" transform=\"rotate(-90 300.72,1071.34)\" text-anchor=\"middle\">1.5</text>\n",
       "\t<line x1=\"390.80\" y1=\"705.03\" x2=\"350.83\" y2=\"705.03\" style=\"stroke:#000000;stroke-width:5.76\"/>\n",
       "\t<text x=\"300.72\" y=\"705.03\" style=\"font-family:'Helvetica';font-size:99.99px;fill:#000000\" transform=\"rotate(-90 300.72,705.03)\" text-anchor=\"middle\">2</text>\n",
       "\t<line x1=\"390.80\" y1=\"338.71\" x2=\"350.83\" y2=\"338.71\" style=\"stroke:#000000;stroke-width:5.76\"/>\n",
       "\t<text x=\"300.72\" y=\"338.71\" style=\"font-family:'Helvetica';font-size:99.99px;fill:#000000\" transform=\"rotate(-90 300.72,338.71)\" text-anchor=\"middle\">2.5</text>\n",
       "\t<text x=\"190.71\" y=\"1254.49\" style=\"font-family:'Helvetica';font-size:99.99px;fill:#000000\" transform=\"rotate(-90 190.71,1254.49)\" text-anchor=\"middle\">Density</text>\n",
       "\t<line x1=\"390.80\" y1=\"2233.63\" x2=\"3859.02\" y2=\"2233.63\" style=\"stroke:#000000;stroke-width:5.76\"/>\n",
       "\t<line x1=\"454.16\" y1=\"2233.63\" x2=\"454.16\" y2=\"2273.73\" style=\"stroke:#000000;stroke-width:5.76\"/>\n",
       "\t<text x=\"454.16\" y=\"2363.59\" style=\"font-family:'Helvetica';font-size:99.99px;fill:#000000\" text-anchor=\"middle\">0</text>\n",
       "\t<line x1=\"1122.41\" y1=\"2233.63\" x2=\"1122.41\" y2=\"2273.73\" style=\"stroke:#000000;stroke-width:5.76\"/>\n",
       "\t<text x=\"1122.41\" y=\"2363.59\" style=\"font-family:'Helvetica';font-size:99.99px;fill:#000000\" text-anchor=\"middle\">.2</text>\n",
       "\t<line x1=\"1790.79\" y1=\"2233.63\" x2=\"1790.79\" y2=\"2273.73\" style=\"stroke:#000000;stroke-width:5.76\"/>\n",
       "\t<text x=\"1790.79\" y=\"2363.59\" style=\"font-family:'Helvetica';font-size:99.99px;fill:#000000\" text-anchor=\"middle\">.4</text>\n",
       "\t<line x1=\"2459.04\" y1=\"2233.63\" x2=\"2459.04\" y2=\"2273.73\" style=\"stroke:#000000;stroke-width:5.76\"/>\n",
       "\t<text x=\"2459.04\" y=\"2363.59\" style=\"font-family:'Helvetica';font-size:99.99px;fill:#000000\" text-anchor=\"middle\">.6</text>\n",
       "\t<line x1=\"3127.41\" y1=\"2233.63\" x2=\"3127.41\" y2=\"2273.73\" style=\"stroke:#000000;stroke-width:5.76\"/>\n",
       "\t<text x=\"3127.41\" y=\"2363.59\" style=\"font-family:'Helvetica';font-size:99.99px;fill:#000000\" text-anchor=\"middle\">.8</text>\n",
       "\t<line x1=\"3795.66\" y1=\"2233.63\" x2=\"3795.66\" y2=\"2273.73\" style=\"stroke:#000000;stroke-width:5.76\"/>\n",
       "\t<text x=\"3795.66\" y=\"2363.59\" style=\"font-family:'Helvetica';font-size:99.99px;fill:#000000\" text-anchor=\"middle\">1</text>\n",
       "\t<text x=\"2124.91\" y=\"2473.60\" style=\"font-family:'Helvetica';font-size:99.99px;fill:#000000\" text-anchor=\"middle\">Pr(D)</text>\n",
       "\t<rect x=\"1259.40\" y=\"2558.24\" width=\"1731.01\" height=\"186.37\" style=\"fill:#FFFFFF\"/>\n",
       "\t<rect x=\"1262.28\" y=\"2561.12\" width=\"1725.26\" height=\"180.61\" style=\"fill:none;stroke:#000000;stroke-width:5.76\"/>\n",
       "\t<rect x=\"1302.59\" y=\"2601.43\" width=\"374.47\" height=\"99.99\" style=\"fill:#0000FF;fill-opacity:0.30\"/>\n",
       "\t<rect x=\"1306.91\" y=\"2605.75\" width=\"365.83\" height=\"91.35\" style=\"fill:none;stroke:#0000FF;stroke-opacity:0.30;stroke-width:8.64\"/>\n",
       "\t<rect x=\"2203.62\" y=\"2601.43\" width=\"374.47\" height=\"99.99\" style=\"fill:#FF0000;fill-opacity:0.30\"/>\n",
       "\t<rect x=\"2207.94\" y=\"2605.75\" width=\"365.83\" height=\"91.35\" style=\"fill:none;stroke:#FF0000;stroke-opacity:0.30;stroke-width:8.64\"/>\n",
       "\t<text x=\"1737.08\" y=\"2686.46\" style=\"font-family:'Helvetica';font-size:99.99px;fill:#000000\">treated</text>\n",
       "\t<text x=\"2638.10\" y=\"2686.46\" style=\"font-family:'Helvetica';font-size:99.99px;fill:#000000\">control</text>\n",
       "\t<text x=\"2124.91\" y=\"215.98\" style=\"font-family:'Helvetica';font-size:139.96px;fill:#1E2D53\" text-anchor=\"middle\">Linear Probit</text>\n",
       "</svg>\n"
      ],
      "text/html": [
       "                <iframe frameborder=\"0\" scrolling=\"no\" height=\"436\" width=\"600\"                srcdoc=\"<html><body>&lt;?xml version=&quot;1.0&quot; encoding=&quot;UTF-8&quot; standalone=&quot;no&quot;?&gt;\n",
       "&lt;!-- This is a Stata 16.0 generated SVG file (http://www.stata.com) --&gt;\n",
       "\n",
       "&lt;svg version=&quot;1.1&quot; width=&quot;600px&quot; height=&quot;436px&quot; viewBox=&quot;0 0 3960 2880&quot; xmlns=&quot;http://www.w3.org/2000/svg&quot; xmlns:xlink=&quot;http://www.w3.org/1999/xlink&quot;&gt;\n",
       "\t&lt;desc&gt;Stata Graph - Graph&lt;/desc&gt;\n",
       "\t&lt;rect x=&quot;0&quot; y=&quot;0&quot; width=&quot;3960&quot; height=&quot;2880&quot; style=&quot;fill:#EAF2F3;stroke:none&quot;/&gt;\n",
       "\t&lt;rect x=&quot;0.00&quot; y=&quot;0.00&quot; width=&quot;3959.88&quot; height=&quot;2880.00&quot; style=&quot;fill:#EAF2F3&quot;/&gt;\n",
       "\t&lt;rect x=&quot;2.88&quot; y=&quot;2.88&quot; width=&quot;3954.12&quot; height=&quot;2874.24&quot; style=&quot;fill:none;stroke:#EAF2F3;stroke-width:5.76&quot;/&gt;\n",
       "\t&lt;rect x=&quot;390.80&quot; y=&quot;275.35&quot; width=&quot;3468.22&quot; height=&quot;1958.28&quot; style=&quot;fill:#FFFFFF&quot;/&gt;\n",
       "\t&lt;rect x=&quot;393.68&quot; y=&quot;278.23&quot; width=&quot;3462.46&quot; height=&quot;1952.52&quot; style=&quot;fill:none;stroke:#FFFFFF;stroke-width:5.76&quot;/&gt;\n",
       "\t&lt;line x1=&quot;390.80&quot; y1=&quot;2170.27&quot; x2=&quot;3859.02&quot; y2=&quot;2170.27&quot; style=&quot;stroke:#EAF2F3;stroke-width:8.64&quot;/&gt;\n",
       "\t&lt;line x1=&quot;390.80&quot; y1=&quot;1803.96&quot; x2=&quot;3859.02&quot; y2=&quot;1803.96&quot; style=&quot;stroke:#EAF2F3;stroke-width:8.64&quot;/&gt;\n",
       "\t&lt;line x1=&quot;390.80&quot; y1=&quot;1437.65&quot; x2=&quot;3859.02&quot; y2=&quot;1437.65&quot; style=&quot;stroke:#EAF2F3;stroke-width:8.64&quot;/&gt;\n",
       "\t&lt;line x1=&quot;390.80&quot; y1=&quot;1071.34&quot; x2=&quot;3859.02&quot; y2=&quot;1071.34&quot; style=&quot;stroke:#EAF2F3;stroke-width:8.64&quot;/&gt;\n",
       "\t&lt;line x1=&quot;390.80&quot; y1=&quot;705.03&quot; x2=&quot;3859.02&quot; y2=&quot;705.03&quot; style=&quot;stroke:#EAF2F3;stroke-width:8.64&quot;/&gt;\n",
       "\t&lt;line x1=&quot;390.80&quot; y1=&quot;338.71&quot; x2=&quot;3859.02&quot; y2=&quot;338.71&quot; style=&quot;stroke:#EAF2F3;stroke-width:8.64&quot;/&gt;\n",
       "\t&lt;rect x=&quot;515.29&quot; y=&quot;1992.68&quot; width=&quot;217.80&quot; height=&quot;177.59&quot; style=&quot;fill:#0000FF;fill-opacity:0.30&quot;/&gt;\n",
       "\t&lt;rect x=&quot;519.61&quot; y=&quot;1997.00&quot; width=&quot;209.16&quot; height=&quot;168.95&quot; style=&quot;fill:none;stroke:#0000FF;stroke-opacity:0.30;stroke-width:8.64&quot;/&gt;\n",
       "\t&lt;rect x=&quot;733.10&quot; y=&quot;2081.54&quot; width=&quot;217.80&quot; height=&quot;88.73&quot; style=&quot;fill:#0000FF;fill-opacity:0.30&quot;/&gt;\n",
       "\t&lt;rect x=&quot;737.41&quot; y=&quot;2085.86&quot; width=&quot;209.16&quot; height=&quot;80.09&quot; style=&quot;fill:none;stroke:#0000FF;stroke-opacity:0.30;stroke-width:8.64&quot;/&gt;\n",
       "\t&lt;rect x=&quot;950.89&quot; y=&quot;1992.68&quot; width=&quot;217.80&quot; height=&quot;177.59&quot; style=&quot;fill:#0000FF;fill-opacity:0.30&quot;/&gt;\n",
       "\t&lt;rect x=&quot;955.21&quot; y=&quot;1997.00&quot; width=&quot;209.16&quot; height=&quot;168.95&quot; style=&quot;fill:none;stroke:#0000FF;stroke-opacity:0.30;stroke-width:8.64&quot;/&gt;\n",
       "\t&lt;rect x=&quot;1168.69&quot; y=&quot;1859.40&quot; width=&quot;217.92&quot; height=&quot;310.87&quot; style=&quot;fill:#0000FF;fill-opacity:0.30&quot;/&gt;\n",
       "\t&lt;rect x=&quot;1173.01&quot; y=&quot;1863.72&quot; width=&quot;209.28&quot; height=&quot;302.23&quot; style=&quot;fill:none;stroke:#0000FF;stroke-opacity:0.30;stroke-width:8.64&quot;/&gt;\n",
       "\t&lt;rect x=&quot;1386.62&quot; y=&quot;1726.12&quot; width=&quot;217.80&quot; height=&quot;444.15&quot; style=&quot;fill:#0000FF;fill-opacity:0.30&quot;/&gt;\n",
       "\t&lt;rect x=&quot;1390.94&quot; y=&quot;1730.44&quot; width=&quot;209.16&quot; height=&quot;435.51&quot; style=&quot;fill:none;stroke:#0000FF;stroke-opacity:0.30;stroke-width:8.64&quot;/&gt;\n",
       "\t&lt;rect x=&quot;1604.42&quot; y=&quot;1503.98&quot; width=&quot;217.80&quot; height=&quot;666.29&quot; style=&quot;fill:#0000FF;fill-opacity:0.30&quot;/&gt;\n",
       "\t&lt;rect x=&quot;1608.74&quot; y=&quot;1508.30&quot; width=&quot;209.16&quot; height=&quot;657.65&quot; style=&quot;fill:none;stroke:#0000FF;stroke-opacity:0.30;stroke-width:8.64&quot;/&gt;\n",
       "\t&lt;rect x=&quot;1822.22&quot; y=&quot;1637.26&quot; width=&quot;217.80&quot; height=&quot;533.01&quot; style=&quot;fill:#0000FF;fill-opacity:0.30&quot;/&gt;\n",
       "\t&lt;rect x=&quot;1826.54&quot; y=&quot;1641.58&quot; width=&quot;209.16&quot; height=&quot;524.37&quot; style=&quot;fill:none;stroke:#0000FF;stroke-opacity:0.30;stroke-width:8.64&quot;/&gt;\n",
       "\t&lt;rect x=&quot;2040.02&quot; y=&quot;1637.26&quot; width=&quot;217.92&quot; height=&quot;533.01&quot; style=&quot;fill:#0000FF;fill-opacity:0.30&quot;/&gt;\n",
       "\t&lt;rect x=&quot;2044.34&quot; y=&quot;1641.58&quot; width=&quot;209.28&quot; height=&quot;524.37&quot; style=&quot;fill:none;stroke:#0000FF;stroke-opacity:0.30;stroke-width:8.64&quot;/&gt;\n",
       "\t&lt;rect x=&quot;2257.94&quot; y=&quot;1281.84&quot; width=&quot;217.80&quot; height=&quot;888.43&quot; style=&quot;fill:#0000FF;fill-opacity:0.30&quot;/&gt;\n",
       "\t&lt;rect x=&quot;2262.26&quot; y=&quot;1286.16&quot; width=&quot;209.16&quot; height=&quot;879.79&quot; style=&quot;fill:none;stroke:#0000FF;stroke-opacity:0.30;stroke-width:8.64&quot;/&gt;\n",
       "\t&lt;rect x=&quot;2475.74&quot; y=&quot;1237.41&quot; width=&quot;217.80&quot; height=&quot;932.86&quot; style=&quot;fill:#0000FF;fill-opacity:0.30&quot;/&gt;\n",
       "\t&lt;rect x=&quot;2480.06&quot; y=&quot;1241.73&quot; width=&quot;209.16&quot; height=&quot;924.22&quot; style=&quot;fill:none;stroke:#0000FF;stroke-opacity:0.30;stroke-width:8.64&quot;/&gt;\n",
       "\t&lt;rect x=&quot;2693.54&quot; y=&quot;1326.27&quot; width=&quot;217.92&quot; height=&quot;844.00&quot; style=&quot;fill:#0000FF;fill-opacity:0.30&quot;/&gt;\n",
       "\t&lt;rect x=&quot;2697.86&quot; y=&quot;1330.59&quot; width=&quot;209.28&quot; height=&quot;835.36&quot; style=&quot;fill:none;stroke:#0000FF;stroke-opacity:0.30;stroke-width:8.64&quot;/&gt;\n",
       "\t&lt;rect x=&quot;2911.47&quot; y=&quot;926.55&quot; width=&quot;217.80&quot; height=&quot;1243.73&quot; style=&quot;fill:#0000FF;fill-opacity:0.30&quot;/&gt;\n",
       "\t&lt;rect x=&quot;2915.79&quot; y=&quot;930.87&quot; width=&quot;209.16&quot; height=&quot;1235.09&quot; style=&quot;fill:none;stroke:#0000FF;stroke-opacity:0.30;stroke-width:8.64&quot;/&gt;\n",
       "\t&lt;rect x=&quot;3129.27&quot; y=&quot;970.97&quot; width=&quot;217.80&quot; height=&quot;1199.30&quot; style=&quot;fill:#0000FF;fill-opacity:0.30&quot;/&gt;\n",
       "\t&lt;rect x=&quot;3133.59&quot; y=&quot;975.29&quot; width=&quot;209.16&quot; height=&quot;1190.66&quot; style=&quot;fill:none;stroke:#0000FF;stroke-opacity:0.30;stroke-width:8.64&quot;/&gt;\n",
       "\t&lt;rect x=&quot;3347.07&quot; y=&quot;793.26&quot; width=&quot;217.80&quot; height=&quot;1377.01&quot; style=&quot;fill:#0000FF;fill-opacity:0.30&quot;/&gt;\n",
       "\t&lt;rect x=&quot;3351.39&quot; y=&quot;797.58&quot; width=&quot;209.16&quot; height=&quot;1368.37&quot; style=&quot;fill:none;stroke:#0000FF;stroke-opacity:0.30;stroke-width:8.64&quot;/&gt;\n",
       "\t&lt;rect x=&quot;3564.87&quot; y=&quot;348.99&quot; width=&quot;217.92&quot; height=&quot;1821.29&quot; style=&quot;fill:#0000FF;fill-opacity:0.30&quot;/&gt;\n",
       "\t&lt;rect x=&quot;3569.19&quot; y=&quot;353.31&quot; width=&quot;209.28&quot; height=&quot;1812.65&quot; style=&quot;fill:none;stroke:#0000FF;stroke-opacity:0.30;stroke-width:8.64&quot;/&gt;\n",
       "\t&lt;rect x=&quot;454.53&quot; y=&quot;460.49&quot; width=&quot;208.64&quot; height=&quot;1709.78&quot; style=&quot;fill:#FF0000;fill-opacity:0.30&quot;/&gt;\n",
       "\t&lt;rect x=&quot;458.85&quot; y=&quot;464.81&quot; width=&quot;200.00&quot; height=&quot;1701.14&quot; style=&quot;fill:none;stroke:#FF0000;stroke-opacity:0.30;stroke-width:8.64&quot;/&gt;\n",
       "\t&lt;rect x=&quot;663.18&quot; y=&quot;1030.37&quot; width=&quot;208.77&quot; height=&quot;1139.90&quot; style=&quot;fill:#FF0000;fill-opacity:0.30&quot;/&gt;\n",
       "\t&lt;rect x=&quot;667.50&quot; y=&quot;1034.69&quot; width=&quot;200.13&quot; height=&quot;1131.26&quot; style=&quot;fill:none;stroke:#FF0000;stroke-opacity:0.30;stroke-width:8.64&quot;/&gt;\n",
       "\t&lt;rect x=&quot;871.94&quot; y=&quot;1220.34&quot; width=&quot;208.64&quot; height=&quot;949.93&quot; style=&quot;fill:#FF0000;fill-opacity:0.30&quot;/&gt;\n",
       "\t&lt;rect x=&quot;876.26&quot; y=&quot;1224.66&quot; width=&quot;200.00&quot; height=&quot;941.29&quot; style=&quot;fill:none;stroke:#FF0000;stroke-opacity:0.30;stroke-width:8.64&quot;/&gt;\n",
       "\t&lt;rect x=&quot;1080.59&quot; y=&quot;1077.90&quot; width=&quot;208.64&quot; height=&quot;1092.38&quot; style=&quot;fill:#FF0000;fill-opacity:0.30&quot;/&gt;\n",
       "\t&lt;rect x=&quot;1084.90&quot; y=&quot;1082.22&quot; width=&quot;200.00&quot; height=&quot;1083.74&quot; style=&quot;fill:none;stroke:#FF0000;stroke-opacity:0.30;stroke-width:8.64&quot;/&gt;\n",
       "\t&lt;rect x=&quot;1289.23&quot; y=&quot;840.41&quot; width=&quot;208.77&quot; height=&quot;1329.86&quot; style=&quot;fill:#FF0000;fill-opacity:0.30&quot;/&gt;\n",
       "\t&lt;rect x=&quot;1293.55&quot; y=&quot;844.73&quot; width=&quot;200.13&quot; height=&quot;1321.22&quot; style=&quot;fill:none;stroke:#FF0000;stroke-opacity:0.30;stroke-width:8.64&quot;/&gt;\n",
       "\t&lt;rect x=&quot;1497.99&quot; y=&quot;1077.90&quot; width=&quot;208.64&quot; height=&quot;1092.38&quot; style=&quot;fill:#FF0000;fill-opacity:0.30&quot;/&gt;\n",
       "\t&lt;rect x=&quot;1502.31&quot; y=&quot;1082.22&quot; width=&quot;200.00&quot; height=&quot;1083.74&quot; style=&quot;fill:none;stroke:#FF0000;stroke-opacity:0.30;stroke-width:8.64&quot;/&gt;\n",
       "\t&lt;rect x=&quot;1706.64&quot; y=&quot;1172.94&quot; width=&quot;208.64&quot; height=&quot;997.33&quot; style=&quot;fill:#FF0000;fill-opacity:0.30&quot;/&gt;\n",
       "\t&lt;rect x=&quot;1710.96&quot; y=&quot;1177.26&quot; width=&quot;200.00&quot; height=&quot;988.69&quot; style=&quot;fill:none;stroke:#FF0000;stroke-opacity:0.30;stroke-width:8.64&quot;/&gt;\n",
       "\t&lt;rect x=&quot;1915.28&quot; y=&quot;1552.86&quot; width=&quot;208.64&quot; height=&quot;617.41&quot; style=&quot;fill:#FF0000;fill-opacity:0.30&quot;/&gt;\n",
       "\t&lt;rect x=&quot;1919.60&quot; y=&quot;1557.18&quot; width=&quot;200.00&quot; height=&quot;608.77&quot; style=&quot;fill:none;stroke:#FF0000;stroke-opacity:0.30;stroke-width:8.64&quot;/&gt;\n",
       "\t&lt;rect x=&quot;2123.92&quot; y=&quot;1552.86&quot; width=&quot;208.77&quot; height=&quot;617.41&quot; style=&quot;fill:#FF0000;fill-opacity:0.30&quot;/&gt;\n",
       "\t&lt;rect x=&quot;2128.24&quot; y=&quot;1557.18&quot; width=&quot;200.13&quot; height=&quot;608.77&quot; style=&quot;fill:none;stroke:#FF0000;stroke-opacity:0.30;stroke-width:8.64&quot;/&gt;\n",
       "\t&lt;rect x=&quot;2332.69&quot; y=&quot;1600.39&quot; width=&quot;208.64&quot; height=&quot;569.89&quot; style=&quot;fill:#FF0000;fill-opacity:0.30&quot;/&gt;\n",
       "\t&lt;rect x=&quot;2337.01&quot; y=&quot;1604.70&quot; width=&quot;200.00&quot; height=&quot;561.25&quot; style=&quot;fill:none;stroke:#FF0000;stroke-opacity:0.30;stroke-width:8.64&quot;/&gt;\n",
       "\t&lt;rect x=&quot;2541.33&quot; y=&quot;1600.39&quot; width=&quot;208.64&quot; height=&quot;569.89&quot; style=&quot;fill:#FF0000;fill-opacity:0.30&quot;/&gt;\n",
       "\t&lt;rect x=&quot;2545.65&quot; y=&quot;1604.70&quot; width=&quot;200.00&quot; height=&quot;561.25&quot; style=&quot;fill:none;stroke:#FF0000;stroke-opacity:0.30;stroke-width:8.64&quot;/&gt;\n",
       "\t&lt;rect x=&quot;2749.97&quot; y=&quot;1647.91&quot; width=&quot;208.77&quot; height=&quot;522.37&quot; style=&quot;fill:#FF0000;fill-opacity:0.30&quot;/&gt;\n",
       "\t&lt;rect x=&quot;2754.29&quot; y=&quot;1652.23&quot; width=&quot;200.13&quot; height=&quot;513.73&quot; style=&quot;fill:none;stroke:#FF0000;stroke-opacity:0.30;stroke-width:8.64&quot;/&gt;\n",
       "\t&lt;rect x=&quot;2958.74&quot; y=&quot;2027.83&quot; width=&quot;208.64&quot; height=&quot;142.44&quot; style=&quot;fill:#FF0000;fill-opacity:0.30&quot;/&gt;\n",
       "\t&lt;rect x=&quot;2963.06&quot; y=&quot;2032.15&quot; width=&quot;200.00&quot; height=&quot;133.80&quot; style=&quot;fill:none;stroke:#FF0000;stroke-opacity:0.30;stroke-width:8.64&quot;/&gt;\n",
       "\t&lt;rect x=&quot;3167.38&quot; y=&quot;2075.35&quot; width=&quot;208.64&quot; height=&quot;94.92&quot; style=&quot;fill:#FF0000;fill-opacity:0.30&quot;/&gt;\n",
       "\t&lt;rect x=&quot;3171.70&quot; y=&quot;2079.67&quot; width=&quot;200.00&quot; height=&quot;86.28&quot; style=&quot;fill:none;stroke:#FF0000;stroke-opacity:0.30;stroke-width:8.64&quot;/&gt;\n",
       "\t&lt;rect x=&quot;3376.02&quot; y=&quot;1885.39&quot; width=&quot;208.77&quot; height=&quot;284.88&quot; style=&quot;fill:#FF0000;fill-opacity:0.30&quot;/&gt;\n",
       "\t&lt;rect x=&quot;3380.34&quot; y=&quot;1889.71&quot; width=&quot;200.13&quot; height=&quot;276.24&quot; style=&quot;fill:none;stroke:#FF0000;stroke-opacity:0.30;stroke-width:8.64&quot;/&gt;\n",
       "\t&lt;line x1=&quot;390.80&quot; y1=&quot;2233.63&quot; x2=&quot;390.80&quot; y2=&quot;275.35&quot; style=&quot;stroke:#000000;stroke-width:5.76&quot;/&gt;\n",
       "\t&lt;line x1=&quot;390.80&quot; y1=&quot;2170.27&quot; x2=&quot;350.83&quot; y2=&quot;2170.27&quot; style=&quot;stroke:#000000;stroke-width:5.76&quot;/&gt;\n",
       "\t&lt;text x=&quot;300.72&quot; y=&quot;2170.27&quot; style=&quot;font-family:&#x27;Helvetica&#x27;;font-size:99.99px;fill:#000000&quot; transform=&quot;rotate(-90 300.72,2170.27)&quot; text-anchor=&quot;middle&quot;&gt;0&lt;/text&gt;\n",
       "\t&lt;line x1=&quot;390.80&quot; y1=&quot;1803.96&quot; x2=&quot;350.83&quot; y2=&quot;1803.96&quot; style=&quot;stroke:#000000;stroke-width:5.76&quot;/&gt;\n",
       "\t&lt;text x=&quot;300.72&quot; y=&quot;1803.96&quot; style=&quot;font-family:&#x27;Helvetica&#x27;;font-size:99.99px;fill:#000000&quot; transform=&quot;rotate(-90 300.72,1803.96)&quot; text-anchor=&quot;middle&quot;&gt;.5&lt;/text&gt;\n",
       "\t&lt;line x1=&quot;390.80&quot; y1=&quot;1437.65&quot; x2=&quot;350.83&quot; y2=&quot;1437.65&quot; style=&quot;stroke:#000000;stroke-width:5.76&quot;/&gt;\n",
       "\t&lt;text x=&quot;300.72&quot; y=&quot;1437.65&quot; style=&quot;font-family:&#x27;Helvetica&#x27;;font-size:99.99px;fill:#000000&quot; transform=&quot;rotate(-90 300.72,1437.65)&quot; text-anchor=&quot;middle&quot;&gt;1&lt;/text&gt;\n",
       "\t&lt;line x1=&quot;390.80&quot; y1=&quot;1071.34&quot; x2=&quot;350.83&quot; y2=&quot;1071.34&quot; style=&quot;stroke:#000000;stroke-width:5.76&quot;/&gt;\n",
       "\t&lt;text x=&quot;300.72&quot; y=&quot;1071.34&quot; style=&quot;font-family:&#x27;Helvetica&#x27;;font-size:99.99px;fill:#000000&quot; transform=&quot;rotate(-90 300.72,1071.34)&quot; text-anchor=&quot;middle&quot;&gt;1.5&lt;/text&gt;\n",
       "\t&lt;line x1=&quot;390.80&quot; y1=&quot;705.03&quot; x2=&quot;350.83&quot; y2=&quot;705.03&quot; style=&quot;stroke:#000000;stroke-width:5.76&quot;/&gt;\n",
       "\t&lt;text x=&quot;300.72&quot; y=&quot;705.03&quot; style=&quot;font-family:&#x27;Helvetica&#x27;;font-size:99.99px;fill:#000000&quot; transform=&quot;rotate(-90 300.72,705.03)&quot; text-anchor=&quot;middle&quot;&gt;2&lt;/text&gt;\n",
       "\t&lt;line x1=&quot;390.80&quot; y1=&quot;338.71&quot; x2=&quot;350.83&quot; y2=&quot;338.71&quot; style=&quot;stroke:#000000;stroke-width:5.76&quot;/&gt;\n",
       "\t&lt;text x=&quot;300.72&quot; y=&quot;338.71&quot; style=&quot;font-family:&#x27;Helvetica&#x27;;font-size:99.99px;fill:#000000&quot; transform=&quot;rotate(-90 300.72,338.71)&quot; text-anchor=&quot;middle&quot;&gt;2.5&lt;/text&gt;\n",
       "\t&lt;text x=&quot;190.71&quot; y=&quot;1254.49&quot; style=&quot;font-family:&#x27;Helvetica&#x27;;font-size:99.99px;fill:#000000&quot; transform=&quot;rotate(-90 190.71,1254.49)&quot; text-anchor=&quot;middle&quot;&gt;Density&lt;/text&gt;\n",
       "\t&lt;line x1=&quot;390.80&quot; y1=&quot;2233.63&quot; x2=&quot;3859.02&quot; y2=&quot;2233.63&quot; style=&quot;stroke:#000000;stroke-width:5.76&quot;/&gt;\n",
       "\t&lt;line x1=&quot;454.16&quot; y1=&quot;2233.63&quot; x2=&quot;454.16&quot; y2=&quot;2273.73&quot; style=&quot;stroke:#000000;stroke-width:5.76&quot;/&gt;\n",
       "\t&lt;text x=&quot;454.16&quot; y=&quot;2363.59&quot; style=&quot;font-family:&#x27;Helvetica&#x27;;font-size:99.99px;fill:#000000&quot; text-anchor=&quot;middle&quot;&gt;0&lt;/text&gt;\n",
       "\t&lt;line x1=&quot;1122.41&quot; y1=&quot;2233.63&quot; x2=&quot;1122.41&quot; y2=&quot;2273.73&quot; style=&quot;stroke:#000000;stroke-width:5.76&quot;/&gt;\n",
       "\t&lt;text x=&quot;1122.41&quot; y=&quot;2363.59&quot; style=&quot;font-family:&#x27;Helvetica&#x27;;font-size:99.99px;fill:#000000&quot; text-anchor=&quot;middle&quot;&gt;.2&lt;/text&gt;\n",
       "\t&lt;line x1=&quot;1790.79&quot; y1=&quot;2233.63&quot; x2=&quot;1790.79&quot; y2=&quot;2273.73&quot; style=&quot;stroke:#000000;stroke-width:5.76&quot;/&gt;\n",
       "\t&lt;text x=&quot;1790.79&quot; y=&quot;2363.59&quot; style=&quot;font-family:&#x27;Helvetica&#x27;;font-size:99.99px;fill:#000000&quot; text-anchor=&quot;middle&quot;&gt;.4&lt;/text&gt;\n",
       "\t&lt;line x1=&quot;2459.04&quot; y1=&quot;2233.63&quot; x2=&quot;2459.04&quot; y2=&quot;2273.73&quot; style=&quot;stroke:#000000;stroke-width:5.76&quot;/&gt;\n",
       "\t&lt;text x=&quot;2459.04&quot; y=&quot;2363.59&quot; style=&quot;font-family:&#x27;Helvetica&#x27;;font-size:99.99px;fill:#000000&quot; text-anchor=&quot;middle&quot;&gt;.6&lt;/text&gt;\n",
       "\t&lt;line x1=&quot;3127.41&quot; y1=&quot;2233.63&quot; x2=&quot;3127.41&quot; y2=&quot;2273.73&quot; style=&quot;stroke:#000000;stroke-width:5.76&quot;/&gt;\n",
       "\t&lt;text x=&quot;3127.41&quot; y=&quot;2363.59&quot; style=&quot;font-family:&#x27;Helvetica&#x27;;font-size:99.99px;fill:#000000&quot; text-anchor=&quot;middle&quot;&gt;.8&lt;/text&gt;\n",
       "\t&lt;line x1=&quot;3795.66&quot; y1=&quot;2233.63&quot; x2=&quot;3795.66&quot; y2=&quot;2273.73&quot; style=&quot;stroke:#000000;stroke-width:5.76&quot;/&gt;\n",
       "\t&lt;text x=&quot;3795.66&quot; y=&quot;2363.59&quot; style=&quot;font-family:&#x27;Helvetica&#x27;;font-size:99.99px;fill:#000000&quot; text-anchor=&quot;middle&quot;&gt;1&lt;/text&gt;\n",
       "\t&lt;text x=&quot;2124.91&quot; y=&quot;2473.60&quot; style=&quot;font-family:&#x27;Helvetica&#x27;;font-size:99.99px;fill:#000000&quot; text-anchor=&quot;middle&quot;&gt;Pr(D)&lt;/text&gt;\n",
       "\t&lt;rect x=&quot;1259.40&quot; y=&quot;2558.24&quot; width=&quot;1731.01&quot; height=&quot;186.37&quot; style=&quot;fill:#FFFFFF&quot;/&gt;\n",
       "\t&lt;rect x=&quot;1262.28&quot; y=&quot;2561.12&quot; width=&quot;1725.26&quot; height=&quot;180.61&quot; style=&quot;fill:none;stroke:#000000;stroke-width:5.76&quot;/&gt;\n",
       "\t&lt;rect x=&quot;1302.59&quot; y=&quot;2601.43&quot; width=&quot;374.47&quot; height=&quot;99.99&quot; style=&quot;fill:#0000FF;fill-opacity:0.30&quot;/&gt;\n",
       "\t&lt;rect x=&quot;1306.91&quot; y=&quot;2605.75&quot; width=&quot;365.83&quot; height=&quot;91.35&quot; style=&quot;fill:none;stroke:#0000FF;stroke-opacity:0.30;stroke-width:8.64&quot;/&gt;\n",
       "\t&lt;rect x=&quot;2203.62&quot; y=&quot;2601.43&quot; width=&quot;374.47&quot; height=&quot;99.99&quot; style=&quot;fill:#FF0000;fill-opacity:0.30&quot;/&gt;\n",
       "\t&lt;rect x=&quot;2207.94&quot; y=&quot;2605.75&quot; width=&quot;365.83&quot; height=&quot;91.35&quot; style=&quot;fill:none;stroke:#FF0000;stroke-opacity:0.30;stroke-width:8.64&quot;/&gt;\n",
       "\t&lt;text x=&quot;1737.08&quot; y=&quot;2686.46&quot; style=&quot;font-family:&#x27;Helvetica&#x27;;font-size:99.99px;fill:#000000&quot;&gt;treated&lt;/text&gt;\n",
       "\t&lt;text x=&quot;2638.10&quot; y=&quot;2686.46&quot; style=&quot;font-family:&#x27;Helvetica&#x27;;font-size:99.99px;fill:#000000&quot;&gt;control&lt;/text&gt;\n",
       "\t&lt;text x=&quot;2124.91&quot; y=&quot;215.98&quot; style=&quot;font-family:&#x27;Helvetica&#x27;;font-size:139.96px;fill:#1E2D53&quot; text-anchor=&quot;middle&quot;&gt;Linear Probit&lt;/text&gt;\n",
       "&lt;/svg&gt;\n",
       "</body></html>\"></iframe>\n"
      ],
      "text/plain": [
       "This front-end cannot display the desired image type."
      ]
     },
     "metadata": {
      "image/svg+xml": {
       "height": 436,
       "width": 600
      },
      "text/html": {
       "height": 436,
       "width": 600
      }
     },
     "output_type": "display_data"
    }
   ],
   "source": [
    "//check overlapping assumption \n",
    "twoway hist pr1 if t==1&D==1,color(blue%30) || hist pr1 if t==1&D==0, color(red%30) legend(order(1 \"treated\" 2 \"control\")) title(\"Linear Probit\")"
   ]
  },
  {
   "cell_type": "markdown",
   "id": "5e944327-d510-4b72-a3fa-cd68e6aa4050",
   "metadata": {
    "slideshow": {
     "slide_type": "subslide"
    },
    "tags": []
   },
   "source": [
    "### Propensity Score Matching without DID\n",
    "We use level outcome $y_{it}$ by implementing following commands:\n",
    " * `psmatch2`\n",
    " * `teffects`"
   ]
  },
  {
   "cell_type": "code",
   "execution_count": 8,
   "id": "bf24b393-6412-4330-9ed3-cc4c9fd1f487",
   "metadata": {
    "slideshow": {
     "slide_type": "subslide"
    },
    "tags": []
   },
   "outputs": [
    {
     "name": "stdout",
     "output_type": "stream",
     "text": [
      "\n",
      "--------------------------------------------------------------------------------\n",
      "> --------\n",
      "        Variable     Sample |    Treated     Controls   Difference         S.E. \n",
      ">   T-stat\n",
      "----------------------------+---------------------------------------------------\n",
      "> --------\n",
      "               y  Unmatched | .466664109   .175372276   .291291833   .052477601 \n",
      ">     5.55\n",
      "                        ATT | .466664109   .264482394   .202181715   .105557501 \n",
      ">     1.92\n",
      "----------------------------+---------------------------------------------------\n",
      "> --------\n",
      "Note: S.E. does not take into account that the propensity score is estimated.\n",
      "\n",
      "           | psmatch2:\n",
      " psmatch2: |   Common\n",
      " Treatment |  support\n",
      "assignment | On suppor |     Total\n",
      "-----------+-----------+----------\n",
      " Untreated |       247 |       247 \n",
      "   Treated |       253 |       253 \n",
      "-----------+-----------+----------\n",
      "     Total |       500 |       500 \n"
     ]
    }
   ],
   "source": [
    "* We use the nearest-neighbor matching with replacement \n",
    "psmatch2 D x if t==1, n(2) out(y) quietly"
   ]
  },
  {
   "cell_type": "code",
   "execution_count": 9,
   "id": "49e64405-9ad2-4eec-b527-7c2fcce8d1f6",
   "metadata": {
    "slideshow": {
     "slide_type": "subslide"
    },
    "tags": []
   },
   "outputs": [
    {
     "name": "stdout",
     "output_type": "stream",
     "text": [
      "\n",
      "Treatment-effects estimation                   Number of obs      =        500\n",
      "Estimator      : propensity-score matching     Matches: requested =          2\n",
      "Outcome model  : matching                                     min =          2\n",
      "Treatment model: probit                                       max =          2\n",
      "------------------------------------------------------------------------------\n",
      "             |              AI Robust\n",
      "           y |      Coef.   Std. Err.      z    P>|z|     [95% Conf. Interval]\n",
      "-------------+----------------------------------------------------------------\n",
      "ATET         |\n",
      "           D |\n",
      "   (1 vs 0)  |   .2021817    .089678     2.25   0.024      .026416    .3779474\n",
      "------------------------------------------------------------------------------\n"
     ]
    }
   ],
   "source": [
    "* We use the nearest-neighbor matching with replacement \n",
    "** (1) PSM without DID \n",
    "teffects psmatch (y) (D x, probit) if t==1,atet nn(2) vce(robust)"
   ]
  },
  {
   "cell_type": "markdown",
   "id": "4fea137a-2395-48ea-b6d8-b5c68616b193",
   "metadata": {
    "slideshow": {
     "slide_type": "subslide"
    },
    "tags": []
   },
   "source": [
    "### Propensity Score Matching-DID\n",
    "We use differenced outcomes to construct DID estimator."
   ]
  },
  {
   "cell_type": "code",
   "execution_count": 10,
   "id": "cd92192a-58f6-413b-ac4f-b0805e9dc007",
   "metadata": {
    "slideshow": {
     "slide_type": "fragment"
    },
    "tags": []
   },
   "outputs": [
    {
     "name": "stdout",
     "output_type": "stream",
     "text": [
      "(500 missing values generated)\n"
     ]
    }
   ],
   "source": [
    "g dy = y - l.y"
   ]
  },
  {
   "cell_type": "code",
   "execution_count": 11,
   "id": "4e271fa9-dfd5-48c0-a056-293ed81d0379",
   "metadata": {
    "slideshow": {
     "slide_type": "fragment"
    },
    "tags": []
   },
   "outputs": [
    {
     "name": "stdout",
     "output_type": "stream",
     "text": [
      "\n",
      "Treatment-effects estimation                   Number of obs      =        500\n",
      "Estimator      : propensity-score matching     Matches: requested =          2\n",
      "Outcome model  : matching                                     min =          2\n",
      "Treatment model: probit                                       max =          2\n",
      "------------------------------------------------------------------------------\n",
      "             |              AI Robust\n",
      "          dy |      Coef.   Std. Err.      z    P>|z|     [95% Conf. Interval]\n",
      "-------------+----------------------------------------------------------------\n",
      "ATET         |\n",
      "           D |\n",
      "   (1 vs 0)  |   .1466702    .077604     1.89   0.059    -.0054309    .2987713\n",
      "------------------------------------------------------------------------------\n"
     ]
    }
   ],
   "source": [
    "** (2) PSM with DID \n",
    "teffects psmatch (dy) (D x, probit) if t==1,atet nn(2) vce(robust)"
   ]
  },
  {
   "cell_type": "code",
   "execution_count": 12,
   "id": "70ba4ee8-c02b-4a13-953f-910a742833c4",
   "metadata": {},
   "outputs": [
    {
     "name": "stdout",
     "output_type": "stream",
     "text": [
      "\n",
      "Treatment-effects estimation                   Number of obs      =        500\n",
      "Estimator      : propensity-score matching     Matches: requested =          1\n",
      "Outcome model  : matching                                     min =          1\n",
      "Treatment model: probit                                       max =          1\n",
      "------------------------------------------------------------------------------\n",
      "             |              AI Robust\n",
      "          dy |      Coef.   Std. Err.      z    P>|z|     [95% Conf. Interval]\n",
      "-------------+----------------------------------------------------------------\n",
      "ATET         |\n",
      "           D |\n",
      "   (1 vs 0)  |     .10565   .0898498     1.18   0.240    -.0704523    .2817523\n",
      "------------------------------------------------------------------------------\n"
     ]
    }
   ],
   "source": [
    "teffects psmatch (dy) (D x, probit) if t==1,atet nn(1) vce(robust)"
   ]
  },
  {
   "cell_type": "code",
   "execution_count": 14,
   "id": "8199ec50-7d0e-4934-b9f3-f0e8804690c4",
   "metadata": {},
   "outputs": [
    {
     "name": "stdout",
     "output_type": "stream",
     "text": [
      "\n",
      "Treatment-effects estimation                   Number of obs      =        500\n",
      "Estimator      : propensity-score matching     Matches: requested =          3\n",
      "Outcome model  : matching                                     min =          3\n",
      "Treatment model: probit                                       max =          3\n",
      "------------------------------------------------------------------------------\n",
      "             |              AI Robust\n",
      "          dy |      Coef.   Std. Err.      z    P>|z|     [95% Conf. Interval]\n",
      "-------------+----------------------------------------------------------------\n",
      "ATET         |\n",
      "           D |\n",
      "   (1 vs 0)  |   .1332946   .0696606     1.91   0.056    -.0032376    .2698268\n",
      "------------------------------------------------------------------------------\n"
     ]
    }
   ],
   "source": [
    "teffects psmatch (dy) (D x, probit) if t==1,atet nn(3) vce(robust)"
   ]
  },
  {
   "cell_type": "code",
   "execution_count": 31,
   "id": "e6b5c074-69c3-40af-9ec6-9712ae65ae59",
   "metadata": {
    "slideshow": {
     "slide_type": "skip"
    },
    "tags": []
   },
   "outputs": [
    {
     "name": "stdout",
     "output_type": "stream",
     "text": [
      "\n",
      "--------------------------------------------------------------------------------\n",
      "> --------\n",
      "        Variable     Sample |    Treated     Controls   Difference         S.E. \n",
      ">   T-stat\n",
      "----------------------------+---------------------------------------------------\n",
      "> --------\n",
      "              dy  Unmatched | .287821381   -.00235054   .290171921   .045835582 \n",
      ">     6.33\n",
      "                        ATT | .287821381   .141151141   .146670239   .094146201 \n",
      ">     1.56\n",
      "----------------------------+---------------------------------------------------\n",
      "> --------\n",
      "Note: S.E. does not take into account that the propensity score is estimated.\n",
      "\n",
      "           | psmatch2:\n",
      " psmatch2: |   Common\n",
      " Treatment |  support\n",
      "assignment | On suppor |     Total\n",
      "-----------+-----------+----------\n",
      " Untreated |       247 |       247 \n",
      "   Treated |       253 |       253 \n",
      "-----------+-----------+----------\n",
      "     Total |       500 |       500 \n"
     ]
    }
   ],
   "source": [
    "psmatch2 D x if t==1, n(2) out(dy) quietly"
   ]
  },
  {
   "cell_type": "markdown",
   "id": "a6f03840-7143-4364-98ce-81a47269e577",
   "metadata": {
    "slideshow": {
     "slide_type": "subslide"
    },
    "tags": []
   },
   "source": [
    "#### Choosing # of Matching Neighbors\n",
    "\n",
    "There is a bias-variance trade-off:\n",
    "> As we increase the number of matching neighbors, the bias increases and the variance decreases\n",
    "\n",
    "It is important to find appropriate number of neighbors in performing matching estimators."
   ]
  },
  {
   "cell_type": "code",
   "execution_count": null,
   "id": "a87e4052-09f2-49bf-bfdb-eaa4a133987b",
   "metadata": {
    "slideshow": {
     "slide_type": "skip"
    },
    "tags": []
   },
   "outputs": [],
   "source": [
    "matrix Res = J(10,3,.) //result matrix\n",
    "forv i=1/10 {\n",
    "    qui teffects psmatch (dy) (D x, probit) if t==1,atet nn(`i') vce(robust)\n",
    "    scalar att = e(b)[1,1]\n",
    "    scalar att_se = e(V)[1,1]\n",
    "    matrix Res[`i',1] = (att, att_se, `i')\n",
    "}\n",
    "drop _all \n",
    "set obs 10\n",
    "svmat double Res, names(c)\n",
    "save Res.dta,replace \n",
    "clear matrix "
   ]
  },
  {
   "cell_type": "code",
   "execution_count": 76,
   "id": "e0e31501-5327-4e04-ab4a-c487793abd8d",
   "metadata": {
    "slideshow": {
     "slide_type": "subslide"
    },
    "tags": []
   },
   "outputs": [
    {
     "data": {
      "application/pdf": "[encoded data removed]",
      "image/svg+xml": [
       "<?xml version=\"1.0\" encoding=\"UTF-8\" standalone=\"no\"?>\n",
       "<!-- This is a Stata 16.0 generated SVG file (http://www.stata.com) -->\n",
       "\n",
       "<svg version=\"1.1\" width=\"600px\" height=\"436px\" viewBox=\"0 0 3960 2880\" xmlns=\"http://www.w3.org/2000/svg\" xmlns:xlink=\"http://www.w3.org/1999/xlink\">\n",
       "\t<desc>Stata Graph - Graph</desc>\n",
       "\t<rect x=\"0\" y=\"0\" width=\"3960\" height=\"2880\" style=\"fill:#EAF2F3;stroke:none\"/>\n",
       "\t<rect x=\"0.00\" y=\"0.00\" width=\"3959.88\" height=\"2880.00\" style=\"fill:#EAF2F3\"/>\n",
       "\t<rect x=\"2.88\" y=\"2.88\" width=\"3954.12\" height=\"2874.24\" style=\"fill:none;stroke:#EAF2F3;stroke-width:5.76\"/>\n",
       "\t<rect x=\"290.81\" y=\"100.86\" width=\"3568.21\" height=\"2132.77\" style=\"fill:#FFFFFF\"/>\n",
       "\t<rect x=\"293.69\" y=\"103.74\" width=\"3562.45\" height=\"2127.01\" style=\"fill:none;stroke:#FFFFFF;stroke-width:5.76\"/>\n",
       "\t<line x1=\"290.81\" y1=\"2170.27\" x2=\"3859.02\" y2=\"2170.27\" style=\"stroke:#EAF2F3;stroke-width:8.64\"/>\n",
       "\t<line x1=\"290.81\" y1=\"1668.82\" x2=\"3859.02\" y2=\"1668.82\" style=\"stroke:#EAF2F3;stroke-width:8.64\"/>\n",
       "\t<line x1=\"290.81\" y1=\"1167.25\" x2=\"3859.02\" y2=\"1167.25\" style=\"stroke:#EAF2F3;stroke-width:8.64\"/>\n",
       "\t<line x1=\"290.81\" y1=\"665.67\" x2=\"3859.02\" y2=\"665.67\" style=\"stroke:#EAF2F3;stroke-width:8.64\"/>\n",
       "\t<line x1=\"290.81\" y1=\"164.22\" x2=\"3859.02\" y2=\"164.22\" style=\"stroke:#EAF2F3;stroke-width:8.64\"/>\n",
       "\t<path d=\" M698.20 1110.69 L1042.35 699.21 L1386.49 833.36 L1730.77 828.66 L2074.92 872.22 L2419.07 898.45 L2763.21 904.39 L3107.36 628.05 L3451.51 332.16 L3795.66 287.60\" stroke-linejoin=\"round\" style=\"fill:none;stroke:#1A476F;stroke-width:8.64\"/>\n",
       "\t<circle cx=\"698.20\" cy=\"1110.69\" r=\"26.35\" style=\"fill:#1A476F\"/>\n",
       "\t<circle cx=\"698.20\" cy=\"1110.69\" r=\"22.03\" style=\"fill:none;stroke:#1A476F;stroke-width:8.64\"/>\n",
       "\t<circle cx=\"1042.35\" cy=\"699.21\" r=\"26.35\" style=\"fill:#1A476F\"/>\n",
       "\t<circle cx=\"1042.35\" cy=\"699.21\" r=\"22.03\" style=\"fill:none;stroke:#1A476F;stroke-width:8.64\"/>\n",
       "\t<circle cx=\"1386.49\" cy=\"833.36\" r=\"26.35\" style=\"fill:#1A476F\"/>\n",
       "\t<circle cx=\"1386.49\" cy=\"833.36\" r=\"22.03\" style=\"fill:none;stroke:#1A476F;stroke-width:8.64\"/>\n",
       "\t<circle cx=\"1730.77\" cy=\"828.66\" r=\"26.35\" style=\"fill:#1A476F\"/>\n",
       "\t<circle cx=\"1730.77\" cy=\"828.66\" r=\"22.03\" style=\"fill:none;stroke:#1A476F;stroke-width:8.64\"/>\n",
       "\t<circle cx=\"2074.92\" cy=\"872.22\" r=\"26.35\" style=\"fill:#1A476F\"/>\n",
       "\t<circle cx=\"2074.92\" cy=\"872.22\" r=\"22.03\" style=\"fill:none;stroke:#1A476F;stroke-width:8.64\"/>\n",
       "\t<circle cx=\"2419.07\" cy=\"898.45\" r=\"26.35\" style=\"fill:#1A476F\"/>\n",
       "\t<circle cx=\"2419.07\" cy=\"898.45\" r=\"22.03\" style=\"fill:none;stroke:#1A476F;stroke-width:8.64\"/>\n",
       "\t<circle cx=\"2763.21\" cy=\"904.39\" r=\"26.35\" style=\"fill:#1A476F\"/>\n",
       "\t<circle cx=\"2763.21\" cy=\"904.39\" r=\"22.03\" style=\"fill:none;stroke:#1A476F;stroke-width:8.64\"/>\n",
       "\t<circle cx=\"3107.36\" cy=\"628.05\" r=\"26.35\" style=\"fill:#1A476F\"/>\n",
       "\t<circle cx=\"3107.36\" cy=\"628.05\" r=\"22.03\" style=\"fill:none;stroke:#1A476F;stroke-width:8.64\"/>\n",
       "\t<circle cx=\"3451.51\" cy=\"332.16\" r=\"26.35\" style=\"fill:#1A476F\"/>\n",
       "\t<circle cx=\"3451.51\" cy=\"332.16\" r=\"22.03\" style=\"fill:none;stroke:#1A476F;stroke-width:8.64\"/>\n",
       "\t<circle cx=\"3795.66\" cy=\"287.60\" r=\"26.35\" style=\"fill:#1A476F\"/>\n",
       "\t<circle cx=\"3795.66\" cy=\"287.60\" r=\"22.03\" style=\"fill:none;stroke:#1A476F;stroke-width:8.64\"/>\n",
       "\t<path d=\" M698.20 2089.46 L1042.35 2110.00 L1386.49 2121.76 L1730.77 2124.85 L2074.92 2129.43 L2419.07 2132.28 L2763.21 2134.63 L3107.36 2136.98 L3451.51 2135.99 L3795.66 2123.25\" stroke-linejoin=\"round\" style=\"fill:none;stroke:#90353B;stroke-width:8.64\"/>\n",
       "\t<polygon points=\"698.20,2051.49 665.32,2108.44 731.08,2108.44\" style=\"fill:#90353B\"/>\n",
       "\t<polygon points=\"698.20,2060.13 672.80,2104.12 723.60,2104.12\" style=\"fill:none;stroke:#90353B;stroke-width:8.64\"/>\n",
       "\t<polygon points=\"1042.35,2072.03 1009.46,2128.99 1075.23,2128.99\" style=\"fill:#90353B\"/>\n",
       "\t<polygon points=\"1042.35,2080.67 1016.95,2124.67 1067.75,2124.67\" style=\"fill:none;stroke:#90353B;stroke-width:8.64\"/>\n",
       "\t<polygon points=\"1386.49,2083.79 1353.61,2140.74 1419.38,2140.74\" style=\"fill:#90353B\"/>\n",
       "\t<polygon points=\"1386.49,2092.43 1361.10,2136.42 1411.89,2136.42\" style=\"fill:none;stroke:#90353B;stroke-width:8.64\"/>\n",
       "\t<polygon points=\"1730.77,2086.89 1697.89,2143.84 1763.65,2143.84\" style=\"fill:#90353B\"/>\n",
       "\t<polygon points=\"1730.77,2095.53 1705.37,2139.52 1756.17,2139.52\" style=\"fill:none;stroke:#90353B;stroke-width:8.64\"/>\n",
       "\t<polygon points=\"2074.92,2091.46 2042.03,2148.42 2107.80,2148.42\" style=\"fill:#90353B\"/>\n",
       "\t<polygon points=\"2074.92,2100.10 2049.52,2144.10 2100.32,2144.10\" style=\"fill:none;stroke:#90353B;stroke-width:8.64\"/>\n",
       "\t<polygon points=\"2419.07,2094.31 2386.18,2151.26 2451.95,2151.26\" style=\"fill:#90353B\"/>\n",
       "\t<polygon points=\"2419.07,2102.95 2393.67,2146.94 2444.46,2146.94\" style=\"fill:none;stroke:#90353B;stroke-width:8.64\"/>\n",
       "\t<polygon points=\"2763.21,2096.66 2730.33,2153.61 2796.10,2153.61\" style=\"fill:#90353B\"/>\n",
       "\t<polygon points=\"2763.21,2105.30 2737.81,2149.29 2788.61,2149.29\" style=\"fill:none;stroke:#90353B;stroke-width:8.64\"/>\n",
       "\t<polygon points=\"3107.36,2099.01 3074.48,2155.97 3140.24,2155.97\" style=\"fill:#90353B\"/>\n",
       "\t<polygon points=\"3107.36,2107.65 3081.96,2151.65 3132.76,2151.65\" style=\"fill:none;stroke:#90353B;stroke-width:8.64\"/>\n",
       "\t<polygon points=\"3451.51,2098.02 3418.63,2154.98 3484.39,2154.98\" style=\"fill:#90353B\"/>\n",
       "\t<polygon points=\"3451.51,2106.66 3426.11,2150.66 3476.91,2150.66\" style=\"fill:none;stroke:#90353B;stroke-width:8.64\"/>\n",
       "\t<polygon points=\"3795.66,2085.28 3762.78,2142.23 3828.54,2142.23\" style=\"fill:#90353B\"/>\n",
       "\t<polygon points=\"3795.66,2093.92 3770.26,2137.91 3821.06,2137.91\" style=\"fill:none;stroke:#90353B;stroke-width:8.64\"/>\n",
       "\t<line x1=\"290.81\" y1=\"2233.63\" x2=\"290.81\" y2=\"100.86\" style=\"stroke:#000000;stroke-width:5.76\"/>\n",
       "\t<line x1=\"290.81\" y1=\"2170.27\" x2=\"250.84\" y2=\"2170.27\" style=\"stroke:#000000;stroke-width:5.76\"/>\n",
       "\t<text x=\"200.73\" y=\"2170.27\" style=\"font-family:'Helvetica';font-size:99.99px;fill:#000000\" transform=\"rotate(-90 200.73,2170.27)\" text-anchor=\"middle\">0</text>\n",
       "\t<line x1=\"290.81\" y1=\"1668.82\" x2=\"250.84\" y2=\"1668.82\" style=\"stroke:#000000;stroke-width:5.76\"/>\n",
       "\t<text x=\"200.73\" y=\"1668.82\" style=\"font-family:'Helvetica';font-size:99.99px;fill:#000000\" transform=\"rotate(-90 200.73,1668.82)\" text-anchor=\"middle\">.05</text>\n",
       "\t<line x1=\"290.81\" y1=\"1167.25\" x2=\"250.84\" y2=\"1167.25\" style=\"stroke:#000000;stroke-width:5.76\"/>\n",
       "\t<text x=\"200.73\" y=\"1167.25\" style=\"font-family:'Helvetica';font-size:99.99px;fill:#000000\" transform=\"rotate(-90 200.73,1167.25)\" text-anchor=\"middle\">.1</text>\n",
       "\t<line x1=\"290.81\" y1=\"665.67\" x2=\"250.84\" y2=\"665.67\" style=\"stroke:#000000;stroke-width:5.76\"/>\n",
       "\t<text x=\"200.73\" y=\"665.67\" style=\"font-family:'Helvetica';font-size:99.99px;fill:#000000\" transform=\"rotate(-90 200.73,665.67)\" text-anchor=\"middle\">.15</text>\n",
       "\t<line x1=\"290.81\" y1=\"164.22\" x2=\"250.84\" y2=\"164.22\" style=\"stroke:#000000;stroke-width:5.76\"/>\n",
       "\t<text x=\"200.73\" y=\"164.22\" style=\"font-family:'Helvetica';font-size:99.99px;fill:#000000\" transform=\"rotate(-90 200.73,164.22)\" text-anchor=\"middle\">.2</text>\n",
       "\t<line x1=\"290.81\" y1=\"2233.63\" x2=\"3859.02\" y2=\"2233.63\" style=\"stroke:#000000;stroke-width:5.76\"/>\n",
       "\t<line x1=\"354.17\" y1=\"2233.63\" x2=\"354.17\" y2=\"2273.73\" style=\"stroke:#000000;stroke-width:5.76\"/>\n",
       "\t<text x=\"354.17\" y=\"2363.59\" style=\"font-family:'Helvetica';font-size:99.99px;fill:#000000\" text-anchor=\"middle\">0</text>\n",
       "\t<line x1=\"1042.47\" y1=\"2233.63\" x2=\"1042.47\" y2=\"2273.73\" style=\"stroke:#000000;stroke-width:5.76\"/>\n",
       "\t<text x=\"1042.47\" y=\"2363.59\" style=\"font-family:'Helvetica';font-size:99.99px;fill:#000000\" text-anchor=\"middle\">2</text>\n",
       "\t<line x1=\"1730.77\" y1=\"2233.63\" x2=\"1730.77\" y2=\"2273.73\" style=\"stroke:#000000;stroke-width:5.76\"/>\n",
       "\t<text x=\"1730.77\" y=\"2363.59\" style=\"font-family:'Helvetica';font-size:99.99px;fill:#000000\" text-anchor=\"middle\">4</text>\n",
       "\t<line x1=\"2419.07\" y1=\"2233.63\" x2=\"2419.07\" y2=\"2273.73\" style=\"stroke:#000000;stroke-width:5.76\"/>\n",
       "\t<text x=\"2419.07\" y=\"2363.59\" style=\"font-family:'Helvetica';font-size:99.99px;fill:#000000\" text-anchor=\"middle\">6</text>\n",
       "\t<line x1=\"3107.36\" y1=\"2233.63\" x2=\"3107.36\" y2=\"2273.73\" style=\"stroke:#000000;stroke-width:5.76\"/>\n",
       "\t<text x=\"3107.36\" y=\"2363.59\" style=\"font-family:'Helvetica';font-size:99.99px;fill:#000000\" text-anchor=\"middle\">8</text>\n",
       "\t<line x1=\"3795.66\" y1=\"2233.63\" x2=\"3795.66\" y2=\"2273.73\" style=\"stroke:#000000;stroke-width:5.76\"/>\n",
       "\t<text x=\"3795.66\" y=\"2363.59\" style=\"font-family:'Helvetica';font-size:99.99px;fill:#000000\" text-anchor=\"middle\">10</text>\n",
       "\t<text x=\"2074.92\" y=\"2473.60\" style=\"font-family:'Helvetica';font-size:99.99px;fill:#000000\" text-anchor=\"middle\"># of Neighbors</text>\n",
       "\t<rect x=\"1362.61\" y=\"2558.24\" width=\"1424.73\" height=\"186.37\" style=\"fill:#FFFFFF\"/>\n",
       "\t<rect x=\"1365.49\" y=\"2561.12\" width=\"1418.97\" height=\"180.61\" style=\"fill:none;stroke:#000000;stroke-width:5.76\"/>\n",
       "\t<line x1=\"1405.80\" y1=\"2651.43\" x2=\"1780.14\" y2=\"2651.43\" style=\"stroke:#1A476F;stroke-width:8.64\"/>\n",
       "\t<circle cx=\"1592.91\" cy=\"2651.43\" r=\"26.35\" style=\"fill:#1A476F\"/>\n",
       "\t<circle cx=\"1592.91\" cy=\"2651.43\" r=\"22.03\" style=\"fill:none;stroke:#1A476F;stroke-width:8.64\"/>\n",
       "\t<line x1=\"2169.71\" y1=\"2651.43\" x2=\"2544.05\" y2=\"2651.43\" style=\"stroke:#90353B;stroke-width:8.64\"/>\n",
       "\t<polygon points=\"2356.94,2613.46 2324.06,2670.41 2389.82,2670.41\" style=\"fill:#90353B\"/>\n",
       "\t<polygon points=\"2356.94,2622.10 2331.54,2666.09 2382.34,2666.09\" style=\"fill:none;stroke:#90353B;stroke-width:8.64\"/>\n",
       "\t<text x=\"1840.16\" y=\"2686.46\" style=\"font-family:'Helvetica';font-size:99.99px;fill:#000000\">ATT</text>\n",
       "\t<text x=\"2604.07\" y=\"2686.46\" style=\"font-family:'Helvetica';font-size:99.99px;fill:#000000\">SE</text>\n",
       "</svg>\n"
      ],
      "text/html": [
       "                <iframe frameborder=\"0\" scrolling=\"no\" height=\"436\" width=\"600\"                srcdoc=\"<html><body>&lt;?xml version=&quot;1.0&quot; encoding=&quot;UTF-8&quot; standalone=&quot;no&quot;?&gt;\n",
       "&lt;!-- This is a Stata 16.0 generated SVG file (http://www.stata.com) --&gt;\n",
       "\n",
       "&lt;svg version=&quot;1.1&quot; width=&quot;600px&quot; height=&quot;436px&quot; viewBox=&quot;0 0 3960 2880&quot; xmlns=&quot;http://www.w3.org/2000/svg&quot; xmlns:xlink=&quot;http://www.w3.org/1999/xlink&quot;&gt;\n",
       "\t&lt;desc&gt;Stata Graph - Graph&lt;/desc&gt;\n",
       "\t&lt;rect x=&quot;0&quot; y=&quot;0&quot; width=&quot;3960&quot; height=&quot;2880&quot; style=&quot;fill:#EAF2F3;stroke:none&quot;/&gt;\n",
       "\t&lt;rect x=&quot;0.00&quot; y=&quot;0.00&quot; width=&quot;3959.88&quot; height=&quot;2880.00&quot; style=&quot;fill:#EAF2F3&quot;/&gt;\n",
       "\t&lt;rect x=&quot;2.88&quot; y=&quot;2.88&quot; width=&quot;3954.12&quot; height=&quot;2874.24&quot; style=&quot;fill:none;stroke:#EAF2F3;stroke-width:5.76&quot;/&gt;\n",
       "\t&lt;rect x=&quot;290.81&quot; y=&quot;100.86&quot; width=&quot;3568.21&quot; height=&quot;2132.77&quot; style=&quot;fill:#FFFFFF&quot;/&gt;\n",
       "\t&lt;rect x=&quot;293.69&quot; y=&quot;103.74&quot; width=&quot;3562.45&quot; height=&quot;2127.01&quot; style=&quot;fill:none;stroke:#FFFFFF;stroke-width:5.76&quot;/&gt;\n",
       "\t&lt;line x1=&quot;290.81&quot; y1=&quot;2170.27&quot; x2=&quot;3859.02&quot; y2=&quot;2170.27&quot; style=&quot;stroke:#EAF2F3;stroke-width:8.64&quot;/&gt;\n",
       "\t&lt;line x1=&quot;290.81&quot; y1=&quot;1668.82&quot; x2=&quot;3859.02&quot; y2=&quot;1668.82&quot; style=&quot;stroke:#EAF2F3;stroke-width:8.64&quot;/&gt;\n",
       "\t&lt;line x1=&quot;290.81&quot; y1=&quot;1167.25&quot; x2=&quot;3859.02&quot; y2=&quot;1167.25&quot; style=&quot;stroke:#EAF2F3;stroke-width:8.64&quot;/&gt;\n",
       "\t&lt;line x1=&quot;290.81&quot; y1=&quot;665.67&quot; x2=&quot;3859.02&quot; y2=&quot;665.67&quot; style=&quot;stroke:#EAF2F3;stroke-width:8.64&quot;/&gt;\n",
       "\t&lt;line x1=&quot;290.81&quot; y1=&quot;164.22&quot; x2=&quot;3859.02&quot; y2=&quot;164.22&quot; style=&quot;stroke:#EAF2F3;stroke-width:8.64&quot;/&gt;\n",
       "\t&lt;path d=&quot; M698.20 1110.69 L1042.35 699.21 L1386.49 833.36 L1730.77 828.66 L2074.92 872.22 L2419.07 898.45 L2763.21 904.39 L3107.36 628.05 L3451.51 332.16 L3795.66 287.60&quot; stroke-linejoin=&quot;round&quot; style=&quot;fill:none;stroke:#1A476F;stroke-width:8.64&quot;/&gt;\n",
       "\t&lt;circle cx=&quot;698.20&quot; cy=&quot;1110.69&quot; r=&quot;26.35&quot; style=&quot;fill:#1A476F&quot;/&gt;\n",
       "\t&lt;circle cx=&quot;698.20&quot; cy=&quot;1110.69&quot; r=&quot;22.03&quot; style=&quot;fill:none;stroke:#1A476F;stroke-width:8.64&quot;/&gt;\n",
       "\t&lt;circle cx=&quot;1042.35&quot; cy=&quot;699.21&quot; r=&quot;26.35&quot; style=&quot;fill:#1A476F&quot;/&gt;\n",
       "\t&lt;circle cx=&quot;1042.35&quot; cy=&quot;699.21&quot; r=&quot;22.03&quot; style=&quot;fill:none;stroke:#1A476F;stroke-width:8.64&quot;/&gt;\n",
       "\t&lt;circle cx=&quot;1386.49&quot; cy=&quot;833.36&quot; r=&quot;26.35&quot; style=&quot;fill:#1A476F&quot;/&gt;\n",
       "\t&lt;circle cx=&quot;1386.49&quot; cy=&quot;833.36&quot; r=&quot;22.03&quot; style=&quot;fill:none;stroke:#1A476F;stroke-width:8.64&quot;/&gt;\n",
       "\t&lt;circle cx=&quot;1730.77&quot; cy=&quot;828.66&quot; r=&quot;26.35&quot; style=&quot;fill:#1A476F&quot;/&gt;\n",
       "\t&lt;circle cx=&quot;1730.77&quot; cy=&quot;828.66&quot; r=&quot;22.03&quot; style=&quot;fill:none;stroke:#1A476F;stroke-width:8.64&quot;/&gt;\n",
       "\t&lt;circle cx=&quot;2074.92&quot; cy=&quot;872.22&quot; r=&quot;26.35&quot; style=&quot;fill:#1A476F&quot;/&gt;\n",
       "\t&lt;circle cx=&quot;2074.92&quot; cy=&quot;872.22&quot; r=&quot;22.03&quot; style=&quot;fill:none;stroke:#1A476F;stroke-width:8.64&quot;/&gt;\n",
       "\t&lt;circle cx=&quot;2419.07&quot; cy=&quot;898.45&quot; r=&quot;26.35&quot; style=&quot;fill:#1A476F&quot;/&gt;\n",
       "\t&lt;circle cx=&quot;2419.07&quot; cy=&quot;898.45&quot; r=&quot;22.03&quot; style=&quot;fill:none;stroke:#1A476F;stroke-width:8.64&quot;/&gt;\n",
       "\t&lt;circle cx=&quot;2763.21&quot; cy=&quot;904.39&quot; r=&quot;26.35&quot; style=&quot;fill:#1A476F&quot;/&gt;\n",
       "\t&lt;circle cx=&quot;2763.21&quot; cy=&quot;904.39&quot; r=&quot;22.03&quot; style=&quot;fill:none;stroke:#1A476F;stroke-width:8.64&quot;/&gt;\n",
       "\t&lt;circle cx=&quot;3107.36&quot; cy=&quot;628.05&quot; r=&quot;26.35&quot; style=&quot;fill:#1A476F&quot;/&gt;\n",
       "\t&lt;circle cx=&quot;3107.36&quot; cy=&quot;628.05&quot; r=&quot;22.03&quot; style=&quot;fill:none;stroke:#1A476F;stroke-width:8.64&quot;/&gt;\n",
       "\t&lt;circle cx=&quot;3451.51&quot; cy=&quot;332.16&quot; r=&quot;26.35&quot; style=&quot;fill:#1A476F&quot;/&gt;\n",
       "\t&lt;circle cx=&quot;3451.51&quot; cy=&quot;332.16&quot; r=&quot;22.03&quot; style=&quot;fill:none;stroke:#1A476F;stroke-width:8.64&quot;/&gt;\n",
       "\t&lt;circle cx=&quot;3795.66&quot; cy=&quot;287.60&quot; r=&quot;26.35&quot; style=&quot;fill:#1A476F&quot;/&gt;\n",
       "\t&lt;circle cx=&quot;3795.66&quot; cy=&quot;287.60&quot; r=&quot;22.03&quot; style=&quot;fill:none;stroke:#1A476F;stroke-width:8.64&quot;/&gt;\n",
       "\t&lt;path d=&quot; M698.20 2089.46 L1042.35 2110.00 L1386.49 2121.76 L1730.77 2124.85 L2074.92 2129.43 L2419.07 2132.28 L2763.21 2134.63 L3107.36 2136.98 L3451.51 2135.99 L3795.66 2123.25&quot; stroke-linejoin=&quot;round&quot; style=&quot;fill:none;stroke:#90353B;stroke-width:8.64&quot;/&gt;\n",
       "\t&lt;polygon points=&quot;698.20,2051.49 665.32,2108.44 731.08,2108.44&quot; style=&quot;fill:#90353B&quot;/&gt;\n",
       "\t&lt;polygon points=&quot;698.20,2060.13 672.80,2104.12 723.60,2104.12&quot; style=&quot;fill:none;stroke:#90353B;stroke-width:8.64&quot;/&gt;\n",
       "\t&lt;polygon points=&quot;1042.35,2072.03 1009.46,2128.99 1075.23,2128.99&quot; style=&quot;fill:#90353B&quot;/&gt;\n",
       "\t&lt;polygon points=&quot;1042.35,2080.67 1016.95,2124.67 1067.75,2124.67&quot; style=&quot;fill:none;stroke:#90353B;stroke-width:8.64&quot;/&gt;\n",
       "\t&lt;polygon points=&quot;1386.49,2083.79 1353.61,2140.74 1419.38,2140.74&quot; style=&quot;fill:#90353B&quot;/&gt;\n",
       "\t&lt;polygon points=&quot;1386.49,2092.43 1361.10,2136.42 1411.89,2136.42&quot; style=&quot;fill:none;stroke:#90353B;stroke-width:8.64&quot;/&gt;\n",
       "\t&lt;polygon points=&quot;1730.77,2086.89 1697.89,2143.84 1763.65,2143.84&quot; style=&quot;fill:#90353B&quot;/&gt;\n",
       "\t&lt;polygon points=&quot;1730.77,2095.53 1705.37,2139.52 1756.17,2139.52&quot; style=&quot;fill:none;stroke:#90353B;stroke-width:8.64&quot;/&gt;\n",
       "\t&lt;polygon points=&quot;2074.92,2091.46 2042.03,2148.42 2107.80,2148.42&quot; style=&quot;fill:#90353B&quot;/&gt;\n",
       "\t&lt;polygon points=&quot;2074.92,2100.10 2049.52,2144.10 2100.32,2144.10&quot; style=&quot;fill:none;stroke:#90353B;stroke-width:8.64&quot;/&gt;\n",
       "\t&lt;polygon points=&quot;2419.07,2094.31 2386.18,2151.26 2451.95,2151.26&quot; style=&quot;fill:#90353B&quot;/&gt;\n",
       "\t&lt;polygon points=&quot;2419.07,2102.95 2393.67,2146.94 2444.46,2146.94&quot; style=&quot;fill:none;stroke:#90353B;stroke-width:8.64&quot;/&gt;\n",
       "\t&lt;polygon points=&quot;2763.21,2096.66 2730.33,2153.61 2796.10,2153.61&quot; style=&quot;fill:#90353B&quot;/&gt;\n",
       "\t&lt;polygon points=&quot;2763.21,2105.30 2737.81,2149.29 2788.61,2149.29&quot; style=&quot;fill:none;stroke:#90353B;stroke-width:8.64&quot;/&gt;\n",
       "\t&lt;polygon points=&quot;3107.36,2099.01 3074.48,2155.97 3140.24,2155.97&quot; style=&quot;fill:#90353B&quot;/&gt;\n",
       "\t&lt;polygon points=&quot;3107.36,2107.65 3081.96,2151.65 3132.76,2151.65&quot; style=&quot;fill:none;stroke:#90353B;stroke-width:8.64&quot;/&gt;\n",
       "\t&lt;polygon points=&quot;3451.51,2098.02 3418.63,2154.98 3484.39,2154.98&quot; style=&quot;fill:#90353B&quot;/&gt;\n",
       "\t&lt;polygon points=&quot;3451.51,2106.66 3426.11,2150.66 3476.91,2150.66&quot; style=&quot;fill:none;stroke:#90353B;stroke-width:8.64&quot;/&gt;\n",
       "\t&lt;polygon points=&quot;3795.66,2085.28 3762.78,2142.23 3828.54,2142.23&quot; style=&quot;fill:#90353B&quot;/&gt;\n",
       "\t&lt;polygon points=&quot;3795.66,2093.92 3770.26,2137.91 3821.06,2137.91&quot; style=&quot;fill:none;stroke:#90353B;stroke-width:8.64&quot;/&gt;\n",
       "\t&lt;line x1=&quot;290.81&quot; y1=&quot;2233.63&quot; x2=&quot;290.81&quot; y2=&quot;100.86&quot; style=&quot;stroke:#000000;stroke-width:5.76&quot;/&gt;\n",
       "\t&lt;line x1=&quot;290.81&quot; y1=&quot;2170.27&quot; x2=&quot;250.84&quot; y2=&quot;2170.27&quot; style=&quot;stroke:#000000;stroke-width:5.76&quot;/&gt;\n",
       "\t&lt;text x=&quot;200.73&quot; y=&quot;2170.27&quot; style=&quot;font-family:&#x27;Helvetica&#x27;;font-size:99.99px;fill:#000000&quot; transform=&quot;rotate(-90 200.73,2170.27)&quot; text-anchor=&quot;middle&quot;&gt;0&lt;/text&gt;\n",
       "\t&lt;line x1=&quot;290.81&quot; y1=&quot;1668.82&quot; x2=&quot;250.84&quot; y2=&quot;1668.82&quot; style=&quot;stroke:#000000;stroke-width:5.76&quot;/&gt;\n",
       "\t&lt;text x=&quot;200.73&quot; y=&quot;1668.82&quot; style=&quot;font-family:&#x27;Helvetica&#x27;;font-size:99.99px;fill:#000000&quot; transform=&quot;rotate(-90 200.73,1668.82)&quot; text-anchor=&quot;middle&quot;&gt;.05&lt;/text&gt;\n",
       "\t&lt;line x1=&quot;290.81&quot; y1=&quot;1167.25&quot; x2=&quot;250.84&quot; y2=&quot;1167.25&quot; style=&quot;stroke:#000000;stroke-width:5.76&quot;/&gt;\n",
       "\t&lt;text x=&quot;200.73&quot; y=&quot;1167.25&quot; style=&quot;font-family:&#x27;Helvetica&#x27;;font-size:99.99px;fill:#000000&quot; transform=&quot;rotate(-90 200.73,1167.25)&quot; text-anchor=&quot;middle&quot;&gt;.1&lt;/text&gt;\n",
       "\t&lt;line x1=&quot;290.81&quot; y1=&quot;665.67&quot; x2=&quot;250.84&quot; y2=&quot;665.67&quot; style=&quot;stroke:#000000;stroke-width:5.76&quot;/&gt;\n",
       "\t&lt;text x=&quot;200.73&quot; y=&quot;665.67&quot; style=&quot;font-family:&#x27;Helvetica&#x27;;font-size:99.99px;fill:#000000&quot; transform=&quot;rotate(-90 200.73,665.67)&quot; text-anchor=&quot;middle&quot;&gt;.15&lt;/text&gt;\n",
       "\t&lt;line x1=&quot;290.81&quot; y1=&quot;164.22&quot; x2=&quot;250.84&quot; y2=&quot;164.22&quot; style=&quot;stroke:#000000;stroke-width:5.76&quot;/&gt;\n",
       "\t&lt;text x=&quot;200.73&quot; y=&quot;164.22&quot; style=&quot;font-family:&#x27;Helvetica&#x27;;font-size:99.99px;fill:#000000&quot; transform=&quot;rotate(-90 200.73,164.22)&quot; text-anchor=&quot;middle&quot;&gt;.2&lt;/text&gt;\n",
       "\t&lt;line x1=&quot;290.81&quot; y1=&quot;2233.63&quot; x2=&quot;3859.02&quot; y2=&quot;2233.63&quot; style=&quot;stroke:#000000;stroke-width:5.76&quot;/&gt;\n",
       "\t&lt;line x1=&quot;354.17&quot; y1=&quot;2233.63&quot; x2=&quot;354.17&quot; y2=&quot;2273.73&quot; style=&quot;stroke:#000000;stroke-width:5.76&quot;/&gt;\n",
       "\t&lt;text x=&quot;354.17&quot; y=&quot;2363.59&quot; style=&quot;font-family:&#x27;Helvetica&#x27;;font-size:99.99px;fill:#000000&quot; text-anchor=&quot;middle&quot;&gt;0&lt;/text&gt;\n",
       "\t&lt;line x1=&quot;1042.47&quot; y1=&quot;2233.63&quot; x2=&quot;1042.47&quot; y2=&quot;2273.73&quot; style=&quot;stroke:#000000;stroke-width:5.76&quot;/&gt;\n",
       "\t&lt;text x=&quot;1042.47&quot; y=&quot;2363.59&quot; style=&quot;font-family:&#x27;Helvetica&#x27;;font-size:99.99px;fill:#000000&quot; text-anchor=&quot;middle&quot;&gt;2&lt;/text&gt;\n",
       "\t&lt;line x1=&quot;1730.77&quot; y1=&quot;2233.63&quot; x2=&quot;1730.77&quot; y2=&quot;2273.73&quot; style=&quot;stroke:#000000;stroke-width:5.76&quot;/&gt;\n",
       "\t&lt;text x=&quot;1730.77&quot; y=&quot;2363.59&quot; style=&quot;font-family:&#x27;Helvetica&#x27;;font-size:99.99px;fill:#000000&quot; text-anchor=&quot;middle&quot;&gt;4&lt;/text&gt;\n",
       "\t&lt;line x1=&quot;2419.07&quot; y1=&quot;2233.63&quot; x2=&quot;2419.07&quot; y2=&quot;2273.73&quot; style=&quot;stroke:#000000;stroke-width:5.76&quot;/&gt;\n",
       "\t&lt;text x=&quot;2419.07&quot; y=&quot;2363.59&quot; style=&quot;font-family:&#x27;Helvetica&#x27;;font-size:99.99px;fill:#000000&quot; text-anchor=&quot;middle&quot;&gt;6&lt;/text&gt;\n",
       "\t&lt;line x1=&quot;3107.36&quot; y1=&quot;2233.63&quot; x2=&quot;3107.36&quot; y2=&quot;2273.73&quot; style=&quot;stroke:#000000;stroke-width:5.76&quot;/&gt;\n",
       "\t&lt;text x=&quot;3107.36&quot; y=&quot;2363.59&quot; style=&quot;font-family:&#x27;Helvetica&#x27;;font-size:99.99px;fill:#000000&quot; text-anchor=&quot;middle&quot;&gt;8&lt;/text&gt;\n",
       "\t&lt;line x1=&quot;3795.66&quot; y1=&quot;2233.63&quot; x2=&quot;3795.66&quot; y2=&quot;2273.73&quot; style=&quot;stroke:#000000;stroke-width:5.76&quot;/&gt;\n",
       "\t&lt;text x=&quot;3795.66&quot; y=&quot;2363.59&quot; style=&quot;font-family:&#x27;Helvetica&#x27;;font-size:99.99px;fill:#000000&quot; text-anchor=&quot;middle&quot;&gt;10&lt;/text&gt;\n",
       "\t&lt;text x=&quot;2074.92&quot; y=&quot;2473.60&quot; style=&quot;font-family:&#x27;Helvetica&#x27;;font-size:99.99px;fill:#000000&quot; text-anchor=&quot;middle&quot;&gt;# of Neighbors&lt;/text&gt;\n",
       "\t&lt;rect x=&quot;1362.61&quot; y=&quot;2558.24&quot; width=&quot;1424.73&quot; height=&quot;186.37&quot; style=&quot;fill:#FFFFFF&quot;/&gt;\n",
       "\t&lt;rect x=&quot;1365.49&quot; y=&quot;2561.12&quot; width=&quot;1418.97&quot; height=&quot;180.61&quot; style=&quot;fill:none;stroke:#000000;stroke-width:5.76&quot;/&gt;\n",
       "\t&lt;line x1=&quot;1405.80&quot; y1=&quot;2651.43&quot; x2=&quot;1780.14&quot; y2=&quot;2651.43&quot; style=&quot;stroke:#1A476F;stroke-width:8.64&quot;/&gt;\n",
       "\t&lt;circle cx=&quot;1592.91&quot; cy=&quot;2651.43&quot; r=&quot;26.35&quot; style=&quot;fill:#1A476F&quot;/&gt;\n",
       "\t&lt;circle cx=&quot;1592.91&quot; cy=&quot;2651.43&quot; r=&quot;22.03&quot; style=&quot;fill:none;stroke:#1A476F;stroke-width:8.64&quot;/&gt;\n",
       "\t&lt;line x1=&quot;2169.71&quot; y1=&quot;2651.43&quot; x2=&quot;2544.05&quot; y2=&quot;2651.43&quot; style=&quot;stroke:#90353B;stroke-width:8.64&quot;/&gt;\n",
       "\t&lt;polygon points=&quot;2356.94,2613.46 2324.06,2670.41 2389.82,2670.41&quot; style=&quot;fill:#90353B&quot;/&gt;\n",
       "\t&lt;polygon points=&quot;2356.94,2622.10 2331.54,2666.09 2382.34,2666.09&quot; style=&quot;fill:none;stroke:#90353B;stroke-width:8.64&quot;/&gt;\n",
       "\t&lt;text x=&quot;1840.16&quot; y=&quot;2686.46&quot; style=&quot;font-family:&#x27;Helvetica&#x27;;font-size:99.99px;fill:#000000&quot;&gt;ATT&lt;/text&gt;\n",
       "\t&lt;text x=&quot;2604.07&quot; y=&quot;2686.46&quot; style=&quot;font-family:&#x27;Helvetica&#x27;;font-size:99.99px;fill:#000000&quot;&gt;SE&lt;/text&gt;\n",
       "&lt;/svg&gt;\n",
       "</body></html>\"></iframe>\n"
      ],
      "text/plain": [
       "This front-end cannot display the desired image type."
      ]
     },
     "metadata": {
      "image/svg+xml": {
       "height": 436,
       "width": 600
      },
      "text/html": {
       "height": 436,
       "width": 600
      }
     },
     "output_type": "display_data"
    }
   ],
   "source": [
    "twoway connected c1 c3 || connected c2 c3, m(T) legend(order(1 \"ATT\" 2 \"SE\")) ///\n",
    "       xtitle(\"# of Neighbors\")"
   ]
  },
  {
   "cell_type": "markdown",
   "id": "57d99436-0f65-47ef-a2a3-bf6d33437916",
   "metadata": {
    "slideshow": {
     "slide_type": "subslide"
    },
    "tags": []
   },
   "source": [
    "### Takeaways of simulation results\n",
    "\n",
    "* For Diff-In-Diffs Model work well, it is essential that the model is correctly specified\n",
    "* PSM-DID and linear Diff-In-Diffs Models can generate very distinct results:\n",
    "    * They put weights on treated observations in a different way\n",
    "* PSM-DID not necessarily generate better outcomes; the number of matching neighbors is very important in practice"
   ]
  },
  {
   "cell_type": "markdown",
   "id": "732e1c9e-b625-4521-bfca-a08d5871fcd6",
   "metadata": {
    "slideshow": {
     "slide_type": "subslide"
    },
    "tags": []
   },
   "source": [
    "### 3. Semi-parametric DID\n",
    "The semi-parametric DID method uses **inverse probability weighting**:\n",
    "$$\n",
    "ATT = E\\left[\\frac{y_{i1}-y_{i0}}{P(D_{i1}=1)}\\cdot \\frac{D_{i1}-P(D_{i1}=1|x_{i1})}{1-P(D_{i1}=1|x_{i1})}\\right]\n",
    "$$\n",
    "\n",
    "We use two methods to implement it:\n",
    "* Self-calculating \n",
    "* Use the `absdid` command"
   ]
  },
  {
   "cell_type": "markdown",
   "id": "722c8de6-93a1-478d-81bb-b3b0dfecefc4",
   "metadata": {
    "slideshow": {
     "slide_type": "subslide"
    },
    "tags": []
   },
   "source": [
    "#### (1) Self-calculating ATT"
   ]
  },
  {
   "cell_type": "code",
   "execution_count": null,
   "id": "8669ed5a-d90c-4bb9-860b-36c453ae263b",
   "metadata": {
    "slideshow": {
     "slide_type": "fragment"
    },
    "tags": []
   },
   "outputs": [],
   "source": [
    "//first obtain probabilities \n",
    "use simdata_did1.dta, clear \n",
    "qui logit D x  if t==1 //linear \n",
    "cap drop pr1\n",
    "predict pr1 if t==1\n",
    "egen pD = mean(D) if t==1\n",
    "tsset id t\n",
    "gen ab_diff = (y-l.y)/pD * ((D-pr1)/(1-pr1)) if t==1\n",
    "qui sum ab_diff if t==1\n",
    "scalar ATT_semi = r(mean)\n",
    "scalar se = r(sd)"
   ]
  },
  {
   "cell_type": "code",
   "execution_count": 99,
   "id": "eb214623-009f-445b-b559-4ce8eea65776",
   "metadata": {
    "slideshow": {
     "slide_type": "subslide"
    },
    "tags": []
   },
   "outputs": [],
   "source": [
    "matrix abs_res = J(1,2,.)\n",
    "matrix abs_res[1,1] = (ATT_semi, se)\n",
    "matrix colnames  abs_res = semi-ATT SE \n",
    "matrix rownames abs_res = Stats"
   ]
  },
  {
   "cell_type": "code",
   "execution_count": 100,
   "id": "2e70ecf9-0ac6-4539-9e0d-5bbaad1f1833",
   "metadata": {
    "slideshow": {
     "slide_type": "fragment"
    },
    "tags": []
   },
   "outputs": [
    {
     "name": "stdout",
     "output_type": "stream",
     "text": [
      "\n",
      "abs_res[1,2]\n",
      "        semi-ATT         SE\n",
      "Stats  .13759573  2.1811375\n"
     ]
    }
   ],
   "source": [
    "matrix list abs_res"
   ]
  },
  {
   "cell_type": "markdown",
   "id": "60c5b3b5-09de-49c0-a4d7-5ccbefdf47eb",
   "metadata": {
    "slideshow": {
     "slide_type": "fragment"
    },
    "tags": []
   },
   "source": [
    "* The ATT is plausible and being close to 0.15\n",
    "* The Standard Error is problematic"
   ]
  },
  {
   "cell_type": "markdown",
   "id": "9f1ae1f9-a679-429d-a424-5e4a8bf4b935",
   "metadata": {
    "slideshow": {
     "slide_type": "subslide"
    },
    "tags": []
   },
   "source": [
    "#### (2) Use the `absdid` Command"
   ]
  },
  {
   "cell_type": "code",
   "execution_count": 102,
   "id": "119e4f15-96c4-4b69-ad85-2af718cd34ee",
   "metadata": {
    "slideshow": {
     "slide_type": "fragment"
    },
    "tags": []
   },
   "outputs": [
    {
     "name": "stdout",
     "output_type": "stream",
     "text": [
      "\n",
      "(500 missing values generated)\n",
      "\n",
      "\n",
      "Abadie's semi-parametric diff-in-diff           Number of obs     =        500\n",
      "\n",
      "------------------------------------------------------------------------------\n",
      "          dy |      Coef.   Std. Err.      z    P>|z|     [95% Conf. Interval]\n",
      "-------------+----------------------------------------------------------------\n",
      "ATT          |\n",
      "       _cons |   .1375957   .0884502     1.56   0.120    -.0357634    .3109548\n",
      "------------------------------------------------------------------------------\n"
     ]
    }
   ],
   "source": [
    "g dy = y - l.y\n",
    "absdid dy, tvar(D) xvar(x) sle \n",
    "//Note: sle specifies the logistic probability model"
   ]
  },
  {
   "cell_type": "markdown",
   "id": "7d8fc5c0-990c-4541-bca7-78075455aeb6",
   "metadata": {
    "slideshow": {
     "slide_type": "subslide"
    },
    "tags": []
   },
   "source": [
    "### 4. Synthetic DID\n",
    "The **synthetic DID** method basically combines *synthetic control method* and *Diff-in-Diff* technique to weaken the reliance on parallel trend assumption.\n",
    "\n",
    "#### Basic procedures:\n",
    "\n",
    "1. Find weights {$\\hat{\\omega}_i^{sc}$} to minimize the difference in selected characteristics (outcome, etc.) for all pre-trend periods\n",
    "2. Then use the weights in a basic panel data DID regression\n",
    "$$\n",
    "({\\hat{\\delta}^{sdid}},\\hat{\\mu},\\hat{\\alpha}_i,\\hat{\\beta}_t) = \\text{argmin}_{\\delta,\\mu,\\alpha_i,\\beta_t} \\left\\{\\sum_{i=1}^N\\sum_{t=1}^T(Y_{it}-\\mu - \\alpha_i - \\beta_t -\\delta D_{it})^2 {\\hat{\\omega}_i^{sc}}\\right\\}\n",
    "$$\n",
    "\n",
    "The estimation is implemented using `sdid` in Stata"
   ]
  },
  {
   "cell_type": "code",
   "execution_count": 117,
   "id": "f7dea67a-465d-4605-874a-cefc92c3c6a8",
   "metadata": {
    "slideshow": {
     "slide_type": "skip"
    },
    "tags": []
   },
   "outputs": [],
   "source": [
    "g x2 = x^2"
   ]
  },
  {
   "cell_type": "code",
   "execution_count": 189,
   "id": "d2b796d5-3745-46cd-8f2f-4aaf611c5886",
   "metadata": {
    "slideshow": {
     "slide_type": "subslide"
    },
    "tags": []
   },
   "outputs": [
    {
     "name": "stdout",
     "output_type": "stream",
     "text": [
      "Bootstrap replications (50). This may take some time.\n",
      "----+--- 1 ---+--- 2 ---+--- 3 ---+--- 4 ---+--- 5\n",
      "..................................................     50\n",
      "\n",
      "\n",
      "Synthetic Difference-in-Differences Estimator\n",
      "\n",
      "-----------------------------------------------------------------------------\n",
      "           y |     ATT     Std. Err.     t      P>|t|    [95% Conf. Interval]\n",
      "-------------+---------------------------------------------------------------\n",
      "   treatment |   0.16023    0.02509     6.39    0.000     0.11105     0.20941\n",
      "-----------------------------------------------------------------------------\n",
      "95% CIs and p-values are based on Large-Sample approximations.\n",
      "Refer to Arkhangelsky et al., (2020) for theoretical derivations.\n"
     ]
    }
   ],
   "source": [
    "sdid y id t D, covariates(x x2, projected) vce(bootstrap) seed(123)\n",
    "//graph option is not working well"
   ]
  },
  {
   "cell_type": "code",
   "execution_count": null,
   "id": "6701c6ea-9a24-4bd5-b9fe-a8818c73da85",
   "metadata": {
    "slideshow": {
     "slide_type": "subslide"
    },
    "tags": []
   },
   "outputs": [],
   "source": [
    "//extracting the unit weights \n",
    "g omega = . \n",
    "qui sum D if t==1&D==0\n",
    "qui forv i = 1/`r(N)'{\n",
    "    scalar uw = e(omega)[`i',1]\n",
    "    scalar ctr_id = e(omega)[`i',2]\n",
    "    replace omega = uw if id == ctr_id\n",
    "}"
   ]
  },
  {
   "cell_type": "code",
   "execution_count": 188,
   "id": "c405ab02-183f-4c4f-8e87-fd7b4534c126",
   "metadata": {
    "slideshow": {
     "slide_type": "subslide"
    },
    "tags": []
   },
   "outputs": [
    {
     "name": "stdout",
     "output_type": "stream",
     "text": [
      "\n",
      "(506 missing values generated)\n",
      "\n",
      "\n",
      "            |          Summary of x_proj\n",
      "          t |        Mean   Std. Dev.       Freq.\n",
      "------------+------------------------------------\n",
      "          0 |   .00020922   .00429042         247\n",
      "          1 |  -.00217894   .00324052         247\n",
      "------------+------------------------------------\n",
      "      Total |  -.00098486   .00398167         494\n"
     ]
    }
   ],
   "source": [
    "g x_proj = x*omega \n",
    "ta t,sum(x_proj)"
   ]
  },
  {
   "cell_type": "code",
   "execution_count": null,
   "id": "d5775cd5-314d-482c-af2e-441060aa852a",
   "metadata": {
    "slideshow": {
     "slide_type": "fragment"
    },
    "tags": []
   },
   "outputs": [
    {
     "name": "stdout",
     "output_type": "stream",
     "text": [
      "\n",
      "            |            Summary of x\n",
      "          t |        Mean   Std. Dev.       Freq.\n",
      "------------+------------------------------------\n",
      "          0 |   .00510224   1.0798278         253\n",
      "          1 |   .58409887   .77642941         253\n",
      "------------+------------------------------------\n",
      "      Total |   .29460055   .98318831         506\n"
     ]
    }
   ],
   "source": [
    "ta t if omega==.,sum(x)"
   ]
  },
  {
   "cell_type": "markdown",
   "id": "dc606ea8-6762-4203-a9a8-aaff9307661b",
   "metadata": {
    "slideshow": {
     "slide_type": "slide"
    },
    "tags": []
   },
   "source": [
    "# Alternative Experiments <a class=\"anchor\" id=\"#alternatives\"></a>\n",
    "* Heterogenous Treatment Effects\n",
    "* Selection on Unobservables"
   ]
  },
  {
   "cell_type": "markdown",
   "id": "e8f957d7-a8ea-44b2-ad28-342efee3f964",
   "metadata": {
    "slideshow": {
     "slide_type": "subslide"
    },
    "tags": []
   },
   "source": [
    "### Heterogenous Treatment Effects: DGP"
   ]
  },
  {
   "cell_type": "markdown",
   "id": "ac4de126-2929-4ec8-b990-7f6d94113b38",
   "metadata": {
    "slideshow": {
     "slide_type": "fragment"
    },
    "tags": []
   },
   "source": [
    "We generate a two-period panel data according to following DGPs:\n",
    "* Number of observations = 500, $t=0,1$\n",
    "* $h^j(x_{it}) = \\alpha_1 \\cdot x_{it} + \\alpha_2\\cdot x_{it}^2$ and $\\alpha_1 = 0.1; \\alpha_2 = 0.2$\n",
    "* $x_{it}\\sim N(0, 1)$, $\\lambda_i\\sim  N(0-0.1\\times D_{it},0.5^2)$, $\\delta=0.1$\n",
    "* $u_{it}^j\\sim N(0, 0.2^2)$ for $j\\in\\{0,1\\}$\n",
    "* **Heterogenous Treatment Effects**: $\\tau_{i}\\sim uniform(0,0.3)$ if treated, then $ATT^{true}=0.15$\n",
    "* Selection into treatment: $D_{i0}=0$ and \n",
    "$$\n",
    "D_{i1} = 1 \\quad if \\quad x_{i1}-v>0\n",
    "$$\n",
    "where $v\\sim N(0, 1)$ is independent of $x_{it}$ and $u_{it}^0$, we let $\\mu_v$ differ across different settings\n",
    "* $y_{it}^j = \\tau_{i} \\cdot D_{it} +h^j(x_{it})+\\lambda_i + \\delta \\cdot t +u_{it}^j$"
   ]
  },
  {
   "cell_type": "markdown",
   "id": "0ba1586d-1e7e-4f2e-a7d5-760c34f16105",
   "metadata": {
    "slideshow": {
     "slide_type": "subslide"
    },
    "tags": []
   },
   "source": [
    "### Selection on Unobservables: DGP"
   ]
  },
  {
   "cell_type": "markdown",
   "id": "9710f869-f459-4574-9861-18e0af4d3b14",
   "metadata": {
    "slideshow": {
     "slide_type": "fragment"
    },
    "tags": []
   },
   "source": [
    "We generate a two-period panel data according to following DGPs:\n",
    "* Number of observations = 500, $t=0,1$\n",
    "* $h^j(x_{it}) = \\alpha_1 \\cdot x_{it}$ and $\\alpha_1 = 0.1$\n",
    "* $x_{it}\\sim N(0, 1)$, $\\lambda_i\\sim  N(0-0.1\\times D_{it},0.5^2)$, $\\delta=0.1$\n",
    "* $u_{it}^j\\sim N(0, 0.2^2)$ for $j\\in\\{0,1\\}$\n",
    "* Homogenous Treatment effects: $\\tau_{i}=0.15$ if treated\n",
    "* **Selection into treatment**: $D_{i0}=0$ and \n",
    "$$\n",
    "D_{i1} = 1 \\quad if \\quad x_{i1}-v>0\n",
    "$$\n",
    "where $v\\sim N(0, 1) \\perp (z_{i1}, u_{i1}^0)$ and $z_{i1} = 0.01\\cdot x_{i1} + \\eta$, $\\eta \\sim N(0,0.1^2)$. **We assume that $z_{i1}$ is observable, but $x_{it}$ is not**\n",
    "   > Question: How $z_{i1}$ can help the estimation? Does it depend on the property of $\\eta$?\n",
    "* $y_{it}^j = \\tau_{i} \\cdot D_{it} +\\lambda_i + \\delta \\cdot t +h^j(x_{it})+u_{it}^j$"
   ]
  },
  {
   "cell_type": "markdown",
   "id": "549ee914-998e-4db4-9e0b-d309aa02f7be",
   "metadata": {
    "slideshow": {
     "slide_type": "slide"
    },
    "tags": []
   },
   "source": [
    "# Staggered Diff-In-Diffs <a class=\"anchor\" id=\"stagger_did\"></a>\n",
    "* Bacon's decomposition: `bacondecomp`\n",
    "* Five Staggered Diff-In-Diffs Estimators\n",
    "  * Two-way fixed effects: `xtreg`\n",
    "  * Sun and Abraham (2020, JoE): `eventstudyinteract`\n",
    "  * de Chaisematin and D'Haultfoeuille (2020, AER): `did_multiplegt`\n",
    "  * Callaway and Sant'Anna (2020, JoE): `csdid`\n",
    "  * Borusyak et al. (2021): `did_imputation`"
   ]
  },
  {
   "cell_type": "markdown",
   "id": "e357aeb8-146b-4655-b8f8-155ba38e07d4",
   "metadata": {
    "slideshow": {
     "slide_type": "subslide"
    },
    "tags": []
   },
   "source": [
    "### DGP"
   ]
  },
  {
   "cell_type": "code",
   "execution_count": null,
   "id": "1cbf5b4e-58b0-44d6-aa26-433a3d5237b1",
   "metadata": {
    "slideshow": {
     "slide_type": "fragment"
    },
    "tags": []
   },
   "outputs": [],
   "source": [
    " * Simulation code based on Borusyak et al. (2021) authored by Kirill Borusyak\n",
    "// Generate a complete panel of 500 units observed in 15 periods\n",
    "clear all\n",
    "timer clear\n",
    "set seed 10\n",
    "global T = 15\n",
    "global I = 500\n",
    "set obs `=$I*$T'\n",
    "gen i = int((_n-1)/$T )+1 \t\t\t\t\t// unit id\n",
    "gen t = mod((_n-1),$T )+1\t\t\t\t\t// calendar period\n",
    "tsset i t\n",
    "// Randomly generate treatment rollout years uniformly across Ei=10..16 (note that periods t>=16 would not be useful since all units are treated by then)\n",
    "gen Ei = ceil(runiform()*7)+$T -6 if t==1\t// year when unit is first treated\n",
    "bys i (t): replace Ei = Ei[1]\n",
    "gen K = t-Ei \t\t\t\t\t\t\t\t// \"relative time\", i.e. the number periods since treated (could be missing if never-treated)\n",
    "gen D = K>=0 & Ei!=. \t\t\t\t\t\t// treatment indicator\n",
    "// Generate the outcome with parallel trends and heterogeneous treatment effects\n",
    "gen tau = cond(D==1, (t-12.5), 0) \t\t\t// dynamic treatment effects\n",
    "gen eps = rnormal()\t\t\t\t\t\t\t// error term\n",
    "gen Y = i + 3*t + tau*D + eps \t\t\t\t// the outcome (FEs play no role since all methods control for them)"
   ]
  },
  {
   "cell_type": "markdown",
   "id": "5f74eed3-2f03-4257-a9f7-adbf8721dd40",
   "metadata": {
    "slideshow": {
     "slide_type": "subslide"
    },
    "tags": []
   },
   "source": [
    "### Bacon's Decomposition"
   ]
  },
  {
   "cell_type": "code",
   "execution_count": 211,
   "id": "f1a7c8f8-daa5-4d35-826e-81c6ade0897e",
   "metadata": {
    "slideshow": {
     "slide_type": "fragment"
    },
    "tags": []
   },
   "outputs": [
    {
     "name": "stdout",
     "output_type": "stream",
     "text": [
      "\n",
      "\n",
      "Calculating treatment times...\n",
      "Calculating weights...\n",
      "Estimating 2x2 diff-in-diff regressions...\n",
      "\n",
      "Diff-in-diff estimate: 0.066    \n",
      "\n",
      "DD Comparison              Weight      Avg DD Est\n",
      "-------------------------------------------------\n",
      "Earlier T vs. Later C       0.490          -0.459\n",
      "Later T vs. Earlier C       0.097          -1.100\n",
      "T vs. Never treated         0.414           0.960\n",
      "-------------------------------------------------\n",
      "T = Treatment; C = Control\n"
     ]
    }
   ],
   "source": [
    "qui xtreg Y D i.t, fe robust\n",
    "bacondecomp Y D, ddetail"
   ]
  },
  {
   "cell_type": "markdown",
   "id": "a4b4a109-ea67-4534-ae13-6972611e995c",
   "metadata": {
    "slideshow": {
     "slide_type": "subslide"
    },
    "tags": []
   },
   "source": [
    "### TWFE "
   ]
  },
  {
   "cell_type": "code",
   "execution_count": null,
   "id": "7d21f64a-0c27-49b4-8e0a-391c4e842e47",
   "metadata": {
    "slideshow": {
     "slide_type": "fragment"
    },
    "tags": []
   },
   "outputs": [],
   "source": [
    "// Estimation with eventstudyinteract of Sun and Abraham (2020)\n",
    "sum Ei\n",
    "gen lastcohort = Ei==r(max) // dummy for the latest- or never-treated cohort\n",
    "forvalues l = 0/5 {\n",
    "\tgen L`l'event = K==`l'\n",
    "}\n",
    "forvalues l = 1/14 {\n",
    "\tgen F`l'event = K==-`l'\n",
    "}\n",
    "drop F1event // normalize K=-1 (and also K=-15) to zero"
   ]
  },
  {
   "cell_type": "code",
   "execution_count": null,
   "id": "6ce25bce-f0dc-4acf-888b-625485e4534f",
   "metadata": {
    "slideshow": {
     "slide_type": "subslide"
    },
    "tags": []
   },
   "outputs": [],
   "source": [
    "// TWFE OLS estimation (which is correct here because of treatment effect homogeneity). Some groups could be binned.\n",
    "reghdfe Y F*event L*event, a(i t) cluster(i)\n",
    "estimates store ols // saving the estimates for later"
   ]
  },
  {
   "cell_type": "markdown",
   "id": "057fb3f3-8e5d-46d1-863c-16c76d87c296",
   "metadata": {
    "slideshow": {
     "slide_type": "subslide"
    },
    "tags": []
   },
   "source": [
    "### Sun and Abraham (2020)"
   ]
  },
  {
   "cell_type": "code",
   "execution_count": null,
   "id": "01122713-a78b-4209-8998-1b2ac0331502",
   "metadata": {
    "slideshow": {
     "slide_type": "fragment"
    },
    "tags": []
   },
   "outputs": [],
   "source": [
    "eventstudyinteract Y L*event F*event, vce(cluster i) absorb(i t) cohort(Ei) control_cohort(lastcohort)\n",
    "matrix sa_b = e(b_iw) // storing the estimates for later\n",
    "matrix sa_v = e(V_iw)"
   ]
  },
  {
   "cell_type": "markdown",
   "id": "5dfe5b41-e83b-480c-9445-b614f2c95d70",
   "metadata": {
    "slideshow": {
     "slide_type": "subslide"
    },
    "tags": []
   },
   "source": [
    "### Callaway and Sant'Anna (2020)"
   ]
  },
  {
   "cell_type": "code",
   "execution_count": null,
   "id": "678a6670-2461-4093-bd13-fa7b917447cd",
   "metadata": {
    "slideshow": {
     "slide_type": "fragment"
    },
    "tags": []
   },
   "outputs": [],
   "source": [
    "// Estimation with cldid of Callaway and Sant'Anna (2020)\n",
    "gen gvar = cond(Ei==., 0, Ei) //group variable as required for the csdid command\n",
    "csdid Y, ivar(i) time(t) gvar(gvar) notyet\n",
    "estat event, estore(cs) // this produces and stores the estimates at the same time"
   ]
  },
  {
   "cell_type": "markdown",
   "id": "2b88ab99-21c1-429c-ada9-28695d9b8594",
   "metadata": {
    "slideshow": {
     "slide_type": "subslide"
    },
    "tags": []
   },
   "source": [
    "### de Chaisemartin and D'Haultfoeuille (2020)"
   ]
  },
  {
   "cell_type": "code",
   "execution_count": null,
   "id": "5a718013-523f-41cc-8268-defd07b467c0",
   "metadata": {
    "slideshow": {
     "slide_type": "fragment"
    },
    "tags": []
   },
   "outputs": [],
   "source": [
    "did_multiplegt Y i t D, robust_dynamic dynamic(5) placebo(5) breps(100) cluster(i) \n",
    "matrix dcdh_b = e(estimates) // storing the estimates for later\n",
    "matrix dcdh_v = e(variances)"
   ]
  },
  {
   "cell_type": "markdown",
   "id": "e2f247d5-dafe-4daf-8545-44f695b24c85",
   "metadata": {
    "slideshow": {
     "slide_type": "subslide"
    },
    "tags": []
   },
   "source": [
    "### Borusyak et al. (2021)"
   ]
  },
  {
   "cell_type": "code",
   "execution_count": null,
   "id": "2b1a3b79-9165-4619-921c-86e33bee664d",
   "metadata": {
    "slideshow": {
     "slide_type": "fragment"
    },
    "tags": []
   },
   "outputs": [],
   "source": [
    "// Estimation with did_imputation of Borusyak et al. (2021)\n",
    "did_imputation Y i t Ei, allhorizons pretrend(5)\n",
    "estimates store bjs // storing the estimates for later"
   ]
  },
  {
   "cell_type": "markdown",
   "id": "4d8480d1-152c-477e-bc4d-3e6f6fb0164d",
   "metadata": {
    "slideshow": {
     "slide_type": "subslide"
    },
    "tags": []
   },
   "source": [
    "### Combined Results in a Graph"
   ]
  },
  {
   "cell_type": "code",
   "execution_count": 205,
   "id": "abbd2473-cae0-416a-b427-a621f5d4c33e",
   "metadata": {
    "slideshow": {
     "slide_type": "skip"
    },
    "tags": []
   },
   "outputs": [],
   "source": [
    "// Construct the vector of true average treatment effects by the number of periods since treatment\n",
    "matrix btrue = J(1,6,.)\n",
    "matrix colnames btrue = tau0 tau1 tau2 tau3 tau4 tau5\n",
    "qui forvalues h = 0/5 {\n",
    "\tsum tau if K==`h'\n",
    "\tmatrix btrue[1,`h'+1]=r(mean)\n",
    "}"
   ]
  },
  {
   "cell_type": "code",
   "execution_count": 207,
   "id": "947bc71d-92ac-45d2-aac1-89e9a17afbf5",
   "metadata": {
    "slideshow": {
     "slide_type": "skip"
    },
    "tags": []
   },
   "outputs": [
    {
     "name": "stdout",
     "output_type": "stream",
     "text": [
      "\n",
      "\n",
      "(file five_estimators_example.png written in PNG format)\n"
     ]
    }
   ],
   "source": [
    "// Combine all plots using the stored estimates\n",
    "event_plot btrue# bjs dcdh_b#dcdh_v cs sa_b#sa_v ols, ///\n",
    "\tstub_lag(tau# tau# Effect_# T+# L#event L#event) stub_lead(pre# pre# Placebo_# T-# F#event F#event) plottype(scatter) ciplottype(rcap) ///\n",
    "\ttogether perturb(-0.325(0.13)0.325) trimlead(5) noautolegend ///\n",
    "\tgraph_opt(title(\"Event study estimators in a simulated panel (500 units, 15 periods)\", size(medlarge)) ///\n",
    "\t\txtitle(\"Periods since the event\") ytitle(\"Average causal effect\") xlabel(-5(1)5) ylabel(0(1)3) ///\n",
    "\t\tlegend(order(1 \"True value\" 2 \"Borusyak et al.\" 4 \"de Chaisemartin-D'Haultfoeuille\" ///\n",
    "\t\t\t\t6 \"Callaway-Sant'Anna\" 8 \"Sun-Abraham\" 10 \"OLS\") rows(3) region(style(none))) ///\n",
    "\t/// the following lines replace default_look with something more elaborate\n",
    "\t\txline(-0.5, lcolor(gs8) lpattern(dash)) yline(0, lcolor(gs8)) graphregion(color(white)) bgcolor(white) ylabel(, angle(horizontal)) ///\n",
    "\t) ///\n",
    "\tlag_opt1(msymbol(+) color(cranberry)) lag_ci_opt1(color(cranberry)) ///\n",
    "\tlag_opt2(msymbol(O) color(cranberry)) lag_ci_opt2(color(cranberry)) ///\n",
    "\tlag_opt3(msymbol(Dh) color(navy)) lag_ci_opt3(color(navy)) ///\n",
    "\tlag_opt4(msymbol(Th) color(forest_green)) lag_ci_opt4(color(forest_green)) ///\n",
    "\tlag_opt5(msymbol(Sh) color(dkorange)) lag_ci_opt5(color(dkorange)) ///\n",
    "\tlag_opt6(msymbol(Oh) color(purple)) lag_ci_opt6(color(purple)) \n",
    "graph export \"five_estimators_example.png\", replace"
   ]
  },
  {
   "attachments": {
    "722abe42-b0d1-4272-b123-aba4accfd154.png": {
     "image/png": "[encoded data removed]"
    }
   },
   "cell_type": "markdown",
   "id": "900e244b-7b19-4f54-a1bf-bc017e52ea9f",
   "metadata": {
    "slideshow": {
     "slide_type": "fragment"
    },
    "tags": []
   },
   "source": [
    "![five_estimators_example.png](attachment:722abe42-b0d1-4272-b123-aba4accfd154.png)"
   ]
  }
 ],
 "metadata": {
  "kernelspec": {
   "display_name": "Stata",
   "language": "stata",
   "name": "stata"
  },
  "language_info": {
   "codemirror_mode": "stata",
   "file_extension": ".do",
   "mimetype": "text/x-stata",
   "name": "stata",
   "version": "15.1"
  }
 },
 "nbformat": 4,
 "nbformat_minor": 5
}
