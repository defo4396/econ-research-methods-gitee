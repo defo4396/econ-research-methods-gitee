{
 "cells": [
  {
   "cell_type": "markdown",
   "metadata": {},
   "source": [
    "Assignment 1\n",
    "---\n",
    "*Empirical Methods in Economics and Business Studies*\n",
    "\n",
    "*Spring 2025*\n",
    "\n",
    "*Instructor: 陈志远*\n",
    "\n",
    "Due: 2025-4-18\n",
    "\n",
    "\n",
    "**Notes**: \n",
    "- This assignment requires to you to use both `Python` and `Stata`.\n",
    "- Please submit your assignment as a Jupyter notebook.\n",
    "- You are strongly encouraged to use LLMs to help with your coding. "
   ]
  },
  {
   "cell_type": "markdown",
   "metadata": {},
   "source": [
    "##### 0. Background Information \n",
    "Here I describe how I generate (or simulate) the data that you will be using in this assignment. \n",
    "\n",
    "The data is generated using the following model:\n",
    "$$\n",
    "Y_i = \\beta_0 + \\beta_1 D_i + \\beta_2 X_i + \\epsilon_i \\tag{1}\n",
    "$$\n",
    "* $\\epsilon_i$ is the error term, $\\epsilon_i \\sim \\mathbb{N}(0, 1)$\n",
    "* $\\beta_0 = 1$ is the constant term\n",
    "* $X_i$ is a continuous covariate, $X_i \\sim \\mathbb{N}(1, 2^2)$, and $\\beta_2 = 0.5$ is the coefficient of $X_i$\n",
    "* $D_i$ is a binary treatment variable (1 if treated, 0 if not), the assignment to treatment is determined by the following rule:\n",
    "$$\n",
    "D_i = \\begin{cases}\n",
    "1 & \\text{if } X_i \\geq v_i \\\\\n",
    "0 & \\text{otherwise}\n",
    "\\end{cases} \\tag{2}\n",
    "$$\n",
    "where $v_i$ is a random variable, $v_i \\sim \\mathbb{N}(1.5, 0.5^2)$, and $\\beta_1 = 0.2$ is the coefficient of $D_i$.\n",
    "* $Y_i$ is the dependent variable (outcome variable).\n",
    "* The sample size is $N = 1000$.\n",
    "\n",
    "The python code below generates the data according to the model above. "
   ]
  },
  {
   "cell_type": "markdown",
   "metadata": {},
   "source": [
    "```python\n",
    "# Simulate the data set \n",
    "import numpy as np \n",
    "import pandas as pd \n",
    "\n",
    "#define the parameters \n",
    "beta0 = 1\n",
    "beta1 = 0.2\n",
    "beta2 = 0.5\n",
    "# generate random variables \n",
    "np.random.seed(1000)\n",
    "n = 1000\n",
    "epsilon = np.random.normal(0, 1, n)\n",
    "x = np.random.normal(1, 2, n)\n",
    "v = np.random.normal(1.5, 0.5**2, n)\n",
    "#generate the treatment variable as an array of 0s and 1s\n",
    "D = np.zeros(n)\n",
    "for i in range(n):\n",
    "    if x[i] >= v[i]:\n",
    "        D[i] = 1\n",
    "# generate the treatment variable\n",
    "y = beta0 + beta1 * D + beta2 * x + epsilon \n",
    "# store the data in a csv file \n",
    "data = pd.DataFrame({'y': y, 'D': D, 'x': x})\n",
    "data.to_csv('estimation_sample.csv', index=False)\n",
    "```"
   ]
  },
  {
   "cell_type": "markdown",
   "metadata": {},
   "source": [
    "### Problems \n",
    "\n",
    "1. Load the data and provide a table of summary statistics for the variables in the data set.\n",
    "2. Estimate the following model in different ways:\n",
    "   $$\n",
    "Y_i = \\alpha_0 + \\alpha_1 D_i + \\eta_i \\tag{3}\n",
    "   $$\n",
    "where $\\eta_i$ is the error term. \n",
    "    * Without using any package for OLS regression, use `Python` to directly write down the estimates and standard errors using the OLS estimator and heteroskedasticity-robust standard errors.\n",
    "    * Use the package `statsmodels` to estimate the model and report the estimates and standard errors.\n",
    "    * Use the package `pystata` to call `Stata` from `Python` to estimate the model and report the estimates and standard errors. \n",
    "3. Estimate the following model in different ways and explain the differences in the coefficient estimates for $D_i$: \n",
    "   $$\n",
    "  Y_i = \\alpha_0 + \\alpha_1 D_i + \\alpha_2 X_i +  \\eta_i \\tag{4}\n",
    "   $$\n",
    "    where $\\eta_i$ is the error term. \n",
    "    * Without using any package for OLS regression, use `Python` to directly write down the estimates and standard errors using the OLS estimator and heteroskedasticity-robust standard errors.\n",
    "    * Use the package `statsmodels` to estimate the model and report the estimates and standard errors.\n",
    "    * Use the package `pystata` to call `Stata` from `Python` to estimate the model and report the estimates and standard errors. \n",
    "4. **Resampling**: \n",
    "    * Randomly draw a sample of size 500 from the data set and calculate the OLS estimates and standard errors of $\\alpha_1$ for model (4) using the sample. \n",
    "    * Repeat the above step 1000 times, store your estimates and standard errors:\n",
    "      *  Plot the distribution of your estimates and standard errors and draw the estimate/standard errors of $\\alpha_1$ obtained from question 3. \n",
    "      *  Calculate the standard deviation of your estimates and compare it with the standard error of $\\alpha_1$ obtained from question 3.\n",
    "    *  Wrap up your code in a function called `ols_resampling` that takes the data set and the number of resamples as arguments."
   ]
  }
 ],
 "metadata": {
  "kernelspec": {
   "display_name": "base",
   "language": "python",
   "name": "python3"
  },
  "language_info": {
   "codemirror_mode": {
    "name": "ipython",
    "version": 3
   },
   "file_extension": ".py",
   "mimetype": "text/x-python",
   "name": "python",
   "nbconvert_exporter": "python",
   "pygments_lexer": "ipython3",
   "version": "3.10.9"
  }
 },
 "nbformat": 4,
 "nbformat_minor": 2
}
