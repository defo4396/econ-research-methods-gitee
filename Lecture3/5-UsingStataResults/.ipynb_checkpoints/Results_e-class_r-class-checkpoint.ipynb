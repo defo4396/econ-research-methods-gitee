{
 "cells": [
  {
   "cell_type": "markdown",
   "metadata": {},
   "source": [
    "# Basics of Programming in Stata\n",
    "2020-11-21\n",
    "\n",
    "_Zhiyuan Chen, Department of Trade Economics_\n",
    "* Main Reference: _A. Colin Cameron and Pravin K. Trivedi, Microeconometrics Using Stata, Second Edition, 2010, Chapter 1_"
   ]
  },
  {
   "cell_type": "markdown",
   "metadata": {},
   "source": [
    "<u>__Goal:__</u>\n",
    "\n",
    "Our aim is to enable analysis that uses more than just Stata build-in commands and printed output. Much of the econometrics anslysis requires further computations after using Stata commands."
   ]
  },
  {
   "cell_type": "markdown",
   "metadata": {},
   "source": [
    "## Using results from the r-class commands\n",
    "The Stata commands that analyze the data but do not estimate parameters are r-class commands. All r-class commands save their results in r(). The contents stored in `r()` can be returned by typing `return list`. \n"
   ]
  },
  {
   "cell_type": "code",
   "execution_count": 56,
   "metadata": {},
   "outputs": [
    {
     "name": "stdout",
     "output_type": "stream",
     "text": [
      "\n",
      "\n",
      "\n",
      "    Variable |        Obs        Mean    Std. Dev.       Min        Max\n",
      "-------------+---------------------------------------------------------\n",
      "         mpg |         74     21.2973    5.785503         12         41\n"
     ]
    }
   ],
   "source": [
    "* illustration of return list for r-class command summarize\n",
    "quietly sysuse auto,clear\n",
    "sum mpg"
   ]
  },
  {
   "cell_type": "code",
   "execution_count": 57,
   "metadata": {},
   "outputs": [
    {
     "name": "stdout",
     "output_type": "stream",
     "text": [
      "\n",
      "scalars:\n",
      "                r(sum) =  1576\n",
      "                r(max) =  41\n",
      "                r(min) =  12\n",
      "                 r(sd) =  5.785503209735141\n",
      "                r(Var) =  33.47204738985561\n",
      "               r(mean) =  21.2972972972973\n",
      "              r(sum_w) =  74\n",
      "                  r(N) =  74\n"
     ]
    }
   ],
   "source": [
    "return list"
   ]
  },
  {
   "cell_type": "markdown",
   "metadata": {},
   "source": [
    "There are eight separate results stored as Stata scalars with names `r(N)`, `r(sum_w)`... We want to use them after running the command `summarize`. "
   ]
  },
  {
   "cell_type": "code",
   "execution_count": 58,
   "metadata": {},
   "outputs": [
    {
     "name": "stdout",
     "output_type": "stream",
     "text": [
      "\n",
      "\n",
      "\n",
      "Sample range = 29\n"
     ]
    }
   ],
   "source": [
    "* display the difference between maximum and minimum values\n",
    "quietly sum mpg\n",
    "scalar range = r(max) - r(min)\n",
    "display \"Sample range = \" range"
   ]
  },
  {
   "cell_type": "markdown",
   "metadata": {},
   "source": [
    "The results in `r()` disappear when a subsequent r-class command excuted. To avoid this, we can save the interested value as a scalar. Take the sample mean for example:"
   ]
  },
  {
   "cell_type": "code",
   "execution_count": 59,
   "metadata": {},
   "outputs": [
    {
     "name": "stdout",
     "output_type": "stream",
     "text": [
      "\n",
      "\n",
      "21.297297\n"
     ]
    }
   ],
   "source": [
    "* save the sample mean\n",
    "scalar mpg_mean = r(mean)\n",
    "display mpg_mean"
   ]
  },
  {
   "cell_type": "markdown",
   "metadata": {},
   "source": [
    "## Using results from the e-class commands\n",
    "Estimation commands are e-class commands (or estimation-class commands), such as `regress`. The results are stored in `e()`. The contents are listed by typing `ereturn list`."
   ]
  },
  {
   "cell_type": "code",
   "execution_count": 62,
   "metadata": {},
   "outputs": [
    {
     "name": "stdout",
     "output_type": "stream",
     "text": [
      "\n",
      "      Source |       SS           df       MS      Number of obs   =        74\n",
      "-------------+----------------------------------   F(2, 71)        =     66.85\n",
      "       Model |  1595.93249         2  797.966246   Prob > F        =    0.0000\n",
      "    Residual |  847.526967        71  11.9369995   R-squared       =    0.6531\n",
      "-------------+----------------------------------   Adj R-squared   =    0.6434\n",
      "       Total |  2443.45946        73  33.4720474   Root MSE        =     3.455\n",
      "\n",
      "------------------------------------------------------------------------------\n",
      "         mpg |      Coef.   Std. Err.      t    P>|t|     [95% Conf. Interval]\n",
      "-------------+----------------------------------------------------------------\n",
      "       price |  -.0000935   .0001627    -0.57   0.567     -.000418    .0002309\n",
      "      weight |  -.0058175   .0006175    -9.42   0.000    -.0070489   -.0045862\n",
      "       _cons |   39.43966   1.621563    24.32   0.000     36.20635    42.67296\n",
      "------------------------------------------------------------------------------\n"
     ]
    }
   ],
   "source": [
    "* example of OLS regression\n",
    "regress mpg price weight"
   ]
  },
  {
   "cell_type": "code",
   "execution_count": 63,
   "metadata": {},
   "outputs": [
    {
     "name": "stdout",
     "output_type": "stream",
     "text": [
      "\n",
      "scalars:\n",
      "                  e(N) =  74\n",
      "               e(df_m) =  2\n",
      "               e(df_r) =  71\n",
      "                  e(F) =  66.84814256414501\n",
      "                 e(r2) =  .6531446579233134\n",
      "               e(rmse) =  3.454996314099513\n",
      "                e(mss) =  1595.932492798133\n",
      "                e(rss) =  847.5269666613265\n",
      "               e(r2_a) =  .6433740849070687\n",
      "                 e(ll) =  -195.2169813478502\n",
      "               e(ll_0) =  -234.3943376482347\n",
      "               e(rank) =  3\n",
      "\n",
      "macros:\n",
      "            e(cmdline) : \"regress mpg price weight\"\n",
      "              e(title) : \"Linear regression\"\n",
      "          e(marginsok) : \"XB default\"\n",
      "                e(vce) : \"ols\"\n",
      "             e(depvar) : \"mpg\"\n",
      "                e(cmd) : \"regress\"\n",
      "         e(properties) : \"b V\"\n",
      "            e(predict) : \"regres_p\"\n",
      "              e(model) : \"ols\"\n",
      "          e(estat_cmd) : \"regress_estat\"\n",
      "\n",
      "matrices:\n",
      "                  e(b) :  1 x 3\n",
      "                  e(V) :  3 x 3\n",
      "\n",
      "functions:\n",
      "             e(sample)   \n"
     ]
    }
   ],
   "source": [
    "* ereturn list after e-class command regress\n",
    "ereturn list"
   ]
  },
  {
   "cell_type": "code",
   "execution_count": 8,
   "metadata": {},
   "outputs": [
    {
     "name": "stdout",
     "output_type": "stream",
     "text": [
      "\n",
      "scalars:\n",
      "              r(level) =  95\n",
      "\n",
      "matrices:\n",
      "              r(table) :  9 x 3\n"
     ]
    }
   ],
   "source": [
    "*our previous results for the r-class disappears\n",
    "return list"
   ]
  },
  {
   "cell_type": "code",
   "execution_count": 10,
   "metadata": {},
   "outputs": [
    {
     "name": "stdout",
     "output_type": "stream",
     "text": [
      "\n",
      "\n",
      "\n",
      "R-squared = .65314466\n",
      "\n",
      "Adjusted R-squared = .64337408\n"
     ]
    }
   ],
   "source": [
    "* use of e() where scalar to compute the R^2 and adjusted R^2\n",
    "scalar r2 = e(mss)/(e(mss)+e(rss))\n",
    "scalar ar2 = 1- (1-r2)*(e(N)-1)/(e(df_r))\n",
    "display \"R-squared = \" r2\n",
    "display \"Adjusted R-squared = \" ar2"
   ]
  },
  {
   "cell_type": "code",
   "execution_count": 11,
   "metadata": {},
   "outputs": [
    {
     "name": "stdout",
     "output_type": "stream",
     "text": [
      "\n",
      "\n",
      "\n",
      "\n",
      "\n",
      "\n",
      "T-statistic for H0: b_price = 0 is -.57468079\n"
     ]
    }
   ],
   "source": [
    "* Use of e() where matrix\n",
    "matrix best = e(b)\n",
    "scalar bprice= best[1, 1]\n",
    "matrix Vest = e(V)\n",
    "scalar Vprice = Vest[1,1]\n",
    "scalar tprice = bprice/sqrt(Vprice)\n",
    "display \"T-statistic for H0: b_price = 0 is \" tprice"
   ]
  },
  {
   "cell_type": "code",
   "execution_count": 66,
   "metadata": {},
   "outputs": [
    {
     "name": "stdout",
     "output_type": "stream",
     "text": [
      "\n",
      "\n",
      "6165.2568\n"
     ]
    }
   ],
   "source": [
    "qui mean price\n",
    "display _b[price]"
   ]
  },
  {
   "cell_type": "markdown",
   "metadata": {},
   "source": [
    "## 1.3 Postestimation Analysis\n",
    "Various postestimation commands enable predication, computation of redisuals, hypothesis testing, and model specification tests. `ereturn list` and `help regress postestimation` are two useful commands. See Chapter 3.4 in Cameron and Trivedi (2010). "
   ]
  },
  {
   "cell_type": "code",
   "execution_count": 18,
   "metadata": {
    "collapsed": true,
    "jupyter": {
     "outputs_hidden": true
    }
   },
   "outputs": [
    {
     "name": "stdout",
     "output_type": "stream",
     "text": [
      "\n",
      "\n",
      "\n",
      "\n",
      "\n",
      "\n",
      "\n",
      "\n",
      "\n",
      "--------------------------------------------\n",
      "                      (1)             (2)   \n",
      "                     reg1            reg2   \n",
      "--------------------------------------------\n",
      "price             -0.0009***      -0.0001   \n",
      "                 (0.0002)        (0.0002)   \n",
      "--------------------------------------------\n",
      "N                      74              74   \n",
      "r2                 0.2196          0.6531   \n",
      "F                 25.1970         51.1437   \n",
      "Fpvalue            0.1573          0.0194   \n",
      "--------------------------------------------\n",
      "Standard errors in parentheses\n",
      "* p<0.05, ** p<0.01, *** p<0.001\n"
     ]
    }
   ],
   "source": [
    "* A clean way of presenting the regression results\n",
    "capture estimates drop reg1 reg2 //clean the results if reg1 and reg2 are previously stored\n",
    "qui reg mpg price, vce(robust)\n",
    "qui estadd scalar Fpvalue = Ftail(e(df_r), e(df_m), e(F))\n",
    "estimates store reg1 //can be simplified as est sto reg1\n",
    "qui reg mpg price weight, vce(robust)\n",
    "qui estadd scalar Fpvalue = Ftail(e(df_r), e(df_m), e(F))\n",
    "estimates store reg2\n",
    "esttab reg1 reg2, b(%10.4f) se scalars(r2 F Fpvalue) mtitles keep(price)"
   ]
  },
  {
   "cell_type": "markdown",
   "metadata": {},
   "source": [
    "The related user-written commands are `estout`, which allows you to summarize the regression results into a table format in external software such as Excel, Word, or Latex."
   ]
  },
  {
   "cell_type": "markdown",
   "metadata": {},
   "source": [
    "## Global and local macros\n",
    "A macro is a _string_ of characters that stands for _another string of characters_ (can be both  values or strings). For example you can use the macro `X` in place of \"price weight\". This enables us to simplify the codes and make it easier to read. \n",
    "\n",
    "Macros can be global or local. A global macro is accessible across Stata ado-files or throughout a Stata session. A local macro can be acessed only within a given do-file or in the interactive session. "
   ]
  },
  {
   "cell_type": "markdown",
   "metadata": {},
   "source": [
    "### Global macros\n",
    "Global macros are defined with the `global` command and can be accessed by putting a ``$`` immediately before the macro name."
   ]
  },
  {
   "cell_type": "code",
   "execution_count": 20,
   "metadata": {},
   "outputs": [
    {
     "name": "stdout",
     "output_type": "stream",
     "text": [
      "\n",
      "\n",
      "------------------------------------------------------------------------------\n",
      "         mpg |      Coef.   Std. Err.      t    P>|t|     [95% Conf. Interval]\n",
      "-------------+----------------------------------------------------------------\n",
      "       price |  -.0000935   .0001627    -0.57   0.567     -.000418    .0002309\n",
      "      weight |  -.0058175   .0006175    -9.42   0.000    -.0070489   -.0045862\n",
      "       _cons |   39.43966   1.621563    24.32   0.000     36.20635    42.67296\n",
      "------------------------------------------------------------------------------\n"
     ]
    }
   ],
   "source": [
    "* Global macro definition and use\n",
    "\n",
    "global X price weight\n",
    "regress mpg $X, noheader"
   ]
  },
  {
   "cell_type": "markdown",
   "metadata": {},
   "source": [
    "Global macros can be super useful in following ways:\n",
    "* Fitting different models with the same list of regressors: `global X price weight`\n",
    "* We want to hold a key parameter constant throught several different situations: `global Nreps = 100`\n",
    "* Highlight key program parameters, such as the variable used to define the cluster for obtaining the cluster-robust standard errors. "
   ]
  },
  {
   "cell_type": "code",
   "execution_count": 31,
   "metadata": {},
   "outputs": [
    {
     "name": "stdout",
     "output_type": "stream",
     "text": [
      "\n",
      "\n",
      "\n",
      "nreps = 100\n",
      "\n",
      "nreps1 = 120\n"
     ]
    }
   ],
   "source": [
    "global nreps  50 + 50\n",
    "global nreps1  $nreps + 20\n",
    "disp \"nreps = \" $nreps\n",
    "disp \"nreps1 = \" $nreps1"
   ]
  },
  {
   "cell_type": "markdown",
   "metadata": {},
   "source": [
    "### Local macros\n",
    "Local macros are defined with the `local` command and are accessed by  ``` `MacroName' ```. The quote is different from what we usually see, the left code located at the upper left on most keyboards, and the right quote in located at the middle right. "
   ]
  },
  {
   "cell_type": "code",
   "execution_count": 22,
   "metadata": {},
   "outputs": [
    {
     "name": "stdout",
     "output_type": "stream",
     "text": [
      "\n",
      "\n",
      "------------------------------------------------------------------------------\n",
      "         mpg |      Coef.   Std. Err.      t    P>|t|     [95% Conf. Interval]\n",
      "-------------+----------------------------------------------------------------\n",
      "       price |  -.0000935   .0001627    -0.57   0.567     -.000418    .0002309\n",
      "      weight |  -.0058175   .0006175    -9.42   0.000    -.0070489   -.0045862\n",
      "       _cons |   39.43966   1.621563    24.32   0.000     36.20635    42.67296\n",
      "------------------------------------------------------------------------------\n"
     ]
    }
   ],
   "source": [
    "* Local macro definition and use\n",
    "local X \"price weight\"\n",
    "regress mpg `X', noheader  //pay attention to the single quotes"
   ]
  },
  {
   "cell_type": "code",
   "execution_count": 24,
   "metadata": {},
   "outputs": [
    {
     "name": "stdout",
     "output_type": "stream",
     "text": [
      "\n",
      "\n",
      "------------------------------------------------------------------------------\n",
      "         mpg |      Coef.   Std. Err.      t    P>|t|     [95% Conf. Interval]\n",
      "-------------+----------------------------------------------------------------\n",
      "       price |  -.0000935   .0001627    -0.57   0.567     -.000418    .0002309\n",
      "      weight |  -.0058175   .0006175    -9.42   0.000    -.0070489   -.0045862\n",
      "       _cons |   39.43966   1.621563    24.32   0.000     36.20635    42.67296\n",
      "------------------------------------------------------------------------------\n"
     ]
    }
   ],
   "source": [
    "* Local macro definition without double quotes\n",
    "local y mpg\n",
    "regress `y' `X', noheader"
   ]
  },
  {
   "cell_type": "code",
   "execution_count": 29,
   "metadata": {},
   "outputs": [
    {
     "name": "stdout",
     "output_type": "stream",
     "text": [
      "\n",
      "\n",
      "z = 4\n"
     ]
    }
   ],
   "source": [
    "* Local macro definition through function evaluation\n",
    "local z = 2 + 2\n",
    "disp \"z = \" `z'"
   ]
  },
  {
   "cell_type": "markdown",
   "metadata": {},
   "source": [
    "Local macros are especially useful for programming in Stata. For example, you can use ``` `y' ``` and ``` `x' ``` as generic notation for the dependent variable and regressors and greatly enhance the readability of your code. For example, the following progam defines a function for Monte Carlo Simulation."
   ]
  },
  {
   "cell_type": "markdown",
   "metadata": {},
   "source": [
    "```\n",
    "program define mcsimul1, rclass\n",
    "version 10.0\n",
    "syntax [, c(real 1)]\n",
    "tempvar e1 e2\n",
    "gen double ‘e1’=invnorm(uniform())*‘c’*zmu\n",
    "gen double ‘e2’=invnorm(uniform())*‘c’*z_factor\n",
    "replace y1 = true_y + ‘e1’\n",
    "replace y2 = true_y + ‘e2’\n",
    "summ y1\n",
    "return scalar mu1 = r(mean)\n",
    "return scalar se_mu1 = r(sd)/sqrt(r(N))\n",
    "summ y2\n",
    "return scalar mu2 = r(mean)\n",
    "return scalar se_mu2 = r(sd)/sqrt(r(N))\n",
    "return scalar c = ‘c’\n",
    "end\n",
    "```"
   ]
  },
  {
   "cell_type": "markdown",
   "metadata": {},
   "source": [
    "Local macros apply only to the current program and have not potential conflict with other programs. They are preferred to global macros, unless there is a compelling reason to use global macros. "
   ]
  },
  {
   "cell_type": "markdown",
   "metadata": {},
   "source": [
    "### Scalar of macro?\n",
    "\n",
    "* A macro can be used in place of a scalar, but a scalar is simple and faster. Sometimes macros lead to a loss of accuracy because of the conversions into and out of internal binary representation. \n",
    "\n",
    "* The scalar is dropped whenvery `clear all` is used. By contrast, a macro is till retained. "
   ]
  },
  {
   "cell_type": "code",
   "execution_count": 36,
   "metadata": {},
   "outputs": [
    {
     "name": "stdout",
     "output_type": "stream",
     "text": [
      "\n",
      "\n",
      "\n",
      "\n",
      "\n",
      "global macro b =3   local macro c = 4\n",
      "\n",
      "scalar d = 5\n"
     ]
    }
   ],
   "source": [
    "global b 3\n",
    "local c 4\n",
    "scalar d = 5\n",
    "clear \n",
    "disp \"global macro b =\" $b _skip(3) \"local macro c = \" `c'\n",
    "dis \"scalar d = \"d"
   ]
  },
  {
   "cell_type": "code",
   "execution_count": 37,
   "metadata": {},
   "outputs": [
    {
     "name": "stdout",
     "output_type": "stream",
     "text": [
      "\n",
      "\n",
      "global macro b =3   local macro c = 4\n",
      "\n",
      "scalar d = d not found\n"
     ]
    },
    {
     "name": "stderr",
     "output_type": "stream",
     "text": [
      "r(111);\n",
      "r(111);\n"
     ]
    },
    {
     "name": "stdout",
     "output_type": "stream",
     "text": [
      "\n",
      "\n"
     ]
    }
   ],
   "source": [
    "clear all\n",
    "disp \"global macro b =\" $b _skip(3) \"local macro c = \" `c'\n",
    "dis \"scalar d = \"d"
   ]
  },
  {
   "cell_type": "markdown",
   "metadata": {},
   "source": [
    "## Looping commands\n",
    "Stata has three looping constructs: `foreach`, `forvalues` [`forv`], `while`. \n",
    "* `foreach` construct loops over items in a list (variable names, numbers)\n",
    "* `forvalues` construct loops over consecutive values of numbers\n",
    "* `while` stops until a user-defined condition is met. "
   ]
  },
  {
   "cell_type": "code",
   "execution_count": 38,
   "metadata": {},
   "outputs": [
    {
     "name": "stdout",
     "output_type": "stream",
     "text": [
      "\n",
      "\n",
      "number of observations (_N) was 0, now 100\n",
      "\n",
      "\n",
      "\n",
      "\n",
      "\n"
     ]
    }
   ],
   "source": [
    "* Make artificial dataset of 100 observations on 4 uniform variables\n",
    "clear \n",
    "set obs 100\n",
    "set seed 10101\n",
    "gen x1var = runiform()\n",
    "gen x2var = runiform()\n",
    "gen x3var = runiform()\n",
    "gen x4var = runiform()"
   ]
  },
  {
   "cell_type": "code",
   "execution_count": 40,
   "metadata": {},
   "outputs": [
    {
     "name": "stdout",
     "output_type": "stream",
     "text": [
      "(bin=10, start=.01185253, width=.09505106)\n"
     ]
    },
    {
     "data": {
      "application/pdf": "[encoded data removed]",
      "image/svg+xml": [
       "<?xml version=\"1.0\" encoding=\"UTF-8\" standalone=\"no\"?>\n",
       "<!-- This is a Stata 15.1 generated SVG file (http://www.stata.com) -->\n",
       "\n",
       "<svg version=\"1.1\" width=\"600px\" height=\"436px\" viewBox=\"0 0 3960 2880\" xmlns=\"http://www.w3.org/2000/svg\" xmlns:xlink=\"http://www.w3.org/1999/xlink\">\n",
       "\t<desc>Stata Graph - Graph</desc>\n",
       "\t<rect x=\"0\" y=\"0\" width=\"3960\" height=\"2880\" style=\"fill:#EAF2F3;stroke:none\"/>\n",
       "\t<rect x=\"0.00\" y=\"0.00\" width=\"3959.88\" height=\"2880.00\" style=\"fill:#EAF2F3\"/>\n",
       "\t<rect x=\"2.88\" y=\"2.88\" width=\"3954.12\" height=\"2874.24\" style=\"fill:none;stroke:#EAF2F3;stroke-width:5.76\"/>\n",
       "\t<rect x=\"390.80\" y=\"100.86\" width=\"3468.22\" height=\"2388.33\" style=\"fill:#FFFFFF\"/>\n",
       "\t<rect x=\"393.68\" y=\"103.74\" width=\"3462.46\" height=\"2382.57\" style=\"fill:none;stroke:#FFFFFF;stroke-width:5.76\"/>\n",
       "\t<line x1=\"390.80\" y1=\"2489.19\" x2=\"3859.02\" y2=\"2489.19\" style=\"stroke:#EAF2F3;stroke-width:8.64\"/>\n",
       "\t<line x1=\"390.80\" y1=\"1907.91\" x2=\"3859.02\" y2=\"1907.91\" style=\"stroke:#EAF2F3;stroke-width:8.64\"/>\n",
       "\t<line x1=\"390.80\" y1=\"1326.64\" x2=\"3859.02\" y2=\"1326.64\" style=\"stroke:#EAF2F3;stroke-width:8.64\"/>\n",
       "\t<line x1=\"390.80\" y1=\"745.37\" x2=\"3859.02\" y2=\"745.37\" style=\"stroke:#EAF2F3;stroke-width:8.64\"/>\n",
       "\t<rect x=\"607.49\" y=\"532.27\" width=\"306.65\" height=\"1956.92\" style=\"fill:#CAC27E\"/>\n",
       "\t<rect x=\"611.81\" y=\"536.59\" width=\"298.01\" height=\"1948.28\" style=\"fill:none;stroke:#D7D29E;stroke-width:8.64\"/>\n",
       "\t<rect x=\"914.14\" y=\"1021.59\" width=\"306.65\" height=\"1467.60\" style=\"fill:#CAC27E\"/>\n",
       "\t<rect x=\"918.46\" y=\"1025.91\" width=\"298.01\" height=\"1458.96\" style=\"fill:none;stroke:#D7D29E;stroke-width:8.64\"/>\n",
       "\t<rect x=\"1220.79\" y=\"1510.79\" width=\"306.78\" height=\"978.40\" style=\"fill:#CAC27E\"/>\n",
       "\t<rect x=\"1225.11\" y=\"1515.11\" width=\"298.14\" height=\"969.76\" style=\"fill:none;stroke:#D7D29E;stroke-width:8.64\"/>\n",
       "\t<rect x=\"1527.57\" y=\"1877.72\" width=\"306.65\" height=\"611.47\" style=\"fill:#CAC27E\"/>\n",
       "\t<rect x=\"1531.89\" y=\"1882.04\" width=\"298.01\" height=\"602.83\" style=\"fill:none;stroke:#D7D29E;stroke-width:8.64\"/>\n",
       "\t<rect x=\"1834.22\" y=\"1266.13\" width=\"306.65\" height=\"1223.06\" style=\"fill:#CAC27E\"/>\n",
       "\t<rect x=\"1838.54\" y=\"1270.45\" width=\"298.01\" height=\"1214.42\" style=\"fill:none;stroke:#D7D29E;stroke-width:8.64\"/>\n",
       "\t<rect x=\"2140.88\" y=\"1021.59\" width=\"306.65\" height=\"1467.60\" style=\"fill:#CAC27E\"/>\n",
       "\t<rect x=\"2145.19\" y=\"1025.91\" width=\"298.01\" height=\"1458.96\" style=\"fill:none;stroke:#D7D29E;stroke-width:8.64\"/>\n",
       "\t<rect x=\"2447.53\" y=\"776.93\" width=\"306.78\" height=\"1712.26\" style=\"fill:#CAC27E\"/>\n",
       "\t<rect x=\"2451.85\" y=\"781.25\" width=\"298.14\" height=\"1703.62\" style=\"fill:none;stroke:#D7D29E;stroke-width:8.64\"/>\n",
       "\t<rect x=\"2754.30\" y=\"1633.06\" width=\"306.65\" height=\"856.13\" style=\"fill:#CAC27E\"/>\n",
       "\t<rect x=\"2758.62\" y=\"1637.38\" width=\"298.01\" height=\"847.49\" style=\"fill:none;stroke:#D7D29E;stroke-width:8.64\"/>\n",
       "\t<rect x=\"3060.96\" y=\"1510.79\" width=\"306.65\" height=\"978.40\" style=\"fill:#CAC27E\"/>\n",
       "\t<rect x=\"3065.28\" y=\"1515.11\" width=\"298.01\" height=\"969.76\" style=\"fill:none;stroke:#D7D29E;stroke-width:8.64\"/>\n",
       "\t<rect x=\"3367.61\" y=\"1510.79\" width=\"306.65\" height=\"978.40\" style=\"fill:#CAC27E\"/>\n",
       "\t<rect x=\"3371.93\" y=\"1515.11\" width=\"298.01\" height=\"969.76\" style=\"fill:none;stroke:#D7D29E;stroke-width:8.64\"/>\n",
       "\t<line x1=\"390.80\" y1=\"2489.19\" x2=\"390.80\" y2=\"100.86\" style=\"stroke:#000000;stroke-width:5.76\"/>\n",
       "\t<line x1=\"390.80\" y1=\"2489.19\" x2=\"350.83\" y2=\"2489.19\" style=\"stroke:#000000;stroke-width:5.76\"/>\n",
       "\t<text x=\"300.72\" y=\"2489.19\" style=\"font-family:'Helvetica';font-size:99.99px;fill:#000000\" transform=\"rotate(-90 300.72,2489.19)\" text-anchor=\"middle\">0</text>\n",
       "\t<line x1=\"390.80\" y1=\"1907.91\" x2=\"350.83\" y2=\"1907.91\" style=\"stroke:#000000;stroke-width:5.76\"/>\n",
       "\t<text x=\"300.72\" y=\"1907.91\" style=\"font-family:'Helvetica';font-size:99.99px;fill:#000000\" transform=\"rotate(-90 300.72,1907.91)\" text-anchor=\"middle\">.5</text>\n",
       "\t<line x1=\"390.80\" y1=\"1326.64\" x2=\"350.83\" y2=\"1326.64\" style=\"stroke:#000000;stroke-width:5.76\"/>\n",
       "\t<text x=\"300.72\" y=\"1326.64\" style=\"font-family:'Helvetica';font-size:99.99px;fill:#000000\" transform=\"rotate(-90 300.72,1326.64)\" text-anchor=\"middle\">1</text>\n",
       "\t<line x1=\"390.80\" y1=\"745.37\" x2=\"350.83\" y2=\"745.37\" style=\"stroke:#000000;stroke-width:5.76\"/>\n",
       "\t<text x=\"300.72\" y=\"745.37\" style=\"font-family:'Helvetica';font-size:99.99px;fill:#000000\" transform=\"rotate(-90 300.72,745.37)\" text-anchor=\"middle\">1.5</text>\n",
       "\t<line x1=\"390.80\" y1=\"164.22\" x2=\"350.83\" y2=\"164.22\" style=\"stroke:#000000;stroke-width:5.76\"/>\n",
       "\t<text x=\"300.72\" y=\"164.22\" style=\"font-family:'Helvetica';font-size:99.99px;fill:#000000\" transform=\"rotate(-90 300.72,164.22)\" text-anchor=\"middle\">2</text>\n",
       "\t<text x=\"190.71\" y=\"1294.96\" style=\"font-family:'Helvetica';font-size:99.99px;fill:#000000\" transform=\"rotate(-90 190.71,1294.96)\" text-anchor=\"middle\">Density</text>\n",
       "\t<line x1=\"390.80\" y1=\"2489.19\" x2=\"3859.02\" y2=\"2489.19\" style=\"stroke:#000000;stroke-width:5.76\"/>\n",
       "\t<line x1=\"569.25\" y1=\"2489.19\" x2=\"569.25\" y2=\"2529.16\" style=\"stroke:#000000;stroke-width:5.76\"/>\n",
       "\t<text x=\"569.25\" y=\"2619.14\" style=\"font-family:'Helvetica';font-size:99.99px;fill:#000000\" text-anchor=\"middle\">0</text>\n",
       "\t<line x1=\"1214.48\" y1=\"2489.19\" x2=\"1214.48\" y2=\"2529.16\" style=\"stroke:#000000;stroke-width:5.76\"/>\n",
       "\t<text x=\"1214.48\" y=\"2619.14\" style=\"font-family:'Helvetica';font-size:99.99px;fill:#000000\" text-anchor=\"middle\">.2</text>\n",
       "\t<line x1=\"1859.84\" y1=\"2489.19\" x2=\"1859.84\" y2=\"2529.16\" style=\"stroke:#000000;stroke-width:5.76\"/>\n",
       "\t<text x=\"1859.84\" y=\"2619.14\" style=\"font-family:'Helvetica';font-size:99.99px;fill:#000000\" text-anchor=\"middle\">.4</text>\n",
       "\t<line x1=\"2505.07\" y1=\"2489.19\" x2=\"2505.07\" y2=\"2529.16\" style=\"stroke:#000000;stroke-width:5.76\"/>\n",
       "\t<text x=\"2505.07\" y=\"2619.14\" style=\"font-family:'Helvetica';font-size:99.99px;fill:#000000\" text-anchor=\"middle\">.6</text>\n",
       "\t<line x1=\"3150.43\" y1=\"2489.19\" x2=\"3150.43\" y2=\"2529.16\" style=\"stroke:#000000;stroke-width:5.76\"/>\n",
       "\t<text x=\"3150.43\" y=\"2619.14\" style=\"font-family:'Helvetica';font-size:99.99px;fill:#000000\" text-anchor=\"middle\">.8</text>\n",
       "\t<line x1=\"3795.66\" y1=\"2489.19\" x2=\"3795.66\" y2=\"2529.16\" style=\"stroke:#000000;stroke-width:5.76\"/>\n",
       "\t<text x=\"3795.66\" y=\"2619.14\" style=\"font-family:'Helvetica';font-size:99.99px;fill:#000000\" text-anchor=\"middle\">1</text>\n",
       "\t<text x=\"2124.91\" y=\"2729.16\" style=\"font-family:'Helvetica';font-size:99.99px;fill:#000000\" text-anchor=\"middle\">x1var</text>\n",
       "</svg>\n"
      ],
      "text/html": [
       "                <iframe frameborder=\"0\" scrolling=\"no\" height=\"436\" width=\"600\"                srcdoc=\"<html><body>&lt;?xml version=&quot;1.0&quot; encoding=&quot;UTF-8&quot; standalone=&quot;no&quot;?&gt;\n",
       "&lt;!-- This is a Stata 15.1 generated SVG file (http://www.stata.com) --&gt;\n",
       "\n",
       "&lt;svg version=&quot;1.1&quot; width=&quot;600px&quot; height=&quot;436px&quot; viewBox=&quot;0 0 3960 2880&quot; xmlns=&quot;http://www.w3.org/2000/svg&quot; xmlns:xlink=&quot;http://www.w3.org/1999/xlink&quot;&gt;\n",
       "\t&lt;desc&gt;Stata Graph - Graph&lt;/desc&gt;\n",
       "\t&lt;rect x=&quot;0&quot; y=&quot;0&quot; width=&quot;3960&quot; height=&quot;2880&quot; style=&quot;fill:#EAF2F3;stroke:none&quot;/&gt;\n",
       "\t&lt;rect x=&quot;0.00&quot; y=&quot;0.00&quot; width=&quot;3959.88&quot; height=&quot;2880.00&quot; style=&quot;fill:#EAF2F3&quot;/&gt;\n",
       "\t&lt;rect x=&quot;2.88&quot; y=&quot;2.88&quot; width=&quot;3954.12&quot; height=&quot;2874.24&quot; style=&quot;fill:none;stroke:#EAF2F3;stroke-width:5.76&quot;/&gt;\n",
       "\t&lt;rect x=&quot;390.80&quot; y=&quot;100.86&quot; width=&quot;3468.22&quot; height=&quot;2388.33&quot; style=&quot;fill:#FFFFFF&quot;/&gt;\n",
       "\t&lt;rect x=&quot;393.68&quot; y=&quot;103.74&quot; width=&quot;3462.46&quot; height=&quot;2382.57&quot; style=&quot;fill:none;stroke:#FFFFFF;stroke-width:5.76&quot;/&gt;\n",
       "\t&lt;line x1=&quot;390.80&quot; y1=&quot;2489.19&quot; x2=&quot;3859.02&quot; y2=&quot;2489.19&quot; style=&quot;stroke:#EAF2F3;stroke-width:8.64&quot;/&gt;\n",
       "\t&lt;line x1=&quot;390.80&quot; y1=&quot;1907.91&quot; x2=&quot;3859.02&quot; y2=&quot;1907.91&quot; style=&quot;stroke:#EAF2F3;stroke-width:8.64&quot;/&gt;\n",
       "\t&lt;line x1=&quot;390.80&quot; y1=&quot;1326.64&quot; x2=&quot;3859.02&quot; y2=&quot;1326.64&quot; style=&quot;stroke:#EAF2F3;stroke-width:8.64&quot;/&gt;\n",
       "\t&lt;line x1=&quot;390.80&quot; y1=&quot;745.37&quot; x2=&quot;3859.02&quot; y2=&quot;745.37&quot; style=&quot;stroke:#EAF2F3;stroke-width:8.64&quot;/&gt;\n",
       "\t&lt;rect x=&quot;607.49&quot; y=&quot;532.27&quot; width=&quot;306.65&quot; height=&quot;1956.92&quot; style=&quot;fill:#CAC27E&quot;/&gt;\n",
       "\t&lt;rect x=&quot;611.81&quot; y=&quot;536.59&quot; width=&quot;298.01&quot; height=&quot;1948.28&quot; style=&quot;fill:none;stroke:#D7D29E;stroke-width:8.64&quot;/&gt;\n",
       "\t&lt;rect x=&quot;914.14&quot; y=&quot;1021.59&quot; width=&quot;306.65&quot; height=&quot;1467.60&quot; style=&quot;fill:#CAC27E&quot;/&gt;\n",
       "\t&lt;rect x=&quot;918.46&quot; y=&quot;1025.91&quot; width=&quot;298.01&quot; height=&quot;1458.96&quot; style=&quot;fill:none;stroke:#D7D29E;stroke-width:8.64&quot;/&gt;\n",
       "\t&lt;rect x=&quot;1220.79&quot; y=&quot;1510.79&quot; width=&quot;306.78&quot; height=&quot;978.40&quot; style=&quot;fill:#CAC27E&quot;/&gt;\n",
       "\t&lt;rect x=&quot;1225.11&quot; y=&quot;1515.11&quot; width=&quot;298.14&quot; height=&quot;969.76&quot; style=&quot;fill:none;stroke:#D7D29E;stroke-width:8.64&quot;/&gt;\n",
       "\t&lt;rect x=&quot;1527.57&quot; y=&quot;1877.72&quot; width=&quot;306.65&quot; height=&quot;611.47&quot; style=&quot;fill:#CAC27E&quot;/&gt;\n",
       "\t&lt;rect x=&quot;1531.89&quot; y=&quot;1882.04&quot; width=&quot;298.01&quot; height=&quot;602.83&quot; style=&quot;fill:none;stroke:#D7D29E;stroke-width:8.64&quot;/&gt;\n",
       "\t&lt;rect x=&quot;1834.22&quot; y=&quot;1266.13&quot; width=&quot;306.65&quot; height=&quot;1223.06&quot; style=&quot;fill:#CAC27E&quot;/&gt;\n",
       "\t&lt;rect x=&quot;1838.54&quot; y=&quot;1270.45&quot; width=&quot;298.01&quot; height=&quot;1214.42&quot; style=&quot;fill:none;stroke:#D7D29E;stroke-width:8.64&quot;/&gt;\n",
       "\t&lt;rect x=&quot;2140.88&quot; y=&quot;1021.59&quot; width=&quot;306.65&quot; height=&quot;1467.60&quot; style=&quot;fill:#CAC27E&quot;/&gt;\n",
       "\t&lt;rect x=&quot;2145.19&quot; y=&quot;1025.91&quot; width=&quot;298.01&quot; height=&quot;1458.96&quot; style=&quot;fill:none;stroke:#D7D29E;stroke-width:8.64&quot;/&gt;\n",
       "\t&lt;rect x=&quot;2447.53&quot; y=&quot;776.93&quot; width=&quot;306.78&quot; height=&quot;1712.26&quot; style=&quot;fill:#CAC27E&quot;/&gt;\n",
       "\t&lt;rect x=&quot;2451.85&quot; y=&quot;781.25&quot; width=&quot;298.14&quot; height=&quot;1703.62&quot; style=&quot;fill:none;stroke:#D7D29E;stroke-width:8.64&quot;/&gt;\n",
       "\t&lt;rect x=&quot;2754.30&quot; y=&quot;1633.06&quot; width=&quot;306.65&quot; height=&quot;856.13&quot; style=&quot;fill:#CAC27E&quot;/&gt;\n",
       "\t&lt;rect x=&quot;2758.62&quot; y=&quot;1637.38&quot; width=&quot;298.01&quot; height=&quot;847.49&quot; style=&quot;fill:none;stroke:#D7D29E;stroke-width:8.64&quot;/&gt;\n",
       "\t&lt;rect x=&quot;3060.96&quot; y=&quot;1510.79&quot; width=&quot;306.65&quot; height=&quot;978.40&quot; style=&quot;fill:#CAC27E&quot;/&gt;\n",
       "\t&lt;rect x=&quot;3065.28&quot; y=&quot;1515.11&quot; width=&quot;298.01&quot; height=&quot;969.76&quot; style=&quot;fill:none;stroke:#D7D29E;stroke-width:8.64&quot;/&gt;\n",
       "\t&lt;rect x=&quot;3367.61&quot; y=&quot;1510.79&quot; width=&quot;306.65&quot; height=&quot;978.40&quot; style=&quot;fill:#CAC27E&quot;/&gt;\n",
       "\t&lt;rect x=&quot;3371.93&quot; y=&quot;1515.11&quot; width=&quot;298.01&quot; height=&quot;969.76&quot; style=&quot;fill:none;stroke:#D7D29E;stroke-width:8.64&quot;/&gt;\n",
       "\t&lt;line x1=&quot;390.80&quot; y1=&quot;2489.19&quot; x2=&quot;390.80&quot; y2=&quot;100.86&quot; style=&quot;stroke:#000000;stroke-width:5.76&quot;/&gt;\n",
       "\t&lt;line x1=&quot;390.80&quot; y1=&quot;2489.19&quot; x2=&quot;350.83&quot; y2=&quot;2489.19&quot; style=&quot;stroke:#000000;stroke-width:5.76&quot;/&gt;\n",
       "\t&lt;text x=&quot;300.72&quot; y=&quot;2489.19&quot; style=&quot;font-family:&#x27;Helvetica&#x27;;font-size:99.99px;fill:#000000&quot; transform=&quot;rotate(-90 300.72,2489.19)&quot; text-anchor=&quot;middle&quot;&gt;0&lt;/text&gt;\n",
       "\t&lt;line x1=&quot;390.80&quot; y1=&quot;1907.91&quot; x2=&quot;350.83&quot; y2=&quot;1907.91&quot; style=&quot;stroke:#000000;stroke-width:5.76&quot;/&gt;\n",
       "\t&lt;text x=&quot;300.72&quot; y=&quot;1907.91&quot; style=&quot;font-family:&#x27;Helvetica&#x27;;font-size:99.99px;fill:#000000&quot; transform=&quot;rotate(-90 300.72,1907.91)&quot; text-anchor=&quot;middle&quot;&gt;.5&lt;/text&gt;\n",
       "\t&lt;line x1=&quot;390.80&quot; y1=&quot;1326.64&quot; x2=&quot;350.83&quot; y2=&quot;1326.64&quot; style=&quot;stroke:#000000;stroke-width:5.76&quot;/&gt;\n",
       "\t&lt;text x=&quot;300.72&quot; y=&quot;1326.64&quot; style=&quot;font-family:&#x27;Helvetica&#x27;;font-size:99.99px;fill:#000000&quot; transform=&quot;rotate(-90 300.72,1326.64)&quot; text-anchor=&quot;middle&quot;&gt;1&lt;/text&gt;\n",
       "\t&lt;line x1=&quot;390.80&quot; y1=&quot;745.37&quot; x2=&quot;350.83&quot; y2=&quot;745.37&quot; style=&quot;stroke:#000000;stroke-width:5.76&quot;/&gt;\n",
       "\t&lt;text x=&quot;300.72&quot; y=&quot;745.37&quot; style=&quot;font-family:&#x27;Helvetica&#x27;;font-size:99.99px;fill:#000000&quot; transform=&quot;rotate(-90 300.72,745.37)&quot; text-anchor=&quot;middle&quot;&gt;1.5&lt;/text&gt;\n",
       "\t&lt;line x1=&quot;390.80&quot; y1=&quot;164.22&quot; x2=&quot;350.83&quot; y2=&quot;164.22&quot; style=&quot;stroke:#000000;stroke-width:5.76&quot;/&gt;\n",
       "\t&lt;text x=&quot;300.72&quot; y=&quot;164.22&quot; style=&quot;font-family:&#x27;Helvetica&#x27;;font-size:99.99px;fill:#000000&quot; transform=&quot;rotate(-90 300.72,164.22)&quot; text-anchor=&quot;middle&quot;&gt;2&lt;/text&gt;\n",
       "\t&lt;text x=&quot;190.71&quot; y=&quot;1294.96&quot; style=&quot;font-family:&#x27;Helvetica&#x27;;font-size:99.99px;fill:#000000&quot; transform=&quot;rotate(-90 190.71,1294.96)&quot; text-anchor=&quot;middle&quot;&gt;Density&lt;/text&gt;\n",
       "\t&lt;line x1=&quot;390.80&quot; y1=&quot;2489.19&quot; x2=&quot;3859.02&quot; y2=&quot;2489.19&quot; style=&quot;stroke:#000000;stroke-width:5.76&quot;/&gt;\n",
       "\t&lt;line x1=&quot;569.25&quot; y1=&quot;2489.19&quot; x2=&quot;569.25&quot; y2=&quot;2529.16&quot; style=&quot;stroke:#000000;stroke-width:5.76&quot;/&gt;\n",
       "\t&lt;text x=&quot;569.25&quot; y=&quot;2619.14&quot; style=&quot;font-family:&#x27;Helvetica&#x27;;font-size:99.99px;fill:#000000&quot; text-anchor=&quot;middle&quot;&gt;0&lt;/text&gt;\n",
       "\t&lt;line x1=&quot;1214.48&quot; y1=&quot;2489.19&quot; x2=&quot;1214.48&quot; y2=&quot;2529.16&quot; style=&quot;stroke:#000000;stroke-width:5.76&quot;/&gt;\n",
       "\t&lt;text x=&quot;1214.48&quot; y=&quot;2619.14&quot; style=&quot;font-family:&#x27;Helvetica&#x27;;font-size:99.99px;fill:#000000&quot; text-anchor=&quot;middle&quot;&gt;.2&lt;/text&gt;\n",
       "\t&lt;line x1=&quot;1859.84&quot; y1=&quot;2489.19&quot; x2=&quot;1859.84&quot; y2=&quot;2529.16&quot; style=&quot;stroke:#000000;stroke-width:5.76&quot;/&gt;\n",
       "\t&lt;text x=&quot;1859.84&quot; y=&quot;2619.14&quot; style=&quot;font-family:&#x27;Helvetica&#x27;;font-size:99.99px;fill:#000000&quot; text-anchor=&quot;middle&quot;&gt;.4&lt;/text&gt;\n",
       "\t&lt;line x1=&quot;2505.07&quot; y1=&quot;2489.19&quot; x2=&quot;2505.07&quot; y2=&quot;2529.16&quot; style=&quot;stroke:#000000;stroke-width:5.76&quot;/&gt;\n",
       "\t&lt;text x=&quot;2505.07&quot; y=&quot;2619.14&quot; style=&quot;font-family:&#x27;Helvetica&#x27;;font-size:99.99px;fill:#000000&quot; text-anchor=&quot;middle&quot;&gt;.6&lt;/text&gt;\n",
       "\t&lt;line x1=&quot;3150.43&quot; y1=&quot;2489.19&quot; x2=&quot;3150.43&quot; y2=&quot;2529.16&quot; style=&quot;stroke:#000000;stroke-width:5.76&quot;/&gt;\n",
       "\t&lt;text x=&quot;3150.43&quot; y=&quot;2619.14&quot; style=&quot;font-family:&#x27;Helvetica&#x27;;font-size:99.99px;fill:#000000&quot; text-anchor=&quot;middle&quot;&gt;.8&lt;/text&gt;\n",
       "\t&lt;line x1=&quot;3795.66&quot; y1=&quot;2489.19&quot; x2=&quot;3795.66&quot; y2=&quot;2529.16&quot; style=&quot;stroke:#000000;stroke-width:5.76&quot;/&gt;\n",
       "\t&lt;text x=&quot;3795.66&quot; y=&quot;2619.14&quot; style=&quot;font-family:&#x27;Helvetica&#x27;;font-size:99.99px;fill:#000000&quot; text-anchor=&quot;middle&quot;&gt;1&lt;/text&gt;\n",
       "\t&lt;text x=&quot;2124.91&quot; y=&quot;2729.16&quot; style=&quot;font-family:&#x27;Helvetica&#x27;;font-size:99.99px;fill:#000000&quot; text-anchor=&quot;middle&quot;&gt;x1var&lt;/text&gt;\n",
       "&lt;/svg&gt;\n",
       "</body></html>\"></iframe>\n"
      ],
      "text/plain": [
       "This front-end cannot display the desired image type."
      ]
     },
     "metadata": {
      "image/svg+xml": {
       "height": 436,
       "width": 600
      },
      "text/html": {
       "height": 436,
       "width": 600
      }
     },
     "output_type": "display_data"
    },
    {
     "name": "stdout",
     "output_type": "stream",
     "text": [
      "\n"
     ]
    }
   ],
   "source": [
    "hist x1var"
   ]
  },
  {
   "cell_type": "code",
   "execution_count": 39,
   "metadata": {},
   "outputs": [
    {
     "name": "stdout",
     "output_type": "stream",
     "text": [
      "\n",
      "\n",
      "\n",
      "    Variable |        Obs        Mean    Std. Dev.       Min        Max\n",
      "-------------+---------------------------------------------------------\n",
      "         sum |        100    1.935471    .5911068   .4193314   3.349523\n"
     ]
    }
   ],
   "source": [
    "* Sum of four variables\n",
    "gen sum = x1var + x2var + x3var + x4var\n",
    "summarize sum"
   ]
  },
  {
   "cell_type": "markdown",
   "metadata": {},
   "source": [
    "### The `foreach` loop"
   ]
  },
  {
   "cell_type": "code",
   "execution_count": 41,
   "metadata": {},
   "outputs": [
    {
     "name": "stdout",
     "output_type": "stream",
     "text": [
      "\n",
      "\n",
      "\n",
      "\n",
      "    Variable |        Obs        Mean    Std. Dev.       Min        Max\n",
      "-------------+---------------------------------------------------------\n",
      "         sum |        100    1.935471    .5911068   .4193314   3.349523\n"
     ]
    }
   ],
   "source": [
    "* foreach loop with a variable list\n",
    "//1. use varlist \n",
    "qui replace sum = 0\n",
    "foreach var of varlist x1var x2var x3var x4var {\n",
    "    quietly replace sum = sum + `var'\n",
    "}\n",
    "sum sum"
   ]
  },
  {
   "cell_type": "code",
   "execution_count": 44,
   "metadata": {},
   "outputs": [
    {
     "name": "stdout",
     "output_type": "stream",
     "text": [
      "\n",
      "\n",
      "\n",
      "\n",
      "\n",
      "    Variable |        Obs        Mean    Std. Dev.       Min        Max\n",
      "-------------+---------------------------------------------------------\n",
      "         sum |        100    1.935471    .5911068   .4193314   3.349523\n"
     ]
    }
   ],
   "source": [
    "//2. use local macros\n",
    "qui replace sum = 0\n",
    "local vlist \"x1var x2var x3var x4var\"\n",
    "foreach var of local vlist {\n",
    "    qui replace sum = sum +`var'\n",
    "}\n",
    "sum sum"
   ]
  },
  {
   "cell_type": "code",
   "execution_count": 46,
   "metadata": {},
   "outputs": [
    {
     "name": "stdout",
     "output_type": "stream",
     "text": [
      "\n",
      "\n",
      "\n",
      "\n",
      "\n",
      "    Variable |        Obs        Mean    Std. Dev.       Min        Max\n",
      "-------------+---------------------------------------------------------\n",
      "         sum |        100    1.935471    .5911068   .4193314   3.349523\n"
     ]
    }
   ],
   "source": [
    "//3. use global macros\n",
    "qui replace sum = 0\n",
    "global vlist \"x1var x2var x3var x4var\"\n",
    "foreach var of global vlist {\n",
    "    qui replace sum = sum +`var'\n",
    "}\n",
    "sum sum"
   ]
  },
  {
   "cell_type": "code",
   "execution_count": 47,
   "metadata": {},
   "outputs": [
    {
     "name": "stdout",
     "output_type": "stream",
     "text": [
      "\n",
      "\n",
      "\n",
      "\n",
      "    Variable |        Obs        Mean    Std. Dev.       Min        Max\n",
      "-------------+---------------------------------------------------------\n",
      "         sum |        100    1.935471    .5911068   .4193314   3.349523\n"
     ]
    }
   ],
   "source": [
    "//4. use number list\n",
    "qui replace sum = 0\n",
    "foreach num of numlist 1 2 3 4 {\n",
    "    qui replace sum = sum +x`num'var\n",
    "}\n",
    "sum sum"
   ]
  },
  {
   "cell_type": "markdown",
   "metadata": {},
   "source": [
    "### The `forvalues` loop"
   ]
  },
  {
   "cell_type": "code",
   "execution_count": 48,
   "metadata": {},
   "outputs": [
    {
     "name": "stdout",
     "output_type": "stream",
     "text": [
      "\n",
      "\n",
      "\n",
      "\n",
      "    Variable |        Obs        Mean    Std. Dev.       Min        Max\n",
      "-------------+---------------------------------------------------------\n",
      "         sum |        100    1.935471    .5911068   .4193314   3.349523\n"
     ]
    }
   ],
   "source": [
    "*forvalues loop\n",
    "qui replace sum = 0\n",
    "forv i = 1/4 {  //could be i = 1(1)4\n",
    "  qui replace sum = sum + x`i'var  \n",
    "}\n",
    "sum sum"
   ]
  },
  {
   "cell_type": "markdown",
   "metadata": {},
   "source": [
    "### The `while` loop"
   ]
  },
  {
   "cell_type": "code",
   "execution_count": 52,
   "metadata": {},
   "outputs": [
    {
     "name": "stdout",
     "output_type": "stream",
     "text": [
      "\n",
      "\n",
      "\n",
      "\n",
      "\n",
      "    Variable |        Obs        Mean    Std. Dev.       Min        Max\n",
      "-------------+---------------------------------------------------------\n",
      "         sum |        100    1.935471    .5911068   .4193314   3.349523\n"
     ]
    }
   ],
   "source": [
    "* While loop and local macros to create a sum of variables\n",
    "qui replace sum = 0\n",
    "local i 1\n",
    "while `i' <=4 {\n",
    "    qui replace sum = sum + x`i'var\n",
    "    local i = `i' + 1  // could be local i `i'+1\n",
    "}\n",
    "summarize sum"
   ]
  },
  {
   "cell_type": "markdown",
   "metadata": {},
   "source": [
    "The `continue` command provides a way to prematurely cease the execution of the current iteration and cotinues to the next one. "
   ]
  },
  {
   "cell_type": "markdown",
   "metadata": {},
   "source": [
    "## A Template do-file"
   ]
  },
  {
   "cell_type": "markdown",
   "metadata": {},
   "source": [
    "```\n",
    "*-------------------*\n",
    "*1. Program name\n",
    "*author\n",
    "*version date\n",
    "*-------------------*\n",
    "\n",
    "*2. Write output to a log file\n",
    "log using template.txt, text replace\n",
    "\n",
    "*3. Stata version\n",
    "version 15  \n",
    "\n",
    "*4. Program explanation\n",
    "/*\n",
    "This illustrative progam creates 100 uniform variates\n",
    "*/\n",
    "\n",
    "*5. Change Stata default settings\n",
    "\n",
    "set more off  // scroll screen output at full speed\n",
    "set mem 100m //set 100 mb for memory space\n",
    "\n",
    "*6. Set program parameters\n",
    "global numobs 100\n",
    "local seed 10101\n",
    "local xlist xvar\n",
    "\n",
    "*7. Generate data and summarize\n",
    "\n",
    "set obs $numobs\n",
    "set seed `seed'\n",
    "gen xvar = runiform()\n",
    "gen yvar = xvar^2\n",
    "\n",
    "summarize\n",
    "\n",
    "*8. Use of results stored in r()\n",
    "sum xvar\n",
    "regress yvar `xlist'\n",
    "scalar r2 = e(mss)/(e(mss)+e(rss))\n",
    "disp \"r-squared = \" r2 \n",
    "\n",
    "*9. Close output file and exit Stata\n",
    "log close\n",
    "exit,clear\n",
    "\n",
    "```"
   ]
  }
 ],
 "metadata": {
  "kernelspec": {
   "display_name": "Stata",
   "language": "stata",
   "name": "stata"
  },
  "language_info": {
   "codemirror_mode": "stata",
   "file_extension": ".do",
   "mimetype": "text/x-stata",
   "name": "stata",
   "version": "15.1"
  },
  "toc-autonumbering": true
 },
 "nbformat": 4,
 "nbformat_minor": 4
}
