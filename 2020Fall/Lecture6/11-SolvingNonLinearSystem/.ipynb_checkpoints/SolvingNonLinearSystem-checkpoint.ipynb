{
 "cells": [
  {
   "cell_type": "markdown",
   "metadata": {},
   "source": [
    "# Solving Non-Linear System\n",
    "\n",
    "`2020-12-13`\n",
    "\n",
    "_Zhiyuan Chen, Department of Trade Economics, Renmin Business School_\n",
    "\n",
    "This notebook is based on the class notes by __Paul Grieco__"
   ]
  },
  {
   "cell_type": "markdown",
   "metadata": {},
   "source": [
    "## Contents\n",
    "\n",
    "- [Solving Non-Linear System](#Solving-Non-Linear-System)\n",
    "  - [Nonlinear Equation Form](#Nonlinear-Equation-Form)\n",
    "  - [Bisection](#Bisection)\n",
    "  - [Newton's Methods](#Newton's-Methods)\n",
    "  - [Quasi-Newton Methods](#Quasi-Newton-Methods)\n",
    "    - [Secant Method](#Secant-Method)\n",
    "    - [Broyden's Method](#Broyden's-Method)\n",
    "- [A Rountine of Debugging](#A-Routine-of-Debugging)"
   ]
  },
  {
   "cell_type": "markdown",
   "metadata": {},
   "source": [
    "## Nonlinear Equation Form\n",
    "\n",
    "Consider a function $f: \\mathbf{R}^n\\rightarrow \\mathbf{R}^n$, our objective is to find the root such that\n",
    "$$\n",
    "f(x) = 0\n",
    "$$\n",
    "\n",
    "We may also want to solve an equivalent fixed point problem $g(x)=x$, simply by defining $f(x)=g(x)=x$. "
   ]
  },
  {
   "cell_type": "markdown",
   "metadata": {},
   "source": [
    "## Bisection\n",
    "* The simplist method of equation sovling is bisection, which is applied only to single variable equations, although it can be used as part of multi-dimensional solution approaches. \n",
    "\n",
    "    1. $f: \\mathbf{R}\\rightarrow \\mathbf{R}$ is continuous\n",
    "    2. There exists $a<b$ such that $f(a)<0<f(b)$\n",
    "\n",
    "* From here, the bisection algorithm simply bisects $[a, b]$ to get closer and closer to zero:\n",
    "    1. Given $[a, b]$, compute the midpoint $(a+b)/2\\rightarrow c$ and $f(c)$.\n",
    "    2. If $f(c)<0$, assign $a = c$, else assign $b = c$.\n",
    "    3. The algorithm stops when $b-a\\leq \\epsilon$\n"
   ]
  },
  {
   "cell_type": "markdown",
   "metadata": {},
   "source": [
    "### Example"
   ]
  },
  {
   "cell_type": "code",
   "execution_count": 1,
   "metadata": {},
   "outputs": [
    {
     "name": "stdout",
     "output_type": "stream",
     "text": [
      "\n"
     ]
    },
    {
     "data": {
      "image/png": "[encoded data removed]",
      "text/plain": [
       "<IPython.core.display.Image object>"
      ]
     },
     "metadata": {},
     "output_type": "display_data"
    }
   ],
   "source": [
    "X = -2:0.1:4;\n",
    "Fx= 2 + exp(X) - 3.*(X.^2);\n",
    "figure\n",
    "plot(X, Fx, X, zeros(size(X)));\n",
    "title(\"F(x) = 2+exp(x)-3X^2\")"
   ]
  },
  {
   "cell_type": "markdown",
   "metadata": {},
   "source": [
    "The function is continuous, and it has a zero value so the bisection method should be able to find a root. An example bisection code can be written as follows:"
   ]
  },
  {
   "cell_type": "markdown",
   "metadata": {},
   "source": [
    "```\n",
    "function [x , fx] = bisection(f, a, b, tolx, tolf) \n",
    "  % Make sure conditions for bisection apply,\n",
    "  % they have to include in the same directory\n",
    "  % toolbox is a collection of things in a directory\n",
    "  \n",
    "  \n",
    "  %notice that in python or R, we can just list function in our code.\n",
    "  \n",
    "  %the assert makes sure our critical assumptions right\n",
    "  %always write assert and use them to inform us in finding bug\n",
    "  assert(b > a);\n",
    "  assert(f(a) < 0);\n",
    "  assert(f(b) > 0); \n",
    "  \n",
    "  % MATLAB's way of allowing default parameters: \n",
    "  assert(nargin >= 3)\n",
    "  %nargin is the number the argument in the function, it's unique in matlab\n",
    "  %not in other language\n",
    "  %it's also useful to do this since we can set default level of tolx and\n",
    "  %tolf here. It can be done in R and python in other way.\n",
    "  \n",
    "  if (nargin == 3)\n",
    "      tolx = 1e-15; %This tolerance is to let program stop when bracket is small\n",
    "      tolf = 1e-15; %This tolerance is to stop if it happens to compute a root\n",
    "  end\n",
    "  \n",
    "  % Finally, the actual algorithm:\n",
    "  fc = 1;\n",
    "  while ((b - a) > tolx) && (abs(fc) > tolf)\n",
    "      c = (a+b)/2;\n",
    "      fc = f(c);\n",
    "      if (fc < 0)\n",
    "          a = c;\n",
    "      else\n",
    "          b = c;\n",
    "      end\n",
    "  end\n",
    "  ```"
   ]
  },
  {
   "cell_type": "markdown",
   "metadata": {},
   "source": [
    "We can call the function `bisection` by passing a function. In MATLAB,all variables are really pointers, so we can assign a function using anonomyous functions rather than writing a file for it:"
   ]
  },
  {
   "cell_type": "code",
   "execution_count": 3,
   "metadata": {},
   "outputs": [
    {
     "name": "stdout",
     "output_type": "stream",
     "text": [
      "\n",
      "f =\n",
      "\n",
      "  function_handle with value:\n",
      "\n",
      "    @(x)2+exp(x)-3.*(x.^2)\n",
      "\n",
      "\n",
      "f =\n",
      "\n",
      "  function_handle with value:\n",
      "\n",
      "    @(x)2+exp(x)-3.*(x.^2)\n",
      "\n",
      "\n",
      "ans =\n",
      "\n",
      "     3\n",
      "\n",
      "\n",
      "ans =\n",
      "\n",
      "     3\n",
      "\n",
      "\n"
     ]
    }
   ],
   "source": [
    "%\"@\" is just a pointer to a function in the memory\n",
    "f = @(x) 2 + exp(x) - 3.*(x.^2)\n",
    "f\n",
    "f(0)\n",
    "feval(f, 0)  %evaluating function at zero"
   ]
  },
  {
   "cell_type": "code",
   "execution_count": 10,
   "metadata": {},
   "outputs": [
    {
     "name": "stdout",
     "output_type": "stream",
     "text": [
      "\n",
      "sol1 =\n",
      "\n",
      "    3.6184\n",
      "\n",
      "\n",
      "ans =\n",
      "\n",
      "     0\n",
      "\n",
      "\n"
     ]
    }
   ],
   "source": [
    "% Use bisection to find zero roots\n",
    "sol1 = bisection(f, -1, 4)\n",
    "f(sol1)"
   ]
  },
  {
   "cell_type": "markdown",
   "metadata": {},
   "source": [
    "We just found a solution, we can change the intervals to find other solutions"
   ]
  },
  {
   "cell_type": "code",
   "execution_count": 11,
   "metadata": {},
   "outputs": [
    {
     "name": "stdout",
     "output_type": "stream",
     "text": [
      "\n",
      "sol2 =\n",
      "\n",
      "   -0.8960\n",
      "\n",
      "\n",
      "ans =\n",
      "\n",
      "   8.8818e-16\n",
      "\n",
      "\n"
     ]
    }
   ],
   "source": [
    "sol2 = bisection(f, -1, 1)\n",
    "f(sol2)"
   ]
  },
  {
   "cell_type": "code",
   "execution_count": 6,
   "metadata": {},
   "outputs": [
    {
     "name": "stdout",
     "output_type": "stream",
     "text": [
      "\n",
      "sol3 =\n",
      "\n",
      "    3.6184\n",
      "\n",
      "\n",
      "ans =\n",
      "\n",
      "     0\n",
      "\n",
      "\n"
     ]
    }
   ],
   "source": [
    "sol3 = bisection(f, 2, 4)\n",
    "f(sol3)"
   ]
  },
  {
   "cell_type": "markdown",
   "metadata": {},
   "source": [
    "We can also adjust the stopping tolerance away from the defaults:"
   ]
  },
  {
   "cell_type": "code",
   "execution_count": 12,
   "metadata": {},
   "outputs": [
    {
     "name": "stdout",
     "output_type": "stream",
     "text": [
      "\n",
      "sol4 =\n",
      "\n",
      "    3.6185\n",
      "\n",
      "\n",
      "ans =\n",
      "\n",
      "    0.0014\n",
      "\n",
      "\n"
     ]
    }
   ],
   "source": [
    "sol4 = bisection(f, -1, 4, 1e-3, 1e-5)\n",
    "\n",
    "f(sol4)"
   ]
  },
  {
   "cell_type": "code",
   "execution_count": 23,
   "metadata": {},
   "outputs": [
    {
     "name": "stdout",
     "output_type": "stream",
     "text": [
      "\n"
     ]
    },
    {
     "data": {
      "image/png": "[encoded data removed]",
      "text/plain": [
       "<IPython.core.display.Image object>"
      ]
     },
     "metadata": {},
     "output_type": "display_data"
    }
   ],
   "source": [
    "Tol = linspace(1e-15, 1e-2, 50);\n",
    "Sol = zeros(length(Tol), 1);\n",
    "for i = 1:length(Tol)\n",
    "    Sol(i) = bisection(f,2,4,Tol(i), Tol(i));\n",
    "end\n",
    "figure\n",
    "subplot(2,1,1)\n",
    "plot(Tol, abs(Sol-Sol(1)), \"black-d\")\n",
    "ylabel('Absolute Error: |x-x_{true}|')\n",
    "xlabel('Tolerance')\n",
    "subplot(2,1,2)\n",
    "plot(Tol, abs((Sol-Sol(1))./Sol(1)), \"black-d\")\n",
    "ylabel('Relative Error: |(x-x_{true})/x_{true}|')\n",
    "xlabel('Tolerance')\n"
   ]
  },
  {
   "cell_type": "markdown",
   "metadata": {},
   "source": [
    "### Iteration\n",
    "Notice that we can not guanrantee to find a solution. But bisection always have. \n",
    "\n",
    "As with linear equations, we can simply iterate nonlinear equations in hopes that they converge to a fixed point:\n",
    "$$\n",
    "x^{(k+1)} = g(x^{(k)})\n",
    "$$\n",
    "This means we have found the solution $x^*$ such that $g(x^*)=x^*$. The condition ensuring that the iteration is convergent is\n",
    "\n",
    "$$\n",
    "||g'(x^*)||<1\n",
    "$$\n",
    "More precisely, we want to ensure that mapping from $x$ to $g(x)$ is a contraction mapping. "
   ]
  },
  {
   "cell_type": "code",
   "execution_count": 26,
   "metadata": {},
   "outputs": [
    {
     "name": "stdout",
     "output_type": "stream",
     "text": [
      "\n"
     ]
    }
   ],
   "source": [
    "% example of iteration\n",
    "g = @(x) [x(1)^.5, x(1).^.25 + x(2).^.75];\n",
    "x = [.5 .5];\n",
    "maxit = 1000;\n",
    "tolit = 1e-6;\n",
    "for iter = 1:maxit\n",
    "    nextX = g(x);\n",
    "    if abs(x - nextX) < tolit\n",
    "        break;\n",
    "    end\n",
    "    x = nextX;\n",
    "    %disp([iter x]);\n",
    "    Iterx(iter,:) =[iter x];\n",
    "end"
   ]
  },
  {
   "cell_type": "code",
   "execution_count": 46,
   "metadata": {},
   "outputs": [
    {
     "name": "stdout",
     "output_type": "stream",
     "text": [
      "\n"
     ]
    },
    {
     "data": {
      "image/png": "[encoded data removed]",
      "text/plain": [
       "<IPython.core.display.Image object>"
      ]
     },
     "metadata": {},
     "output_type": "display_data"
    }
   ],
   "source": [
    "figure\n",
    "plot(Iterx(:,1), Iterx(:,2),'b-o', Iterx(:,1), Iterx(:, 3), 'r--d')\n",
    "legend('x(1)', 'x(2)', 'Location', 'best')\n",
    "xlabel('# of iterations')"
   ]
  },
  {
   "cell_type": "code",
   "execution_count": 47,
   "metadata": {},
   "outputs": [
    {
     "name": "stdout",
     "output_type": "stream",
     "text": [
      "  26.000000000000000   0.999999979342605   3.629656143715231   0.999999989671302   3.629657044068090\n",
      "\n",
      "\n"
     ]
    }
   ],
   "source": [
    "format long\n",
    "disp([iter x g(x)]);\n",
    "format short\n",
    "% %format Set output format.\n",
    "%     format with no inputs sets the output format to the default appropriate\n",
    "%     for the class of the variable. For float variables, the default is\n",
    "%     format SHORT.\n",
    "%\n",
    "%     format does not affect how MATLAB computations are done. Computations\n",
    "%     on float variables, namely single or double, are done in appropriate\n",
    "%     floating point precision, no matter how those variables are displayed.\n",
    "%     Computations on integer variables are done natively in integer. Integer\n",
    "%     variables are always displayed to the appropriate number of digits for\n",
    "%     the class, for example, 3 digits to display the INT8 range -128:127.\n",
    "%     format SHORT and LONG do not affect the display of integer variables.\n",
    "%\n",
    "%     format may be used to switch between different output display formats\n",
    "%     of all float variables as follows:\n",
    "%       format SHORT     Scaled fixed point format with 5 digits.\n",
    "%       format LONG      Scaled fixed point format with 15 digits for double\n",
    "%                        and 7 digits for single.\n",
    "%       format SHORTE    Floating point format with 5 digits.\n",
    "%       format LONGE     Floating point format with 15 digits for double and\n",
    "%                        7 digits for single.\n",
    "%       format SHORTG    Best of fixed or floating point format with 5\n",
    "%                        digits.\n",
    "%       format LONGG     Best of fixed or floating point format with 15\n",
    "%                        digits for double and 7 digits for single.\n",
    "%       format SHORTENG  Engineering format that has at least 5 digits\n",
    "%                        and a power that is a multiple of three\n",
    "%       format LONGENG   Engineering format that has exactly 16 significant\n",
    "%                        digits and a power that is a multiple of three."
   ]
  },
  {
   "cell_type": "markdown",
   "metadata": {},
   "source": [
    "The method of iteration is less robust than something like bisection, but it is easy, especially when you know that you have a contraction, it may be worth trying it before using alternative methods."
   ]
  },
  {
   "cell_type": "markdown",
   "metadata": {},
   "source": [
    "### Newton's (or Newton-Raphson) Method\n",
    "Newton's method is the real workhorse for solving nonlinear equations. It\n",
    "is an iterative scheme that follows the principle of *_successive\n",
    "linearization_* . That is, it approximates the nonlinear problem with its\n",
    "linear taylor approximation, solves that, and then checks the solution\n",
    "of the original problem. \n",
    "\n",
    "Newton's method iterations are derived from a first-order Taylor approximation: \n",
    "\n",
    "$$ f(x) \\approx f(x^{(k)}) + f'(x^{(k)})(x - x^{(k)}) = 0 $$\n",
    "\n",
    "Solve for $x^{(k+1)}$ to get the iteration rule: \n",
    "\n",
    "$$ x^{(k)} - [f'(x^{(k)})]^{-1}f(x^{(k)}) \\rightarrow x^{(k+1)}  $$\n",
    "\n",
    "For Newton's Method to work we need: \n",
    "\n",
    "* $f$ is continuously differentiable.  \n",
    "* $f(x^{(0)})$ is sufficiently close to a root. \n",
    "* $f'$ is invertible at the root.\n",
    "\n",
    "These will not always hold, and there is no theoretical way to determine\n",
    "\"sufficiently close\". \n",
    "\n",
    "Let's follow the __Miranda and Fackler__ textbook and use Newton's method to\n",
    "solve a Cournot Duopoply. The primatives are: \n",
    "\n",
    "* Demand for the good is CES: $P(q) = q^{-1/\\eta}$, where $q = q_1 + q_2$. \n",
    "* Each firm has quadratic costs: $C_i(q) = \\frac{1}{2} c_i q_i^2$ for $i = 1,2$. \n",
    "\n",
    "Then firm $i$ solves, \n",
    "\n",
    "$$ \\max_{q_i} P(q_i + q_{-i})q_i - C_i(q_i) $$\n",
    "\n",
    "We can find equilibrium of this model by simultaneously solving both\n",
    "firms first order conditions, which will be nonlinear equations for $i = 1,2$: \n",
    "\n",
    "$$ f_i(q) = (q_i + q_{-i})^{-1/\\eta} - (1/\\eta)(q_i + q_{-i})^{-1/\\eta-1}q_i\n",
    "- c_iq_i = 0$$\n",
    "\n",
    "So we can write a function to calculate this function and its Jacobian: \n",
    "```\n",
    "function [fval fjac] = cournot(q)\n",
    "    % Set parameters:\n",
    "    c = [0.6; 0.8];\n",
    "    eta = 1.6;\n",
    "    e = -1/eta; %For readability\n",
    "\n",
    "    %Evaluate function: \n",
    "    %This is just the first order condition\n",
    "    fval = sum(q)^e + e*sum(q)^(e-1)*q - diag(c)*q;\n",
    "\n",
    "    %Evaluate Jacobian: \n",
    "    %this is just jacobian\n",
    "    %before doing Newton, always check whether we get Jacobian is correct.\n",
    "    fjac = e*sum(q)^(e-1)*ones(2,2) + ...\n",
    "           e*sum(q)^(e-1)*eye(2) + ...\n",
    "           (e-1)*e*sum(q)^(e-2)*q*[1 1] - diag(c);\n",
    "end\n",
    "```\n",
    "\n",
    "\n",
    "To solve this with Newton's method we just follow the iteration rule: \n",
    "\n"
   ]
  },
  {
   "cell_type": "code",
   "execution_count": 60,
   "metadata": {},
   "outputs": [
    {
     "name": "stdout",
     "output_type": "stream",
     "text": [
      "Iter: 1, q = (0.683243, 0.525395), f(q) = (-0.910942, -1.310942)\n",
      "Iter: 2, q = (0.828182, 0.673938), f(q) = (0.164513, 0.226652)\n",
      "Iter: 3, q = (0.839518, 0.688707), f(q) = (0.011336, 0.018862)\n",
      "Iter: 4, q = (0.839568, 0.688796), f(q) = (0.000050, 0.000112)\n",
      "Iter: 5, q = (0.839568, 0.688796), f(q) = (0.000000, 0.000000)\n",
      "--------------------------Solution------------------------------\n",
      "Iter: 5, q = (0.839568, 0.688796), f(q) = (0.000000, 0.000000)\n",
      "\n"
     ]
    }
   ],
   "source": [
    "q = [2; 2];\n",
    "tol = 1e-8;\n",
    "maxit = 100;\n",
    "for iter =1:maxit\n",
    "    [f, dF] = cournot(q);\n",
    "    q = q - dF\\f;\n",
    "    fprintf('Iter: %d, q = (%f, %f), f(q) = (%f, %f)\\n', iter, q(1), q(2), f(1), f(2));\n",
    "    if norm(f) < tol\n",
    "        break\n",
    "    end\n",
    "end\n",
    "disp(\"--------------------------Solution------------------------------\")\n",
    "fprintf('Iter: %d, q = (%f, %f), f(q) = (%f, %f)\\n', iter, q(1), q(2), f(1), f(2));"
   ]
  },
  {
   "cell_type": "markdown",
   "metadata": {},
   "source": [
    "#### Numerical Differentiation\n",
    "While it is best to have an analytic derivative, it is common to\n",
    "approximate derivatives numerically. With most Newton-based solvers such as KNITRO and |fsolve| they will take their own numerical derivatives if you don't specify the gradient. In our example above, that also works just fine: "
   ]
  },
  {
   "cell_type": "code",
   "execution_count": 61,
   "metadata": {},
   "outputs": [
    {
     "name": "stdout",
     "output_type": "stream",
     "text": [
      "\n",
      "Equation solved.\n",
      "\n",
      "fsolve completed because the vector of function values is near zero\n",
      "as measured by the value of the function tolerance, and\n",
      "the problem appears regular as measured by the gradient.\n",
      "\n",
      "\n",
      "ans =\n",
      "\n",
      "    0.8396\n",
      "    0.6888\n",
      "\n",
      "\n"
     ]
    }
   ],
   "source": [
    "options = optimoptions('fsolve','Display','final','SpecifyObjectiveGradient',false);\n",
    "fsolve('cournot', [2; 2], options)"
   ]
  },
  {
   "cell_type": "markdown",
   "metadata": {},
   "source": [
    "What's going on under the hood? Exactly what you would expect. Recall the\n",
    "definition of a derivative:\n",
    "\n",
    "$$ f'(x) = \\lim_{h \\rightarrow 0} \\frac{f(x+h) - f(x)}{h} $$\n",
    "\n",
    "So let's just approximate this with a 'small' $h$. How small is small?\n",
    "Back to Taylor expansions: \n",
    "\n",
    "$$f(x + h) = f(x) + f'(x)h + O(h^2) $$\n",
    "\n",
    "$$ f'(x) = \\frac{f(x+h) - f(x)}{h} + O(h^2)$$\n",
    "\n",
    "So the error is of order $h^2$. This is a one-sided finite difference\n",
    "equation. It is probably the most common because it requires only a\n",
    "single additional computation of $f$ for each direction. \n",
    "\n",
    "However, its not hard to increase accuracy. Consider two second order\n",
    "expansions: \n",
    "\n",
    "$$f(x + h) = f(x) + f'(x)h + f''(x)\\frac{h^2}{2} + O(h^3) $$\n",
    "\n",
    "$$f(x - h) = f(x) - f'(x)h + f''(x)\\frac{h^2}{2} + O(h^3) $$\n",
    "\n",
    "Subtracting one from the other and solve for $f'(x)$: \n",
    "\n",
    "$$f'(x) = \\frac{f(x+h) - f(x-h)}{2h} + O(h^3)$$\n",
    "\n",
    "\n",
    "\n",
    "\n",
    "notice that this higher accuracy comes at the cost of calculating more\n",
    "things When the function is really complicated, it is costly.\n",
    "\n",
    "We can take this further and gain even more accuracy at the cost of\n",
    "additional funciton evaluations. \n",
    "\n",
    "This still leaves us the question of how to set $h$. __Miranda and Fackler__\n",
    "suggest the rule of thumb for one-sided derivatives. \n",
    "\n",
    "$$h = \\max(|x|, 1) \\sqrt{(\\epsilon)}$$\n",
    "\n",
    "Where $\\epsilon$ is machine epsilon. The same rule of thump for two-sided\n",
    "derivatives would lead to: \n",
    "\n",
    "$$h = \\max(|x|, 1) \\sqrt[3]{(\\epsilon)}$$\n",
    "\n",
    "These amount to about $10^{-8}$ or to $10^{-6}$ respecitively.\n",
    "\n",
    "We can implement a one-sided numerical Jacobian as `myJac.m`:\n",
    "```\n",
    "function J = myJac(f, x)\n",
    "%this function numerically compute the jacobian matrix\n",
    "    fx = feval(f, x);\n",
    "    J=zeros(length(fx),length(x));  %pre-allocate\n",
    "    xperturb=x;\n",
    "    h = max(norm(x), 1)*sqrt(eps);\n",
    "    for i=1:length(fx)\n",
    "      xperturb(i)=x(i)+h;\n",
    "      J(:,i)=(feval(f,xperturb)-fx)/h;\n",
    "      xperturb(i)=x(i);\n",
    "    end\n",
    "end\n",
    "\n",
    "```\n",
    "\n",
    "\n",
    "\n",
    "Note that the Jacobian takes $N$ function evaluations to compute,\n",
    "therefore for large functions, computing a numerical derivative may\n",
    "produce a time sink if $f$ is expensive to compute.\n",
    "In this case, it may be worthwhile to code the analytical\n",
    "Jacobian.  This is a classic *programmer-time/compute time tradeoff*.  \n"
   ]
  },
  {
   "cell_type": "code",
   "execution_count": 65,
   "metadata": {},
   "outputs": [
    {
     "name": "stdout",
     "output_type": "stream",
     "text": [
      "\n",
      "mJ =\n",
      "\n",
      "   -0.9474   -0.0337\n",
      "   -0.0840   -1.1977\n",
      "\n",
      "\n",
      "f =\n",
      "\n",
      "   1.0e-15 *\n",
      "\n",
      "    0.1110\n",
      "         0\n",
      "\n",
      "\n",
      "J =\n",
      "\n",
      "   -0.9474   -0.0337\n",
      "   -0.0840   -1.1977\n",
      "\n",
      "\n"
     ]
    }
   ],
   "source": [
    "% the numerical jacobian\n",
    "mJ = myJac('cournot', q)\n",
    "[f, J] = cournot(q)"
   ]
  },
  {
   "cell_type": "code",
   "execution_count": 68,
   "metadata": {},
   "outputs": [
    {
     "name": "stdout",
     "output_type": "stream",
     "text": [
      "Iter: 1, q = (0.683243, 0.525395), f(q) = (-0.910942, -1.310942)\n",
      "Iter: 2, q = (0.828182, 0.673939), f(q) = (0.164513, 0.226652)\n",
      "Iter: 3, q = (0.839518, 0.688707), f(q) = (0.011336, 0.018862)\n",
      "Iter: 4, q = (0.839568, 0.688796), f(q) = (0.000050, 0.000112)\n",
      "Iter: 5, q = (0.839568, 0.688796), f(q) = (0.000000, 0.000000)\n",
      "------------------------------------------------------------\n",
      "Iter: 5, q = (0.839568, 0.688796), f(q) = (0.000000, 0.000000)\n",
      "\n"
     ]
    }
   ],
   "source": [
    "%Now let's use the numerical dirivative inside the Newton's iteration\n",
    "q = [2; 2];\n",
    "tol = 1e-8;\n",
    "maxit = 100;\n",
    "for iter =1:maxit\n",
    "    f = cournot(q);\n",
    "    dF = myJac('cournot', q); \n",
    "    q = q - dF\\f;\n",
    "    fprintf('Iter: %d, q = (%f, %f), f(q) = (%f, %f)\\n', iter, q(1), q(2), f(1), f(2));\n",
    "    if norm(f) < tol\n",
    "        break\n",
    "    end\n",
    "end\n",
    "disp('------------------------------------------------------------')\n",
    "fprintf('Iter: %d, q = (%f, %f), f(q) = (%f, %f)\\n', iter, q(1), q(2), f(1), f(2));"
   ]
  },
  {
   "cell_type": "markdown",
   "metadata": {},
   "source": [
    "### Quasi-Newton Method\n",
    "The Newton's method, which relied on iteratively\n",
    "linearlizing the nonlinear problem around an iterate. Leading to the\n",
    "iteration rule:\n",
    "\n",
    "$$ x^{(k+1)} \\leftarrow x^{(k)} - [f'(x^{(k)})]^{-1}f(x^{(k)}) $$\n",
    "\n",
    "One issue with Newton's method is that it required computing the Jacobian\n",
    "(matrix of derivatives) of the problem at every iteration, $[f'(x^{(k)})]^{-1}$. \n",
    "While this can\n",
    "be done numerically it may be computatitionally intensive. \n",
    "Quasi-Newton methods are simply approaches to approximate the jacobian\n",
    "rather than computing it directly (either numerically or analytically). \n",
    "\n",
    " \n",
    "* Secant Method\n",
    "* Broyden's Method\n",
    "* Gravity with Gravitas\n",
    " "
   ]
  },
  {
   "cell_type": "markdown",
   "metadata": {},
   "source": [
    "#### Secant Method\n",
    "Newton method is costly since jacobian is hard to compute.\n",
    "\n",
    "Suppose $f : R \\rightarrow R$ is __univariate__. \n",
    "\n",
    "While computing the numerical derivative would only require a single\n",
    "function evaluation, we can save even that by just using the previous\n",
    "iterate: \n",
    "\n",
    "$$f'(x^{(k)}) \\approx \\frac{ f(x^{(k)}) - f(x^{(k-1)}) }{ x^{(k)} -\n",
    "x^{(k-1)}}$$\n",
    "\n",
    "The secant method iteration just replaces the derivative in Newtons\n",
    "method with this secant approximation: \n",
    "\n",
    "$$x^{(k)} - \\frac{ x^{(k)} - x^{(k-1)} }{ f(x^{(k)})\n",
    "- f(x^{(k-1)}) } f(x^{(k)})\\rightarrow x^{(k+1)}$$\n",
    "\n",
    "This illustrates the main concept of quasi-newton methods: use previously\n",
    "computed information to efficiently approximate the derivative\n",
    "information of the current iterate. \n",
    "\n",
    "Formally, the secant method requires 2 initial guesses. Although often\n",
    "we just compute the derivative for the first iteration.   "
   ]
  },
  {
   "cell_type": "code",
   "execution_count": 51,
   "metadata": {},
   "outputs": [
    {
     "name": "stdout",
     "output_type": "stream",
     "text": [
      "iter 1: x = 0.00000000, f(x) = 3.00000000\n",
      "iter 2: x = 2.34060815, f(x) = -4.04778771\n",
      "iter 3: x = 0.99631611, f(x) = 1.73034902\n",
      "iter 4: x = 1.39888437, f(x) = 0.18004596\n",
      "iter 5: x = 1.44563702, f(x) = -0.02504405\n",
      "iter 6: x = 1.43992794, f(x) = 0.00021426\n",
      "iter 7: x = 1.43997637, f(x) = 0.00000024\n",
      "iter 8: x = 1.43997643, f(x) = -0.00000000\n",
      "\n"
     ]
    }
   ],
   "source": [
    "% Let's recall our univariate function:\n",
    "%f = @(x) 2 + exp(x) - 3.*(x.^2);\n",
    "%Assign initial values\n",
    "%two intitial values\n",
    "x = 0;\n",
    "xOld = 1;\n",
    "fOld = f(xOld);\n",
    "\n",
    "%we should also notice about the derivative=0 point\n",
    "\n",
    "% Secant iterations:\n",
    "tol = 1e-8;\n",
    "maxit = 100;\n",
    "for iter =1:maxit\n",
    "    fVal = f(x);\n",
    "    %.8f is floating point that has 8 digits after the decimal.\n",
    "    fprintf('iter %d: x = %.8f, f(x) = %.8f\\n', iter, x, fVal);\n",
    "    if abs(fVal) < tol\n",
    "        %break get us to end of this looop.\n",
    "        break\n",
    "    else\n",
    "        xNew = x - ( (x - xOld) / (fVal - fOld) )* fVal;\n",
    "        xOld = x;\n",
    "        x = xNew;\n",
    "        fOld = fVal;       \n",
    "    end\n",
    "end"
   ]
  },
  {
   "cell_type": "markdown",
   "metadata": {},
   "source": [
    "#### Broyden's Method\n",
    "Broyden's method generalizes the secant method to a multidimensional\n",
    "problem. However, how do we update the entire Jacobian with a single pair\n",
    "of function evaluations?\n",
    "\n",
    "Effectively, for two values of $f:R^n \\rightarrow R^n$ we need to solve \n",
    "\n",
    "$$ f(x^{(k)}) - f(x^{(k-1)}) = J^{(k)} (x^{(k)} - x^{(k-1)}) $$\n",
    "\n",
    "But $J^{(k)}$ is the jacobian matrix and has $n\\times n$ values, and we only have $n$ equations. Therefore, to get Jacobian, we make use of previous jacobian matrix. Let's define:\n",
    "$$ f^k \\equiv f(x^{(k)}) , \n",
    "\\Delta x^k \\equiv x^{(k)}-x^{(k-1)},\n",
    "\\Delta f^k \\equiv f^k - f^{k-1}$$\n",
    "\n",
    "The approximation equation can be re-written as\n",
    "\n",
    "$$\n",
    "J^k\\Delta x^k \\approx \\Delta f^k \\tag{*}\n",
    "$$\n",
    "This equation is undetermined when $n>1$. Broyden proposes to use the current estimate of the Jacobian matrix $J^{k-1}$ and improve it by minimizing the following __Frobenius norm__:\n",
    "$$\\min \\|J^k-J^{k-1}\\|_F$$\n",
    "where the Frobenius norm is defined as:\n",
    "\n",
    "><u>_Definition_</u>. Let $A$ be a $m\\times n$ matrix,  $(a_1,\\cdots,a_n)$ be the columns of matrix $A$. The __Frobenius norm__ or the __Hilbert-Schimidt norm__ is defined as:\n",
    "$$\n",
    "\\|A\\|_F = \\sqrt{\\sum_i^m \\sum_j^n|a_{ij}|^2}\n",
    "$$\n",
    "\n",
    "This leads us to the updating rule:\n",
    "$$\n",
    "J^k = J^{k-1} +\\frac{\\Delta f^{k}-J^{k-1}\\Delta x^{k}}{\\|\\Delta x^{k}\\|^2} \\Delta (x^{k})'\n",
    "$$\n",
    "If we know $J^k$, we may proceed using the Newton iteration rule:\n",
    "$$\n",
    "x^{k+1} = x^{k}-(J^k)^{-1}f(x^{k})\n",
    "$$\n",
    "Broyden suggested using the [Sherman-Morrison formula](https://blog.csdn.net/jclian91/article/details/80254568) to update directly the inverse of the Jacobian matrix: \n",
    "\n",
    "$$(J^k)^{-1} = (J^{k-1})^{-1}+\\frac{\\Delta x^k-(J^{k-1})^{-1}\\Delta f^k}{(\\Delta x^k)'(J^{k-1})^{-1}\\Delta f^{k}}\\Delta (x^k)'(J^k)^{-1}$$"
   ]
  },
  {
   "cell_type": "code",
   "execution_count": 69,
   "metadata": {},
   "outputs": [
    {
     "name": "stdout",
     "output_type": "stream",
     "text": [
      "\n",
      "fVal =\n",
      "\n",
      "   -0.9257\n",
      "   -2.1714\n",
      "\n",
      "\n",
      "iJac =\n",
      "\n",
      "   -1.5113    0.0286\n",
      "    0.0020   -1.1809\n",
      "\n",
      "iter 1: q(1) = 2.000000, q(2) = 3.000000, norm(f(x)) = 2.36051746\n",
      "iter 2: q(1) = 0.662994, q(2) = 0.437703, norm(f(x)) = 0.40465064\n",
      "iter 3: q(1) = 0.898254, q(2) = 0.797154, norm(f(x)) = 0.14241697\n",
      "iter 4: q(1) = 0.846374, q(2) = 0.699278, norm(f(x)) = 0.01472917\n",
      "iter 5: q(1) = 0.839108, q(2) = 0.688562, norm(f(x)) = 0.00054648\n",
      "iter 6: q(1) = 0.839652, q(2) = 0.688757, norm(f(x)) = 0.00008842\n",
      "iter 7: q(1) = 0.839552, q(2) = 0.688804, norm(f(x)) = 0.00001637\n",
      "iter 8: q(1) = 0.839568, q(2) = 0.688796, norm(f(x)) = 0.00000006\n",
      "\n"
     ]
    }
   ],
   "source": [
    "q = [2; 3];\n",
    "fVal = cournot(q)\n",
    "iJac = inv(myJac('cournot', q)) %iJac is inverse jacobian\n",
    "\n",
    "% Now for the Broyden iterations: \n",
    "maxit = 100; \n",
    "tol = 1e-6; \n",
    "for iter = 1:maxit\n",
    "    fnorm = norm(fVal);\n",
    "    fprintf('iter %d: q(1) = %f, q(2) = %f, norm(f(x)) = %.8f\\n', iter, q(1), q(2), norm(fVal));\n",
    "    if norm(fVal) < tol\n",
    "        break\n",
    "    end\n",
    "    d = - (iJac * fVal);\n",
    "    q = q+d;\n",
    "    fOld = fVal;\n",
    "    fVal = cournot(q);\n",
    "    %the difference with above method is now we update the jacobian\n",
    "    %everytime using Bryoden\n",
    "    \n",
    "    %also, here instead of updating jacobian, it update jacobian's inverese\n",
    "    u = iJac*(fVal - fOld);\n",
    "    iJac = iJac + ((d - u) * (d'*iJac) )/(d'*u);\n",
    "end"
   ]
  },
  {
   "cell_type": "markdown",
   "metadata": {},
   "source": [
    "You will recall that using the derivative information directly took fewer iterations to converge, however each iteration was more computationally intensive since \n",
    "1. Had to compute numerical Jacobian (or supply analytic Jacobian).\n",
    "2. Had to solve a linear equation as part of iteration. "
   ]
  },
  {
   "cell_type": "markdown",
   "metadata": {},
   "source": [
    "## A Routine of Debugging\n",
    "Inevitably, when you are trying to solve a nonlinear system, its not\n",
    "going to work (at least the first few attempts). Just remember... \n",
    "*it's all your fault*.\n",
    "\n",
    "* Using a packaged solver can minimize coding errors in the solution algorithm itself. \n",
    "* If you are coding your Jacobian, its a good idea to at least check your code against a numerical derivative. \n",
    "* Check the coding of your function by computing it at some points where you can calculate the answer with paper and pencil. e.g. give simple value to parameters and check ourselves\n",
    "* \"Explore\" (plot or grid search) your algorithm to attempt to find a good start point. e.g. always simulate when we carry out theoretical prediction to check whether it's right!\n",
    "* Re-scale your function to avoid ill-conditioning. Try to keep \"reasonable inputs\" in the same order of magnitude. \n",
    "* Be mindful of bounds, if you have a $log(x)$ in your equations, you defintely don't want to evaluate at $x = -2$, but the solver won't realize that unless you tell it. e.g. when doing Newton's method it will not recognize the log.\n",
    "* If you try to solve a system with no solution, the computer is not going to tell you this, it will just keep trying.\n",
    "* If you try to solve a system with kinks or discontinuities, your mileage may vary (to put it mildly).\n",
    "* Finally, _Newton's method_ can always blame you for not being in the neighborhood of the solution. e.g.we should use multi starting point. Check even algorithm to select starting point.\n",
    "\n",
    "Some last advice, sometimes you can transform your equations to make them closer to\n",
    "linear. In the extreme why solve: \n",
    "\n",
    "$$ \\exp(x) - 10 = 0 $$   \n",
    "\n",
    "When you can solve: \n",
    "\n",
    "$$ x = log(10)$$\n",
    "\n",
    "However it may also be that a system like:\n",
    "\n",
    "$$ x^{0.2} + y^{0.2} - 2 = 0 $$\n",
    "\n",
    "$$ x^{0.1} + y^{0.4} - 2 = 0 $$\n",
    "\n",
    "Can be more easily be solved after re-scaling to get closer to CRTS:\n",
    "\n",
    "$$ (x^{0.2} + y^{0.2})^5 - 32 = 0 $$\n",
    "\n",
    "$$ (x^{0.1} + y^{0.4})^4 - 16 = 0 $$\n",
    "\n",
    "The broad lesson __here is that the computer wants to solve the math\n",
    "problem you give it, if that problem needs to be manipulated slightly in\n",
    "ways that are not \"economically intuitive\" that is fine__. In general, the\n",
    "closer to a _linear_ problem you have, the easier it will be to solve\n",
    "with Newton or quasi-Newton methods, since both follow the principle of\n",
    "successive linearization. \n",
    "\n",
    "The reason under the hood is that what matlab will do with the `fsolve` is\n",
    "first linearize it and then itertate. So if we can linearize for it a bit\n",
    "further, it will like you."
   ]
  }
 ],
 "metadata": {
  "kernelspec": {
   "display_name": "Matlab",
   "language": "matlab",
   "name": "matlab"
  },
  "language_info": {
   "codemirror_mode": "octave",
   "file_extension": ".m",
   "help_links": [
    {
     "text": "MetaKernel Magics",
     "url": "https://metakernel.readthedocs.io/en/latest/source/README.html"
    }
   ],
   "mimetype": "text/x-octave",
   "name": "matlab",
   "version": "0.16.9"
  },
  "toc-autonumbering": false
 },
 "nbformat": 4,
 "nbformat_minor": 4
}
