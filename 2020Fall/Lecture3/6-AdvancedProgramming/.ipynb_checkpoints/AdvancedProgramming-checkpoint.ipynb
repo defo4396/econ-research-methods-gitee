{
 "cells": [
  {
   "cell_type": "markdown",
   "metadata": {},
   "source": [
    "# Advanced Programming in Stata\n",
    "`2020-11-22`\n",
    "_Zhiyuan Chen, Department of Trade Economics, Renmin Business School_\n",
    "\n",
    "__Main Reference__: \n",
    "* A. Colin Cameron and Pravin K. Trivedi, Microeconometrics Using Stata, Second Edition, 2010, Appendix A\n",
    "* [Programming an destimation command in Stata: Mata 101](https://blog.stata.com/2015/12/15/programming-an-estimation-command-in-stata-mata-101/)\n",
    "* Coding with Mata in Stata [[PDF]](https://www.schmidheiny.name/teaching/statamata.pdf)"
   ]
  },
  {
   "cell_type": "markdown",
   "metadata": {},
   "source": [
    "## Programs in Stata\n",
    "Do-files, ado-files, and program files are collections of Stata commands that can be repeated for the same analysis. More advanced analysis may require actual programming in Stata. "
   ]
  },
  {
   "cell_type": "markdown",
   "metadata": {},
   "source": [
    "### Simple programs without arugments or access to results\n"
   ]
  },
  {
   "cell_type": "code",
   "execution_count": 1,
   "metadata": {},
   "outputs": [],
   "source": [
    "* Program with no arguments\n",
    "program time\n",
    "    disp c(current_time) c(current_date)\n",
    "end"
   ]
  },
  {
   "cell_type": "code",
   "execution_count": 2,
   "metadata": {},
   "outputs": [
    {
     "name": "stdout",
     "output_type": "stream",
     "text": [
      "09:24:5823 Nov 2020\n"
     ]
    }
   ],
   "source": [
    "* Run the program\n",
    "time"
   ]
  },
  {
   "cell_type": "markdown",
   "metadata": {},
   "source": [
    "Stata prohibits one from redefining an existing program. We need to remove any previous program with the same name if is already exists. "
   ]
  },
  {
   "cell_type": "code",
   "execution_count": 3,
   "metadata": {},
   "outputs": [],
   "source": [
    "cap program drop time\n",
    "program time\n",
    "    disp c(current_time) c(current_date)\n",
    "end"
   ]
  },
  {
   "cell_type": "code",
   "execution_count": 4,
   "metadata": {},
   "outputs": [
    {
     "name": "stdout",
     "output_type": "stream",
     "text": [
      "09:25:0623 Nov 2020\n"
     ]
    }
   ],
   "source": [
    "* Run the program\n",
    "time"
   ]
  },
  {
   "cell_type": "markdown",
   "metadata": {},
   "source": [
    "### Programs with positional arguments\n",
    "Most programs installed in Stata requires users to given command name and the command arguments. For example, `reg y x1 x2`. \n",
    "The temporary variable is quite useful in writing the programs:\n",
    "\n",
    "__<u>temporary variables:</u>__ A temporary variable is local only to the program and is dropped after the program has executed."
   ]
  },
  {
   "cell_type": "code",
   "execution_count": 5,
   "metadata": {},
   "outputs": [],
   "source": [
    "* Program with two positional arguments\n",
    "cap program drop meddiff\n",
    "program meddiff\n",
    "    tempvar diff  \n",
    "    gen `diff' = `1' - `2'\n",
    "    _pctile `diff', p(50)\n",
    "    disp \"Median difference = \" r(r1)\n",
    "end"
   ]
  },
  {
   "cell_type": "code",
   "execution_count": 7,
   "metadata": {},
   "outputs": [
    {
     "name": "stdout",
     "output_type": "stream",
     "text": [
      "\n",
      "\n",
      "Median difference = 2142\n"
     ]
    }
   ],
   "source": [
    "* Run the program with two arugments\n",
    "qui sysuse auto.dta,clear\n",
    "meddiff price weight"
   ]
  },
  {
   "cell_type": "code",
   "execution_count": 8,
   "metadata": {},
   "outputs": [],
   "source": [
    "* Program with two named positional arguements\n",
    "cap program drop meddiff\n",
    "program meddiff\n",
    "    args y x\n",
    "    tempvar diff\n",
    "    gen `diff' = `y' - `x'\n",
    "    _pctile `diff', p(50)\n",
    "    disp \"Median difference = \" r(r1)\n",
    "end"
   ]
  },
  {
   "cell_type": "code",
   "execution_count": 9,
   "metadata": {},
   "outputs": [
    {
     "name": "stdout",
     "output_type": "stream",
     "text": [
      "Median difference = 2142\n"
     ]
    }
   ],
   "source": [
    "meddiff price weight"
   ]
  },
  {
   "cell_type": "code",
   "execution_count": 10,
   "metadata": {},
   "outputs": [],
   "source": [
    "* A simple program for beautiful outputs of regressions\n",
    "cap program drop beautifulreg\n",
    "program beautifulreg\n",
    "    args y x\n",
    "    qui reg `y' `x', r\n",
    "    esttab, star(* 0.1 ** 0.05 *** 0.01) se r2\n",
    "end"
   ]
  },
  {
   "cell_type": "code",
   "execution_count": 11,
   "metadata": {},
   "outputs": [
    {
     "name": "stdout",
     "output_type": "stream",
     "text": [
      "\n",
      "----------------------------\n",
      "                      (1)   \n",
      "                      mpg   \n",
      "----------------------------\n",
      "price           -0.000919***\n",
      "               (0.000183)   \n",
      "\n",
      "_cons               26.96***\n",
      "                  (1.384)   \n",
      "----------------------------\n",
      "N                      74   \n",
      "R-sq                0.220   \n",
      "----------------------------\n",
      "Standard errors in parentheses\n",
      "* p<0.1, ** p<0.05, *** p<0.01\n"
     ]
    }
   ],
   "source": [
    " *beautiful regressions \n",
    "beautifulreg mpg price"
   ]
  },
  {
   "cell_type": "code",
   "execution_count": 12,
   "metadata": {},
   "outputs": [
    {
     "name": "stdout",
     "output_type": "stream",
     "text": [
      "\n",
      "----------------------------\n",
      "                      (1)   \n",
      "                      mpg   \n",
      "----------------------------\n",
      "price           -0.000919***\n",
      "               (0.000183)   \n",
      "\n",
      "_cons               26.96***\n",
      "                  (1.384)   \n",
      "----------------------------\n",
      "N                      74   \n",
      "R-sq                0.220   \n",
      "----------------------------\n",
      "Standard errors in parentheses\n",
      "* p<0.1, ** p<0.05, *** p<0.01\n"
     ]
    }
   ],
   "source": [
    " * wrong use of \"beautifulreg\"\n",
    "beautifulreg mpg price weight  // the argument weight is omitted"
   ]
  },
  {
   "cell_type": "code",
   "execution_count": 13,
   "metadata": {},
   "outputs": [],
   "source": [
    "*retrieving and storing outputs of a program \n",
    "* Program with results stored in r()\n",
    "cap program drop meddiff\n",
    "program mediff, rclass\n",
    "    args y x\n",
    "    tempvar diff\n",
    "    gen `diff' = `y' - `x'\n",
    "    _pctile `diff', p(50)\n",
    "    return scalar mdiffyx = r(r1)\n",
    "end"
   ]
  },
  {
   "cell_type": "code",
   "execution_count": 14,
   "metadata": {},
   "outputs": [
    {
     "name": "stdout",
     "output_type": "stream",
     "text": [
      "\n",
      "\n",
      "\n",
      "scalars:\n",
      "            r(mdiffyx) =  2142\n"
     ]
    }
   ],
   "source": [
    "mediff price weight\n",
    "return list"
   ]
  },
  {
   "cell_type": "code",
   "execution_count": 15,
   "metadata": {},
   "outputs": [
    {
     "name": "stdout",
     "output_type": "stream",
     "text": [
      "Median difference = 2142\n"
     ]
    }
   ],
   "source": [
    "disp \"Median difference = \" r(mdiffyx)"
   ]
  },
  {
   "cell_type": "markdown",
   "metadata": {},
   "source": [
    "### Programs using standard Stata syntax\n",
    "Programs with arguments pre-specified reduces the flexibility of inputs. Usually, program arguments can be quite lengthy and can include optional arguments. \n",
    "\n",
    "The full standard Stata syntax is \n",
    "\n",
    "` command [varlist|namelist|anything] [if] [in] [using filename] [=exp] [weight] [,options]`\n",
    "\n",
    "For example, consider the command for ols regression:\n",
    "\n",
    "``` regress mpg weight if price< . in 1/50, vce(robust)```\n",
    "\n",
    "How this is done? Now we use Stata syntax to upgrade our program `beautifulreg`. "
   ]
  },
  {
   "cell_type": "code",
   "execution_count": 16,
   "metadata": {},
   "outputs": [],
   "source": [
    "* Program that uses Stata syntax and gettoken to parse arguments\n",
    "cap program drop beautifulreg\n",
    "\n",
    "program beautifulreg\n",
    "    syntax varlist [if] [in] [, vce(string)]\n",
    "    gettoken y xvars : varlist\n",
    "    qui reg `y' `xvars' `if' `in', `vce'\n",
    "    esttab, star(* 0.1 ** 0.05 *** 0.01) se r2\n",
    "end"
   ]
  },
  {
   "cell_type": "code",
   "execution_count": 17,
   "metadata": {},
   "outputs": [
    {
     "name": "stdout",
     "output_type": "stream",
     "text": [
      "\n",
      "----------------------------\n",
      "                      (1)   \n",
      "                      mpg   \n",
      "----------------------------\n",
      "price          -0.0000935   \n",
      "               (0.000163)   \n",
      "\n",
      "weight           -0.00582***\n",
      "               (0.000618)   \n",
      "\n",
      "_cons               39.44***\n",
      "                  (1.622)   \n",
      "----------------------------\n",
      "N                      74   \n",
      "R-sq                0.653   \n",
      "----------------------------\n",
      "Standard errors in parentheses\n",
      "* p<0.1, ** p<0.05, *** p<0.01\n"
     ]
    }
   ],
   "source": [
    "beautifulreg mpg price weight"
   ]
  },
  {
   "cell_type": "code",
   "execution_count": 18,
   "metadata": {},
   "outputs": [
    {
     "name": "stdout",
     "output_type": "stream",
     "text": [
      "\n",
      "----------------------------\n",
      "                      (1)   \n",
      "                      mpg   \n",
      "----------------------------\n",
      "price          -0.0000935   \n",
      "               (0.000175)   \n",
      "\n",
      "weight           -0.00582***\n",
      "               (0.000653)   \n",
      "\n",
      "_cons               39.44***\n",
      "                  (2.016)   \n",
      "----------------------------\n",
      "N                      74   \n",
      "R-sq                0.653   \n",
      "----------------------------\n",
      "Standard errors in parentheses\n",
      "* p<0.1, ** p<0.05, *** p<0.01\n"
     ]
    }
   ],
   "source": [
    "beautifulreg mpg price weight, vce(robust)"
   ]
  },
  {
   "cell_type": "markdown",
   "metadata": {},
   "source": [
    "### Intall the user-written program using ado-files\n",
    "Some Stata commands (`summarize`) are built-in. But many Stata commands are defined by an ado-file, which is a collection of Stata commands. \n",
    "\n",
    "The ado file needs to be put in a directory that Stata automatically accesses. You may check your directories using `sysdir`. To allow Stata to run your program, you just need to copy your program into the directories for ado-files."
   ]
  },
  {
   "cell_type": "code",
   "execution_count": 19,
   "metadata": {},
   "outputs": [
    {
     "name": "stdout",
     "output_type": "stream",
     "text": [
      "   STATA:  C:\\Program Files (x86)\\Stata15\\\n",
      "    BASE:  C:\\Program Files (x86)\\Stata15\\ado\\base\\\n",
      "    SITE:  C:\\Program Files (x86)\\Stata15\\ado\\site\\\n",
      "    PLUS:  c:\\ado\\plus\\\n",
      "PERSONAL:  c:\\ado\\personal\\\n",
      "OLDPLACE:  c:\\ado\\\n"
     ]
    }
   ],
   "source": [
    "sysdir"
   ]
  },
  {
   "cell_type": "markdown",
   "metadata": {},
   "source": [
    "A sample program is like this:\n",
    "```\n",
    "*! version 1.0.0 22Nov2020\n",
    "program beautifulreg\n",
    "    version 15.1\n",
    "    syntax varlist [if] [in] [, vce(string)]\n",
    "    gettoken y xvars : varlist\n",
    "    qui reg `y' `xvars' `if' `in', `vce'\n",
    "    esttab, star(* 0.1 ** 0.05 *** 0.01) se r2\n",
    "end\n",
    "\n",
    "```"
   ]
  },
  {
   "cell_type": "code",
   "execution_count": 20,
   "metadata": {},
   "outputs": [
    {
     "name": "stdout",
     "output_type": "stream",
     "text": [
      "\n",
      "----------------------------\n",
      "                      (1)   \n",
      "                      mpg   \n",
      "----------------------------\n",
      "price          -0.0000935   \n",
      "               (0.000175)   \n",
      "\n",
      "weight           -0.00582***\n",
      "               (0.000653)   \n",
      "\n",
      "_cons               39.44***\n",
      "                  (2.016)   \n",
      "----------------------------\n",
      "N                      74   \n",
      "R-sq                0.653   \n",
      "----------------------------\n",
      "Standard errors in parentheses\n",
      "* p<0.1, ** p<0.05, *** p<0.01\n"
     ]
    }
   ],
   "source": [
    "*Install beautifulreg and run it on Stata\n",
    "beautifulreg mpg price weight, vce(robust)"
   ]
  },
  {
   "cell_type": "markdown",
   "metadata": {},
   "source": [
    "## Using Mata in Stata\n",
    "Mata is a matrix programming language that is part of Stata. Mata code is fast because it is compiled to object code that runs on a virtual machine"
   ]
  },
  {
   "cell_type": "markdown",
   "metadata": {},
   "source": [
    "### Mata in interactive mode and in do files\n",
    "Mata is directly accessed from the Stata command window. Type the\n",
    "stata command\n",
    "\n",
    "`mata`\n",
    "\n",
    "and all subsequent commands will be interpreted as Mata commands.\n",
    "Type\n",
    "\n",
    "`end`\n",
    "\n",
    "to return to the normal Stata command prompt.\n",
    "\n"
   ]
  },
  {
   "cell_type": "markdown",
   "metadata": {},
   "source": [
    "#### Building a matrix\n",
    "* Each row in a matrix is separated by `\\`\n",
    "* `J(r,c,v)` creates an $r\\times c$ matrix with elements valued $v$. `J(r,c,.)` generates an $r\\times c$ empty matrix \n",
    "* `I(v)` creates an identity matrix of constant valued $v$.\n",
    "* `e(i,n)` returns a unit vector with the $i$th element being one\n",
    "* `uniform(r,c)` generates a matrix of random number drawn from the standard uniform distribution."
   ]
  },
  {
   "cell_type": "code",
   "execution_count": 21,
   "metadata": {},
   "outputs": [
    {
     "name": "stdout",
     "output_type": "stream",
     "text": [
      "\n",
      "------------------------------------------------- mata (type end to exit) ------\n",
      "\n",
      "\n",
      ": A\n",
      "       1   2\n",
      "    +---------+\n",
      "  1 |  1   2  |\n",
      "  2 |  3   4  |\n",
      "    +---------+\n",
      "\n",
      ": end\n",
      "--------------------------------------------------------------------------------\n"
     ]
    }
   ],
   "source": [
    "* Matrix definition in Mata\n",
    "mata\n",
    "A = (1, 2\\3, 4)\n",
    "A\n",
    "end"
   ]
  },
  {
   "cell_type": "code",
   "execution_count": 22,
   "metadata": {},
   "outputs": [
    {
     "name": "stdout",
     "output_type": "stream",
     "text": [
      "\n",
      "------------------------------------------------- mata (type end to exit) ------\n",
      "\n",
      "\n",
      ": w = (1::4)\n",
      "\n",
      ": v = A*w\n",
      "\n",
      ": v'\n",
      "        1    2    3\n",
      "    +----------------+\n",
      "  1 |  10   10   10  |\n",
      "    +----------------+\n",
      "\n",
      ": end\n",
      "--------------------------------------------------------------------------------\n"
     ]
    }
   ],
   "source": [
    "* J function for matrix definition\n",
    "mata\n",
    "A = J(3, 4, 1) \n",
    "w = (1::4)\n",
    "v = A*w\n",
    "v'\n",
    "end"
   ]
  },
  {
   "cell_type": "code",
   "execution_count": 23,
   "metadata": {},
   "outputs": [
    {
     "name": "stdout",
     "output_type": "stream",
     "text": [
      "\n",
      "------------------------------------------------- mata (type end to exit) ------\n",
      "\n",
      "\n",
      ": B[1,1] = 4\n",
      "\n",
      ": B[1,2] = 3\n",
      "\n",
      ": B[2,1] = 2\n",
      "\n",
      ": B[2,2] = 1\n",
      "\n",
      ": B\n",
      "       1   2\n",
      "    +---------+\n",
      "  1 |  4   3  |\n",
      "  2 |  2   1  |\n",
      "    +---------+\n",
      "\n",
      ": end\n",
      "--------------------------------------------------------------------------------\n"
     ]
    }
   ],
   "source": [
    "* J function (continued)\n",
    "mata\n",
    "B = J(2, 2, .)\n",
    "B[1,1] = 4\n",
    "B[1,2] = 3\n",
    "B[2,1] = 2\n",
    "B[2,2] = 1\n",
    "B\n",
    "end"
   ]
  },
  {
   "cell_type": "code",
   "execution_count": 96,
   "metadata": {},
   "outputs": [
    {
     "name": "stdout",
     "output_type": "stream",
     "text": [
      "\n",
      "------------------------------------------------- mata (type end to exit) ------\n",
      "\n",
      "[symmetric]\n",
      "       1   2   3\n",
      "    +-------------+\n",
      "  1 |  1          |\n",
      "  2 |  0   1      |\n",
      "  3 |  0   0   1  |\n",
      "    +-------------+\n",
      "\n",
      ": e(1, 5) \n",
      "       1   2   3   4   5\n",
      "    +---------------------+\n",
      "  1 |  1   0   0   0   0  |\n",
      "    +---------------------+\n",
      "\n",
      ": uniform(2,2) \n",
      "                 1             2\n",
      "    +-----------------------------+\n",
      "  1 |  .5029847662    .438563759  |\n",
      "  2 |   .462279439   .1297908993  |\n",
      "    +-----------------------------+\n",
      "\n",
      ": end\n",
      "--------------------------------------------------------------------------------\n"
     ]
    }
   ],
   "source": [
    "mata\n",
    "I(3)  //identify matrix \n",
    "e(1, 5) //unit vector\n",
    "uniform(2,2) //random matrix\n",
    "end"
   ]
  },
  {
   "cell_type": "markdown",
   "metadata": {},
   "source": [
    "#### Submatrix extraction and combination"
   ]
  },
  {
   "cell_type": "code",
   "execution_count": 29,
   "metadata": {},
   "outputs": [
    {
     "name": "stdout",
     "output_type": "stream",
     "text": [
      "\n",
      "------------------------------------------------- mata (type end to exit) ------\n",
      "\n",
      "\n",
      ": A1 = 1, 2\\3, 4\n",
      "\n",
      ": A \n",
      "       1   2\n",
      "    +---------+\n",
      "  1 |  1   2  |\n",
      "  2 |  3   4  |\n",
      "    +---------+\n",
      "\n",
      ": A1\n",
      "       1   2\n",
      "    +---------+\n",
      "  1 |  1   2  |\n",
      "  2 |  3   4  |\n",
      "    +---------+\n",
      "\n",
      ": B = (5, 6, 7 \\ 8, 9, 10)\n",
      "\n",
      ": C = (3, 4 \\ 5, 6)\n",
      "\n",
      ": D = (1, 2, 3 \\ 4, 5, 6)\n",
      "\n",
      ": E = (A, B \\ C, D)  \n",
      "\n",
      ": E1 = A, B \\ C, D  \n",
      "\n",
      ": E\n",
      "        1    2    3    4    5\n",
      "    +--------------------------+\n",
      "  1 |   1    2    5    6    7  |\n",
      "  2 |   3    4    8    9   10  |\n",
      "  3 |   3    4    1    2    3  |\n",
      "  4 |   5    6    4    5    6  |\n",
      "    +--------------------------+\n",
      "\n",
      ": E1\n",
      "        1    2    3    4    5\n",
      "    +--------------------------+\n",
      "  1 |   1    2    5    6    7  |\n",
      "  2 |   3    4    8    9   10  |\n",
      "  3 |   3    4    1    2    3  |\n",
      "  4 |   5    6    4    5    6  |\n",
      "    +--------------------------+\n",
      "\n",
      ": end\n",
      "--------------------------------------------------------------------------------\n"
     ]
    }
   ],
   "source": [
    "* building a matrix out of submatrices\n",
    "mata\n",
    "A = (1, 2\\3, 4)\n",
    "A1 = 1, 2\\3, 4\n",
    "A \n",
    "A1\n",
    "B = (5, 6, 7 \\ 8, 9, 10)\n",
    "C = (3, 4 \\ 5, 6)\n",
    "D = (1, 2, 3 \\ 4, 5, 6)\n",
    "E = (A, B \\ C, D)  //putting matrices together\n",
    "E1 = A, B \\ C, D  // an alternative way\n",
    "E\n",
    "E1\n",
    "end"
   ]
  },
  {
   "cell_type": "code",
   "execution_count": 52,
   "metadata": {},
   "outputs": [
    {
     "name": "stdout",
     "output_type": "stream",
     "text": [
      "\n",
      "------------------------------------------------- mata (type end to exit) ------\n",
      "\n",
      "\n",
      ": W =  runiform(4, 4)\n",
      "\n",
      ": W\n",
      "                 1             2             3             4\n",
      "    +---------------------------------------------------------+\n",
      "  1 |  .3042232543   .5540206672   .2794988513   .2006273974  |\n",
      "  2 |  .1246265905   .6718853338    .437139225   .0614367248  |\n",
      "  3 |  .0501941332   .8434174442   .7086775192   .1169666527  |\n",
      "  4 |  .6030179755   .8866910004   .7940029855   .0474225914  |\n",
      "    +---------------------------------------------------------+\n",
      "\n",
      ": W[1, 1]   \n",
      "  .3042232543\n",
      "\n",
      ": W[1, .]   \n",
      "                 1             2             3             4\n",
      "    +---------------------------------------------------------+\n",
      "  1 |  .3042232543   .5540206672   .2794988513   .2006273974  |\n",
      "    +---------------------------------------------------------+\n",
      "\n",
      ": W[., 1]  \n",
      "                 1\n",
      "    +---------------+\n",
      "  1 |  .3042232543  |\n",
      "  2 |  .1246265905  |\n",
      "  3 |  .0501941332  |\n",
      "  4 |  .6030179755  |\n",
      "    +---------------+\n",
      "\n",
      ": W[1, (2, 4)] \n",
      "                 1             2\n",
      "    +-----------------------------+\n",
      "  1 |  .5540206672   .2006273974  |\n",
      "    +-----------------------------+\n",
      "\n",
      ": W[(1\\3),(2,4)] \n",
      "                 1             2\n",
      "    +-----------------------------+\n",
      "  1 |  .5540206672   .2006273974  |\n",
      "  2 |  .8434174442   .1169666527  |\n",
      "    +-----------------------------+\n",
      "\n",
      ": W[|1,1 \\ 3, 3|]  \n",
      "                 1             2             3\n",
      "    +-------------------------------------------+\n",
      "  1 |  .3042232543   .5540206672   .2794988513  |\n",
      "  2 |  .1246265905   .6718853338    .437139225  |\n",
      "  3 |  .0501941332   .8434174442   .7086775192  |\n",
      "    +-------------------------------------------+\n",
      "\n",
      ": W[|1,.\\3,.|]  \n",
      "                 1             2             3             4\n",
      "    +---------------------------------------------------------+\n",
      "  1 |  .3042232543   .5540206672   .2794988513   .2006273974  |\n",
      "  2 |  .1246265905   .6718853338    .437139225   .0614367248  |\n",
      "  3 |  .0501941332   .8434174442   .7086775192   .1169666527  |\n",
      "    +---------------------------------------------------------+\n",
      "\n",
      ": end\n",
      "--------------------------------------------------------------------------------\n"
     ]
    }
   ],
   "source": [
    "* extracting submatrices\n",
    "mata\n",
    "rseed(10101)\n",
    "W =  runiform(4, 4)\n",
    "W\n",
    "W[1, 1]   // element in row 1 and column 1\n",
    "W[1, .]   // elements in row 1\n",
    "W[., 1]  // elements in column 1\n",
    "W[1, (2, 4)] //elements in row1 and columns (2, 4)\n",
    "W[(1\\3),(2,4)] // elements in rows 1, 3 and columns 2, 4\n",
    "W[|1,1 \\ 3, 3|]  // select a range of the matrix, from top 1,1 element to bottom 3,3 element\n",
    "W[|1,.\\3,.|]  // first to third rows\n",
    "end"
   ]
  },
  {
   "cell_type": "markdown",
   "metadata": {},
   "source": [
    "#### Creating a string matrix"
   ]
  },
  {
   "cell_type": "code",
   "execution_count": 34,
   "metadata": {},
   "outputs": [
    {
     "name": "stdout",
     "output_type": "stream",
     "text": [
      "\n",
      "------------------------------------------------- mata (type end to exit) ------\n",
      "\n",
      "\n",
      ": S\n",
      "             1         2\n",
      "    +---------------------+\n",
      "  1 |     This     Class  |\n",
      "  2 |       Is   Awesome  |\n",
      "    +---------------------+\n",
      "\n",
      ": S[1,1]\n",
      "  This\n",
      "\n",
      ": S[2,2]\n",
      "  Awesome\n",
      "\n",
      ": end\n",
      "--------------------------------------------------------------------------------\n"
     ]
    }
   ],
   "source": [
    "* Creating a String Matrix\n",
    "mata\n",
    "S = \"This\", \"Class\" \\ \"Is\", \"Awesome\"\n",
    "S\n",
    "S[1,1]\n",
    "S[2,2]\n",
    "end"
   ]
  },
  {
   "cell_type": "markdown",
   "metadata": {},
   "source": [
    "#### Accessing data from Stata\n",
    "The Mata function `st_data()` creates a Mata matrix containing a copy of the data from the Stata dataset in memory. The Mata function `st_view()` creates a Mata view of the data in the Stata dataset in memory. Copies are fast at the cost of using twice as much memory. Views are slower, but they use little extra memory."
   ]
  },
  {
   "cell_type": "markdown",
   "metadata": {},
   "source": [
    "##### Data from Stata .dta files"
   ]
  },
  {
   "cell_type": "code",
   "execution_count": 39,
   "metadata": {},
   "outputs": [],
   "source": [
    "* Data from Stata into Mata\n",
    "qui sysuse auto.dta,clear"
   ]
  },
  {
   "cell_type": "code",
   "execution_count": 40,
   "metadata": {},
   "outputs": [
    {
     "data": {
      "text/html": [
       "<div>\n",
       "<style scoped>\n",
       "    .dataframe tbody tr th:only-of-type {\n",
       "        vertical-align: middle;\n",
       "    }\n",
       "\n",
       "    .dataframe tbody tr th {\n",
       "        vertical-align: top;\n",
       "    }\n",
       "\n",
       "    .dataframe thead th {\n",
       "        text-align: right;\n",
       "    }\n",
       "</style>\n",
       "<table border=\"1\" class=\"dataframe\">\n",
       "  <thead>\n",
       "    <tr style=\"text-align: right;\">\n",
       "      <th></th>\n",
       "      <th>make</th>\n",
       "      <th>price</th>\n",
       "      <th>mpg</th>\n",
       "      <th>rep78</th>\n",
       "      <th>headroom</th>\n",
       "      <th>trunk</th>\n",
       "      <th>weight</th>\n",
       "      <th>length</th>\n",
       "      <th>turn</th>\n",
       "      <th>displacement</th>\n",
       "      <th>gear_ratio</th>\n",
       "      <th>foreign</th>\n",
       "    </tr>\n",
       "  </thead>\n",
       "  <tbody>\n",
       "    <tr>\n",
       "      <th>1</th>\n",
       "      <td>AMC Concord</td>\n",
       "      <td>4099</td>\n",
       "      <td>22</td>\n",
       "      <td>3</td>\n",
       "      <td>2.5</td>\n",
       "      <td>11</td>\n",
       "      <td>2930</td>\n",
       "      <td>186</td>\n",
       "      <td>40</td>\n",
       "      <td>121</td>\n",
       "      <td>3.5799999</td>\n",
       "      <td>Domestic</td>\n",
       "    </tr>\n",
       "    <tr>\n",
       "      <th>2</th>\n",
       "      <td>AMC Pacer</td>\n",
       "      <td>4749</td>\n",
       "      <td>17</td>\n",
       "      <td>3</td>\n",
       "      <td>3</td>\n",
       "      <td>11</td>\n",
       "      <td>3350</td>\n",
       "      <td>173</td>\n",
       "      <td>40</td>\n",
       "      <td>258</td>\n",
       "      <td>2.53</td>\n",
       "      <td>Domestic</td>\n",
       "    </tr>\n",
       "    <tr>\n",
       "      <th>3</th>\n",
       "      <td>AMC Spirit</td>\n",
       "      <td>3799</td>\n",
       "      <td>22</td>\n",
       "      <td>.</td>\n",
       "      <td>3</td>\n",
       "      <td>12</td>\n",
       "      <td>2640</td>\n",
       "      <td>168</td>\n",
       "      <td>35</td>\n",
       "      <td>121</td>\n",
       "      <td>3.0799999</td>\n",
       "      <td>Domestic</td>\n",
       "    </tr>\n",
       "    <tr>\n",
       "      <th>4</th>\n",
       "      <td>Buick Century</td>\n",
       "      <td>4816</td>\n",
       "      <td>20</td>\n",
       "      <td>3</td>\n",
       "      <td>4.5</td>\n",
       "      <td>16</td>\n",
       "      <td>3250</td>\n",
       "      <td>196</td>\n",
       "      <td>40</td>\n",
       "      <td>196</td>\n",
       "      <td>2.9300001</td>\n",
       "      <td>Domestic</td>\n",
       "    </tr>\n",
       "    <tr>\n",
       "      <th>5</th>\n",
       "      <td>Buick Electra</td>\n",
       "      <td>7827</td>\n",
       "      <td>15</td>\n",
       "      <td>4</td>\n",
       "      <td>4</td>\n",
       "      <td>20</td>\n",
       "      <td>4080</td>\n",
       "      <td>222</td>\n",
       "      <td>43</td>\n",
       "      <td>350</td>\n",
       "      <td>2.4100001</td>\n",
       "      <td>Domestic</td>\n",
       "    </tr>\n",
       "    <tr>\n",
       "      <th>6</th>\n",
       "      <td>Buick LeSabre</td>\n",
       "      <td>5788</td>\n",
       "      <td>18</td>\n",
       "      <td>3</td>\n",
       "      <td>4</td>\n",
       "      <td>21</td>\n",
       "      <td>3670</td>\n",
       "      <td>218</td>\n",
       "      <td>43</td>\n",
       "      <td>231</td>\n",
       "      <td>2.73</td>\n",
       "      <td>Domestic</td>\n",
       "    </tr>\n",
       "    <tr>\n",
       "      <th>7</th>\n",
       "      <td>Buick Opel</td>\n",
       "      <td>4453</td>\n",
       "      <td>26</td>\n",
       "      <td>.</td>\n",
       "      <td>3</td>\n",
       "      <td>10</td>\n",
       "      <td>2230</td>\n",
       "      <td>170</td>\n",
       "      <td>34</td>\n",
       "      <td>304</td>\n",
       "      <td>2.8699999</td>\n",
       "      <td>Domestic</td>\n",
       "    </tr>\n",
       "    <tr>\n",
       "      <th>8</th>\n",
       "      <td>Buick Regal</td>\n",
       "      <td>5189</td>\n",
       "      <td>20</td>\n",
       "      <td>3</td>\n",
       "      <td>2</td>\n",
       "      <td>16</td>\n",
       "      <td>3280</td>\n",
       "      <td>200</td>\n",
       "      <td>42</td>\n",
       "      <td>196</td>\n",
       "      <td>2.9300001</td>\n",
       "      <td>Domestic</td>\n",
       "    </tr>\n",
       "    <tr>\n",
       "      <th>9</th>\n",
       "      <td>Buick Riviera</td>\n",
       "      <td>10372</td>\n",
       "      <td>16</td>\n",
       "      <td>3</td>\n",
       "      <td>3.5</td>\n",
       "      <td>17</td>\n",
       "      <td>3880</td>\n",
       "      <td>207</td>\n",
       "      <td>43</td>\n",
       "      <td>231</td>\n",
       "      <td>2.9300001</td>\n",
       "      <td>Domestic</td>\n",
       "    </tr>\n",
       "    <tr>\n",
       "      <th>10</th>\n",
       "      <td>Buick Skylark</td>\n",
       "      <td>4082</td>\n",
       "      <td>19</td>\n",
       "      <td>3</td>\n",
       "      <td>3.5</td>\n",
       "      <td>13</td>\n",
       "      <td>3400</td>\n",
       "      <td>200</td>\n",
       "      <td>42</td>\n",
       "      <td>231</td>\n",
       "      <td>3.0799999</td>\n",
       "      <td>Domestic</td>\n",
       "    </tr>\n",
       "  </tbody>\n",
       "</table>\n",
       "</div>"
      ],
      "text/plain": [
       "\n",
       "     +------------------------------------------------------------------+\n",
       "  1. | make          |  price | mpg | rep78 | headroom | trunk | weight |\n",
       "     | AMC Concord   |  4,099 |  22 |     3 |      2.5 |    11 |  2,930 |\n",
       "     |------------------------------------------------------------------|\n",
       "     |  length   |  turn   |   displa~t   |   gear_r~o   |    foreign   |\n",
       "     |     186   |    40   |        121   |       3.58   |   Domestic   |\n",
       "     +------------------------------------------------------------------+\n",
       "\n",
       "     +------------------------------------------------------------------+\n",
       "  2. | make          |  price | mpg | rep78 | headroom | trunk | weight |\n",
       "     | AMC Pacer     |  4,749 |  17 |     3 |      3.0 |    11 |  3,350 |\n",
       "     |------------------------------------------------------------------|\n",
       "     |  length   |  turn   |   displa~t   |   gear_r~o   |    foreign   |\n",
       "     |     173   |    40   |        258   |       2.53   |   Domestic   |\n",
       "     +------------------------------------------------------------------+\n",
       "\n",
       "     +------------------------------------------------------------------+\n",
       "  3. | make          |  price | mpg | rep78 | headroom | trunk | weight |\n",
       "     | AMC Spirit    |  3,799 |  22 |     . |      3.0 |    12 |  2,640 |\n",
       "     |------------------------------------------------------------------|\n",
       "     |  length   |  turn   |   displa~t   |   gear_r~o   |    foreign   |\n",
       "     |     168   |    35   |        121   |       3.08   |   Domestic   |\n",
       "     +------------------------------------------------------------------+\n",
       "\n",
       "     +------------------------------------------------------------------+\n",
       "  4. | make          |  price | mpg | rep78 | headroom | trunk | weight |\n",
       "     | Buick Century |  4,816 |  20 |     3 |      4.5 |    16 |  3,250 |\n",
       "     |------------------------------------------------------------------|\n",
       "     |  length   |  turn   |   displa~t   |   gear_r~o   |    foreign   |\n",
       "     |     196   |    40   |        196   |       2.93   |   Domestic   |\n",
       "     +------------------------------------------------------------------+\n",
       "\n",
       "     +------------------------------------------------------------------+\n",
       "  5. | make          |  price | mpg | rep78 | headroom | trunk | weight |\n",
       "     | Buick Electra |  7,827 |  15 |     4 |      4.0 |    20 |  4,080 |\n",
       "     |------------------------------------------------------------------|\n",
       "     |  length   |  turn   |   displa~t   |   gear_r~o   |    foreign   |\n",
       "     |     222   |    43   |        350   |       2.41   |   Domestic   |\n",
       "     +------------------------------------------------------------------+\n",
       "\n",
       "     +------------------------------------------------------------------+\n",
       "  6. | make          |  price | mpg | rep78 | headroom | trunk | weight |\n",
       "     | Buick LeSabre |  5,788 |  18 |     3 |      4.0 |    21 |  3,670 |\n",
       "     |------------------------------------------------------------------|\n",
       "     |  length   |  turn   |   displa~t   |   gear_r~o   |    foreign   |\n",
       "     |     218   |    43   |        231   |       2.73   |   Domestic   |\n",
       "     +------------------------------------------------------------------+\n",
       "\n",
       "     +------------------------------------------------------------------+\n",
       "  7. | make          |  price | mpg | rep78 | headroom | trunk | weight |\n",
       "     | Buick Opel    |  4,453 |  26 |     . |      3.0 |    10 |  2,230 |\n",
       "     |------------------------------------------------------------------|\n",
       "     |  length   |  turn   |   displa~t   |   gear_r~o   |    foreign   |\n",
       "     |     170   |    34   |        304   |       2.87   |   Domestic   |\n",
       "     +------------------------------------------------------------------+\n",
       "\n",
       "     +------------------------------------------------------------------+\n",
       "  8. | make          |  price | mpg | rep78 | headroom | trunk | weight |\n",
       "     | Buick Regal   |  5,189 |  20 |     3 |      2.0 |    16 |  3,280 |\n",
       "     |------------------------------------------------------------------|\n",
       "     |  length   |  turn   |   displa~t   |   gear_r~o   |    foreign   |\n",
       "     |     200   |    42   |        196   |       2.93   |   Domestic   |\n",
       "     +------------------------------------------------------------------+\n",
       "\n",
       "     +------------------------------------------------------------------+\n",
       "  9. | make          |  price | mpg | rep78 | headroom | trunk | weight |\n",
       "     | Buick Riviera | 10,372 |  16 |     3 |      3.5 |    17 |  3,880 |\n",
       "     |------------------------------------------------------------------|\n",
       "     |  length   |  turn   |   displa~t   |   gear_r~o   |    foreign   |\n",
       "     |     207   |    43   |        231   |       2.93   |   Domestic   |\n",
       "     +------------------------------------------------------------------+\n",
       "\n",
       "     +------------------------------------------------------------------+\n",
       " 10. | make          |  price | mpg | rep78 | headroom | trunk | weight |\n",
       "     | Buick Skylark |  4,082 |  19 |     3 |      3.5 |    13 |  3,400 |\n",
       "     |------------------------------------------------------------------|\n",
       "     |  length   |  turn   |   displa~t   |   gear_r~o   |    foreign   |\n",
       "     |     200   |    42   |        231   |       3.08   |   Domestic   |\n",
       "     +------------------------------------------------------------------+\n",
       "\n"
      ]
     },
     "metadata": {},
     "output_type": "display_data"
    }
   ],
   "source": [
    "%head"
   ]
  },
  {
   "cell_type": "code",
   "execution_count": 43,
   "metadata": {},
   "outputs": [
    {
     "name": "stdout",
     "output_type": "stream",
     "text": [
      "\n",
      "     +-------------+\n",
      "     | mpg   rep78 |\n",
      "     |-------------|\n",
      "  1. |  22       3 |\n",
      "  2. |  17       3 |\n",
      "  3. |  22       . |\n",
      "  4. |  20       3 |\n",
      "  5. |  15       4 |\n",
      "     +-------------+\n"
     ]
    }
   ],
   "source": [
    "list mpg rep78 in 1/5, nolabel"
   ]
  },
  {
   "cell_type": "code",
   "execution_count": 44,
   "metadata": {},
   "outputs": [
    {
     "name": "stdout",
     "output_type": "stream",
     "text": [
      "\n",
      "------------------------------------------------- mata (type end to exit) ------\n",
      "\n",
      "\n",
      ": X = st_data(.,\"price weight\")\n",
      "\n",
      ": W = Y, X\n",
      "\n",
      ": W[1, .]\n",
      "          1      2      3\n",
      "    +----------------------+\n",
      "  1 |    22   4099   2930  |\n",
      "    +----------------------+\n",
      "\n",
      ": end\n",
      "--------------------------------------------------------------------------------\n"
     ]
    }
   ],
   "source": [
    "*create a copy of the data\n",
    "mata\n",
    "Y = st_data(.,\"mpg\") // all observations in mpg\n",
    "X = st_data(.,\"price weight\") // all observations in price and weight\n",
    "W = Y, X\n",
    "W[1, .]\n",
    "end"
   ]
  },
  {
   "cell_type": "code",
   "execution_count": 53,
   "metadata": {},
   "outputs": [
    {
     "name": "stdout",
     "output_type": "stream",
     "text": [
      "\n",
      "------------------------------------------------- mata (type end to exit) ------\n",
      "\n",
      "\n",
      ": V[|1, . \\5,.|]\n",
      "          1      2\n",
      "    +---------------+\n",
      "  1 |  4099   2930  |\n",
      "  2 |  4749   3350  |\n",
      "  3 |  3799   2640  |\n",
      "  4 |  4816   3250  |\n",
      "  5 |  7827   4080  |\n",
      "    +---------------+\n",
      "\n",
      ": end\n",
      "--------------------------------------------------------------------------------\n"
     ]
    }
   ],
   "source": [
    "* view the data\n",
    "mata\n",
    "st_view(V=., ., \"price weight\")\n",
    "V[|1, . \\5,.|]\n",
    "end"
   ]
  },
  {
   "cell_type": "markdown",
   "metadata": {},
   "source": [
    "##### Data from Stata matrix"
   ]
  },
  {
   "cell_type": "code",
   "execution_count": 66,
   "metadata": {},
   "outputs": [
    {
     "name": "stdout",
     "output_type": "stream",
     "text": [
      "\n",
      "\n",
      "\n",
      "B[2,2]\n",
      "    c1  c2\n",
      "r1   1   2\n",
      "r2   3   4\n",
      "\n",
      "------------------------------------------------- mata (type end to exit) ------\n",
      "\n",
      "\n",
      ": Bm\n",
      "       1   2\n",
      "    +---------+\n",
      "  1 |  1   2  |\n",
      "  2 |  3   4  |\n",
      "    +---------+\n",
      "\n",
      ": end\n",
      "--------------------------------------------------------------------------------\n"
     ]
    }
   ],
   "source": [
    "* copying stata matrix into a mata matrix\n",
    "matrix B = (1, 2\\3, 4)\n",
    "matrix list B\n",
    "mata\n",
    "Bm = st_matrix(\"B\")\n",
    "Bm\n",
    "end"
   ]
  },
  {
   "cell_type": "code",
   "execution_count": 67,
   "metadata": {},
   "outputs": [
    {
     "name": "stdout",
     "output_type": "stream",
     "text": [
      "\n",
      "------------------------------------------------- mata (type end to exit) ------\n",
      "\n",
      "\n",
      ": W\n",
      "       1   2   3\n",
      "    +-------------+\n",
      "  1 |  4   5   6  |\n",
      "  2 |  7   8   9  |\n",
      "    +-------------+\n",
      "\n",
      ": st_matrix(\"Ws\", W)\n",
      "\n",
      ": end\n",
      "--------------------------------------------------------------------------------\n",
      "\n",
      ". matrix list Ws\n",
      "\n",
      "Ws[2,3]\n",
      "    c1  c2  c3\n",
      "r1   4   5   6\n",
      "r2   7   8   9\n"
     ]
    }
   ],
   "source": [
    "* copying a Mata matrix into a Stata matrix\n",
    "mata\n",
    "W = (4..6\\ 7..9)\n",
    "W\n",
    "st_matrix(\"Ws\", W)\n",
    "end\n",
    "matrix list Ws"
   ]
  },
  {
   "cell_type": "markdown",
   "metadata": {},
   "source": [
    "#### Basic matrix manipulations"
   ]
  },
  {
   "cell_type": "code",
   "execution_count": 69,
   "metadata": {},
   "outputs": [
    {
     "name": "stdout",
     "output_type": "stream",
     "text": [
      "\n",
      "------------------------------------------------- mata (type end to exit) ------\n",
      "\n",
      "\n",
      ": B\n",
      "        1    2    3\n",
      "    +----------------+\n",
      "  1 |   5    6    7  |\n",
      "  2 |   8    9   10  |\n",
      "    +----------------+\n",
      "\n",
      ": B'\n",
      "        1    2\n",
      "    +-----------+\n",
      "  1 |   5    8  |\n",
      "  2 |   6    9  |\n",
      "  3 |   7   10  |\n",
      "    +-----------+\n",
      "\n",
      ": end\n",
      "--------------------------------------------------------------------------------\n"
     ]
    }
   ],
   "source": [
    "* transpose\n",
    "mata \n",
    "B = (5..7\\8..10)\n",
    "B\n",
    "B'\n",
    "end"
   ]
  },
  {
   "cell_type": "code",
   "execution_count": 70,
   "metadata": {},
   "outputs": [
    {
     "name": "stdout",
     "output_type": "stream",
     "text": [
      "\n",
      "------------------------------------------------- mata (type end to exit) ------\n",
      "\n",
      "        1    2    3\n",
      "    +----------------+\n",
      "  1 |   5    6    7  |\n",
      "  2 |   8    9   10  |\n",
      "    +----------------+\n",
      "\n",
      "\n",
      "\n",
      ": b\n",
      "        1\n",
      "    +------+\n",
      "  1 |   5  |\n",
      "  2 |   8  |\n",
      "  3 |   6  |\n",
      "  4 |   9  |\n",
      "  5 |   7  |\n",
      "  6 |  10  |\n",
      "    +------+\n",
      "\n",
      ": end\n",
      "--------------------------------------------------------------------------------\n"
     ]
    }
   ],
   "source": [
    "*matrices to vectors\n",
    "mata\n",
    "B\n",
    "b = vec(B)\n",
    "b\n",
    "end"
   ]
  },
  {
   "cell_type": "code",
   "execution_count": 73,
   "metadata": {},
   "outputs": [
    {
     "name": "stdout",
     "output_type": "stream",
     "text": [
      "\n",
      "------------------------------------------------- mata (type end to exit) ------\n",
      "\n",
      "        1\n",
      "    +------+\n",
      "  1 |   5  |\n",
      "  2 |   8  |\n",
      "  3 |   6  |\n",
      "  4 |   9  |\n",
      "  5 |   7  |\n",
      "  6 |  10  |\n",
      "    +------+\n",
      "\n",
      ": rowshape(b, 3)'\n",
      "        1    2    3\n",
      "    +----------------+\n",
      "  1 |   5    6    7  |\n",
      "  2 |   8    9   10  |\n",
      "    +----------------+\n",
      "\n",
      ": colshape(b,2)'\n",
      "        1    2    3\n",
      "    +----------------+\n",
      "  1 |   5    6    7  |\n",
      "  2 |   8    9   10  |\n",
      "    +----------------+\n",
      "\n",
      ": end\n",
      "--------------------------------------------------------------------------------\n"
     ]
    }
   ],
   "source": [
    "* vectors to matrices\n",
    "mata \n",
    "b \n",
    "rowshape(b, 3)'\n",
    "colshape(b,2)'\n",
    "end"
   ]
  },
  {
   "cell_type": "code",
   "execution_count": 75,
   "metadata": {},
   "outputs": [
    {
     "name": "stdout",
     "output_type": "stream",
     "text": [
      "\n",
      "------------------------------------------------- mata (type end to exit) ------\n",
      "\n",
      "\n",
      ": A\n",
      "       1   2   3\n",
      "    +-------------+\n",
      "  1 |  1   2   3  |\n",
      "  2 |  4   5   6  |\n",
      "  3 |  7   8   9  |\n",
      "    +-------------+\n",
      "\n",
      ": dA = diagonal(A)\n",
      "\n",
      ": dA\n",
      "       1\n",
      "    +-----+\n",
      "  1 |  1  |\n",
      "  2 |  5  |\n",
      "  3 |  9  |\n",
      "    +-----+\n",
      "\n",
      ": ddA = diag(dA)\n",
      "\n",
      ": ddA\n",
      "[symmetric]\n",
      "       1   2   3\n",
      "    +-------------+\n",
      "  1 |  1          |\n",
      "  2 |  0   5      |\n",
      "  3 |  0   0   9  |\n",
      "    +-------------+\n",
      "\n",
      ": end\n",
      "--------------------------------------------------------------------------------\n"
     ]
    }
   ],
   "source": [
    "* Extracting the diagonal and creating diagonal matrices\n",
    "mata\n",
    "A = (1..3 \\ 4..6 \\ 7..9)\n",
    "A\n",
    "dA = diagonal(A)\n",
    "dA\n",
    "ddA = diag(dA)\n",
    "ddA\n",
    "end"
   ]
  },
  {
   "cell_type": "code",
   "execution_count": 76,
   "metadata": {},
   "outputs": [
    {
     "name": "stdout",
     "output_type": "stream",
     "text": [
      "\n",
      "------------------------------------------------- mata (type end to exit) ------\n",
      "\n",
      "       1   2   3\n",
      "    +-------------+\n",
      "  1 |  1   0   0  |\n",
      "  2 |  4   5   0  |\n",
      "  3 |  7   8   9  |\n",
      "    +-------------+\n",
      "\n",
      ": uppertriangle(A)\n",
      "       1   2   3\n",
      "    +-------------+\n",
      "  1 |  1   2   3  |\n",
      "  2 |  0   5   6  |\n",
      "  3 |  0   0   9  |\n",
      "    +-------------+\n",
      "\n",
      ": end\n",
      "--------------------------------------------------------------------------------\n"
     ]
    }
   ],
   "source": [
    "*lower triangle and upper triangle matrices\n",
    "mata\n",
    "lowertriangle(A)\n",
    "uppertriangle(A)\n",
    "end"
   ]
  },
  {
   "cell_type": "code",
   "execution_count": 81,
   "metadata": {},
   "outputs": [
    {
     "name": "stdout",
     "output_type": "stream",
     "text": [
      "\n",
      "------------------------------------------------- mata (type end to exit) ------\n",
      "\n",
      "\n",
      ": X\n",
      "       1   2   3\n",
      "    +-------------+\n",
      "  1 |  2   3   1  |\n",
      "  2 |  2   2   2  |\n",
      "  3 |  1   1   3  |\n",
      "  4 |  2   2   3  |\n",
      "    +-------------+\n",
      "\n",
      ": sort(X, 1) \n",
      "       1   2   3\n",
      "    +-------------+\n",
      "  1 |  1   1   3  |\n",
      "  2 |  2   2   2  |\n",
      "  3 |  2   2   3  |\n",
      "  4 |  2   3   1  |\n",
      "    +-------------+\n",
      "\n",
      ": sort(X, (1, 2)) \n",
      "       1   2   3\n",
      "    +-------------+\n",
      "  1 |  1   1   3  |\n",
      "  2 |  2   2   2  |\n",
      "  3 |  2   2   3  |\n",
      "  4 |  2   3   1  |\n",
      "    +-------------+\n",
      "\n",
      ": sort(X, (1..cols(X))) \n",
      "       1   2   3\n",
      "    +-------------+\n",
      "  1 |  1   1   3  |\n",
      "  2 |  2   2   2  |\n",
      "  3 |  2   2   3  |\n",
      "  4 |  2   3   1  |\n",
      "    +-------------+\n",
      "\n",
      ": end\n",
      "--------------------------------------------------------------------------------\n"
     ]
    }
   ],
   "source": [
    "*Sorting a matrix\n",
    "mata\n",
    "X = (2, 3, 1\\2, 2, 2\\1, 1, 3 \\ 2, 2, 3)\n",
    "X\n",
    "sort(X, 1) //sort on its first column\n",
    "sort(X, (1, 2)) // sort on its first and second columns\n",
    "sort(X, (1..cols(X))) //sort on all columns\n",
    "end"
   ]
  },
  {
   "cell_type": "markdown",
   "metadata": {},
   "source": [
    "#### Basic matrix operators\n",
    "Mata provides the following basic operators matrix operations:\n",
    "\n",
    "`+` Addition\n",
    "`-` Substraction\n",
    "`*` Mulitplication\n",
    "`/` Division\n",
    "`^` Power\n",
    "\n",
    "Element-by-element operations:\n",
    "\n",
    "`:*` elmentwise multiplication\n",
    "`:/` elementwise division\n",
    "`:^` elementwise power"
   ]
  },
  {
   "cell_type": "code",
   "execution_count": 89,
   "metadata": {},
   "outputs": [
    {
     "name": "stdout",
     "output_type": "stream",
     "text": [
      "\n",
      "------------------------------------------------- mata (type end to exit) ------\n",
      "\n",
      "\n",
      ": b = 6::10 \n",
      "\n",
      ": c = 3\n",
      "\n",
      ": d = a + c*a\n",
      "\n",
      ": d\n",
      "        1    2    3    4    5\n",
      "    +--------------------------+\n",
      "  1 |   4    8   12   16   20  |\n",
      "    +--------------------------+\n",
      "\n",
      ": F = b*a\n",
      "\n",
      ": F\n",
      "        1    2    3    4    5\n",
      "    +--------------------------+\n",
      "  1 |   6   12   18   24   30  |\n",
      "  2 |   7   14   21   28   35  |\n",
      "  3 |   8   16   24   32   40  |\n",
      "  4 |   9   18   27   36   45  |\n",
      "  5 |  10   20   30   40   50  |\n",
      "    +--------------------------+\n",
      "\n",
      ": F*d\n",
      "                       *:  3200  conformability error\n",
      "                 <istmt>:     -  function returned error\n"
     ]
    },
    {
     "name": "stderr",
     "output_type": "stream",
     "text": [
      "r(3200);\n"
     ]
    },
    {
     "name": "stdout",
     "output_type": "stream",
     "text": [
      "\n",
      "\n",
      ": end\n",
      "--------------------------------------------------------------------------------\n"
     ]
    }
   ],
   "source": [
    "mata\n",
    "a = 1..5  //row vector 1-by-5\n",
    "b = 6::10 //column vector 5-by-1\n",
    "c = 3\n",
    "d = a + c*a\n",
    "d\n",
    "F = b*a\n",
    "F\n",
    "F*d\n",
    "end"
   ]
  },
  {
   "cell_type": "markdown",
   "metadata": {},
   "source": [
    "#### Matrix multiplication\n",
    "The mata function `cross(X, Z)` is a better way to calculate $X'Z$. `cross(X,Z)` has the following advantages:\n",
    "\n",
    "* it omits the rows with missing values in $X$ and $Z$\n",
    "* uses less memory\n",
    "* calculations in special cases more efficiently. `cross(X, X)` will return a symmetric matrix\n"
   ]
  },
  {
   "cell_type": "code",
   "execution_count": 90,
   "metadata": {},
   "outputs": [
    {
     "name": "stdout",
     "output_type": "stream",
     "text": [
      "\n",
      "------------------------------------------------- mata (type end to exit) ------\n",
      "\n",
      "[symmetric]\n",
      "          1      2      3      4      5\n",
      "    +------------------------------------+\n",
      "  1 |   330                              |\n",
      "  2 |   660   1320                       |\n",
      "  3 |   990   1980   2970                |\n",
      "  4 |  1320   2640   3960   5280         |\n",
      "  5 |  1650   3300   4950   6600   8250  |\n",
      "    +------------------------------------+\n",
      "\n",
      ": F'*F\n",
      "[symmetric]\n",
      "          1      2      3      4      5\n",
      "    +------------------------------------+\n",
      "  1 |   330                              |\n",
      "  2 |   660   1320                       |\n",
      "  3 |   990   1980   2970                |\n",
      "  4 |  1320   2640   3960   5280         |\n",
      "  5 |  1650   3300   4950   6600   8250  |\n",
      "    +------------------------------------+\n",
      "\n",
      ": end\n",
      "--------------------------------------------------------------------------------\n"
     ]
    }
   ],
   "source": [
    "* cross(X, Z)\n",
    "mata\n",
    "cross(F,F)\n",
    "F'*F\n",
    "end"
   ]
  },
  {
   "cell_type": "code",
   "execution_count": 92,
   "metadata": {},
   "outputs": [
    {
     "name": "stdout",
     "output_type": "stream",
     "text": [
      "\n",
      "------------------------------------------------- mata (type end to exit) ------\n",
      "\n",
      "\n",
      ": y = 4..6\n",
      "\n",
      ": x:*y\n",
      "        1    2    3\n",
      "    +----------------+\n",
      "  1 |   4   10   18  |\n",
      "    +----------------+\n",
      "\n",
      ": end\n",
      "--------------------------------------------------------------------------------\n"
     ]
    }
   ],
   "source": [
    "* elementwise operation\n",
    "mata\n",
    "x = 1..3\n",
    "y = 4..6\n",
    "x:*y\n",
    "end"
   ]
  },
  {
   "cell_type": "markdown",
   "metadata": {},
   "source": [
    "#### Relational and logical operators\n",
    "\n",
    "1. Relational operators:\n",
    "   1. operators returning a scalar\n",
    "   \n",
    "    `==` Equal to, `!=` Not equal to, `<` (`>`) Less (greater) than, `<=` (`>=`) Less (greater) or equal to\n",
    "   2. operators returning the dimension of the highest dimension variable\n",
    "    \n",
    "    `:==` Equal to, `:!=` Not equal to, `:<` (`:<`) Less (greater) than, `:<=` (`:>=`) Less (greater) or equal to\n",
    "\n",
    "2. Logical operators:\n",
    "    1. operaters only applied to scalars\n",
    "    \n",
    "    `&, &&` logical and, `|,||` logical or\n",
    "    2. operaterss applied to scalars, vectors, and matrices\n",
    "    \n",
    "    `:&` logical and, `:|` logical or\n",
    "    "
   ]
  },
  {
   "cell_type": "code",
   "execution_count": 95,
   "metadata": {},
   "outputs": [
    {
     "name": "stdout",
     "output_type": "stream",
     "text": [
      "\n",
      "------------------------------------------------- mata (type end to exit) ------\n",
      "\n",
      "\n",
      ": H = 1,3\\2,5\n",
      "\n",
      ": G == H\n",
      "  0\n",
      "\n",
      ": G[1, 2]==2\n",
      "  1\n",
      "\n",
      ": G == 1\n",
      "  0\n",
      "\n",
      ": G != 1\n",
      "  1\n",
      "\n",
      ": G < H\n",
      "  0\n",
      "\n",
      ": G <= H\n",
      "  0\n",
      "\n",
      ": G :== H\n",
      "[symmetric]\n",
      "       1   2\n",
      "    +---------+\n",
      "  1 |  1      |\n",
      "  2 |  0   0  |\n",
      "    +---------+\n",
      "\n",
      ": G :<=3\n",
      "[symmetric]\n",
      "       1   2\n",
      "    +---------+\n",
      "  1 |  1      |\n",
      "  2 |  1   0  |\n",
      "    +---------+\n",
      "\n",
      ": G :== (1\\4)\n",
      "[symmetric]\n",
      "       1   2\n",
      "    +---------+\n",
      "  1 |  1      |\n",
      "  2 |  0   1  |\n",
      "    +---------+\n",
      "\n",
      ": a = 5\n",
      "\n",
      ": a >0 & a <=10\n",
      "  1\n",
      "\n",
      ": G <= H & a >0\n",
      "  0\n",
      "\n",
      ": H :>= 0 :& H :<=4\n",
      "[symmetric]\n",
      "       1   2\n",
      "    +---------+\n",
      "  1 |  1      |\n",
      "  2 |  1   0  |\n",
      "    +---------+\n",
      "\n",
      ": end\n",
      "--------------------------------------------------------------------------------\n"
     ]
    }
   ],
   "source": [
    "*Relational and logical operators\n",
    "mata\n",
    " //relation operators returning a scalar\n",
    "G = 1,2\\3,4\n",
    "H = 1,3\\2,5\n",
    "G == H\n",
    "G[1, 2]==2\n",
    "G == 1\n",
    "G != 1\n",
    "G < H\n",
    "G <= H\n",
    " //relation operators returning the highest dimension\n",
    "G :== H\n",
    "G :<=3\n",
    "G :== (1\\4)\n",
    " //logical operators for scalars\n",
    "a = 5\n",
    "a >0 & a <=10\n",
    "G <= H & a >0\n",
    " //logical operators for vectors and matrices\n",
    "H :>= 0 :& H :<=4\n",
    "end"
   ]
  },
  {
   "cell_type": "markdown",
   "metadata": {},
   "source": [
    "#### Inverse and linear equations system"
   ]
  },
  {
   "cell_type": "markdown",
   "metadata": {},
   "source": [
    "Mata functions to calculate the inverse of a matrix:\n",
    "\n",
    "* `luniv(A)`  inverse of full rank, square matrix A\n",
    "\n",
    "* `cholinv(A)` inverse of positive definite, symmetric matrix A\n",
    "\n",
    "* `invsym(A)` generalized inverse of positive-definite, symmetric matrix A\n",
    "\n",
    "Mata functions to solve linear systems:\n",
    "\n",
    "* `lusolve(A, B)` A is full rank, square matrix\n",
    "\n",
    "* `cholinv(A)` A is positive definite, symmetric matrix\n",
    "\n",
    "Type `help m4 solvers` in Stata for more details.\n",
    "\n"
   ]
  },
  {
   "cell_type": "code",
   "execution_count": 98,
   "metadata": {},
   "outputs": [
    {
     "name": "stdout",
     "output_type": "stream",
     "text": [
      "\n",
      "\n",
      "------------------------------------------------- mata (type end to exit) ------\n",
      "\n",
      "\n",
      ": X = st_data(., (\"mpg\", \"weight\"))\n",
      "\n",
      ": X = X, J(rows(X),1,1)\n",
      "\n",
      ": bols = invsym(X'*X)*X'*Y\n",
      "\n",
      ": bols\n",
      "                  1\n",
      "    +----------------+\n",
      "  1 |  -49.51222067  |\n",
      "  2 |   1.746559158  |\n",
      "  3 |   1946.068668  |\n",
      "    +----------------+\n",
      "\n",
      ": end\n",
      "--------------------------------------------------------------------------------\n"
     ]
    }
   ],
   "source": [
    "*Calculate the OLS estimate using matrices\n",
    "qui sysuse auto.dta,clear\n",
    "mata\n",
    "Y = st_data(.,\"price\")\n",
    "X = st_data(., (\"mpg\", \"weight\"))\n",
    "X = X, J(rows(X),1,1)\n",
    "bols = invsym(X'*X)*X'*Y\n",
    "bols\n",
    "end"
   ]
  },
  {
   "cell_type": "code",
   "execution_count": 122,
   "metadata": {},
   "outputs": [
    {
     "name": "stdout",
     "output_type": "stream",
     "text": [
      "\n",
      "------------------------------------------------- mata (type end to exit) ------\n",
      "\n",
      "\n",
      ": st_view(M, ., (\"price\", \"mpg\", \"weight\"), 0)\n",
      "\n",
      ": st_subview(Y, M, ., 1)\n",
      "\n",
      ": st_subview(X, M, ., (2\\.))\n",
      "\n",
      ": XX = cross(X,1,X,1)\n",
      "\n",
      ": XY = cross(X,1,Y,0)\n",
      "\n",
      ": bols = cholsolve(XX,XY)\n",
      "\n",
      ": bols\n",
      "                  1\n",
      "    +----------------+\n",
      "  1 |  -49.51222067  |\n",
      "  2 |   1.746559158  |\n",
      "  3 |   1946.068668  |\n",
      "    +----------------+\n",
      "\n",
      ": end\n",
      "--------------------------------------------------------------------------------\n"
     ]
    }
   ],
   "source": [
    "* Better version that saves memory\n",
    "mata\n",
    "M = X  = Y = .\n",
    "st_view(M, ., (\"price\", \"mpg\", \"weight\"), 0)\n",
    "st_subview(Y, M, ., 1)\n",
    "st_subview(X, M, ., (2\\.))\n",
    "XX = cross(X,1,X,1)\n",
    "XY = cross(X,1,Y,0)\n",
    "bols = cholsolve(XX,XY)\n",
    "bols\n",
    "end"
   ]
  },
  {
   "cell_type": "code",
   "execution_count": 119,
   "metadata": {},
   "outputs": [
    {
     "name": "stdout",
     "output_type": "stream",
     "text": [
      "\n",
      "\n",
      "\n",
      "\n",
      "bols1[3,1]\n",
      "                y1\n",
      "   mpg  -49.512221\n",
      "weight   1.7465592\n",
      " _cons   1946.0687\n"
     ]
    }
   ],
   "source": [
    "*OLS regression using the built-in command regress\n",
    "qui reg price mpg weight\n",
    "matrix bols1 = e(b)'\n",
    "matrix list bols1"
   ]
  },
  {
   "cell_type": "markdown",
   "metadata": {},
   "source": [
    "#### Loops in mata\n",
    "\n",
    "* while-loop\n",
    "* for-loop\n",
    "* do-loop"
   ]
  },
  {
   "cell_type": "code",
   "execution_count": 127,
   "metadata": {},
   "outputs": [
    {
     "name": "stdout",
     "output_type": "stream",
     "text": [
      "\n",
      "------------------------------------------------- mata (type end to exit) ------\n",
      "\n",
      "\n",
      ": i = 1\n",
      "\n",
      ": while (i<=n) {\n",
      ">     printf(\"i=%g\\n\", i)\n",
      ">     i++\n",
      "> }\n",
      "i=1\n",
      "i=2\n",
      "i=3\n",
      "i=4\n",
      "i=5\n",
      "i=6\n",
      "\n",
      ": printf(\"done\\n\")\n",
      "done\n",
      "\n",
      ": end\n",
      "--------------------------------------------------------------------------------\n"
     ]
    }
   ],
   "source": [
    "* while loop\n",
    "mata\n",
    "n = 6\n",
    "i = 1\n",
    "while (i<=n) {\n",
    "    printf(\"i=%g\\n\", i)\n",
    "    i++\n",
    "}\n",
    "printf(\"done\\n\")\n",
    "end"
   ]
  },
  {
   "cell_type": "code",
   "execution_count": 128,
   "metadata": {},
   "outputs": [
    {
     "name": "stdout",
     "output_type": "stream",
     "text": [
      "\n",
      "------------------------------------------------- mata (type end to exit) ------\n",
      "\n",
      "\n",
      ": for (i=1; i<=n; i++) {\n",
      ">     printf(\"i = %g\\n\", i)\n",
      "> }\n",
      "i = 1\n",
      "i = 2\n",
      "i = 3\n",
      "i = 4\n",
      "i = 5\n",
      "\n",
      ": printf(\"done\\n\")\n",
      "done\n",
      "\n",
      ": end\n",
      "--------------------------------------------------------------------------------\n"
     ]
    }
   ],
   "source": [
    "* for loop\n",
    "mata\n",
    "n = 5\n",
    "for (i=1; i<=n; i++) {\n",
    "    printf(\"i = %g\\n\", i)\n",
    "}\n",
    "printf(\"done\\n\")\n",
    "end"
   ]
  },
  {
   "cell_type": "code",
   "execution_count": 131,
   "metadata": {},
   "outputs": [
    {
     "name": "stdout",
     "output_type": "stream",
     "text": [
      "\n",
      "------------------------------------------------- mata (type end to exit) ------\n",
      "\n",
      "\n",
      ": i = 1\n",
      "\n",
      ": do {\n",
      ">     printf(\"i=%g\\n\", i)\n",
      ">     i++\n",
      "> } while (i<=n)\n",
      "i=1\n",
      "i=2\n",
      "i=3\n",
      "i=4\n",
      "i=5\n",
      "\n",
      ": printf(\"done\\n\")\n",
      "done\n",
      "\n",
      ": end\n",
      "--------------------------------------------------------------------------------\n"
     ]
    }
   ],
   "source": [
    "* do loop\n",
    "mata\n",
    "n = 5\n",
    "i = 1\n",
    "do {\n",
    "    printf(\"i=%g\\n\", i)\n",
    "    i++\n",
    "} while (i<=n)\n",
    "printf(\"done\\n\")\n",
    "end"
   ]
  },
  {
   "cell_type": "markdown",
   "metadata": {},
   "source": [
    "#### Mata workspace"
   ]
  },
  {
   "cell_type": "code",
   "execution_count": 57,
   "metadata": {},
   "outputs": [
    {
     "name": "stdout",
     "output_type": "stream",
     "text": [
      "\n",
      "      # bytes   type                        name and extent\n",
      "-------------------------------------------------------------------------------\n",
      "           32   real matrix                 A[2,2]\n",
      "           32   real matrix                 A1[2,2]\n",
      "           48   real matrix                 B[2,3]\n",
      "           32   real matrix                 C[2,2]\n",
      "           48   real matrix                 D[2,3]\n",
      "          160   real matrix                 E[4,5]\n",
      "          160   real matrix                 E1[4,5]\n",
      "           50   string matrix               S[2,2]\n",
      "           24   real matrix                 V[74,2]\n",
      "          128   real matrix                 W[4,4]\n",
      "        1,184   real matrix                 X[74,2]\n",
      "          592   real colvector              Y[74]\n",
      "           24   real colvector              v[3]\n",
      "           32   real colvector              w[4]\n",
      "-------------------------------------------------------------------------------\n"
     ]
    }
   ],
   "source": [
    "* list the defined variables in mata workspace\n",
    "mata: mata describe"
   ]
  },
  {
   "cell_type": "code",
   "execution_count": 61,
   "metadata": {},
   "outputs": [
    {
     "name": "stdout",
     "output_type": "stream",
     "text": [
      "\n",
      "invalid expression\n"
     ]
    },
    {
     "name": "stderr",
     "output_type": "stream",
     "text": [
      "r(3000);\n",
      "r(3000);\n"
     ]
    },
    {
     "name": "stdout",
     "output_type": "stream",
     "text": [
      "\n",
      "\n"
     ]
    }
   ],
   "source": [
    "* drop specific matrices\n",
    "mata: mata drop A1 E1"
   ]
  },
  {
   "cell_type": "code",
   "execution_count": 62,
   "metadata": {},
   "outputs": [
    {
     "name": "stdout",
     "output_type": "stream",
     "text": [
      "\n",
      "      # bytes   type                        name and extent\n",
      "-------------------------------------------------------------------------------\n",
      "           32   real matrix                 A[2,2]\n",
      "           48   real matrix                 B[2,3]\n",
      "           32   real matrix                 C[2,2]\n",
      "           48   real matrix                 D[2,3]\n",
      "          160   real matrix                 E[4,5]\n",
      "          160   real matrix                 E1[4,5]\n",
      "           50   string matrix               S[2,2]\n",
      "           24   real matrix                 V[74,2]\n",
      "          128   real matrix                 W[4,4]\n",
      "        1,184   real matrix                 X[74,2]\n",
      "          592   real colvector              Y[74]\n",
      "           24   real colvector              v[3]\n",
      "           32   real colvector              w[4]\n",
      "-------------------------------------------------------------------------------\n"
     ]
    }
   ],
   "source": [
    "mata: mata describe"
   ]
  },
  {
   "cell_type": "code",
   "execution_count": 64,
   "metadata": {},
   "outputs": [
    {
     "name": "stdout",
     "output_type": "stream",
     "text": [
      "\n",
      "\n",
      "\n",
      "      # bytes   type                        name and extent\n",
      "-------------------------------------------------------------------------------\n",
      "-------------------------------------------------------------------------------\n"
     ]
    }
   ],
   "source": [
    "* delete all variables\n",
    "mata: mata clear\n",
    "mata: mata describe"
   ]
  }
 ],
 "metadata": {
  "kernelspec": {
   "display_name": "Stata",
   "language": "stata",
   "name": "stata"
  },
  "language_info": {
   "codemirror_mode": "stata",
   "file_extension": ".do",
   "mimetype": "text/x-stata",
   "name": "stata",
   "version": "15.1"
  }
 },
 "nbformat": 4,
 "nbformat_minor": 4
}
