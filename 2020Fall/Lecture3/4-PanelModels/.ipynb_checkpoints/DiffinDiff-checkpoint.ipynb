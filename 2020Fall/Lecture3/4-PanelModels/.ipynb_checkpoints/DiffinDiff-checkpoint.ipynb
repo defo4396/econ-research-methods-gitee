{
 "cells": [
  {
   "cell_type": "markdown",
   "metadata": {},
   "source": [
    "# Differences-in-Differences models\n",
    "`2020-11-24`\n",
    "\n",
    "_Zhiyuan Chen, Department of Trade Economics, Renmin Business School_"
   ]
  },
  {
   "cell_type": "markdown",
   "metadata": {},
   "source": [
    "## An overview\n",
    "\n",
    "### Difference-in-Difference model\n",
    "\n",
    "#### Benchmark model\n",
    "The DGP for the DID estimator can be written as \n",
    "$$\n",
    "y_{it} = \\alpha_0 +\\alpha \\tau_{it}  + X_{it}'\\beta+\\delta t +\\theta_i +\\epsilon_{it} \\tag{1}\n",
    "$$\n",
    "where $\\tau_{it}=1$ if $t\\geq t_0$ and $i$ is in the treated group. This is also called the _two-way fixed effects model_. \n",
    "\n",
    "#### Dynamic treatment effects\n",
    "The baseline model can be easily extend to allow for dynamic treatment effects:\n",
    "$$\n",
    "y_{it} = \\beta_0 +\\sum_{j=0}^J\\alpha_j\\tau_{t-j}^{g_{i}}+\\delta t +\\theta_i +\\epsilon_{it} \\tag{2}\n",
    "$$\n",
    "### Inference: Cluster-Robust standard errors\n",
    "Consider the model:\n",
    "\n",
    "$$\n",
    "y_{itg} = \\alpha_0 + \\alpha\\tau_{itg}+ X_{itg}'\\beta + \\theta_i + \\delta t + \\epsilon_{itg} \\tag{3}\n",
    "$$\n",
    "where $g$ represent the _group_ indicator that individual $i$ belongs to. In practice, $g$ can be village, county, industry, province, state, nation, etc. The problem is how to get the correct standard errors. Bertrand, Duflo, and Mullainanthan (2004) illustrates the importance of clustering standard errors at the state-level when the policy intervention is enacted at the state level. \n",
    "\n",
    "Note that <u>including fixed effects generally does NOT control for all the within-cluster correlation of the error and one should still use the Cluster-Robust Variance Estimator</u> (Cameron and Miller, 2015). \n",
    "\n",
    "In Stata, the cluster-robust standard error for FE estimator can be obtained via:\n",
    "\n",
    "* `xtreg y x, fe vce(robust)` clusters at _individual-level_\n",
    "* `xtreg y x, fe vce(cluster id_g)` clusters at _group-level_\n",
    "\n",
    "Sometimes the cluster-robust variance estimates is not available, we can use bootstrap to obtain a consistent estimate of the variance. This can be done using bootstrap method:\n",
    "\n",
    "* `xtreg y x, fe vce(boot, reps(400) seed(10101))`\n",
    "\n",
    "#### Choosing the appropriate level to cluster\n",
    "According to Cameron and Miller (2015), there are two guiding principles:\n",
    "1. We should think about clustering at the level whenever we believe that both the regressors and the errors might be correlated within the cluster;\n",
    "2. If we define very large clusters, there are very few clusters to average over. This results in a poor estimate of the variance. \n",
    "\n",
    "As in many estimation problems, we face a bias-variance tradeoff--larger and fewer clusters have less bias but more variability. \n",
    "\n",
    "In practice, researcher often cluster at progressively higher levels and stop clustering when there is relatively little change in the standard errors. \n",
    "#### Dealing with Few Clusters\n",
    "First, there is no clear-cut definition of \"few\". \"Few\" may range from less than 20 clusters to less than 50 clusters in the balanced case and even more in the unbalanced cased. Few clusters leads to two problems:\n",
    "1. A downward-biased cluster-robust variance matrix estimate for the error\n",
    "2. An overrejection (confidence intervals are too narrow) for coefficient estimates\n",
    "\n",
    "The first-best solution is to collect more data. If we are too lazy to do that, several solutions are handy if we face the problem of few clusters. You are strongly recommended to read Bertrand Duflo and Mulainathan (2004, Section IV), Section VI in Cameron and Miller (2015) and Chapter 8 of Angrist and Pischke (2009) for more details.\n",
    "\n",
    "\n",
    "### Event studies for the placebo policies\n",
    "As a robustness check, we usually pretend the policy is enacted at some time earlier than the actual adoption time to validate the common trend assumption. We can run a regression like:\n",
    "$$\n",
    "y_{it} = \\beta_0 + \\sum_{j=-J_0,j\\neq-1}^{J}\\alpha_j\\tau_{it-j} +\\delta t +\\theta_i +\\varepsilon_{it}\n",
    "$$\n",
    "where $\\tau_{it-j} = 1$ if $t_i-j=0$ and $i$ is in the treated group."
   ]
  },
  {
   "cell_type": "markdown",
   "metadata": {},
   "source": [
    "# Stata Examples for Diff-in-Diff"
   ]
  },
  {
   "cell_type": "code",
   "execution_count": 1,
   "metadata": {},
   "outputs": [],
   "source": [
    "* An Example of Diff-in-Diff (Based on \"http://www.princeton.edu/~otorres/DID101.pdf\")\n",
    "clear all\n",
    "set more off\n",
    "qui use Panel101.dta,clear //or you may type \"use \"http://dss.princeton.edu/training/Panel101.dta\", clear"
   ]
  },
  {
   "cell_type": "code",
   "execution_count": 2,
   "metadata": {},
   "outputs": [
    {
     "name": "stdout",
     "output_type": "stream",
     "text": [
      "\n",
      "Contains data from Panel101.dta\n",
      "  obs:            70                          \n",
      " vars:             9                          3 Jan 2020 11:28\n",
      " size:         2,660                          \n",
      "--------------------------------------------------------------------------------\n",
      "              storage   display    value\n",
      "variable name   type    format     label      variable label\n",
      "--------------------------------------------------------------------------------\n",
      "country         long    %14.0g     country    Country\n",
      "year            int     %8.0g                 Year\n",
      "y               double  %10.0g                Outcome Y\n",
      "y_bin           float   %9.0g                 Binary outcome Y\n",
      "x1              float   %9.0g                 Predictor x1\n",
      "x2              float   %9.0g                 Predictor x2\n",
      "x3              float   %9.0g                 Predictor x3\n",
      "opinion         float   %18.0g     agree      Categorical variable\n",
      "op              float   %9.0g                 \n",
      "--------------------------------------------------------------------------------\n",
      "Sorted by: country  year\n"
     ]
    }
   ],
   "source": [
    "describe"
   ]
  },
  {
   "cell_type": "code",
   "execution_count": 3,
   "metadata": {},
   "outputs": [
    {
     "name": "stdout",
     "output_type": "stream",
     "text": [
      "\n",
      "    Variable |        Obs        Mean    Std. Dev.       Min        Max\n",
      "-------------+---------------------------------------------------------\n",
      "     country |         70           4    2.014441          1          7\n",
      "        year |         70      1994.5     2.89302       1990       1999\n",
      "           y |         70    1.85e+09    3.02e+09  -7.86e+09   8.94e+09\n",
      "       y_bin |         70          .8    .4028881          0          1\n",
      "          x1 |         70    .6480006      .46807  -.5675749   1.446412\n",
      "-------------+---------------------------------------------------------\n",
      "          x2 |         70    .1338694    1.371099  -1.621761   2.530277\n",
      "          x3 |         70     .761851    1.446332  -1.165387   7.168922\n",
      "     opinion |         70    2.442857    1.137448          1          4\n",
      "          op |         70          .5    .5036102          0          1\n"
     ]
    }
   ],
   "source": [
    "summarize"
   ]
  },
  {
   "cell_type": "code",
   "execution_count": 6,
   "metadata": {},
   "outputs": [
    {
     "name": "stdout",
     "output_type": "stream",
     "text": [
      "\n",
      "(0 observations deleted)\n",
      "\n",
      "variable time already defined\n"
     ]
    },
    {
     "name": "stderr",
     "output_type": "stream",
     "text": [
      "r(110);\n",
      "r(110);\n"
     ]
    },
    {
     "name": "stdout",
     "output_type": "stream",
     "text": [
      "\n",
      "\n"
     ]
    }
   ],
   "source": [
    "* Generate time and treated variables\n",
    "drop if missing(year)&missing(country)\n",
    "qui gen time = (year>=1994)\n",
    "qui gen treated = (country>4)\n",
    "qui g lny = log(y)\n",
    "qui gen tau = time*treated  //interaction between group dummy and time dummy"
   ]
  },
  {
   "cell_type": "code",
   "execution_count": 7,
   "metadata": {},
   "outputs": [
    {
     "name": "stdout",
     "output_type": "stream",
     "text": [
      "\n",
      "Linear regression                               Number of obs     =         70\n",
      "                                                F(3, 66)          =       2.17\n",
      "                                                Prob > F          =     0.0998\n",
      "                                                R-squared         =     0.0827\n",
      "                                                Root MSE          =     3.0e+09\n",
      "\n",
      "------------------------------------------------------------------------------\n",
      "             |               Robust\n",
      "           y |      Coef.   Std. Err.      t    P>|t|     [95% Conf. Interval]\n",
      "-------------+----------------------------------------------------------------\n",
      "         tau |  -2.52e+09   1.45e+09    -1.73   0.088    -5.42e+09    3.81e+08\n",
      "     treated |   1.78e+09   1.05e+09     1.70   0.094    -3.11e+08    3.86e+09\n",
      "        time |   2.29e+09   9.00e+08     2.54   0.013     4.92e+08    4.09e+09\n",
      "       _cons |   3.58e+08   7.61e+08     0.47   0.640    -1.16e+09    1.88e+09\n",
      "------------------------------------------------------------------------------\n"
     ]
    }
   ],
   "source": [
    "reg y tau treated time, r"
   ]
  },
  {
   "cell_type": "code",
   "execution_count": 8,
   "metadata": {},
   "outputs": [
    {
     "name": "stdout",
     "output_type": "stream",
     "text": [
      "\n",
      "Linear regression                               Number of obs     =         70\n",
      "                                                F(3, 66)          =       2.17\n",
      "                                                Prob > F          =     0.0998\n",
      "                                                R-squared         =     0.0827\n",
      "                                                Root MSE          =     3.0e+09\n",
      "\n",
      "------------------------------------------------------------------------------\n",
      "             |               Robust\n",
      "           y |      Coef.   Std. Err.      t    P>|t|     [95% Conf. Interval]\n",
      "-------------+----------------------------------------------------------------\n",
      "      1.time |   2.29e+09   9.00e+08     2.54   0.013     4.92e+08    4.09e+09\n",
      "   1.treated |   1.78e+09   1.05e+09     1.70   0.094    -3.11e+08    3.86e+09\n",
      "             |\n",
      "time#treated |\n",
      "        1 1  |  -2.52e+09   1.45e+09    -1.73   0.088    -5.42e+09    3.81e+08\n",
      "             |\n",
      "       _cons |   3.58e+08   7.61e+08     0.47   0.640    -1.16e+09    1.88e+09\n",
      "------------------------------------------------------------------------------\n"
     ]
    }
   ],
   "source": [
    "* regression using hashtag\n",
    "reg y time##treated, r"
   ]
  },
  {
   "cell_type": "code",
   "execution_count": 10,
   "metadata": {},
   "outputs": [
    {
     "name": "stdout",
     "output_type": "stream",
     "text": [
      "\n",
      "Linear regression                               Number of obs     =         56\n",
      "                                                F(3, 52)          =       0.38\n",
      "                                                Prob > F          =     0.7677\n",
      "                                                R-squared         =     0.0238\n",
      "                                                Root MSE          =     1.3179\n",
      "\n",
      "------------------------------------------------------------------------------\n",
      "             |               Robust\n",
      "         lny |      Coef.   Std. Err.      t    P>|t|     [95% Conf. Interval]\n",
      "-------------+----------------------------------------------------------------\n",
      "         tau |  -.5524526   .8683878    -0.64   0.527       -2.295    1.190095\n",
      "     treated |   .2565522   .7679171     0.33   0.740    -1.284386    1.797491\n",
      "        time |   .5730012   .7430261     0.77   0.444    -.9179898    2.063992\n",
      "       _cons |   20.98152   .6992099    30.01   0.000     19.57845    22.38459\n",
      "------------------------------------------------------------------------------\n"
     ]
    }
   ],
   "source": [
    "* for logged model\n",
    "reg lny tau treated time, r"
   ]
  },
  {
   "cell_type": "code",
   "execution_count": 13,
   "metadata": {},
   "outputs": [
    {
     "name": "stdout",
     "output_type": "stream",
     "text": [
      "\n",
      "\n",
      "\n",
      "\n",
      "\n",
      "\n",
      "--------------------------------------\n",
      "    Variable |  fe_iid      fe_clu    \n",
      "-------------+------------------------\n",
      "         tau | -2.52e+09   -2.52e+09  \n",
      "             |  1.37e+09    1.02e+09  \n",
      "        time |  2.29e+09    2.29e+09  \n",
      "             |  8.99e+08    6.31e+08  \n",
      "       _cons |  1.12e+09    1.12e+09  \n",
      "             |  5.26e+08    2.99e+08  \n",
      "-------------+------------------------\n",
      "           N |        70          70  \n",
      "          r2 |    0.0968      0.0968  \n",
      "        r2_o |    0.0341      0.0341  \n",
      "        r2_b |    0.0116      0.0116  \n",
      "        r2_w |    0.0968      0.0968  \n",
      "     simga_u |                        \n",
      "     sigma_e |  2.78e+09    2.78e+09  \n",
      "         rho |    0.2518      0.2518  \n",
      "--------------------------------------\n",
      "                          legend: b/se\n"
     ]
    }
   ],
   "source": [
    "* FE estimator: two-way fixed effects model\n",
    "qui xtreg y tau time, fe \n",
    "est sto fe_iid\n",
    "qui xtreg y tau time, fe vce(robust)  // too few clusters that may lead to problem\n",
    "est sto fe_clu\n",
    "est table fe_iid fe_clu, b se b(%9.4f) stats(N r2 r2_o r2_b r2_w simga_u sigma_e rho)"
   ]
  },
  {
   "cell_type": "code",
   "execution_count": 43,
   "metadata": {},
   "outputs": [],
   "source": [
    "*Placebo polices and event study\n",
    "g y_norm = y/1e12  //normalize the data for a better view\n",
    "forv s = -4(1)5 {\n",
    "    if `s'<0 {\n",
    "        local i = -`s'\n",
    "        qui gen tau_`i' = treat*(year>=(1994+`s'))\n",
    "        }\n",
    "    else if `s'==0 {\n",
    "        continue \n",
    "        }\n",
    "    else if `s'>0 {\n",
    "        qui gen tau`s' = treat*(year>=(1994+`s'))\n",
    "        }\n",
    "}"
   ]
  },
  {
   "cell_type": "code",
   "execution_count": 84,
   "metadata": {},
   "outputs": [
    {
     "data": {
      "application/pdf": "[encoded data removed]",
      "image/svg+xml": [
       "<?xml version=\"1.0\" encoding=\"UTF-8\" standalone=\"no\"?>\n",
       "<!-- This is a Stata 15.1 generated SVG file (http://www.stata.com) -->\n",
       "\n",
       "<svg version=\"1.1\" width=\"600px\" height=\"436px\" viewBox=\"0 0 3960 2880\" xmlns=\"http://www.w3.org/2000/svg\" xmlns:xlink=\"http://www.w3.org/1999/xlink\">\n",
       "\t<desc>Stata Graph - Graph</desc>\n",
       "\t<rect x=\"0\" y=\"0\" width=\"3960\" height=\"2880\" style=\"fill:#EAF2F3;stroke:none\"/>\n",
       "\t<rect x=\"0.00\" y=\"0.00\" width=\"3959.88\" height=\"2880.00\" style=\"fill:#EAF2F3\"/>\n",
       "\t<rect x=\"2.88\" y=\"2.88\" width=\"3954.12\" height=\"2874.24\" style=\"fill:none;stroke:#EAF2F3;stroke-width:5.76\"/>\n",
       "\t<rect x=\"390.80\" y=\"275.35\" width=\"3468.22\" height=\"2213.83\" style=\"fill:#FFFFFF\"/>\n",
       "\t<rect x=\"393.68\" y=\"278.23\" width=\"3462.46\" height=\"2208.07\" style=\"fill:none;stroke:#FFFFFF;stroke-width:5.76\"/>\n",
       "\t<line x1=\"390.80\" y1=\"2425.82\" x2=\"3859.02\" y2=\"2425.82\" style=\"stroke:#EAF2F3;stroke-width:8.64\"/>\n",
       "\t<line x1=\"390.80\" y1=\"2008.40\" x2=\"3859.02\" y2=\"2008.40\" style=\"stroke:#EAF2F3;stroke-width:8.64\"/>\n",
       "\t<line x1=\"390.80\" y1=\"1590.98\" x2=\"3859.02\" y2=\"1590.98\" style=\"stroke:#EAF2F3;stroke-width:8.64\"/>\n",
       "\t<line x1=\"390.80\" y1=\"1173.56\" x2=\"3859.02\" y2=\"1173.56\" style=\"stroke:#EAF2F3;stroke-width:8.64\"/>\n",
       "\t<line x1=\"390.80\" y1=\"756.14\" x2=\"3859.02\" y2=\"756.14\" style=\"stroke:#EAF2F3;stroke-width:8.64\"/>\n",
       "\t<line x1=\"390.80\" y1=\"338.71\" x2=\"3859.02\" y2=\"338.71\" style=\"stroke:#EAF2F3;stroke-width:8.64\"/>\n",
       "\t<line x1=\"390.80\" y1=\"1173.56\" x2=\"3859.02\" y2=\"1173.56\" style=\"stroke:#C10534;stroke-width:8.64\"/>\n",
       "\t<line x1=\"638.55\" y1=\"1389.76\" x2=\"638.55\" y2=\"940.16\" style=\"stroke:#1A476F;stroke-width:8.64\"/>\n",
       "\t<line x1=\"616.52\" y1=\"940.16\" x2=\"660.58\" y2=\"940.16\" stroke-linecap=\"round\" style=\"stroke:#1A476F;stroke-width:8.64\"/>\n",
       "\t<line x1=\"616.52\" y1=\"1389.76\" x2=\"660.58\" y2=\"1389.76\" stroke-linecap=\"round\" style=\"stroke:#1A476F;stroke-width:8.64\"/>\n",
       "\t<line x1=\"1134.05\" y1=\"1338.65\" x2=\"1134.05\" y2=\"869.12\" style=\"stroke:#1A476F;stroke-width:8.64\"/>\n",
       "\t<line x1=\"1112.02\" y1=\"869.12\" x2=\"1156.07\" y2=\"869.12\" stroke-linecap=\"round\" style=\"stroke:#1A476F;stroke-width:8.64\"/>\n",
       "\t<line x1=\"1112.02\" y1=\"1338.65\" x2=\"1156.07\" y2=\"1338.65\" stroke-linecap=\"round\" style=\"stroke:#1A476F;stroke-width:8.64\"/>\n",
       "\t<line x1=\"1629.42\" y1=\"1445.32\" x2=\"1629.42\" y2=\"850.31\" style=\"stroke:#1A476F;stroke-width:8.64\"/>\n",
       "\t<line x1=\"1607.39\" y1=\"850.31\" x2=\"1651.44\" y2=\"850.31\" stroke-linecap=\"round\" style=\"stroke:#1A476F;stroke-width:8.64\"/>\n",
       "\t<line x1=\"1607.39\" y1=\"1445.32\" x2=\"1651.44\" y2=\"1445.32\" stroke-linecap=\"round\" style=\"stroke:#1A476F;stroke-width:8.64\"/>\n",
       "\t<line x1=\"2124.91\" y1=\"2240.07\" x2=\"2124.91\" y2=\"1212.42\" style=\"stroke:#1A476F;stroke-width:8.64\"/>\n",
       "\t<line x1=\"2102.88\" y1=\"1212.42\" x2=\"2146.94\" y2=\"1212.42\" stroke-linecap=\"round\" style=\"stroke:#1A476F;stroke-width:8.64\"/>\n",
       "\t<line x1=\"2102.88\" y1=\"2240.07\" x2=\"2146.94\" y2=\"2240.07\" stroke-linecap=\"round\" style=\"stroke:#1A476F;stroke-width:8.64\"/>\n",
       "\t<line x1=\"2620.41\" y1=\"1263.53\" x2=\"2620.41\" y2=\"342.30\" style=\"stroke:#1A476F;stroke-width:8.64\"/>\n",
       "\t<line x1=\"2598.38\" y1=\"342.30\" x2=\"2642.43\" y2=\"342.30\" stroke-linecap=\"round\" style=\"stroke:#1A476F;stroke-width:8.64\"/>\n",
       "\t<line x1=\"2598.38\" y1=\"1263.53\" x2=\"2642.43\" y2=\"1263.53\" stroke-linecap=\"round\" style=\"stroke:#1A476F;stroke-width:8.64\"/>\n",
       "\t<line x1=\"3115.90\" y1=\"1187.29\" x2=\"3115.90\" y2=\"824.57\" style=\"stroke:#1A476F;stroke-width:8.64\"/>\n",
       "\t<line x1=\"3093.87\" y1=\"824.57\" x2=\"3137.93\" y2=\"824.57\" stroke-linecap=\"round\" style=\"stroke:#1A476F;stroke-width:8.64\"/>\n",
       "\t<line x1=\"3093.87\" y1=\"1187.29\" x2=\"3137.93\" y2=\"1187.29\" stroke-linecap=\"round\" style=\"stroke:#1A476F;stroke-width:8.64\"/>\n",
       "\t<line x1=\"3611.40\" y1=\"1690.11\" x2=\"3611.40\" y2=\"1158.46\" style=\"stroke:#1A476F;stroke-width:8.64\"/>\n",
       "\t<line x1=\"3589.37\" y1=\"1158.46\" x2=\"3633.42\" y2=\"1158.46\" stroke-linecap=\"round\" style=\"stroke:#1A476F;stroke-width:8.64\"/>\n",
       "\t<line x1=\"3589.37\" y1=\"1690.11\" x2=\"3633.42\" y2=\"1690.11\" stroke-linecap=\"round\" style=\"stroke:#1A476F;stroke-width:8.64\"/>\n",
       "\t<line x1=\"638.43\" y1=\"1165.02\" x2=\"1133.92\" y2=\"1103.88\" stroke-linecap=\"round\" style=\"stroke:#1A476F;stroke-width:8.64\"/>\n",
       "\t<line x1=\"1133.92\" y1=\"1103.88\" x2=\"1629.42\" y2=\"1147.94\" stroke-linecap=\"round\" style=\"stroke:#1A476F;stroke-width:8.64\"/>\n",
       "\t<line x1=\"1629.42\" y1=\"1147.94\" x2=\"2124.91\" y2=\"1726.37\" stroke-linecap=\"round\" style=\"stroke:#1A476F;stroke-width:8.64\"/>\n",
       "\t<line x1=\"2124.91\" y1=\"1726.37\" x2=\"2620.28\" y2=\"802.92\" stroke-linecap=\"round\" style=\"stroke:#1A476F;stroke-width:8.64\"/>\n",
       "\t<line x1=\"2620.28\" y1=\"802.92\" x2=\"3115.78\" y2=\"1006.00\" stroke-linecap=\"round\" style=\"stroke:#1A476F;stroke-width:8.64\"/>\n",
       "\t<line x1=\"3115.78\" y1=\"1006.00\" x2=\"3611.27\" y2=\"1424.28\" stroke-linecap=\"round\" style=\"stroke:#1A476F;stroke-width:8.64\"/>\n",
       "\t<circle cx=\"638.43\" cy=\"1165.02\" r=\"26.35\" style=\"fill:#1A476F\"/>\n",
       "\t<circle cx=\"638.43\" cy=\"1165.02\" r=\"22.03\" style=\"fill:none;stroke:#1A476F;stroke-width:8.64\"/>\n",
       "\t<circle cx=\"1133.92\" cy=\"1103.88\" r=\"26.35\" style=\"fill:#1A476F\"/>\n",
       "\t<circle cx=\"1133.92\" cy=\"1103.88\" r=\"22.03\" style=\"fill:none;stroke:#1A476F;stroke-width:8.64\"/>\n",
       "\t<circle cx=\"1629.42\" cy=\"1147.94\" r=\"26.35\" style=\"fill:#1A476F\"/>\n",
       "\t<circle cx=\"1629.42\" cy=\"1147.94\" r=\"22.03\" style=\"fill:none;stroke:#1A476F;stroke-width:8.64\"/>\n",
       "\t<circle cx=\"2124.91\" cy=\"1726.37\" r=\"26.35\" style=\"fill:#1A476F\"/>\n",
       "\t<circle cx=\"2124.91\" cy=\"1726.37\" r=\"22.03\" style=\"fill:none;stroke:#1A476F;stroke-width:8.64\"/>\n",
       "\t<circle cx=\"2620.28\" cy=\"802.92\" r=\"26.35\" style=\"fill:#1A476F\"/>\n",
       "\t<circle cx=\"2620.28\" cy=\"802.92\" r=\"22.03\" style=\"fill:none;stroke:#1A476F;stroke-width:8.64\"/>\n",
       "\t<circle cx=\"3115.78\" cy=\"1006.00\" r=\"26.35\" style=\"fill:#1A476F\"/>\n",
       "\t<circle cx=\"3115.78\" cy=\"1006.00\" r=\"22.03\" style=\"fill:none;stroke:#1A476F;stroke-width:8.64\"/>\n",
       "\t<circle cx=\"3611.27\" cy=\"1424.28\" r=\"26.35\" style=\"fill:#1A476F\"/>\n",
       "\t<circle cx=\"3611.27\" cy=\"1424.28\" r=\"22.03\" style=\"fill:none;stroke:#1A476F;stroke-width:8.64\"/>\n",
       "\t<line x1=\"390.80\" y1=\"2489.19\" x2=\"390.80\" y2=\"275.35\" style=\"stroke:#000000;stroke-width:5.76\"/>\n",
       "\t<line x1=\"390.80\" y1=\"2425.82\" x2=\"350.83\" y2=\"2425.82\" style=\"stroke:#000000;stroke-width:5.76\"/>\n",
       "\t<text x=\"300.72\" y=\"2425.82\" style=\"font-family:'Helvetica';font-size:99.99px;fill:#000000\" transform=\"rotate(-90 300.72,2425.82)\" text-anchor=\"middle\">-1.50</text>\n",
       "\t<line x1=\"390.80\" y1=\"2008.40\" x2=\"350.83\" y2=\"2008.40\" style=\"stroke:#000000;stroke-width:5.76\"/>\n",
       "\t<text x=\"300.72\" y=\"2008.40\" style=\"font-family:'Helvetica';font-size:99.99px;fill:#000000\" transform=\"rotate(-90 300.72,2008.40)\" text-anchor=\"middle\">-1.00</text>\n",
       "\t<line x1=\"390.80\" y1=\"1590.98\" x2=\"350.83\" y2=\"1590.98\" style=\"stroke:#000000;stroke-width:5.76\"/>\n",
       "\t<text x=\"300.72\" y=\"1590.98\" style=\"font-family:'Helvetica';font-size:99.99px;fill:#000000\" transform=\"rotate(-90 300.72,1590.98)\" text-anchor=\"middle\">-0.50</text>\n",
       "\t<line x1=\"390.80\" y1=\"1173.56\" x2=\"350.83\" y2=\"1173.56\" style=\"stroke:#000000;stroke-width:5.76\"/>\n",
       "\t<text x=\"300.72\" y=\"1173.56\" style=\"font-family:'Helvetica';font-size:99.99px;fill:#000000\" transform=\"rotate(-90 300.72,1173.56)\" text-anchor=\"middle\">0.00</text>\n",
       "\t<line x1=\"390.80\" y1=\"756.14\" x2=\"350.83\" y2=\"756.14\" style=\"stroke:#000000;stroke-width:5.76\"/>\n",
       "\t<text x=\"300.72\" y=\"756.14\" style=\"font-family:'Helvetica';font-size:99.99px;fill:#000000\" transform=\"rotate(-90 300.72,756.14)\" text-anchor=\"middle\">0.50</text>\n",
       "\t<line x1=\"390.80\" y1=\"338.71\" x2=\"350.83\" y2=\"338.71\" style=\"stroke:#000000;stroke-width:5.76\"/>\n",
       "\t<text x=\"300.72\" y=\"338.71\" style=\"font-family:'Helvetica';font-size:99.99px;fill:#000000\" transform=\"rotate(-90 300.72,338.71)\" text-anchor=\"middle\">1.00</text>\n",
       "\t<text x=\"190.71\" y=\"1382.33\" style=\"font-family:'Helvetica';font-size:99.99px;fill:#000000\" transform=\"rotate(-90 190.71,1382.33)\" text-anchor=\"middle\">y</text>\n",
       "\t<line x1=\"390.80\" y1=\"2489.19\" x2=\"3859.02\" y2=\"2489.19\" style=\"stroke:#000000;stroke-width:5.76\"/>\n",
       "\t<line x1=\"638.55\" y1=\"2489.19\" x2=\"638.55\" y2=\"2529.16\" style=\"stroke:#000000;stroke-width:5.76\"/>\n",
       "\t<text x=\"638.55\" y=\"2619.14\" style=\"font-family:'Helvetica';font-size:99.99px;fill:#000000\" text-anchor=\"middle\">-3</text>\n",
       "\t<line x1=\"1134.05\" y1=\"2489.19\" x2=\"1134.05\" y2=\"2529.16\" style=\"stroke:#000000;stroke-width:5.76\"/>\n",
       "\t<text x=\"1134.05\" y=\"2619.14\" style=\"font-family:'Helvetica';font-size:99.99px;fill:#000000\" text-anchor=\"middle\">-2</text>\n",
       "\t<line x1=\"1629.42\" y1=\"2489.19\" x2=\"1629.42\" y2=\"2529.16\" style=\"stroke:#000000;stroke-width:5.76\"/>\n",
       "\t<text x=\"1629.42\" y=\"2619.14\" style=\"font-family:'Helvetica';font-size:99.99px;fill:#000000\" text-anchor=\"middle\">-1</text>\n",
       "\t<line x1=\"2124.91\" y1=\"2489.19\" x2=\"2124.91\" y2=\"2529.16\" style=\"stroke:#000000;stroke-width:5.76\"/>\n",
       "\t<text x=\"2124.91\" y=\"2619.14\" style=\"font-family:'Helvetica';font-size:99.99px;fill:#000000\" text-anchor=\"middle\">1</text>\n",
       "\t<line x1=\"2620.41\" y1=\"2489.19\" x2=\"2620.41\" y2=\"2529.16\" style=\"stroke:#000000;stroke-width:5.76\"/>\n",
       "\t<text x=\"2620.41\" y=\"2619.14\" style=\"font-family:'Helvetica';font-size:99.99px;fill:#000000\" text-anchor=\"middle\">2</text>\n",
       "\t<line x1=\"3115.90\" y1=\"2489.19\" x2=\"3115.90\" y2=\"2529.16\" style=\"stroke:#000000;stroke-width:5.76\"/>\n",
       "\t<text x=\"3115.90\" y=\"2619.14\" style=\"font-family:'Helvetica';font-size:99.99px;fill:#000000\" text-anchor=\"middle\">3</text>\n",
       "\t<line x1=\"3611.40\" y1=\"2489.19\" x2=\"3611.40\" y2=\"2529.16\" style=\"stroke:#000000;stroke-width:5.76\"/>\n",
       "\t<text x=\"3611.40\" y=\"2619.14\" style=\"font-family:'Helvetica';font-size:99.99px;fill:#000000\" text-anchor=\"middle\">4</text>\n",
       "\t<text x=\"2124.91\" y=\"2729.16\" style=\"font-family:'Helvetica';font-size:99.99px;fill:#000000\" text-anchor=\"middle\">Time</text>\n",
       "\t<text x=\"2124.91\" y=\"215.98\" style=\"font-family:'Helvetica';font-size:139.96px;fill:#1E2D53\" text-anchor=\"middle\">Event studies for placebo policies</text>\n",
       "</svg>\n"
      ],
      "text/html": [
       "                <iframe frameborder=\"0\" scrolling=\"no\" height=\"436\" width=\"600\"                srcdoc=\"<html><body>&lt;?xml version=&quot;1.0&quot; encoding=&quot;UTF-8&quot; standalone=&quot;no&quot;?&gt;\n",
       "&lt;!-- This is a Stata 15.1 generated SVG file (http://www.stata.com) --&gt;\n",
       "\n",
       "&lt;svg version=&quot;1.1&quot; width=&quot;600px&quot; height=&quot;436px&quot; viewBox=&quot;0 0 3960 2880&quot; xmlns=&quot;http://www.w3.org/2000/svg&quot; xmlns:xlink=&quot;http://www.w3.org/1999/xlink&quot;&gt;\n",
       "\t&lt;desc&gt;Stata Graph - Graph&lt;/desc&gt;\n",
       "\t&lt;rect x=&quot;0&quot; y=&quot;0&quot; width=&quot;3960&quot; height=&quot;2880&quot; style=&quot;fill:#EAF2F3;stroke:none&quot;/&gt;\n",
       "\t&lt;rect x=&quot;0.00&quot; y=&quot;0.00&quot; width=&quot;3959.88&quot; height=&quot;2880.00&quot; style=&quot;fill:#EAF2F3&quot;/&gt;\n",
       "\t&lt;rect x=&quot;2.88&quot; y=&quot;2.88&quot; width=&quot;3954.12&quot; height=&quot;2874.24&quot; style=&quot;fill:none;stroke:#EAF2F3;stroke-width:5.76&quot;/&gt;\n",
       "\t&lt;rect x=&quot;390.80&quot; y=&quot;275.35&quot; width=&quot;3468.22&quot; height=&quot;2213.83&quot; style=&quot;fill:#FFFFFF&quot;/&gt;\n",
       "\t&lt;rect x=&quot;393.68&quot; y=&quot;278.23&quot; width=&quot;3462.46&quot; height=&quot;2208.07&quot; style=&quot;fill:none;stroke:#FFFFFF;stroke-width:5.76&quot;/&gt;\n",
       "\t&lt;line x1=&quot;390.80&quot; y1=&quot;2425.82&quot; x2=&quot;3859.02&quot; y2=&quot;2425.82&quot; style=&quot;stroke:#EAF2F3;stroke-width:8.64&quot;/&gt;\n",
       "\t&lt;line x1=&quot;390.80&quot; y1=&quot;2008.40&quot; x2=&quot;3859.02&quot; y2=&quot;2008.40&quot; style=&quot;stroke:#EAF2F3;stroke-width:8.64&quot;/&gt;\n",
       "\t&lt;line x1=&quot;390.80&quot; y1=&quot;1590.98&quot; x2=&quot;3859.02&quot; y2=&quot;1590.98&quot; style=&quot;stroke:#EAF2F3;stroke-width:8.64&quot;/&gt;\n",
       "\t&lt;line x1=&quot;390.80&quot; y1=&quot;1173.56&quot; x2=&quot;3859.02&quot; y2=&quot;1173.56&quot; style=&quot;stroke:#EAF2F3;stroke-width:8.64&quot;/&gt;\n",
       "\t&lt;line x1=&quot;390.80&quot; y1=&quot;756.14&quot; x2=&quot;3859.02&quot; y2=&quot;756.14&quot; style=&quot;stroke:#EAF2F3;stroke-width:8.64&quot;/&gt;\n",
       "\t&lt;line x1=&quot;390.80&quot; y1=&quot;338.71&quot; x2=&quot;3859.02&quot; y2=&quot;338.71&quot; style=&quot;stroke:#EAF2F3;stroke-width:8.64&quot;/&gt;\n",
       "\t&lt;line x1=&quot;390.80&quot; y1=&quot;1173.56&quot; x2=&quot;3859.02&quot; y2=&quot;1173.56&quot; style=&quot;stroke:#C10534;stroke-width:8.64&quot;/&gt;\n",
       "\t&lt;line x1=&quot;638.55&quot; y1=&quot;1389.76&quot; x2=&quot;638.55&quot; y2=&quot;940.16&quot; style=&quot;stroke:#1A476F;stroke-width:8.64&quot;/&gt;\n",
       "\t&lt;line x1=&quot;616.52&quot; y1=&quot;940.16&quot; x2=&quot;660.58&quot; y2=&quot;940.16&quot; stroke-linecap=&quot;round&quot; style=&quot;stroke:#1A476F;stroke-width:8.64&quot;/&gt;\n",
       "\t&lt;line x1=&quot;616.52&quot; y1=&quot;1389.76&quot; x2=&quot;660.58&quot; y2=&quot;1389.76&quot; stroke-linecap=&quot;round&quot; style=&quot;stroke:#1A476F;stroke-width:8.64&quot;/&gt;\n",
       "\t&lt;line x1=&quot;1134.05&quot; y1=&quot;1338.65&quot; x2=&quot;1134.05&quot; y2=&quot;869.12&quot; style=&quot;stroke:#1A476F;stroke-width:8.64&quot;/&gt;\n",
       "\t&lt;line x1=&quot;1112.02&quot; y1=&quot;869.12&quot; x2=&quot;1156.07&quot; y2=&quot;869.12&quot; stroke-linecap=&quot;round&quot; style=&quot;stroke:#1A476F;stroke-width:8.64&quot;/&gt;\n",
       "\t&lt;line x1=&quot;1112.02&quot; y1=&quot;1338.65&quot; x2=&quot;1156.07&quot; y2=&quot;1338.65&quot; stroke-linecap=&quot;round&quot; style=&quot;stroke:#1A476F;stroke-width:8.64&quot;/&gt;\n",
       "\t&lt;line x1=&quot;1629.42&quot; y1=&quot;1445.32&quot; x2=&quot;1629.42&quot; y2=&quot;850.31&quot; style=&quot;stroke:#1A476F;stroke-width:8.64&quot;/&gt;\n",
       "\t&lt;line x1=&quot;1607.39&quot; y1=&quot;850.31&quot; x2=&quot;1651.44&quot; y2=&quot;850.31&quot; stroke-linecap=&quot;round&quot; style=&quot;stroke:#1A476F;stroke-width:8.64&quot;/&gt;\n",
       "\t&lt;line x1=&quot;1607.39&quot; y1=&quot;1445.32&quot; x2=&quot;1651.44&quot; y2=&quot;1445.32&quot; stroke-linecap=&quot;round&quot; style=&quot;stroke:#1A476F;stroke-width:8.64&quot;/&gt;\n",
       "\t&lt;line x1=&quot;2124.91&quot; y1=&quot;2240.07&quot; x2=&quot;2124.91&quot; y2=&quot;1212.42&quot; style=&quot;stroke:#1A476F;stroke-width:8.64&quot;/&gt;\n",
       "\t&lt;line x1=&quot;2102.88&quot; y1=&quot;1212.42&quot; x2=&quot;2146.94&quot; y2=&quot;1212.42&quot; stroke-linecap=&quot;round&quot; style=&quot;stroke:#1A476F;stroke-width:8.64&quot;/&gt;\n",
       "\t&lt;line x1=&quot;2102.88&quot; y1=&quot;2240.07&quot; x2=&quot;2146.94&quot; y2=&quot;2240.07&quot; stroke-linecap=&quot;round&quot; style=&quot;stroke:#1A476F;stroke-width:8.64&quot;/&gt;\n",
       "\t&lt;line x1=&quot;2620.41&quot; y1=&quot;1263.53&quot; x2=&quot;2620.41&quot; y2=&quot;342.30&quot; style=&quot;stroke:#1A476F;stroke-width:8.64&quot;/&gt;\n",
       "\t&lt;line x1=&quot;2598.38&quot; y1=&quot;342.30&quot; x2=&quot;2642.43&quot; y2=&quot;342.30&quot; stroke-linecap=&quot;round&quot; style=&quot;stroke:#1A476F;stroke-width:8.64&quot;/&gt;\n",
       "\t&lt;line x1=&quot;2598.38&quot; y1=&quot;1263.53&quot; x2=&quot;2642.43&quot; y2=&quot;1263.53&quot; stroke-linecap=&quot;round&quot; style=&quot;stroke:#1A476F;stroke-width:8.64&quot;/&gt;\n",
       "\t&lt;line x1=&quot;3115.90&quot; y1=&quot;1187.29&quot; x2=&quot;3115.90&quot; y2=&quot;824.57&quot; style=&quot;stroke:#1A476F;stroke-width:8.64&quot;/&gt;\n",
       "\t&lt;line x1=&quot;3093.87&quot; y1=&quot;824.57&quot; x2=&quot;3137.93&quot; y2=&quot;824.57&quot; stroke-linecap=&quot;round&quot; style=&quot;stroke:#1A476F;stroke-width:8.64&quot;/&gt;\n",
       "\t&lt;line x1=&quot;3093.87&quot; y1=&quot;1187.29&quot; x2=&quot;3137.93&quot; y2=&quot;1187.29&quot; stroke-linecap=&quot;round&quot; style=&quot;stroke:#1A476F;stroke-width:8.64&quot;/&gt;\n",
       "\t&lt;line x1=&quot;3611.40&quot; y1=&quot;1690.11&quot; x2=&quot;3611.40&quot; y2=&quot;1158.46&quot; style=&quot;stroke:#1A476F;stroke-width:8.64&quot;/&gt;\n",
       "\t&lt;line x1=&quot;3589.37&quot; y1=&quot;1158.46&quot; x2=&quot;3633.42&quot; y2=&quot;1158.46&quot; stroke-linecap=&quot;round&quot; style=&quot;stroke:#1A476F;stroke-width:8.64&quot;/&gt;\n",
       "\t&lt;line x1=&quot;3589.37&quot; y1=&quot;1690.11&quot; x2=&quot;3633.42&quot; y2=&quot;1690.11&quot; stroke-linecap=&quot;round&quot; style=&quot;stroke:#1A476F;stroke-width:8.64&quot;/&gt;\n",
       "\t&lt;line x1=&quot;638.43&quot; y1=&quot;1165.02&quot; x2=&quot;1133.92&quot; y2=&quot;1103.88&quot; stroke-linecap=&quot;round&quot; style=&quot;stroke:#1A476F;stroke-width:8.64&quot;/&gt;\n",
       "\t&lt;line x1=&quot;1133.92&quot; y1=&quot;1103.88&quot; x2=&quot;1629.42&quot; y2=&quot;1147.94&quot; stroke-linecap=&quot;round&quot; style=&quot;stroke:#1A476F;stroke-width:8.64&quot;/&gt;\n",
       "\t&lt;line x1=&quot;1629.42&quot; y1=&quot;1147.94&quot; x2=&quot;2124.91&quot; y2=&quot;1726.37&quot; stroke-linecap=&quot;round&quot; style=&quot;stroke:#1A476F;stroke-width:8.64&quot;/&gt;\n",
       "\t&lt;line x1=&quot;2124.91&quot; y1=&quot;1726.37&quot; x2=&quot;2620.28&quot; y2=&quot;802.92&quot; stroke-linecap=&quot;round&quot; style=&quot;stroke:#1A476F;stroke-width:8.64&quot;/&gt;\n",
       "\t&lt;line x1=&quot;2620.28&quot; y1=&quot;802.92&quot; x2=&quot;3115.78&quot; y2=&quot;1006.00&quot; stroke-linecap=&quot;round&quot; style=&quot;stroke:#1A476F;stroke-width:8.64&quot;/&gt;\n",
       "\t&lt;line x1=&quot;3115.78&quot; y1=&quot;1006.00&quot; x2=&quot;3611.27&quot; y2=&quot;1424.28&quot; stroke-linecap=&quot;round&quot; style=&quot;stroke:#1A476F;stroke-width:8.64&quot;/&gt;\n",
       "\t&lt;circle cx=&quot;638.43&quot; cy=&quot;1165.02&quot; r=&quot;26.35&quot; style=&quot;fill:#1A476F&quot;/&gt;\n",
       "\t&lt;circle cx=&quot;638.43&quot; cy=&quot;1165.02&quot; r=&quot;22.03&quot; style=&quot;fill:none;stroke:#1A476F;stroke-width:8.64&quot;/&gt;\n",
       "\t&lt;circle cx=&quot;1133.92&quot; cy=&quot;1103.88&quot; r=&quot;26.35&quot; style=&quot;fill:#1A476F&quot;/&gt;\n",
       "\t&lt;circle cx=&quot;1133.92&quot; cy=&quot;1103.88&quot; r=&quot;22.03&quot; style=&quot;fill:none;stroke:#1A476F;stroke-width:8.64&quot;/&gt;\n",
       "\t&lt;circle cx=&quot;1629.42&quot; cy=&quot;1147.94&quot; r=&quot;26.35&quot; style=&quot;fill:#1A476F&quot;/&gt;\n",
       "\t&lt;circle cx=&quot;1629.42&quot; cy=&quot;1147.94&quot; r=&quot;22.03&quot; style=&quot;fill:none;stroke:#1A476F;stroke-width:8.64&quot;/&gt;\n",
       "\t&lt;circle cx=&quot;2124.91&quot; cy=&quot;1726.37&quot; r=&quot;26.35&quot; style=&quot;fill:#1A476F&quot;/&gt;\n",
       "\t&lt;circle cx=&quot;2124.91&quot; cy=&quot;1726.37&quot; r=&quot;22.03&quot; style=&quot;fill:none;stroke:#1A476F;stroke-width:8.64&quot;/&gt;\n",
       "\t&lt;circle cx=&quot;2620.28&quot; cy=&quot;802.92&quot; r=&quot;26.35&quot; style=&quot;fill:#1A476F&quot;/&gt;\n",
       "\t&lt;circle cx=&quot;2620.28&quot; cy=&quot;802.92&quot; r=&quot;22.03&quot; style=&quot;fill:none;stroke:#1A476F;stroke-width:8.64&quot;/&gt;\n",
       "\t&lt;circle cx=&quot;3115.78&quot; cy=&quot;1006.00&quot; r=&quot;26.35&quot; style=&quot;fill:#1A476F&quot;/&gt;\n",
       "\t&lt;circle cx=&quot;3115.78&quot; cy=&quot;1006.00&quot; r=&quot;22.03&quot; style=&quot;fill:none;stroke:#1A476F;stroke-width:8.64&quot;/&gt;\n",
       "\t&lt;circle cx=&quot;3611.27&quot; cy=&quot;1424.28&quot; r=&quot;26.35&quot; style=&quot;fill:#1A476F&quot;/&gt;\n",
       "\t&lt;circle cx=&quot;3611.27&quot; cy=&quot;1424.28&quot; r=&quot;22.03&quot; style=&quot;fill:none;stroke:#1A476F;stroke-width:8.64&quot;/&gt;\n",
       "\t&lt;line x1=&quot;390.80&quot; y1=&quot;2489.19&quot; x2=&quot;390.80&quot; y2=&quot;275.35&quot; style=&quot;stroke:#000000;stroke-width:5.76&quot;/&gt;\n",
       "\t&lt;line x1=&quot;390.80&quot; y1=&quot;2425.82&quot; x2=&quot;350.83&quot; y2=&quot;2425.82&quot; style=&quot;stroke:#000000;stroke-width:5.76&quot;/&gt;\n",
       "\t&lt;text x=&quot;300.72&quot; y=&quot;2425.82&quot; style=&quot;font-family:&#x27;Helvetica&#x27;;font-size:99.99px;fill:#000000&quot; transform=&quot;rotate(-90 300.72,2425.82)&quot; text-anchor=&quot;middle&quot;&gt;-1.50&lt;/text&gt;\n",
       "\t&lt;line x1=&quot;390.80&quot; y1=&quot;2008.40&quot; x2=&quot;350.83&quot; y2=&quot;2008.40&quot; style=&quot;stroke:#000000;stroke-width:5.76&quot;/&gt;\n",
       "\t&lt;text x=&quot;300.72&quot; y=&quot;2008.40&quot; style=&quot;font-family:&#x27;Helvetica&#x27;;font-size:99.99px;fill:#000000&quot; transform=&quot;rotate(-90 300.72,2008.40)&quot; text-anchor=&quot;middle&quot;&gt;-1.00&lt;/text&gt;\n",
       "\t&lt;line x1=&quot;390.80&quot; y1=&quot;1590.98&quot; x2=&quot;350.83&quot; y2=&quot;1590.98&quot; style=&quot;stroke:#000000;stroke-width:5.76&quot;/&gt;\n",
       "\t&lt;text x=&quot;300.72&quot; y=&quot;1590.98&quot; style=&quot;font-family:&#x27;Helvetica&#x27;;font-size:99.99px;fill:#000000&quot; transform=&quot;rotate(-90 300.72,1590.98)&quot; text-anchor=&quot;middle&quot;&gt;-0.50&lt;/text&gt;\n",
       "\t&lt;line x1=&quot;390.80&quot; y1=&quot;1173.56&quot; x2=&quot;350.83&quot; y2=&quot;1173.56&quot; style=&quot;stroke:#000000;stroke-width:5.76&quot;/&gt;\n",
       "\t&lt;text x=&quot;300.72&quot; y=&quot;1173.56&quot; style=&quot;font-family:&#x27;Helvetica&#x27;;font-size:99.99px;fill:#000000&quot; transform=&quot;rotate(-90 300.72,1173.56)&quot; text-anchor=&quot;middle&quot;&gt;0.00&lt;/text&gt;\n",
       "\t&lt;line x1=&quot;390.80&quot; y1=&quot;756.14&quot; x2=&quot;350.83&quot; y2=&quot;756.14&quot; style=&quot;stroke:#000000;stroke-width:5.76&quot;/&gt;\n",
       "\t&lt;text x=&quot;300.72&quot; y=&quot;756.14&quot; style=&quot;font-family:&#x27;Helvetica&#x27;;font-size:99.99px;fill:#000000&quot; transform=&quot;rotate(-90 300.72,756.14)&quot; text-anchor=&quot;middle&quot;&gt;0.50&lt;/text&gt;\n",
       "\t&lt;line x1=&quot;390.80&quot; y1=&quot;338.71&quot; x2=&quot;350.83&quot; y2=&quot;338.71&quot; style=&quot;stroke:#000000;stroke-width:5.76&quot;/&gt;\n",
       "\t&lt;text x=&quot;300.72&quot; y=&quot;338.71&quot; style=&quot;font-family:&#x27;Helvetica&#x27;;font-size:99.99px;fill:#000000&quot; transform=&quot;rotate(-90 300.72,338.71)&quot; text-anchor=&quot;middle&quot;&gt;1.00&lt;/text&gt;\n",
       "\t&lt;text x=&quot;190.71&quot; y=&quot;1382.33&quot; style=&quot;font-family:&#x27;Helvetica&#x27;;font-size:99.99px;fill:#000000&quot; transform=&quot;rotate(-90 190.71,1382.33)&quot; text-anchor=&quot;middle&quot;&gt;y&lt;/text&gt;\n",
       "\t&lt;line x1=&quot;390.80&quot; y1=&quot;2489.19&quot; x2=&quot;3859.02&quot; y2=&quot;2489.19&quot; style=&quot;stroke:#000000;stroke-width:5.76&quot;/&gt;\n",
       "\t&lt;line x1=&quot;638.55&quot; y1=&quot;2489.19&quot; x2=&quot;638.55&quot; y2=&quot;2529.16&quot; style=&quot;stroke:#000000;stroke-width:5.76&quot;/&gt;\n",
       "\t&lt;text x=&quot;638.55&quot; y=&quot;2619.14&quot; style=&quot;font-family:&#x27;Helvetica&#x27;;font-size:99.99px;fill:#000000&quot; text-anchor=&quot;middle&quot;&gt;-3&lt;/text&gt;\n",
       "\t&lt;line x1=&quot;1134.05&quot; y1=&quot;2489.19&quot; x2=&quot;1134.05&quot; y2=&quot;2529.16&quot; style=&quot;stroke:#000000;stroke-width:5.76&quot;/&gt;\n",
       "\t&lt;text x=&quot;1134.05&quot; y=&quot;2619.14&quot; style=&quot;font-family:&#x27;Helvetica&#x27;;font-size:99.99px;fill:#000000&quot; text-anchor=&quot;middle&quot;&gt;-2&lt;/text&gt;\n",
       "\t&lt;line x1=&quot;1629.42&quot; y1=&quot;2489.19&quot; x2=&quot;1629.42&quot; y2=&quot;2529.16&quot; style=&quot;stroke:#000000;stroke-width:5.76&quot;/&gt;\n",
       "\t&lt;text x=&quot;1629.42&quot; y=&quot;2619.14&quot; style=&quot;font-family:&#x27;Helvetica&#x27;;font-size:99.99px;fill:#000000&quot; text-anchor=&quot;middle&quot;&gt;-1&lt;/text&gt;\n",
       "\t&lt;line x1=&quot;2124.91&quot; y1=&quot;2489.19&quot; x2=&quot;2124.91&quot; y2=&quot;2529.16&quot; style=&quot;stroke:#000000;stroke-width:5.76&quot;/&gt;\n",
       "\t&lt;text x=&quot;2124.91&quot; y=&quot;2619.14&quot; style=&quot;font-family:&#x27;Helvetica&#x27;;font-size:99.99px;fill:#000000&quot; text-anchor=&quot;middle&quot;&gt;1&lt;/text&gt;\n",
       "\t&lt;line x1=&quot;2620.41&quot; y1=&quot;2489.19&quot; x2=&quot;2620.41&quot; y2=&quot;2529.16&quot; style=&quot;stroke:#000000;stroke-width:5.76&quot;/&gt;\n",
       "\t&lt;text x=&quot;2620.41&quot; y=&quot;2619.14&quot; style=&quot;font-family:&#x27;Helvetica&#x27;;font-size:99.99px;fill:#000000&quot; text-anchor=&quot;middle&quot;&gt;2&lt;/text&gt;\n",
       "\t&lt;line x1=&quot;3115.90&quot; y1=&quot;2489.19&quot; x2=&quot;3115.90&quot; y2=&quot;2529.16&quot; style=&quot;stroke:#000000;stroke-width:5.76&quot;/&gt;\n",
       "\t&lt;text x=&quot;3115.90&quot; y=&quot;2619.14&quot; style=&quot;font-family:&#x27;Helvetica&#x27;;font-size:99.99px;fill:#000000&quot; text-anchor=&quot;middle&quot;&gt;3&lt;/text&gt;\n",
       "\t&lt;line x1=&quot;3611.40&quot; y1=&quot;2489.19&quot; x2=&quot;3611.40&quot; y2=&quot;2529.16&quot; style=&quot;stroke:#000000;stroke-width:5.76&quot;/&gt;\n",
       "\t&lt;text x=&quot;3611.40&quot; y=&quot;2619.14&quot; style=&quot;font-family:&#x27;Helvetica&#x27;;font-size:99.99px;fill:#000000&quot; text-anchor=&quot;middle&quot;&gt;4&lt;/text&gt;\n",
       "\t&lt;text x=&quot;2124.91&quot; y=&quot;2729.16&quot; style=&quot;font-family:&#x27;Helvetica&#x27;;font-size:99.99px;fill:#000000&quot; text-anchor=&quot;middle&quot;&gt;Time&lt;/text&gt;\n",
       "\t&lt;text x=&quot;2124.91&quot; y=&quot;215.98&quot; style=&quot;font-family:&#x27;Helvetica&#x27;;font-size:139.96px;fill:#1E2D53&quot; text-anchor=&quot;middle&quot;&gt;Event studies for placebo policies&lt;/text&gt;\n",
       "&lt;/svg&gt;\n",
       "</body></html>\"></iframe>\n"
      ],
      "text/plain": [
       "This front-end cannot display the desired image type."
      ]
     },
     "metadata": {
      "image/svg+xml": {
       "height": 436,
       "width": 600
      },
      "text/html": {
       "height": 436,
       "width": 600
      }
     },
     "output_type": "display_data"
    }
   ],
   "source": [
    "qui reg y_norm tau_3 tau_2 tau_1 tau1 tau2 tau3 tau4 time treat, r\n",
    "coefplot, keep(tau*) ///\n",
    "          coeflabels(tau_3 = \"-3\" tau_2 = \"-2\" tau_1 = \"-1\" tau1 = \"1\" tau2 = \"2\" tau3 = \"3\" tau4 = \"4\") ///\n",
    "          ciopt(recast(rcap))  /// rarea, rbar, rspike, rline...see help file for more\n",
    "          rescale(100) format(%9.2f) ///\n",
    "          recast(connected)  ///\n",
    "          vertical yline(0) ytitle(y) xtitle(\"Time\") title(\"Event studies for placebo policies\") ///\n",
    "\n",
    "         // addplot(line @b @at)\n",
    "          "
   ]
  },
  {
   "cell_type": "code",
   "execution_count": 80,
   "metadata": {},
   "outputs": [
    {
     "name": "stdout",
     "output_type": "stream",
     "text": [
      "\n",
      "Linear regression                               Number of obs     =         70\n",
      "                                                F(6, 63)          =       4.34\n",
      "                                                Prob > F          =     0.0010\n",
      "                                                R-squared         =     0.2046\n",
      "                                                Root MSE          =     2.8e+09\n",
      "\n",
      "------------------------------------------------------------------------------\n",
      "             |               Robust\n",
      "           y |      Coef.   Std. Err.      t    P>|t|     [95% Conf. Interval]\n",
      "-------------+----------------------------------------------------------------\n",
      "        tau1 |  -6.19e+09   2.73e+09    -2.26   0.027    -1.16e+10   -7.27e+08\n",
      "        tau2 |   4.44e+09   2.69e+09     1.65   0.104    -9.39e+08    9.82e+09\n",
      "        tau3 |   2.01e+09   1.06e+09     1.89   0.063    -1.10e+08    4.13e+09\n",
      "        tau4 |  -3.00e+09   1.55e+09    -1.93   0.058    -6.11e+09    1.01e+08\n",
      "        time |   2.15e+09   8.53e+08     2.52   0.014     4.45e+08    3.85e+09\n",
      "     treated |   1.58e+09   9.65e+08     1.64   0.106    -3.47e+08    3.51e+09\n",
      "       _cons |   4.42e+08   7.35e+08     0.60   0.550    -1.03e+09    1.91e+09\n",
      "------------------------------------------------------------------------------\n"
     ]
    }
   ],
   "source": [
    "*Dynamic Treatment effects\n",
    "reg y tau1 tau2 tau3 tau4 time treat, r"
   ]
  },
  {
   "cell_type": "markdown",
   "metadata": {},
   "source": [
    "# Cluster-Robust standard errors: views from simulations\n",
    "Although a good dataset for studying the cluster-robust standard errors is not readily available, we may still use simulation techniques to understand the underlying theory of clustered standard errors. A general procedure can be found in Bertrand, Duflo, and Mullainathan (2004). \n",
    "\n",
    "This part will be an assignment, which essentially requires you to replicate the paper by Bertrand, Duflo, and Mullainathan (2004).This section will soon be updated after the homework is due."
   ]
  },
  {
   "cell_type": "markdown",
   "metadata": {},
   "source": [
    "# References\n",
    "\n",
    "* Angrist, J. D., and J. S. Pischke. (2008): “Mostly harmless econometrics: An empiricist’s companion.” \n",
    "* Bertrand, M., E. Duflo, and S. Mullainathan. (2004): “How much should we trust DID?,” Quarterly Journal of Economics,  1–27.\n",
    "* Colin Cameron, A., and D. L. Miller. (2015): “A practitioner’s guide to cluster- robust inference,” Journal of Human Resources, 50, 317–72."
   ]
  }
 ],
 "metadata": {
  "kernelspec": {
   "display_name": "Stata",
   "language": "stata",
   "name": "stata"
  },
  "language_info": {
   "codemirror_mode": "stata",
   "file_extension": ".do",
   "mimetype": "text/x-stata",
   "name": "stata",
   "version": "15.1"
  }
 },
 "nbformat": 4,
 "nbformat_minor": 4
}
