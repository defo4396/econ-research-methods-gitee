{
 "cells": [
  {
   "cell_type": "markdown",
   "metadata": {},
   "source": [
    "# Bootstrap methods in Stata\n",
    "\n",
    "``2020-11-22``  \n",
    "_Zhiyuan Chen, Department of Trade Economics, Renmin Business School_\n",
    "* Main Reference: _A. Colin Cameron and Pravin K. Trivedi, Microeconometrics Using Stata, Second Edition, 2010, Chapter 13_"
   ]
  },
  {
   "cell_type": "markdown",
   "metadata": {},
   "source": [
    "\n",
    "## Bootstrap methods\n",
    "Consider calculating the standard error of $\\hat{\\theta}$ when the analytical form is not known. We can image that there are many different random samples from the population were available. Then we could obtain 400 different estimates of $\\hat{\\theta}$ and the standard error of $\\hat{\\theta}$ will be the standard deviation of these 400 estimates. \n",
    "\n",
    "Let $\\hat{\\theta}_1^{*}, \\cdots, \\hat{\\theta}_B^{*}$ denote the estimates, where here B=500. Then the boostrap estimate of the variance of $\\hat{\\theta}$ is simply\n",
    "\n",
    "$$\n",
    "\\widehat{SE_{Boot}}(\\hat{\\theta}) = \\sqrt{ \\frac{1}{B-1}\\sum_{b=1}^{B}(\\hat{\\theta}_b^{*}-\\bar{\\hat{\\theta}^*})^2} \\tag{1}\n",
    "$$\n",
    "\n",
    "* The bootstrap can be used to obtain the distribution of many different statistics (confidence intervals, quantiles...). \n",
    "* When applying boostrap, you should make sure that:\n",
    "      1.The bootstrap resampleing scheme assumes indepdent observations\n",
    "      2.The variance of the estimate is well defined and exists\n"
   ]
  },
  {
   "cell_type": "markdown",
   "metadata": {},
   "source": [
    "## Boostrap pairs method to estimate Variance-Covariance matrix\n",
    "Let $\\mathbf{D}_i = (y_i,\\mathbf{x}_i)$ denote the data for observation $i$. We assume that $\\mathbf{D}_i$ is independent over $i$. \n",
    "\n",
    "Stata employs the following bootstrap-pairs algorithm:\n",
    "1. Repeat steps A and B $B$ independent times:\n",
    "    1. Draw a boostrap sample of size $N$ by sampling with replacement from the original data $\\mathbf{D}_1,\\cdots,\\mathbf{D}_N$.Denote the bootstrap sample by $\\mathbf{D}_1^*,\\cdots,\\mathbf{D}_N^*$. \n",
    "    2. Calculate an estimate, $\\hat{\\theta}^{*}$ of $\\theta$ based on $\\mathbf{D}_1^*,\\cdots,\\mathbf{D}_N^*$.\n",
    "2. Given the B bootstrap estimates $\\{\\hat{\\theta}_b^{*}\\}_{b=1}^B$, the bootstrap estimate of the variance-covariance matrix of the estimator is \n",
    "\n",
    "$$\n",
    "VCE_{Boot}(\\hat{\\theta}) =  \\frac{1}{B-1}\\sum_{b=1}^{B}(\\hat{\\theta}_b^{*}-\\bar{\\hat{\\theta}^*})^2 \\tag{2}\n",
    "$$\n",
    "\n",
    "* __<u>Cluster bootrap</u>__\n",
    "The method can be easily adapted to cluster bootstraps. Then $\\mathbf{D}_i$ becomes $\\mathbf{D}_c$, where $c = 1, \\cdots, C$ denotes each of the C clusters. Data should be independent over $c$, resampling is over clusters, the size of bootstrap resample is of size $C$ clusters. \n"
   ]
  },
  {
   "cell_type": "markdown",
   "metadata": {},
   "source": [
    "## Examples\n",
    "In what follows, we show:\n",
    "1. Using the `bsample` command to draw sample with replacement and calculate relevant statistics\n",
    "2. Using the `bootstrap` command to obtain bootstrap statistics"
   ]
  },
  {
   "cell_type": "markdown",
   "metadata": {},
   "source": [
    "### Example 1: bootstrap using `bsample`"
   ]
  },
  {
   "cell_type": "code",
   "execution_count": 59,
   "metadata": {},
   "outputs": [],
   "source": [
    "* Bootstrap SE using `bsample'\n",
    " * simulate a dataset\n",
    "drop _all \n",
    "global nobs 500\n",
    "global B 100\n",
    "qui set obs $nobs\n",
    "set seed 12345  //make the results reproducible\n",
    "gen x = runiform() // use rnormal(mu, sigma) for more general cases\n",
    "qui save usample.dta,replace"
   ]
  },
  {
   "cell_type": "code",
   "execution_count": 71,
   "metadata": {},
   "outputs": [],
   "source": [
    " * (continued) sample draws from the data\n",
    "clear all\n",
    "set seed 12345\n",
    "qui postfile buffer xboot using bootmean, replace \n",
    "forvalues b = 1/$B {\n",
    "    quietly {\n",
    "      drop _all\n",
    "      qui use usample.dta, clear\n",
    "      bsample $nobs\n",
    "      summ x\n",
    "    }\n",
    "    post buffer (r(mean))    // one can also use mean y and _b[y] to store the results\n",
    "}\n",
    "postclose buffer\n",
    "qui use bootmean,clear\n",
    "qui summ xboot"
   ]
  },
  {
   "cell_type": "code",
   "execution_count": 72,
   "metadata": {},
   "outputs": [
    {
     "name": "stdout",
     "output_type": "stream",
     "text": [
      "\n",
      "-------------------------------\n",
      "\n",
      "bootstrap s.e. = .01311633\n",
      "\n",
      "-------------------------------\n"
     ]
    }
   ],
   "source": [
    "disp(\"-------------------------------\")\n",
    "disp (\"bootstrap s.e. = \") r(sd)\n",
    "disp(\"-------------------------------\")"
   ]
  },
  {
   "cell_type": "markdown",
   "metadata": {},
   "source": [
    "### Example 2: Boostrap using `bootstrap`"
   ]
  },
  {
   "cell_type": "code",
   "execution_count": 66,
   "metadata": {},
   "outputs": [],
   "source": [
    "* Bootstrap SE using `bootstrap'\n",
    "  * define the program of calculating sample mean\n",
    "capture program drop samplemean\n",
    "program samplemean, rclass\n",
    "        qui summ x\n",
    "        return scalar xbar = r(mean)\n",
    " end"
   ]
  },
  {
   "cell_type": "code",
   "execution_count": 68,
   "metadata": {},
   "outputs": [
    {
     "name": "stdout",
     "output_type": "stream",
     "text": [
      "\n",
      "\n",
      "\n",
      "Bootstrap results                               Number of obs     =        500\n",
      "                                                Replications      =        100\n",
      "\n",
      "      command:  samplemean\n",
      "        _bs_1:  r(xbar)\n",
      "\n",
      "------------------------------------------------------------------------------\n",
      "             |   Observed   Bootstrap                         Normal-based\n",
      "             |      Coef.   Std. Err.      z    P>|z|     [95% Conf. Interval]\n",
      "-------------+----------------------------------------------------------------\n",
      "       _bs_1 |   .4862399   .0131163    37.07   0.000     .4605324    .5119475\n",
      "------------------------------------------------------------------------------\n"
     ]
    }
   ],
   "source": [
    " * use bootstrap command\n",
    "use usample.dta,clear\n",
    "bootstrap r(xbar), reps($B) seed(12345) nodots nowarn: samplemean"
   ]
  }
 ],
 "metadata": {
  "kernelspec": {
   "display_name": "Stata",
   "language": "stata",
   "name": "stata"
  },
  "language_info": {
   "codemirror_mode": "stata",
   "file_extension": ".do",
   "mimetype": "text/x-stata",
   "name": "stata",
   "version": "15.1"
  },
  "toc-autonumbering": true
 },
 "nbformat": 4,
 "nbformat_minor": 4
}
