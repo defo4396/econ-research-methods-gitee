{
 "cells": [
  {
   "cell_type": "markdown",
   "metadata": {},
   "source": [
    "Implementing BLP estimator in STATA\n",
    "---\n",
    "`2020-12-23`\n",
    "\n",
    "__References__:\n",
    "\n",
    "* Berry, S., J. Levinsohn, and A. Pakes. (1995): “Automoile Price in Market Equilibrium,” Econometrica, 63, 841–90.\n",
    "* Vincent, D. W. (2015): “The Berry-Levinsohn-Pakes estimator of the random-coefficients logit demand model,” Stata Journal, 15, 854–80.\n",
    "[[PDF](https://journals.sagepub.com/doi/pdf/10.1177/1536867X1501500317)]"
   ]
  },
  {
   "cell_type": "markdown",
   "metadata": {},
   "source": [
    "## Overview\n",
    "\n",
    "The STATA command `blp` presented by David W. Vincent (2015) implements the algorithm proposed by Berry, Levinsohn, and Pakes (1995). \n",
    "* This command uses the generalized method of moments (GMM) estimator proposed by Berry, Levinsohn, and Pakes (1995) (henceforth, BLP) and allows for endogenous prices and consumer heterogeneity in the valuation of product characteristics. \n",
    "*`blp` follows Reynaert and Verboven (2014) and provides an option to fit the model using Chamberlain (1987) __optimal instruments__."
   ]
  },
  {
   "cell_type": "markdown",
   "metadata": {},
   "source": [
    "## The `blp` Command\n",
    "\n",
    "><img src=\"blp_stata_command.jpg\" width=850 height=500 />\n",
    "\n",
    "The details of these options are explained in the _Subsections 4.1, 4.2_ in Vincent(2015)."
   ]
  },
  {
   "cell_type": "markdown",
   "metadata": {},
   "source": [
    "## Examples\n",
    "### No demographic variables\n",
    "#### Simulated Data\n",
    "\n",
    "*  $J = 10$ alternatives, excluding the outside\n",
    "good. \n",
    "* $T = 25$ markets\n",
    "* utility is determined by a constant, one product characteristic $x1$, and price $p$ (which is endogenous):\n",
    "$$\n",
    "u_{ijt} = \\alpha_0+\\alpha_i*x_1 + \\beta p+\\xi_{ijt}\n",
    "$$\n",
    "\n",
    "\n",
    "The supply side is characterized by perfect competition, where marginal costs are a linear function of the\n",
    "product characteristics and three exogenous cost drivers $w1$, $w2$, and $w3$.\n",
    "\n",
    " Heterogeneity is restricted to the coefficient on $x1$, which has a true mean valuation of 2 and a standard\n",
    "deviation of 1. The constant is set to 2, and the coefficient on price is −2.\n",
    "\n",
    "\n",
    "#### Standard instruments\n",
    "The set of instruments contains \n",
    "* the exogenous variables\n",
    "* their squares and interactions\n",
    "* the sums of the characteristics of other products"
   ]
  },
  {
   "cell_type": "code",
   "execution_count": 1,
   "metadata": {},
   "outputs": [],
   "source": [
    "sysuse blp_nodemo,clear"
   ]
  },
  {
   "cell_type": "code",
   "execution_count": 2,
   "metadata": {},
   "outputs": [
    {
     "data": {
      "text/html": [
       "<div>\n",
       "<style scoped>\n",
       "    .dataframe tbody tr th:only-of-type {\n",
       "        vertical-align: middle;\n",
       "    }\n",
       "\n",
       "    .dataframe tbody tr th {\n",
       "        vertical-align: top;\n",
       "    }\n",
       "\n",
       "    .dataframe thead th {\n",
       "        text-align: right;\n",
       "    }\n",
       "</style>\n",
       "<table border=\"1\" class=\"dataframe\">\n",
       "  <thead>\n",
       "    <tr style=\"text-align: right;\">\n",
       "      <th></th>\n",
       "      <th>s</th>\n",
       "      <th>x1</th>\n",
       "      <th>p</th>\n",
       "      <th>w1</th>\n",
       "      <th>w2</th>\n",
       "      <th>w3</th>\n",
       "      <th>mkt</th>\n",
       "      <th>product</th>\n",
       "    </tr>\n",
       "  </thead>\n",
       "  <tbody>\n",
       "    <tr>\n",
       "      <th>1</th>\n",
       "      <td>.0023053405352528</td>\n",
       "      <td>1.692783718695864</td>\n",
       "      <td>5.537878959612607</td>\n",
       "      <td>.4446005295030773</td>\n",
       "      <td>.8878547141794115</td>\n",
       "      <td>.3401754898950458</td>\n",
       "      <td>1</td>\n",
       "      <td>product1</td>\n",
       "    </tr>\n",
       "    <tr>\n",
       "      <th>2</th>\n",
       "      <td>.1671173537023271</td>\n",
       "      <td>1.88007750408724</td>\n",
       "      <td>4.305593008040809</td>\n",
       "      <td>.0594781760592014</td>\n",
       "      <td>.6950020215008408</td>\n",
       "      <td>.2678920407779515</td>\n",
       "      <td>1</td>\n",
       "      <td>product2</td>\n",
       "    </tr>\n",
       "    <tr>\n",
       "      <th>3</th>\n",
       "      <td>1.10725471612e-06</td>\n",
       "      <td>1.55912022292614</td>\n",
       "      <td>9.387373392997434</td>\n",
       "      <td>.882077522110194</td>\n",
       "      <td>.5579531888943166</td>\n",
       "      <td>.8476027604192495</td>\n",
       "      <td>1</td>\n",
       "      <td>product3</td>\n",
       "    </tr>\n",
       "    <tr>\n",
       "      <th>4</th>\n",
       "      <td>.0001464484252994</td>\n",
       "      <td>1.549316291697323</td>\n",
       "      <td>7.136981176780886</td>\n",
       "      <td>.3173037183005363</td>\n",
       "      <td>.4521848221775144</td>\n",
       "      <td>.7431332329288125</td>\n",
       "      <td>1</td>\n",
       "      <td>product4</td>\n",
       "    </tr>\n",
       "    <tr>\n",
       "      <th>5</th>\n",
       "      <td>.0002793397930005</td>\n",
       "      <td>1.429411624791101</td>\n",
       "      <td>6.399950218044459</td>\n",
       "      <td>.4935499269049615</td>\n",
       "      <td>.5797215849161148</td>\n",
       "      <td>.6672059202101082</td>\n",
       "      <td>1</td>\n",
       "      <td>product5</td>\n",
       "    </tr>\n",
       "  </tbody>\n",
       "</table>\n",
       "</div>"
      ],
      "text/plain": [
       "\n",
       "     +-----------------------------------------------------------------------+\n",
       "  1. |         s |        x1 |         p |        w1 |        w2 |        w3 |\n",
       "     | .00230534 | 1.6927837 |  5.537879 | .44460053 | .88785471 | .34017549 |\n",
       "     |-----------------------------------------------------------------------|\n",
       "     |              mkt               |                product               |\n",
       "     |                1               |               product1               |\n",
       "     +-----------------------------------------------------------------------+\n",
       "\n",
       "     +-----------------------------------------------------------------------+\n",
       "  2. |         s |        x1 |         p |        w1 |        w2 |        w3 |\n",
       "     | .16711735 | 1.8800775 |  4.305593 | .05947818 | .69500202 | .26789204 |\n",
       "     |-----------------------------------------------------------------------|\n",
       "     |              mkt               |                product               |\n",
       "     |                1               |               product2               |\n",
       "     +-----------------------------------------------------------------------+\n",
       "\n",
       "     +-----------------------------------------------------------------------+\n",
       "  3. |         s |        x1 |         p |        w1 |        w2 |        w3 |\n",
       "     | 1.107e-06 | 1.5591202 | 9.3873734 | .88207752 | .55795319 | .84760276 |\n",
       "     |-----------------------------------------------------------------------|\n",
       "     |              mkt               |                product               |\n",
       "     |                1               |               product3               |\n",
       "     +-----------------------------------------------------------------------+\n",
       "\n",
       "     +-----------------------------------------------------------------------+\n",
       "  4. |         s |        x1 |         p |        w1 |        w2 |        w3 |\n",
       "     | .00014645 | 1.5493163 | 7.1369812 | .31730372 | .45218482 | .74313323 |\n",
       "     |-----------------------------------------------------------------------|\n",
       "     |              mkt               |                product               |\n",
       "     |                1               |               product4               |\n",
       "     +-----------------------------------------------------------------------+\n",
       "\n",
       "     +-----------------------------------------------------------------------+\n",
       "  5. |         s |        x1 |         p |        w1 |        w2 |        w3 |\n",
       "     | .00027934 | 1.4294116 | 6.3999502 | .49354993 | .57972158 | .66720592 |\n",
       "     |-----------------------------------------------------------------------|\n",
       "     |              mkt               |                product               |\n",
       "     |                1               |               product5               |\n",
       "     +-----------------------------------------------------------------------+\n",
       "\n"
      ]
     },
     "metadata": {},
     "output_type": "display_data"
    }
   ],
   "source": [
    "%head 5"
   ]
  },
  {
   "cell_type": "code",
   "execution_count": 3,
   "metadata": {},
   "outputs": [
    {
     "name": "stdout",
     "output_type": "stream",
     "text": [
      "\n",
      "\n",
      "\n",
      "\n",
      "\n",
      "\n",
      "\n",
      "\n",
      "\n",
      "(250 real changes made)\n"
     ]
    }
   ],
   "source": [
    "* example, no demographic variablesuse blp_nodemo\n",
    "generate w12=w1^2\n",
    "generate w22=w2^2\n",
    "generate w32=w3^2\n",
    "generate x12=x1^2\n",
    "generate x1w1=x1*w1\n",
    "generate x1w2=x1*w2\n",
    "generate x1w3=x1*w3\n",
    "bysort mkt: egen x1s=sum(x1)\n",
    "replace x1s=x1s-x1"
   ]
  },
  {
   "cell_type": "code",
   "execution_count": 4,
   "metadata": {},
   "outputs": [
    {
     "name": "stdout",
     "output_type": "stream",
     "text": [
      "Iteration 0:   f(p) =  13.131515  \n",
      "Iteration 1:   f(p) =  13.087338  (backed up)\n",
      "Iteration 2:   f(p) =  12.942222  \n",
      "Iteration 3:   f(p) =   12.94162  \n",
      "Iteration 4:   f(p) =  12.941619  \n",
      "\n",
      "GMM estimator of BLP-model\n",
      "\n",
      "GMM weight matrix: unadjusted               Number of obs            =  250\n",
      "                                            Number of markets        =  25\n",
      "                                            Number of Halton draws   =  200\n",
      "------------------------------------------------------------------------------\n",
      "             |      Coef.   Std. Err.      z    P>|z|     [95% Conf. Interval]\n",
      "-------------+----------------------------------------------------------------\n",
      "Mean utility |\n",
      "        cons |    1.86419   .7104963     2.62   0.009     .4716428    3.256737\n",
      "          x1 |   2.411279   .6008964     4.01   0.000     1.233544    3.589014\n",
      "           p |  -2.040571   .0488951   -41.73   0.000    -2.136403   -1.944738\n",
      "-------------+----------------------------------------------------------------\n",
      "x1           |\n",
      "          SD |   .7360524   .4879043     1.51   0.131    -.2202225    1.692327\n",
      "------------------------------------------------------------------------------\n"
     ]
    }
   ],
   "source": [
    " blp s x1, stochastic(x1) endog(p=w1 w2 w3 w12 w22 w32 x12 x1w1 x1w2 x1w3 x1s) markets(mkt)"
   ]
  },
  {
   "cell_type": "markdown",
   "metadata": {},
   "source": [
    "#### Optimal instruments"
   ]
  },
  {
   "cell_type": "code",
   "execution_count": 5,
   "metadata": {},
   "outputs": [
    {
     "name": "stdout",
     "output_type": "stream",
     "text": [
      "Iteration 0:   f(p) =  13.131515  \n",
      "Iteration 1:   f(p) =  13.087338  (backed up)\n",
      "Iteration 2:   f(p) =  12.942222  \n",
      "Iteration 3:   f(p) =   12.94162  \n",
      "Iteration 4:   f(p) =  12.941619  \n",
      "Estimation iteration with optimal instruments: 1\n",
      "Iteration 0:   f(p) =   .6931999  \n",
      "Iteration 1:   f(p) =  .03089875  \n",
      "Iteration 2:   f(p) =  .00002531  \n",
      "Iteration 3:   f(p) =  1.950e-10  \n",
      "Iteration 4:   f(p) =  1.133e-20  \n",
      "\n",
      "GMM estimator of BLP-model\n",
      "\n",
      "Instruments: Chamberlain optimal            Number of obs            =  250\n",
      "                                            Number of markets        =  25\n",
      "                                            Number of Halton draws   =  200\n",
      "------------------------------------------------------------------------------\n",
      "             |      Coef.   Std. Err.      z    P>|z|     [95% Conf. Interval]\n",
      "-------------+----------------------------------------------------------------\n",
      "Mean utility |\n",
      "        cons |   2.133752   .4518272     4.72   0.000     1.248187    3.019317\n",
      "          x1 |   2.210469   .3299087     6.70   0.000      1.56386    2.857078\n",
      "           p |   -2.05896   .0450369   -45.72   0.000    -2.147231   -1.970689\n",
      "-------------+----------------------------------------------------------------\n",
      "x1           |\n",
      "          SD |   .9145327   .1890028     4.84   0.000      .544094    1.284971\n",
      "------------------------------------------------------------------------------\n"
     ]
    }
   ],
   "source": [
    " blp s x1, stochastic(x1) endog(p=w1 w2 w3 w12 w22 w32 x12 x1w1 x1w2 x1w3 x1s) markets(mkt) optinst(w1 w2 w3)"
   ]
  },
  {
   "cell_type": "markdown",
   "metadata": {},
   "source": [
    "### With Demographic data\n",
    "This example extends the previous model to include:\n",
    "* a random coefficient on price p, with a standard deviation of 1\n",
    "* two demographic variables d1 and d2 in the coefficient equation for x1. The marginal effects of d1 and d2 are both 1, and samples are drawn from independent normal distributions. \n",
    "* To permit parameter identification, the mean\n",
    "and variance are allowed to differ across markets.\n",
    "\n",
    "` demodata.dta` contains 500 draws\n",
    "(per market) selected at random from the simulated population of individuals used to\n",
    "construct the product shares. The estimation result includes a automatic popup that requires user to specify an additional command, hence cannot be displayed in jupyter lab. The command is included in `blp_demo.do`."
   ]
  }
 ],
 "metadata": {
  "kernelspec": {
   "display_name": "Stata",
   "language": "stata",
   "name": "stata"
  },
  "language_info": {
   "codemirror_mode": "stata",
   "file_extension": ".do",
   "mimetype": "text/x-stata",
   "name": "stata",
   "version": "15.1"
  }
 },
 "nbformat": 4,
 "nbformat_minor": 4
}
